{
  "cells": [
    {
      "cell_type": "markdown",
      "metadata": {
        "id": "4abFo-hx9rUg"
      },
      "source": [
        "# Prácticas con funciones, `*args`, `**kwargs`"
      ]
    },
    {
      "cell_type": "code",
      "execution_count": null,
      "metadata": {
        "id": "_YsLIUkoJeoy"
      },
      "outputs": [],
      "source": [
        "# Realizamos un testing con Python, para ello cargamos la librería\n",
        "from mod.testing import *\n",
        "import unittest"
      ]
    },
    {
      "cell_type": "markdown",
      "metadata": {
        "id": "jRQzFc3MIWty"
      },
      "source": [
        "## Ejercicio 1. \n",
        "\n",
        "Escribe una función que devuelva el mayor de dos números"
      ]
    },
    {
      "cell_type": "code",
      "execution_count": null,
      "metadata": {
        "id": "f9r2L2kzIgvK"
      },
      "outputs": [],
      "source": [
        "def greater(a,b):\n",
        "  pass"
      ]
    },
    {
      "cell_type": "code",
      "execution_count": null,
      "metadata": {
        "id": "b5BWgdLXIg7Q"
      },
      "outputs": [],
      "source": [
        "# Testing de la función\n",
        "test_greater(greater)"
      ]
    },
    {
      "cell_type": "markdown",
      "metadata": {
        "id": "_AeMh07lIl4l"
      },
      "source": [
        "## Ejercicio 2. \n",
        "\n",
        "Ahora escribe una función que devuelva el elemento más grande en una lista."
      ]
    },
    {
      "cell_type": "code",
      "execution_count": null,
      "metadata": {
        "id": "SqR86AWOImU3"
      },
      "outputs": [],
      "source": [
        "def greatest(arr):\n",
        "  pass"
      ]
    },
    {
      "cell_type": "code",
      "execution_count": null,
      "metadata": {
        "id": "m7y3_mgFIma6"
      },
      "outputs": [],
      "source": [
        "# This will test your function \n",
        "test_greatest(greatest)"
      ]
    },
    {
      "cell_type": "markdown",
      "metadata": {
        "id": "Y4PNBeJDIpvu"
      },
      "source": [
        "## Ejercicio 3. \n",
        "Escribe una función que sume todos los elementos de una lista"
      ]
    },
    {
      "cell_type": "code",
      "execution_count": null,
      "metadata": {
        "id": "XFLhNIiOIqKb"
      },
      "outputs": [],
      "source": [
        "def sum_all(arr):\n",
        "    pass"
      ]
    },
    {
      "cell_type": "code",
      "execution_count": null,
      "metadata": {
        "id": "ejLtaq3WIqTY"
      },
      "outputs": [],
      "source": [
        "# This will test your function \n",
        "test_sum(sum_all)"
      ]
    },
    {
      "cell_type": "code",
      "execution_count": null,
      "metadata": {
        "id": "DWqUQIfhIqW_"
      },
      "outputs": [],
      "source": []
    },
    {
      "cell_type": "markdown",
      "metadata": {
        "id": "JLpVEYHyIsXx"
      },
      "source": [
        "## Ejercicio 4. \n",
        "\n",
        "Escribe otra función que multiplique todos los elementos de una lista\n"
      ]
    },
    {
      "cell_type": "code",
      "execution_count": null,
      "metadata": {
        "id": "M9IGNzOOIwvK"
      },
      "outputs": [],
      "source": [
        "def mult_all(arr):\n",
        "    pass"
      ]
    },
    {
      "cell_type": "code",
      "execution_count": null,
      "metadata": {
        "id": "HsqRayDlIsyl"
      },
      "outputs": [],
      "source": [
        "# This will test your function \n",
        "test_mult(mult_all)"
      ]
    },
    {
      "cell_type": "markdown",
      "metadata": {
        "id": "BYmCpQgpIxoG"
      },
      "source": [
        "## Ejercicio 5. \n",
        "\n",
        "Ahora combine esas dos ideas y escriba una función que reciba una lista y \"+\" o \"*\" y genere los resultados correspondientes"
      ]
    },
    {
      "cell_type": "code",
      "execution_count": null,
      "metadata": {
        "id": "97LN3heSI16o"
      },
      "outputs": [],
      "source": [
        "def oper_all(arr, oper):\n",
        "    pass"
      ]
    },
    {
      "cell_type": "code",
      "execution_count": null,
      "metadata": {
        "id": "ejAlaP86I2C3"
      },
      "outputs": [],
      "source": [
        "# This will test your function \n",
        "test_operations(oper_all)"
      ]
    },
    {
      "cell_type": "code",
      "execution_count": null,
      "metadata": {
        "id": "QYCwakLJI2Ga"
      },
      "outputs": [],
      "source": []
    },
    {
      "cell_type": "markdown",
      "metadata": {
        "id": "2PowcDr6I443"
      },
      "source": [
        "## Ejercicio 6. \n",
        "\n",
        "Escribe una función que devuelva el factorial de un número.*texto en cursiva*"
      ]
    },
    {
      "cell_type": "code",
      "execution_count": null,
      "metadata": {
        "id": "B-otytbAI5Sg"
      },
      "outputs": [],
      "source": [
        "def factorial(n):\n",
        "    pass"
      ]
    },
    {
      "cell_type": "code",
      "execution_count": null,
      "metadata": {
        "id": "DVCtX-tRI5U7"
      },
      "outputs": [],
      "source": [
        "# This will test your function \n",
        "test_factorial(factorial)"
      ]
    },
    {
      "cell_type": "markdown",
      "metadata": {
        "id": "dBdlTKDwI_7a"
      },
      "source": [
        "## Ejercicio 7. \n",
        "\n",
        "Escribe una función que tome una lista y devuelva una lista de valores únicos.\n",
        "\n",
        "`NOTA: No puede utilizar set. 🤔`\n"
      ]
    },
    {
      "cell_type": "code",
      "execution_count": 2,
      "metadata": {
        "id": "iZdjA3aaJDP9"
      },
      "outputs": [],
      "source": [
        "def unique(arr):\n",
        "    pass"
      ]
    },
    {
      "cell_type": "code",
      "execution_count": null,
      "metadata": {
        "id": "gRXrRK6mkPdV"
      },
      "outputs": [],
      "source": [
        "# This will test your function \n",
        "test_unique(unique)"
      ]
    },
    {
      "cell_type": "markdown",
      "metadata": {
        "id": "WGHWrSt8JGw_"
      },
      "source": [
        "## Ejercicio 8. \n",
        "\n",
        "Escribe una función que devuelva la moda de una lista, es decir: el elemento que aparece más veces.\n",
        "\n",
        "`NOTA: No debe usar count ... 🧐`"
      ]
    },
    {
      "cell_type": "code",
      "execution_count": 1,
      "metadata": {
        "id": "B2tWkv71JHdD"
      },
      "outputs": [],
      "source": [
        "def mode_counter(arr):\n",
        "    pass"
      ]
    },
    {
      "cell_type": "code",
      "execution_count": 1,
      "metadata": {
        "id": "8M2eP1E0JHn8"
      },
      "outputs": [],
      "source": [
        "# This will test your function \n",
        "test_mode(mode_counter)"
      ]
    },
    {
      "cell_type": "markdown",
      "metadata": {
        "id": "SVa8gHqlJIRk"
      },
      "source": [
        "## Ejercicio 9. \n",
        "\n",
        "Escribe una función que calcule la desviación estándar de una lista.\n",
        "\n",
        "`NOTA: No utilice bibliotecas ni funciones ya creadas. 😉`"
      ]
    },
    {
      "cell_type": "code",
      "execution_count": null,
      "metadata": {
        "id": "Py-u_g3bJLPN"
      },
      "outputs": [],
      "source": [
        "from statistics import stdev\n",
        "def st_dev(arr):\n",
        "    pass"
      ]
    },
    {
      "cell_type": "code",
      "execution_count": null,
      "metadata": {
        "id": "i0Vp9vZSJHra"
      },
      "outputs": [],
      "source": [
        "# This will test your function \n",
        "test_stdev(st_dev)"
      ]
    },
    {
      "cell_type": "code",
      "execution_count": null,
      "metadata": {
        "id": "7riSV1zEI8uA"
      },
      "outputs": [],
      "source": []
    },
    {
      "cell_type": "code",
      "execution_count": null,
      "metadata": {
        "id": "uYeasyZfIhXr"
      },
      "outputs": [],
      "source": []
    },
    {
      "cell_type": "code",
      "execution_count": null,
      "metadata": {
        "id": "mqxqErY5Gc-Z"
      },
      "outputs": [],
      "source": []
    },
    {
      "cell_type": "markdown",
      "metadata": {
        "id": "bJOByTLZJOru"
      },
      "source": [
        "## Ejercicio 10. \n",
        "\n",
        "Escribe una función para comprobar si una cadena es un pangrama, es decir: si contiene todas las letras del alfabeto al menos una vez. Tenga en cuenta que las cadenas pueden contener caracteres que no sean letras."
      ]
    },
    {
      "cell_type": "code",
      "execution_count": 2,
      "metadata": {
        "id": "rl0xqfvJJPGs"
      },
      "outputs": [],
      "source": [
        "def pangram(string):\n",
        "    pass"
      ]
    },
    {
      "cell_type": "code",
      "execution_count": null,
      "metadata": {
        "id": "3ekoSk-jkXjH"
      },
      "outputs": [],
      "source": [
        "# This will test your function \n",
        "test_pangram(pangram)"
      ]
    },
    {
      "cell_type": "markdown",
      "metadata": {
        "id": "by8wug_YJQ_N"
      },
      "source": [
        "## Ejercicio 11. \n",
        "\n",
        "Escriba una función que reciba una cadena de palabras separadas por comas y devuelva una cadena de palabras separadas por comas ordenadas alfabéticamente.\n",
        "\n",
        "`NOTA: ¡Puede usar ordenado pero no dividido y definitivamente sin unión! 🤪`"
      ]
    },
    {
      "cell_type": "code",
      "execution_count": 1,
      "metadata": {
        "id": "l49kAVnGJURm"
      },
      "outputs": [],
      "source": [
        "def sort_alpha(string):\n",
        "    pass"
      ]
    },
    {
      "cell_type": "code",
      "execution_count": 1,
      "metadata": {
        "id": "VDGl325vJUhz"
      },
      "outputs": [],
      "source": [
        "# This will test your function \n",
        "test_alpha(sort_alpha)"
      ]
    },
    {
      "cell_type": "code",
      "execution_count": null,
      "metadata": {
        "id": "RT6bFk9WJUlL"
      },
      "outputs": [],
      "source": []
    },
    {
      "cell_type": "code",
      "execution_count": null,
      "metadata": {
        "id": "o-h10z0GJRcR"
      },
      "outputs": [],
      "source": []
    },
    {
      "cell_type": "markdown",
      "metadata": {
        "id": "c-3m3bF2JXyW"
      },
      "source": [
        "## Ejercicio 12. \n",
        "\n",
        "Escribe una función para verificar si una contraseña dada es segura (al menos 8 caracteres, al menos una minúscula, al menos una mayúscula, al menos un número y al menos un carácter especial). Debería mostrar True si es fuerte y False si no.\n",
        "`Caracteres especiales válidos: # @! $% & () ^ * [] {} `"
      ]
    },
    {
      "cell_type": "code",
      "execution_count": 3,
      "metadata": {
        "id": "UQaYKsFdJYma"
      },
      "outputs": [],
      "source": [
        "def check_pass(string):\n",
        "    pass"
      ]
    },
    {
      "cell_type": "code",
      "execution_count": null,
      "metadata": {
        "id": "y1DIEdDDkcqL"
      },
      "outputs": [],
      "source": [
        "# This will test your function \n",
        "test_pass(check_pass)"
      ]
    },
    {
      "cell_type": "code",
      "execution_count": null,
      "metadata": {
        "id": "pGukAPCQks9y"
      },
      "outputs": [],
      "source": []
    },
    {
      "cell_type": "markdown",
      "metadata": {
        "id": "zGGHb7nd84mT"
      },
      "source": [
        "***\n",
        "\n",
        "# Prácticas con Lambda, Map, Reduce, Filter, `*args`, `**kwargs`\n",
        "\n",
        "Realizar los ejercicios con los comandos indicados. \n",
        "Efectuar el testing con `try...except`"
      ]
    },
    {
      "cell_type": "markdown",
      "metadata": {
        "id": "ssCsrv9a3KO-"
      },
      "source": [
        "## Ejercicio 13 \n",
        "\n",
        "Definid una función que reciba como parámetros dos valores $(x \\quad y)$ que serán dos vectores de enteros, y devuelva la `distancia euclídea` entre los puntos representados por los vectores. Es necesario que el cuerpo de la función contenga una única expresión, que calcule y devuelva el resultado. Los vectores pueden tener un tamaño arbitrario, pero ambos vectores tendrán el mismo número de elementos. **Solo se pueden utilizar funciones de la librería estándar de Python**."
      ]
    },
    {
      "cell_type": "code",
      "execution_count": 4,
      "metadata": {
        "id": "MgfmsIve3OU9"
      },
      "outputs": [],
      "source": [
        "# respuesta"
      ]
    },
    {
      "cell_type": "code",
      "execution_count": null,
      "metadata": {
        "id": "MpM-B3BY3QyU"
      },
      "outputs": [],
      "source": []
    },
    {
      "cell_type": "markdown",
      "metadata": {
        "id": "wNwKmJH43PV5"
      },
      "source": [
        "## Ejercicio 14\n",
        "\n",
        "Definid una función que reciba como parámetros dos valores $(x \\quad y)$ que serán dos vectores de enteros, y devuelva la `distancia de Manhattan` entre los puntos representados por los vectores. Es necesario que el cuerpo de la función contenga una única expresión, que calcule y devuelva el resultado. Los vectores pueden tener un tamaño arbitrario, pero ambos vectores tendrán el mismo número de elementos. **Solo se pueden utilizar funciones de la librería estándar de Python**."
      ]
    },
    {
      "cell_type": "code",
      "execution_count": null,
      "metadata": {
        "id": "MgLQxG6e3iCE"
      },
      "outputs": [],
      "source": []
    },
    {
      "cell_type": "code",
      "execution_count": null,
      "metadata": {
        "id": "wxk3y86kpLhB"
      },
      "outputs": [],
      "source": []
    },
    {
      "cell_type": "markdown",
      "metadata": {
        "id": "DHlGi-ja3iq8"
      },
      "source": [
        "## Ejercicio 15\n",
        "\n",
        "Definid una función `compute_all_distances` que reciba como parámetros dos valores $(x \\quad y)$ que serán dos vectores de enteros, y devuelva una tupla de dos elementos, con las `distancias euclidiana` y `distancia de Manhattan` entre los puntos representados por los vectores. Los vectores pueden tener un tamaño arbitrario, pero ambos vectores tendrán el mismo número de elementos. **Solo se pueden utilizar funciones de la librería estándar de Python**.\n",
        "\n",
        "Para ello, encapsulad el código de las funciones de las actividades anteriores dentro de la función `compute_all_distances`."
      ]
    },
    {
      "cell_type": "code",
      "execution_count": 4,
      "metadata": {
        "id": "2lndEgF25jTt"
      },
      "outputs": [],
      "source": []
    },
    {
      "cell_type": "code",
      "execution_count": 4,
      "metadata": {
        "id": "y33uRX2F5jbR"
      },
      "outputs": [],
      "source": []
    },
    {
      "cell_type": "markdown",
      "metadata": {
        "id": "u6_HF5lg5j7o"
      },
      "source": [
        "## Ejercicio 16\n",
        "\n",
        "En la frutería del barrio tienen un problema que requiere de nuestra ayuda. Reiteradamente, se les rompen las estanterías donde ponen las naranjas, y quieren evitar que esto vuelva a pasar. Han calculado que los estantes de madera soportan sin problemas un peso de `50 kilos`, y los de plástico `30 kilos`, pero siempre dudan de si pueden añadir algún piso de naranjas más (ya que esto siempre luce más delante de los clientes).\n",
        "\n",
        "Las naranjas se encuentran apiladas en una pirámide de base cuadrada. Así pues, en lo alto hay una sola naranja, en el segundo piso hay 4, en el tercer piso hay 9, etc. Los pisos siempre están completos. \n",
        "\n",
        "Definid una función que reciba como parámetros el número de pisos de naranjas que quieren hacer, el peso medio de cada naranja, y el tipo de material del estante, y devuelva un booleano indicando si el estante aguantará el peso o no. \n",
        "\n",
        "La función siempre recibirá el número de pisos de naranjas, pero los parámetros de peso medio y material son opcionales, y tomarán un valor por defecto de 0.2 y madera (\"Wood\"), respectivamente."
      ]
    },
    {
      "cell_type": "code",
      "execution_count": 4,
      "metadata": {
        "id": "7n8byYBG56um"
      },
      "outputs": [],
      "source": []
    },
    {
      "cell_type": "markdown",
      "metadata": {
        "id": "A00mt51F59JY"
      },
      "source": [
        "## Ejercicio 16\n",
        "\n",
        " \n",
        "Definid una función que pueda recibir un número de parámetros cualquiera, superior a 1, y que devuelva el resultado de sumar el resultado de aplicar la función que recibe como primer parámetro a cada uno de los otros parámetros.\n",
        "\n",
        "Por ejemplo, si la función recibe como primer argumento una función que calcula cuadrados, como segundo argumento un 5, y como tercer argumento un 10, debería devolver 52+102=125.\n",
        "\n",
        "Llamad a la función definida con los valores del ejemplo mencionado en el enunciado, y comprobad que se obtiene el resultado correcto. Comprobad también que la función devuelve los resultados esperados para una llamada con dos argumentos y con cinco argumentos."
      ]
    },
    {
      "cell_type": "code",
      "execution_count": null,
      "metadata": {
        "id": "eggXc0YK560r"
      },
      "outputs": [],
      "source": []
    },
    {
      "cell_type": "markdown",
      "metadata": {
        "id": "tSmqef3X6CIq"
      },
      "source": [
        "## Ejercicio 17\n",
        "\n",
        " \n",
        "Definid una función que reciba dos parámetros, una lista de enteros y un entero, y devuelva una lista con los mismos elementos que la lista original eliminando todas las apariciones del entero especificado."
      ]
    },
    {
      "cell_type": "code",
      "execution_count": 4,
      "metadata": {
        "id": "HJ3RyD4p6EHr"
      },
      "outputs": [],
      "source": []
    },
    {
      "cell_type": "markdown",
      "metadata": {
        "id": "hoLE6VTt-Viz"
      },
      "source": [
        "### Ejercicio 17.1\n",
        "\n",
        "\n",
        "Implementad una función que **modifique la lista original**. Haced una llamada a la función definida y mostrad que, efectivamente, la lista original se modifica."
      ]
    },
    {
      "cell_type": "code",
      "execution_count": null,
      "metadata": {
        "id": "5YPI7XPN6ETk"
      },
      "outputs": [],
      "source": []
    },
    {
      "cell_type": "markdown",
      "metadata": {
        "id": "RNNm6BB06Fwh"
      },
      "source": [
        "###  Ejercicio 17.2\n",
        "\n",
        "Implementad una función que **no modifique** la lista original. Haced una llamada a la función definida y mostrad que, efectivamente, no se modifica la lista original."
      ]
    },
    {
      "cell_type": "code",
      "execution_count": 4,
      "metadata": {
        "id": "tsC9uJP65jeW"
      },
      "outputs": [],
      "source": []
    },
    {
      "cell_type": "code",
      "execution_count": null,
      "metadata": {
        "id": "KoJsUWTw5jhZ"
      },
      "outputs": [],
      "source": []
    }
  ],
  "metadata": {
    "colab": {
      "collapsed_sections": [],
      "name": "Práctica con Funciones - week2",
      "provenance": []
    },
    "kernelspec": {
      "display_name": "Python 3",
      "name": "python3"
    },
    "language_info": {
      "name": "python"
    }
  },
  "nbformat": 4,
  "nbformat_minor": 0
}
