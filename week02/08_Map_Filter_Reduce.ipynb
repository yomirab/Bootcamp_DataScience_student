{
  "nbformat": 4,
  "nbformat_minor": 0,
  "metadata": {
    "colab": {
      "name": "08. Map - Filter - Reduce",
      "provenance": [],
      "collapsed_sections": []
    },
    "kernelspec": {
      "name": "python3",
      "display_name": "Python 3"
    },
    "language_info": {
      "name": "python"
    }
  },
  "cells": [
    {
      "cell_type": "markdown",
      "metadata": {
        "id": "pz_mlViCg4MD"
      },
      "source": [
        "# Map - Filter - Reduce\n",
        "\n",
        "alternativa para reducir la carga en los iterators de for - while"
      ]
    },
    {
      "cell_type": "code",
      "metadata": {
        "colab": {
          "base_uri": "https://localhost:8080/",
          "height": 303
        },
        "id": "a6FNdyJI1ioi",
        "outputId": "c3f0b46e-6e89-42db-8d24-681552602b4f"
      },
      "source": [
        "# Para instalar los módulos para la guía de estilo de Python PEP8\n",
        "#!pip install flake8 pycodestyle_magic"
      ],
      "execution_count": 60,
      "outputs": [
        {
          "output_type": "stream",
          "name": "stdout",
          "text": [
            "Requirement already satisfied: flake8 in /usr/local/lib/python3.7/dist-packages (4.0.1)\n",
            "Requirement already satisfied: pycodestyle_magic in /usr/local/lib/python3.7/dist-packages (0.5)\n",
            "Requirement already satisfied: mccabe<0.7.0,>=0.6.0 in /usr/local/lib/python3.7/dist-packages (from flake8) (0.6.1)\n",
            "Requirement already satisfied: pycodestyle<2.9.0,>=2.8.0 in /usr/local/lib/python3.7/dist-packages (from flake8) (2.8.0)\n",
            "Requirement already satisfied: importlib-metadata<4.3 in /usr/local/lib/python3.7/dist-packages (from flake8) (4.2.0)\n",
            "Requirement already satisfied: pyflakes<2.5.0,>=2.4.0 in /usr/local/lib/python3.7/dist-packages (from flake8) (2.4.0)\n",
            "Requirement already satisfied: zipp>=0.5 in /usr/local/lib/python3.7/dist-packages (from importlib-metadata<4.3->flake8) (3.6.0)\n",
            "Requirement already satisfied: typing-extensions>=3.6.4 in /usr/local/lib/python3.7/dist-packages (from importlib-metadata<4.3->flake8) (3.7.4.3)\n",
            "Error in callback <bound method VarWatcher.auto_run_pycodestyle of <pycodestyle_magic.VarWatcher object at 0x7f0ac934c810>> (for post_run_cell):\n"
          ]
        },
        {
          "output_type": "error",
          "ename": "TypeError",
          "evalue": "ignored",
          "traceback": [
            "\u001b[0;31m---------------------------------------------------------------------------\u001b[0m",
            "\u001b[0;31mTypeError\u001b[0m                                 Traceback (most recent call last)",
            "\u001b[0;31mTypeError\u001b[0m: auto_run_pycodestyle() missing 1 required positional argument: 'result'"
          ]
        }
      ]
    },
    {
      "cell_type": "code",
      "metadata": {
        "colab": {
          "base_uri": "https://localhost:8080/"
        },
        "id": "04OG8OKb7aaR",
        "outputId": "561a3d6c-5134-4a14-f594-2709b0ffc55d"
      },
      "source": [
        "# !pip install flake8"
      ],
      "execution_count": 3,
      "outputs": [
        {
          "output_type": "stream",
          "name": "stdout",
          "text": [
            "Requirement already satisfied: flake8 in /usr/local/lib/python3.7/dist-packages (4.0.1)\n",
            "Requirement already satisfied: pycodestyle<2.9.0,>=2.8.0 in /usr/local/lib/python3.7/dist-packages (from flake8) (2.8.0)\n",
            "Requirement already satisfied: mccabe<0.7.0,>=0.6.0 in /usr/local/lib/python3.7/dist-packages (from flake8) (0.6.1)\n",
            "Requirement already satisfied: pyflakes<2.5.0,>=2.4.0 in /usr/local/lib/python3.7/dist-packages (from flake8) (2.4.0)\n",
            "Requirement already satisfied: importlib-metadata<4.3 in /usr/local/lib/python3.7/dist-packages (from flake8) (4.2.0)\n",
            "Requirement already satisfied: typing-extensions>=3.6.4 in /usr/local/lib/python3.7/dist-packages (from importlib-metadata<4.3->flake8) (3.7.4.3)\n",
            "Requirement already satisfied: zipp>=0.5 in /usr/local/lib/python3.7/dist-packages (from importlib-metadata<4.3->flake8) (3.6.0)\n"
          ]
        }
      ]
    },
    {
      "cell_type": "code",
      "metadata": {
        "id": "nNFOc4in1sNN"
      },
      "source": [
        "# %load_ext pycodestyle_magic"
      ],
      "execution_count": 6,
      "outputs": []
    },
    {
      "cell_type": "code",
      "metadata": {
        "colab": {
          "base_uri": "https://localhost:8080/",
          "height": 174
        },
        "id": "Py-V6VhN1um0",
        "outputId": "da0ab951-35b1-4d94-c481-9cd9a1ae68f6"
      },
      "source": [
        "# Activamos las alertas de estilo\n",
        "# %%pycodestyle_on"
      ],
      "execution_count": 9,
      "outputs": [
        {
          "output_type": "stream",
          "name": "stdout",
          "text": [
            "Error in callback <bound method VarWatcher.auto_run_pycodestyle of <pycodestyle_magic.VarWatcher object at 0x7f4f40e91050>> (for post_run_cell):\n"
          ]
        },
        {
          "output_type": "stream",
          "name": "stderr",
          "text": [
            "UsageError: Cell magic `%%pycodestyle_on` not found (But line magic `%pycodestyle_on` exists, did you mean that instead?).\n"
          ]
        },
        {
          "output_type": "error",
          "ename": "TypeError",
          "evalue": "ignored",
          "traceback": [
            "\u001b[0;31m---------------------------------------------------------------------------\u001b[0m",
            "\u001b[0;31mTypeError\u001b[0m                                 Traceback (most recent call last)",
            "\u001b[0;31mTypeError\u001b[0m: auto_run_pycodestyle() missing 1 required positional argument: 'result'"
          ]
        }
      ]
    },
    {
      "cell_type": "code",
      "metadata": {
        "colab": {
          "base_uri": "https://localhost:8080/",
          "height": 156
        },
        "id": "tb7v8zFkg6kh",
        "outputId": "e2690689-9ad5-4ac9-e955-15e2de56089b"
      },
      "source": [
        "employees = [\n",
        "    {\"name\": \"Pedro\", \"office\": \"Madrid\", \"mail\":\"pedrolopez@company.com\"},\n",
        "    {\"name\": \"Samantha\", \"office\": \"Valencia\", \"mail\":\"sammartinez@company.com\"},\n",
        "    {\"name\": \"Ivan\", \"office\": \"Moscow\", \"mail\":\"ivanivanovich@company.com\"},\n",
        "    {\"name\": \"Mary\", \"office\": \"New York\", \"mail\":\"marysmith@company.com\"},\n",
        "    {\"name\": \"Juan\", \"office\": \"Madrid\", \"mail\":\"juan@company.com\"},\n",
        "    {\"name\": \"Richard\", \"office\": \"New York\", \"mail\":\"richardjohnson@company.com\"},\n",
        "    {\"name\": \"Adelia\", \"office\": \"Madrid\", \"mail\":\"adelia@company.com\"},\n",
        "    {\"name\": \"Piotr\", \"office\": \"Moscow\", \"mail\":\"piotrpiotrovich@company.com\"},\n",
        "    {\"name\": \"Stewart\", \"office\": \"New York\", \"mail\":\"stewart@company.com\"},\n",
        "]"
      ],
      "execution_count": 8,
      "outputs": [
        {
          "output_type": "stream",
          "name": "stdout",
          "text": [
            "Error in callback <bound method VarWatcher.auto_run_pycodestyle of <pycodestyle_magic.VarWatcher object at 0x7f4f40e91050>> (for post_run_cell):\n"
          ]
        },
        {
          "output_type": "error",
          "ename": "TypeError",
          "evalue": "ignored",
          "traceback": [
            "\u001b[0;31m---------------------------------------------------------------------------\u001b[0m",
            "\u001b[0;31mTypeError\u001b[0m                                 Traceback (most recent call last)",
            "\u001b[0;31mTypeError\u001b[0m: auto_run_pycodestyle() missing 1 required positional argument: 'result'"
          ]
        }
      ]
    },
    {
      "cell_type": "code",
      "metadata": {
        "colab": {
          "base_uri": "https://localhost:8080/"
        },
        "id": "KspL5s9Hg7bl",
        "outputId": "7de0057c-a5ae-47e1-c95c-d3f3f6ca26a0"
      },
      "source": [
        "type(employees)"
      ],
      "execution_count": 2,
      "outputs": [
        {
          "output_type": "execute_result",
          "data": {
            "text/plain": [
              "list"
            ]
          },
          "metadata": {},
          "execution_count": 2
        }
      ]
    },
    {
      "cell_type": "code",
      "metadata": {
        "colab": {
          "base_uri": "https://localhost:8080/"
        },
        "id": "C6F7mm0siIJK",
        "outputId": "6ca48bc9-aa9e-4720-ef71-fde07542037f"
      },
      "source": [
        "employees.__dir__()"
      ],
      "execution_count": 8,
      "outputs": [
        {
          "output_type": "execute_result",
          "data": {
            "text/plain": [
              "['__repr__',\n",
              " '__hash__',\n",
              " '__getattribute__',\n",
              " '__lt__',\n",
              " '__le__',\n",
              " '__eq__',\n",
              " '__ne__',\n",
              " '__gt__',\n",
              " '__ge__',\n",
              " '__iter__',\n",
              " '__init__',\n",
              " '__len__',\n",
              " '__getitem__',\n",
              " '__setitem__',\n",
              " '__delitem__',\n",
              " '__add__',\n",
              " '__mul__',\n",
              " '__rmul__',\n",
              " '__contains__',\n",
              " '__iadd__',\n",
              " '__imul__',\n",
              " '__new__',\n",
              " '__reversed__',\n",
              " '__sizeof__',\n",
              " 'clear',\n",
              " 'copy',\n",
              " 'append',\n",
              " 'insert',\n",
              " 'extend',\n",
              " 'pop',\n",
              " 'remove',\n",
              " 'index',\n",
              " 'count',\n",
              " 'reverse',\n",
              " 'sort',\n",
              " '__doc__',\n",
              " '__str__',\n",
              " '__setattr__',\n",
              " '__delattr__',\n",
              " '__reduce_ex__',\n",
              " '__reduce__',\n",
              " '__subclasshook__',\n",
              " '__init_subclass__',\n",
              " '__format__',\n",
              " '__dir__',\n",
              " '__class__']"
            ]
          },
          "metadata": {},
          "execution_count": 8
        }
      ]
    },
    {
      "cell_type": "code",
      "metadata": {
        "colab": {
          "base_uri": "https://localhost:8080/"
        },
        "id": "HV2s5S-mh6sA",
        "outputId": "fba1b651-09c8-42f9-c2f7-22405e205645"
      },
      "source": [
        "len(employees)"
      ],
      "execution_count": 6,
      "outputs": [
        {
          "output_type": "execute_result",
          "data": {
            "text/plain": [
              "9"
            ]
          },
          "metadata": {},
          "execution_count": 6
        }
      ]
    },
    {
      "cell_type": "code",
      "metadata": {
        "colab": {
          "base_uri": "https://localhost:8080/"
        },
        "id": "LqiSzZSmiy5E",
        "outputId": "28fd7efb-eda5-4cab-d69e-f7fec4ff15d9"
      },
      "source": [
        "type(employees[0])"
      ],
      "execution_count": 10,
      "outputs": [
        {
          "output_type": "execute_result",
          "data": {
            "text/plain": [
              "dict"
            ]
          },
          "metadata": {},
          "execution_count": 10
        }
      ]
    },
    {
      "cell_type": "code",
      "metadata": {
        "colab": {
          "base_uri": "https://localhost:8080/"
        },
        "id": "wVxL4GAui30K",
        "outputId": "e7a21557-f46a-4354-deb7-ddb706246a69"
      },
      "source": [
        "employees[0].__dir__()"
      ],
      "execution_count": 11,
      "outputs": [
        {
          "output_type": "execute_result",
          "data": {
            "text/plain": [
              "['__repr__',\n",
              " '__hash__',\n",
              " '__getattribute__',\n",
              " '__lt__',\n",
              " '__le__',\n",
              " '__eq__',\n",
              " '__ne__',\n",
              " '__gt__',\n",
              " '__ge__',\n",
              " '__iter__',\n",
              " '__init__',\n",
              " '__len__',\n",
              " '__getitem__',\n",
              " '__setitem__',\n",
              " '__delitem__',\n",
              " '__contains__',\n",
              " '__new__',\n",
              " '__sizeof__',\n",
              " 'get',\n",
              " 'setdefault',\n",
              " 'pop',\n",
              " 'popitem',\n",
              " 'keys',\n",
              " 'items',\n",
              " 'values',\n",
              " 'update',\n",
              " 'fromkeys',\n",
              " 'clear',\n",
              " 'copy',\n",
              " '__doc__',\n",
              " '__str__',\n",
              " '__setattr__',\n",
              " '__delattr__',\n",
              " '__reduce_ex__',\n",
              " '__reduce__',\n",
              " '__subclasshook__',\n",
              " '__init_subclass__',\n",
              " '__format__',\n",
              " '__dir__',\n",
              " '__class__']"
            ]
          },
          "metadata": {},
          "execution_count": 11
        }
      ]
    },
    {
      "cell_type": "code",
      "metadata": {
        "colab": {
          "base_uri": "https://localhost:8080/"
        },
        "id": "c4G2qvv4i-2Y",
        "outputId": "eaf44a09-5ee1-4887-8479-897f9395ff01"
      },
      "source": [
        "employees[0].keys()"
      ],
      "execution_count": 14,
      "outputs": [
        {
          "output_type": "execute_result",
          "data": {
            "text/plain": [
              "dict_keys(['name', 'office', 'mail'])"
            ]
          },
          "metadata": {},
          "execution_count": 14
        }
      ]
    },
    {
      "cell_type": "code",
      "metadata": {
        "colab": {
          "base_uri": "https://localhost:8080/"
        },
        "id": "iQyLSrj-hrtr",
        "outputId": "1aebb8dc-5af4-44b3-e6d5-7bbebff74bd4"
      },
      "source": [
        "employees[0].items()"
      ],
      "execution_count": 5,
      "outputs": [
        {
          "output_type": "execute_result",
          "data": {
            "text/plain": [
              "dict_items([('name', 'Pedro'), ('office', 'Madrid'), ('mail', 'pedrolopez@company.com')])"
            ]
          },
          "metadata": {},
          "execution_count": 5
        }
      ]
    },
    {
      "cell_type": "code",
      "metadata": {
        "id": "fS1d_CLKhrUL"
      },
      "source": [
        ""
      ],
      "execution_count": null,
      "outputs": []
    },
    {
      "cell_type": "code",
      "metadata": {
        "colab": {
          "base_uri": "https://localhost:8080/"
        },
        "id": "BK8bFpSdXiS0",
        "outputId": "43cd3157-17c2-4f0a-b3ef-0e911695961e"
      },
      "source": [
        "email = list()\n",
        "for person in employees:\n",
        "  if person['office'] == 'Madrid':\n",
        "    email.append(person['mail'])\n",
        "\n",
        "print(email)"
      ],
      "execution_count": 16,
      "outputs": [
        {
          "output_type": "stream",
          "name": "stdout",
          "text": [
            "['pedrolopez@company.com', 'juan@company.com', 'adelia@company.com']\n"
          ]
        }
      ]
    },
    {
      "cell_type": "code",
      "metadata": {
        "id": "bqtD-832lNg9"
      },
      "source": [
        "# map(function, iterable)\n",
        "# función > Operación que queramos que aplique a cada elemento"
      ],
      "execution_count": null,
      "outputs": []
    },
    {
      "cell_type": "code",
      "metadata": {
        "id": "Jy0IhqwBlkkJ"
      },
      "source": [
        "phrase = ['There', 'are', 2, 'types', 'of', 'numbers', 'in', 'python,', 'integers', 'and', 'floats:', 7, 'and', 7.0]"
      ],
      "execution_count": 17,
      "outputs": []
    },
    {
      "cell_type": "code",
      "metadata": {
        "colab": {
          "base_uri": "https://localhost:8080/"
        },
        "id": "gWMSUhEYlgLN",
        "outputId": "395bde1e-4c69-4c90-e2cc-ece0743651d9"
      },
      "source": [
        "map(str, phrase)"
      ],
      "execution_count": 18,
      "outputs": [
        {
          "output_type": "execute_result",
          "data": {
            "text/plain": [
              "<map at 0x7f0ae5f2c150>"
            ]
          },
          "metadata": {},
          "execution_count": 18
        }
      ]
    },
    {
      "cell_type": "code",
      "metadata": {
        "colab": {
          "base_uri": "https://localhost:8080/"
        },
        "id": "I_3kCjVBlyAh",
        "outputId": "5e27c969-474e-41cc-eb89-bb41ed86ce89"
      },
      "source": [
        "list(map(str,phrase))"
      ],
      "execution_count": 19,
      "outputs": [
        {
          "output_type": "execute_result",
          "data": {
            "text/plain": [
              "['There',\n",
              " 'are',\n",
              " '2',\n",
              " 'types',\n",
              " 'of',\n",
              " 'numbers',\n",
              " 'in',\n",
              " 'python,',\n",
              " 'integers',\n",
              " 'and',\n",
              " 'floats:',\n",
              " '7',\n",
              " 'and',\n",
              " '7.0']"
            ]
          },
          "metadata": {},
          "execution_count": 19
        }
      ]
    },
    {
      "cell_type": "markdown",
      "metadata": {
        "id": "CBNcjPOMmgWa"
      },
      "source": [
        "Para comprobar la perfomance de una función map"
      ]
    },
    {
      "cell_type": "code",
      "metadata": {
        "id": "2nFLU2PKmkXa"
      },
      "source": [
        "import numpy as np"
      ],
      "execution_count": 20,
      "outputs": []
    },
    {
      "cell_type": "code",
      "metadata": {
        "id": "tQqmlWxHmvzs"
      },
      "source": [
        "nums = np.random.random(5_000_000)"
      ],
      "execution_count": 21,
      "outputs": []
    },
    {
      "cell_type": "code",
      "metadata": {
        "colab": {
          "base_uri": "https://localhost:8080/"
        },
        "id": "zLq7eVDym2pG",
        "outputId": "b5595cdb-da5f-4705-88cb-edde258a3efc"
      },
      "source": [
        "nums"
      ],
      "execution_count": 22,
      "outputs": [
        {
          "output_type": "execute_result",
          "data": {
            "text/plain": [
              "array([0.02031619, 0.30600065, 0.48081305, ..., 0.46918847, 0.85425353,\n",
              "       0.29822713])"
            ]
          },
          "metadata": {},
          "execution_count": 22
        }
      ]
    },
    {
      "cell_type": "code",
      "metadata": {
        "colab": {
          "base_uri": "https://localhost:8080/"
        },
        "id": "Dh8ZkPgcm5E1",
        "outputId": "d5cfcd71-96c2-4de7-e460-bbdaf13dceec"
      },
      "source": [
        "%%time\n",
        "squares = []\n",
        "for n in nums:\n",
        "  squares.append(n**2)"
      ],
      "execution_count": 27,
      "outputs": [
        {
          "output_type": "stream",
          "name": "stdout",
          "text": [
            "CPU times: user 2.6 s, sys: 146 ms, total: 2.75 s\n",
            "Wall time: 2.76 s\n"
          ]
        }
      ]
    },
    {
      "cell_type": "code",
      "metadata": {
        "colab": {
          "base_uri": "https://localhost:8080/",
          "height": 418
        },
        "id": "HjTJBCtHpCgf",
        "outputId": "a87e1632-a7ae-4196-d174-1fe14244aea5"
      },
      "source": [
        "%%timeit -n 10\n",
        "squares = []\n",
        "for n in nums:\n",
        "  squares.append(n**2)"
      ],
      "execution_count": 33,
      "outputs": [
        {
          "output_type": "error",
          "ename": "KeyboardInterrupt",
          "evalue": "ignored",
          "traceback": [
            "\u001b[0;31m---------------------------------------------------------------------------\u001b[0m",
            "\u001b[0;31mKeyboardInterrupt\u001b[0m                         Traceback (most recent call last)",
            "\u001b[0;32m<ipython-input-33-dc08ddc1ff88>\u001b[0m in \u001b[0;36m<module>\u001b[0;34m()\u001b[0m\n\u001b[0;32m----> 1\u001b[0;31m \u001b[0mget_ipython\u001b[0m\u001b[0;34m(\u001b[0m\u001b[0;34m)\u001b[0m\u001b[0;34m.\u001b[0m\u001b[0mrun_cell_magic\u001b[0m\u001b[0;34m(\u001b[0m\u001b[0;34m'timeit'\u001b[0m\u001b[0;34m,\u001b[0m \u001b[0;34m'-n 10'\u001b[0m\u001b[0;34m,\u001b[0m \u001b[0;34m'squares = []\\nfor n in nums:\\n  squares.append(n**2)'\u001b[0m\u001b[0;34m)\u001b[0m\u001b[0;34m\u001b[0m\u001b[0;34m\u001b[0m\u001b[0m\n\u001b[0m",
            "\u001b[0;32m/usr/local/lib/python3.7/dist-packages/IPython/core/interactiveshell.py\u001b[0m in \u001b[0;36mrun_cell_magic\u001b[0;34m(self, magic_name, line, cell)\u001b[0m\n\u001b[1;32m   2115\u001b[0m             \u001b[0mmagic_arg_s\u001b[0m \u001b[0;34m=\u001b[0m \u001b[0mself\u001b[0m\u001b[0;34m.\u001b[0m\u001b[0mvar_expand\u001b[0m\u001b[0;34m(\u001b[0m\u001b[0mline\u001b[0m\u001b[0;34m,\u001b[0m \u001b[0mstack_depth\u001b[0m\u001b[0;34m)\u001b[0m\u001b[0;34m\u001b[0m\u001b[0;34m\u001b[0m\u001b[0m\n\u001b[1;32m   2116\u001b[0m             \u001b[0;32mwith\u001b[0m \u001b[0mself\u001b[0m\u001b[0;34m.\u001b[0m\u001b[0mbuiltin_trap\u001b[0m\u001b[0;34m:\u001b[0m\u001b[0;34m\u001b[0m\u001b[0;34m\u001b[0m\u001b[0m\n\u001b[0;32m-> 2117\u001b[0;31m                 \u001b[0mresult\u001b[0m \u001b[0;34m=\u001b[0m \u001b[0mfn\u001b[0m\u001b[0;34m(\u001b[0m\u001b[0mmagic_arg_s\u001b[0m\u001b[0;34m,\u001b[0m \u001b[0mcell\u001b[0m\u001b[0;34m)\u001b[0m\u001b[0;34m\u001b[0m\u001b[0;34m\u001b[0m\u001b[0m\n\u001b[0m\u001b[1;32m   2118\u001b[0m             \u001b[0;32mreturn\u001b[0m \u001b[0mresult\u001b[0m\u001b[0;34m\u001b[0m\u001b[0;34m\u001b[0m\u001b[0m\n\u001b[1;32m   2119\u001b[0m \u001b[0;34m\u001b[0m\u001b[0m\n",
            "\u001b[0;32m<decorator-gen-52>\u001b[0m in \u001b[0;36mtimeit\u001b[0;34m(self, line, cell)\u001b[0m\n",
            "\u001b[0;32m/usr/local/lib/python3.7/dist-packages/IPython/core/magic.py\u001b[0m in \u001b[0;36m<lambda>\u001b[0;34m(f, *a, **k)\u001b[0m\n\u001b[1;32m    186\u001b[0m     \u001b[0;31m# but it's overkill for just that one bit of state.\u001b[0m\u001b[0;34m\u001b[0m\u001b[0;34m\u001b[0m\u001b[0;34m\u001b[0m\u001b[0m\n\u001b[1;32m    187\u001b[0m     \u001b[0;32mdef\u001b[0m \u001b[0mmagic_deco\u001b[0m\u001b[0;34m(\u001b[0m\u001b[0marg\u001b[0m\u001b[0;34m)\u001b[0m\u001b[0;34m:\u001b[0m\u001b[0;34m\u001b[0m\u001b[0;34m\u001b[0m\u001b[0m\n\u001b[0;32m--> 188\u001b[0;31m         \u001b[0mcall\u001b[0m \u001b[0;34m=\u001b[0m \u001b[0;32mlambda\u001b[0m \u001b[0mf\u001b[0m\u001b[0;34m,\u001b[0m \u001b[0;34m*\u001b[0m\u001b[0ma\u001b[0m\u001b[0;34m,\u001b[0m \u001b[0;34m**\u001b[0m\u001b[0mk\u001b[0m\u001b[0;34m:\u001b[0m \u001b[0mf\u001b[0m\u001b[0;34m(\u001b[0m\u001b[0;34m*\u001b[0m\u001b[0ma\u001b[0m\u001b[0;34m,\u001b[0m \u001b[0;34m**\u001b[0m\u001b[0mk\u001b[0m\u001b[0;34m)\u001b[0m\u001b[0;34m\u001b[0m\u001b[0;34m\u001b[0m\u001b[0m\n\u001b[0m\u001b[1;32m    189\u001b[0m \u001b[0;34m\u001b[0m\u001b[0m\n\u001b[1;32m    190\u001b[0m         \u001b[0;32mif\u001b[0m \u001b[0mcallable\u001b[0m\u001b[0;34m(\u001b[0m\u001b[0marg\u001b[0m\u001b[0;34m)\u001b[0m\u001b[0;34m:\u001b[0m\u001b[0;34m\u001b[0m\u001b[0;34m\u001b[0m\u001b[0m\n",
            "\u001b[0;32m/usr/local/lib/python3.7/dist-packages/IPython/core/magics/execution.py\u001b[0m in \u001b[0;36mtimeit\u001b[0;34m(self, line, cell)\u001b[0m\n\u001b[1;32m   1060\u001b[0m                     \u001b[0;32mbreak\u001b[0m\u001b[0;34m\u001b[0m\u001b[0;34m\u001b[0m\u001b[0m\n\u001b[1;32m   1061\u001b[0m                 \u001b[0mnumber\u001b[0m \u001b[0;34m*=\u001b[0m \u001b[0;36m10\u001b[0m\u001b[0;34m\u001b[0m\u001b[0;34m\u001b[0m\u001b[0m\n\u001b[0;32m-> 1062\u001b[0;31m         \u001b[0mall_runs\u001b[0m \u001b[0;34m=\u001b[0m \u001b[0mtimer\u001b[0m\u001b[0;34m.\u001b[0m\u001b[0mrepeat\u001b[0m\u001b[0;34m(\u001b[0m\u001b[0mrepeat\u001b[0m\u001b[0;34m,\u001b[0m \u001b[0mnumber\u001b[0m\u001b[0;34m)\u001b[0m\u001b[0;34m\u001b[0m\u001b[0;34m\u001b[0m\u001b[0m\n\u001b[0m\u001b[1;32m   1063\u001b[0m         \u001b[0mbest\u001b[0m \u001b[0;34m=\u001b[0m \u001b[0mmin\u001b[0m\u001b[0;34m(\u001b[0m\u001b[0mall_runs\u001b[0m\u001b[0;34m)\u001b[0m \u001b[0;34m/\u001b[0m \u001b[0mnumber\u001b[0m\u001b[0;34m\u001b[0m\u001b[0;34m\u001b[0m\u001b[0m\n\u001b[1;32m   1064\u001b[0m \u001b[0;34m\u001b[0m\u001b[0m\n",
            "\u001b[0;32m/usr/lib/python3.7/timeit.py\u001b[0m in \u001b[0;36mrepeat\u001b[0;34m(self, repeat, number)\u001b[0m\n\u001b[1;32m    203\u001b[0m         \u001b[0mr\u001b[0m \u001b[0;34m=\u001b[0m \u001b[0;34m[\u001b[0m\u001b[0;34m]\u001b[0m\u001b[0;34m\u001b[0m\u001b[0;34m\u001b[0m\u001b[0m\n\u001b[1;32m    204\u001b[0m         \u001b[0;32mfor\u001b[0m \u001b[0mi\u001b[0m \u001b[0;32min\u001b[0m \u001b[0mrange\u001b[0m\u001b[0;34m(\u001b[0m\u001b[0mrepeat\u001b[0m\u001b[0;34m)\u001b[0m\u001b[0;34m:\u001b[0m\u001b[0;34m\u001b[0m\u001b[0;34m\u001b[0m\u001b[0m\n\u001b[0;32m--> 205\u001b[0;31m             \u001b[0mt\u001b[0m \u001b[0;34m=\u001b[0m \u001b[0mself\u001b[0m\u001b[0;34m.\u001b[0m\u001b[0mtimeit\u001b[0m\u001b[0;34m(\u001b[0m\u001b[0mnumber\u001b[0m\u001b[0;34m)\u001b[0m\u001b[0;34m\u001b[0m\u001b[0;34m\u001b[0m\u001b[0m\n\u001b[0m\u001b[1;32m    206\u001b[0m             \u001b[0mr\u001b[0m\u001b[0;34m.\u001b[0m\u001b[0mappend\u001b[0m\u001b[0;34m(\u001b[0m\u001b[0mt\u001b[0m\u001b[0;34m)\u001b[0m\u001b[0;34m\u001b[0m\u001b[0;34m\u001b[0m\u001b[0m\n\u001b[1;32m    207\u001b[0m         \u001b[0;32mreturn\u001b[0m \u001b[0mr\u001b[0m\u001b[0;34m\u001b[0m\u001b[0;34m\u001b[0m\u001b[0m\n",
            "\u001b[0;32m/usr/local/lib/python3.7/dist-packages/IPython/core/magics/execution.py\u001b[0m in \u001b[0;36mtimeit\u001b[0;34m(self, number)\u001b[0m\n\u001b[1;32m    137\u001b[0m         \u001b[0mgc\u001b[0m\u001b[0;34m.\u001b[0m\u001b[0mdisable\u001b[0m\u001b[0;34m(\u001b[0m\u001b[0;34m)\u001b[0m\u001b[0;34m\u001b[0m\u001b[0;34m\u001b[0m\u001b[0m\n\u001b[1;32m    138\u001b[0m         \u001b[0;32mtry\u001b[0m\u001b[0;34m:\u001b[0m\u001b[0;34m\u001b[0m\u001b[0;34m\u001b[0m\u001b[0m\n\u001b[0;32m--> 139\u001b[0;31m             \u001b[0mtiming\u001b[0m \u001b[0;34m=\u001b[0m \u001b[0mself\u001b[0m\u001b[0;34m.\u001b[0m\u001b[0minner\u001b[0m\u001b[0;34m(\u001b[0m\u001b[0mit\u001b[0m\u001b[0;34m,\u001b[0m \u001b[0mself\u001b[0m\u001b[0;34m.\u001b[0m\u001b[0mtimer\u001b[0m\u001b[0;34m)\u001b[0m\u001b[0;34m\u001b[0m\u001b[0;34m\u001b[0m\u001b[0m\n\u001b[0m\u001b[1;32m    140\u001b[0m         \u001b[0;32mfinally\u001b[0m\u001b[0;34m:\u001b[0m\u001b[0;34m\u001b[0m\u001b[0;34m\u001b[0m\u001b[0m\n\u001b[1;32m    141\u001b[0m             \u001b[0;32mif\u001b[0m \u001b[0mgcold\u001b[0m\u001b[0;34m:\u001b[0m\u001b[0;34m\u001b[0m\u001b[0;34m\u001b[0m\u001b[0m\n",
            "\u001b[0;32m<magic-timeit>\u001b[0m in \u001b[0;36minner\u001b[0;34m(_it, _timer)\u001b[0m\n",
            "\u001b[0;31mKeyboardInterrupt\u001b[0m: "
          ]
        }
      ]
    },
    {
      "cell_type": "code",
      "metadata": {
        "colab": {
          "base_uri": "https://localhost:8080/"
        },
        "id": "i-Fq36RPoEkG",
        "outputId": "c96fc715-6e90-4ca4-d264-09279c9b4043"
      },
      "source": [
        "squares"
      ],
      "execution_count": 28,
      "outputs": [
        {
          "output_type": "execute_result",
          "data": {
            "text/plain": [
              "[0.0004127474698609249,\n",
              " 0.09363639933304375,\n",
              " 0.2311811897587459,\n",
              " 0.3898755625574497,\n",
              " 0.16675689846762226,\n",
              " 0.816831292478988,\n",
              " 0.876636329667842,\n",
              " 0.08770906982084473,\n",
              " 0.2935233659708472,\n",
              " 0.0737818614907543,\n",
              " 0.8237117558674504,\n",
              " 0.0023429347398690246,\n",
              " 0.11593684522951823,\n",
              " 0.044597130528263605,\n",
              " 0.11613494929731871,\n",
              " 0.05300908922347778,\n",
              " 0.11359952016415126,\n",
              " 0.2885998235067134,\n",
              " 0.2867037486963151,\n",
              " 0.05284746777157214,\n",
              " 0.9928006512057137,\n",
              " 0.0005262458668914803,\n",
              " 0.2495437580536995,\n",
              " 0.5155921588379683,\n",
              " 0.08437369402804999,\n",
              " 0.07667009338655148,\n",
              " 0.01043578818345789,\n",
              " 0.37103344463076976,\n",
              " 0.9313041634006788,\n",
              " 0.1817410709691709,\n",
              " 0.028761939673215407,\n",
              " 0.04483013543612227,\n",
              " 0.22060227879095265,\n",
              " 0.1508375186807589,\n",
              " 0.13044845070768515,\n",
              " 0.07114285712530796,\n",
              " 0.47463906924592625,\n",
              " 0.3751083176955319,\n",
              " 0.49680185053267606,\n",
              " 0.14194817776742444,\n",
              " 0.32663232097997547,\n",
              " 0.8105918383342285,\n",
              " 0.16250720551627698,\n",
              " 0.0003330538225855627,\n",
              " 0.006280116338093523,\n",
              " 0.8265742960454544,\n",
              " 0.3829215852060003,\n",
              " 0.22218441215341,\n",
              " 0.010128392490142753,\n",
              " 0.18461186694929424,\n",
              " 0.25721685524769505,\n",
              " 0.04015089862280825,\n",
              " 0.009987792672651069,\n",
              " 0.3993990902339977,\n",
              " 0.20322353270672425,\n",
              " 0.09535708840639123,\n",
              " 0.07274971194268987,\n",
              " 0.2305688575068035,\n",
              " 0.44331877987168367,\n",
              " 0.11852329040639471,\n",
              " 0.009160872785621402,\n",
              " 0.9230200244650952,\n",
              " 0.9917794370300937,\n",
              " 0.3272071984777027,\n",
              " 0.20337668522706373,\n",
              " 0.2593677383707758,\n",
              " 0.9930732711480816,\n",
              " 0.03611633918851344,\n",
              " 0.1719765484144436,\n",
              " 0.006808503926530399,\n",
              " 0.3120844928890847,\n",
              " 0.6017774699741993,\n",
              " 0.9237813849732599,\n",
              " 0.3823250167287672,\n",
              " 0.11282040754487818,\n",
              " 0.31651298569355674,\n",
              " 0.6657613786659529,\n",
              " 0.44759975086194703,\n",
              " 0.4281776066316041,\n",
              " 0.8409275727914353,\n",
              " 0.07261400960540543,\n",
              " 0.8814728674070405,\n",
              " 0.6151239261970779,\n",
              " 0.047068907639100356,\n",
              " 0.5704365926241606,\n",
              " 0.9184011269817572,\n",
              " 0.07773381835681793,\n",
              " 0.46526485412027785,\n",
              " 0.12276397644280701,\n",
              " 0.7265106415221245,\n",
              " 0.03621539883756904,\n",
              " 0.2117968624095627,\n",
              " 0.028624281318697504,\n",
              " 0.7504946944861012,\n",
              " 0.10285046695104252,\n",
              " 0.769847935915162,\n",
              " 0.24594031326036972,\n",
              " 0.049094046035659374,\n",
              " 0.7784153103573861,\n",
              " 0.01698229553753792,\n",
              " 0.006970155263134363,\n",
              " 0.41842547166878474,\n",
              " 0.9987581209088234,\n",
              " 0.24553182615486124,\n",
              " 0.20432680031462727,\n",
              " 0.7777399370699447,\n",
              " 0.530555841127515,\n",
              " 0.1871217587109959,\n",
              " 0.30348992000392383,\n",
              " 0.7952708942036353,\n",
              " 0.1488322647030523,\n",
              " 0.17723989202134316,\n",
              " 0.7441025237567002,\n",
              " 0.556886682426191,\n",
              " 0.06462034762995891,\n",
              " 0.6158063808102572,\n",
              " 0.030762672070191593,\n",
              " 0.20202541874271954,\n",
              " 0.25057702902303863,\n",
              " 0.12509843869734683,\n",
              " 0.422409469037553,\n",
              " 0.128974315413632,\n",
              " 0.1849234095848774,\n",
              " 0.19068452756348242,\n",
              " 0.3611682206255471,\n",
              " 0.08240509488920958,\n",
              " 0.026070420981899278,\n",
              " 0.009442501423194704,\n",
              " 0.8580442132289658,\n",
              " 0.05391053393525483,\n",
              " 0.043457721364136635,\n",
              " 0.15954927799663068,\n",
              " 0.6460781262264954,\n",
              " 0.5519749734966212,\n",
              " 0.4891380964369457,\n",
              " 0.1783426013785935,\n",
              " 0.6867889866254138,\n",
              " 0.0009045360405199324,\n",
              " 0.7355651026506187,\n",
              " 0.3945514550006659,\n",
              " 0.07730816927476476,\n",
              " 0.1384866285256621,\n",
              " 0.6317306656350996,\n",
              " 0.4372029602757188,\n",
              " 0.03325709110574655,\n",
              " 0.0003318254543700391,\n",
              " 0.09541971743894216,\n",
              " 0.3258381092777796,\n",
              " 0.08737112410337838,\n",
              " 0.835006499637991,\n",
              " 0.0009082436594907689,\n",
              " 0.13740074178691064,\n",
              " 0.08660458210922066,\n",
              " 0.015439462080457341,\n",
              " 0.6465369839266629,\n",
              " 0.1741194249710561,\n",
              " 0.7289911361140708,\n",
              " 0.014088392011002699,\n",
              " 0.0026566499012213025,\n",
              " 0.23235457621466873,\n",
              " 0.008036904346602387,\n",
              " 0.05782051057041562,\n",
              " 0.2525221882702945,\n",
              " 0.2550464311904629,\n",
              " 0.4022623721431887,\n",
              " 0.7607449572776877,\n",
              " 0.3812047233658855,\n",
              " 0.6967783718745463,\n",
              " 0.5572918478469967,\n",
              " 0.8840106211493067,\n",
              " 0.11418222198306399,\n",
              " 0.16803835572704767,\n",
              " 0.5656816079030701,\n",
              " 4.300948050058682e-05,\n",
              " 0.018834239146580205,\n",
              " 0.05013633522567072,\n",
              " 0.0006318753320320126,\n",
              " 0.10414457609277362,\n",
              " 0.7771424105740334,\n",
              " 0.8820335259033387,\n",
              " 0.017788752540763442,\n",
              " 0.5227248874553602,\n",
              " 0.2911890035926879,\n",
              " 0.14494308645451964,\n",
              " 0.14056716112244533,\n",
              " 0.008101695025440083,\n",
              " 0.21872754358669866,\n",
              " 0.30891452397248437,\n",
              " 0.04161700176127448,\n",
              " 0.3203728363407407,\n",
              " 0.9465640431284171,\n",
              " 0.2085433045755032,\n",
              " 0.37539937096923304,\n",
              " 0.00019434559186839526,\n",
              " 0.2669376335913365,\n",
              " 0.8006045599955771,\n",
              " 0.45285317621415977,\n",
              " 0.36446131492813033,\n",
              " 0.9040298941826556,\n",
              " 0.5674095640071317,\n",
              " 0.3930157606811421,\n",
              " 0.9133623620461521,\n",
              " 0.16125751897619195,\n",
              " 0.4580174556529968,\n",
              " 0.15781301101028022,\n",
              " 0.7321486742543281,\n",
              " 0.7699257684707134,\n",
              " 0.1859408168522118,\n",
              " 0.3342971954363696,\n",
              " 0.03780440037442829,\n",
              " 0.3456511482027564,\n",
              " 0.14889942087790617,\n",
              " 0.6544186782303244,\n",
              " 0.42976031579908924,\n",
              " 0.36484245042275065,\n",
              " 0.8841023095088154,\n",
              " 0.5218095025031501,\n",
              " 0.19381031150129244,\n",
              " 0.3909209882021822,\n",
              " 0.049214840705478734,\n",
              " 0.34737135787574214,\n",
              " 0.35370004742629585,\n",
              " 0.1752631567679963,\n",
              " 0.5234542629794007,\n",
              " 0.00972586189466531,\n",
              " 0.30208644992058725,\n",
              " 0.0712826353180981,\n",
              " 0.24882208463450703,\n",
              " 0.001095192925106672,\n",
              " 0.4719397039084532,\n",
              " 0.7871160397465389,\n",
              " 0.06857772771537278,\n",
              " 0.011326080773017553,\n",
              " 0.002743876896297379,\n",
              " 0.06813321033730577,\n",
              " 0.18387688484342166,\n",
              " 0.09683044452393878,\n",
              " 0.02243347090904918,\n",
              " 0.07570528087906318,\n",
              " 0.07737648827568491,\n",
              " 0.4692576032862421,\n",
              " 0.10514307040273076,\n",
              " 9.915861864212505e-07,\n",
              " 0.48669992147964874,\n",
              " 0.09785902726341136,\n",
              " 0.04928087242475179,\n",
              " 0.13162330658363885,\n",
              " 0.06474265842990135,\n",
              " 0.0008779568179399747,\n",
              " 0.05059197695844359,\n",
              " 0.0226869630852036,\n",
              " 0.6320871041672832,\n",
              " 0.6343409294851589,\n",
              " 0.7931049685161112,\n",
              " 0.007179266329509753,\n",
              " 0.29199470065326383,\n",
              " 0.10684919188770531,\n",
              " 0.4028823097805483,\n",
              " 0.601517412500206,\n",
              " 0.12045990633023028,\n",
              " 0.6193181986654988,\n",
              " 0.45904626126809445,\n",
              " 0.8680660379838323,\n",
              " 0.12234082536182342,\n",
              " 0.03129025128493493,\n",
              " 0.4798463409021395,\n",
              " 0.2363192743936082,\n",
              " 0.9834126398517431,\n",
              " 0.918262324744335,\n",
              " 0.39488996423437983,\n",
              " 0.8143989085539596,\n",
              " 0.17053381478949123,\n",
              " 0.2514604048982983,\n",
              " 0.4964040568237929,\n",
              " 0.24645079682092208,\n",
              " 0.77033109176702,\n",
              " 0.059561320411856855,\n",
              " 0.23759461714384333,\n",
              " 0.6627444387256418,\n",
              " 0.0002052110696516903,\n",
              " 0.940759261955019,\n",
              " 0.8565135351180332,\n",
              " 0.21114627536467329,\n",
              " 0.12184563656070169,\n",
              " 0.9029354649530905,\n",
              " 0.8483828965265309,\n",
              " 0.01556378950284013,\n",
              " 0.123622840103316,\n",
              " 0.0015575721350868888,\n",
              " 0.16988277210736638,\n",
              " 0.6603586456901755,\n",
              " 0.3446595046308842,\n",
              " 0.07487526951016997,\n",
              " 0.6349288216378955,\n",
              " 0.30180178893131565,\n",
              " 0.0035473773942176967,\n",
              " 0.7014211717916912,\n",
              " 0.039518624348538235,\n",
              " 0.3301887196062392,\n",
              " 0.0010742197040819574,\n",
              " 0.9712810929509651,\n",
              " 0.006834175736199856,\n",
              " 0.3360692661029847,\n",
              " 0.4105334478417091,\n",
              " 0.08471879107430359,\n",
              " 0.004926400752566535,\n",
              " 0.06974002393893393,\n",
              " 0.0001520795894875122,\n",
              " 0.03158846886874184,\n",
              " 0.5079918901392179,\n",
              " 0.8830569462229992,\n",
              " 0.5111874823718231,\n",
              " 0.33813695183449677,\n",
              " 0.8833332198174313,\n",
              " 0.9994474386226061,\n",
              " 0.13348804971674907,\n",
              " 0.4126098088961496,\n",
              " 0.007125961236488824,\n",
              " 0.9932015295421538,\n",
              " 0.5164155386314498,\n",
              " 0.5953057591514314,\n",
              " 0.5810574394096091,\n",
              " 0.11085833088349803,\n",
              " 0.29520567241224205,\n",
              " 0.4392599950313508,\n",
              " 0.14660850700473202,\n",
              " 0.48892735888044553,\n",
              " 0.02091105624904473,\n",
              " 0.44617079297934237,\n",
              " 0.6099188127818315,\n",
              " 0.005364584080929182,\n",
              " 0.3740908986152388,\n",
              " 0.448577051340813,\n",
              " 0.04915851574354517,\n",
              " 0.3195774262633837,\n",
              " 0.46387631531054974,\n",
              " 0.2824535345161395,\n",
              " 0.027995194751107965,\n",
              " 0.05785872783731046,\n",
              " 0.8049989650151742,\n",
              " 0.2983532805370627,\n",
              " 0.2978738350476387,\n",
              " 0.10031498488057543,\n",
              " 0.24201722067035264,\n",
              " 0.49522936601400586,\n",
              " 0.09954982465504317,\n",
              " 0.0380376554903264,\n",
              " 0.28598511819308703,\n",
              " 0.18692048076470005,\n",
              " 0.42807620644225963,\n",
              " 0.2164762082432536,\n",
              " 0.2030228604429477,\n",
              " 0.009449128224475987,\n",
              " 0.1978149487528238,\n",
              " 0.03015449131493706,\n",
              " 0.0008329005625334818,\n",
              " 0.17238345148943085,\n",
              " 0.39729131030553844,\n",
              " 0.5225814629399468,\n",
              " 0.16587286075730806,\n",
              " 0.026476467375992702,\n",
              " 0.0005176838410960995,\n",
              " 0.4504529423016476,\n",
              " 0.15552003880192808,\n",
              " 0.8261704659742705,\n",
              " 0.27830993043712215,\n",
              " 0.027535453740841234,\n",
              " 0.7867221796310278,\n",
              " 0.15728629543097977,\n",
              " 0.456665961609831,\n",
              " 0.822587407241123,\n",
              " 0.5508707054927215,\n",
              " 0.91680314506492,\n",
              " 0.02595964593769168,\n",
              " 0.050293115256390145,\n",
              " 0.9606473833507716,\n",
              " 0.1938600318666964,\n",
              " 0.24932579203265043,\n",
              " 0.45684549649626666,\n",
              " 0.1300575968271102,\n",
              " 0.966352948806708,\n",
              " 0.4875201923543086,\n",
              " 0.24086746621096206,\n",
              " 0.11907338855557371,\n",
              " 0.9344842571975751,\n",
              " 0.7988398954476976,\n",
              " 0.01840621223090272,\n",
              " 0.23126942106310458,\n",
              " 0.5003010592852273,\n",
              " 0.000876587354318807,\n",
              " 0.16148902645504126,\n",
              " 0.006923847372672395,\n",
              " 0.43769436671322715,\n",
              " 0.08931928584230575,\n",
              " 0.39748807850379253,\n",
              " 0.0008299252228681936,\n",
              " 0.047260286092720816,\n",
              " 0.27761252613287496,\n",
              " 0.03361058838547863,\n",
              " 0.3157709020759754,\n",
              " 0.38969040215893697,\n",
              " 0.7243905294681654,\n",
              " 0.03711344180431553,\n",
              " 0.32743131508783296,\n",
              " 0.5073177969095419,\n",
              " 0.3070245069407178,\n",
              " 0.01255667761498589,\n",
              " 0.22414664324667033,\n",
              " 0.09577599321727363,\n",
              " 0.3723894003470818,\n",
              " 0.1407928691499306,\n",
              " 0.00014222476556549296,\n",
              " 0.3612131616701367,\n",
              " 0.06727504746155699,\n",
              " 0.062084210295141266,\n",
              " 0.9176752745388433,\n",
              " 0.47638836648220545,\n",
              " 0.39208528685942384,\n",
              " 0.2072911641216453,\n",
              " 0.0007357605316149732,\n",
              " 0.3103214871407913,\n",
              " 0.8713021515380621,\n",
              " 0.6469025491117724,\n",
              " 0.08399298750243465,\n",
              " 0.19450162312205355,\n",
              " 0.11376609953568927,\n",
              " 0.04785250230593055,\n",
              " 0.09867892957488218,\n",
              " 0.24216539596246306,\n",
              " 0.009965333535445335,\n",
              " 0.9058459524611411,\n",
              " 0.16701731291613212,\n",
              " 0.04825886836628903,\n",
              " 0.020225498078721472,\n",
              " 0.17767169792134174,\n",
              " 0.7959572592732627,\n",
              " 0.12710479061350338,\n",
              " 0.6543084389491242,\n",
              " 0.004203184864121898,\n",
              " 0.0008481733016065208,\n",
              " 0.5551886701086176,\n",
              " 0.06636159751515255,\n",
              " 0.7913175868120651,\n",
              " 0.20987384495886904,\n",
              " 0.18463165706113757,\n",
              " 0.23428127995000397,\n",
              " 0.7255042203720644,\n",
              " 0.08214120431099141,\n",
              " 0.576493155132121,\n",
              " 0.281989941657046,\n",
              " 0.1692837361196821,\n",
              " 0.29656035145878146,\n",
              " 0.2933886503139106,\n",
              " 0.4941144561701891,\n",
              " 0.30509876128160784,\n",
              " 0.05289125168827518,\n",
              " 0.7168343930185307,\n",
              " 0.86321828150327,\n",
              " 0.5600204102334855,\n",
              " 0.5989084317799873,\n",
              " 0.07077354203180879,\n",
              " 0.47789610738082006,\n",
              " 0.1864730528872721,\n",
              " 0.22675632685441544,\n",
              " 0.0011772572273209983,\n",
              " 0.006921758870356297,\n",
              " 0.7286141415688092,\n",
              " 0.8603589897090906,\n",
              " 0.3712680133714,\n",
              " 0.06514715277904679,\n",
              " 0.2153309311329345,\n",
              " 0.8595600149701943,\n",
              " 0.028104473600225176,\n",
              " 0.5707612933172784,\n",
              " 0.09991676463347098,\n",
              " 0.11368365726871425,\n",
              " 0.6896159507415729,\n",
              " 0.1402742914139272,\n",
              " 0.10459157198481704,\n",
              " 0.6382737653251234,\n",
              " 0.7243705179469807,\n",
              " 0.5080829530140683,\n",
              " 0.9256725078077682,\n",
              " 0.2673624330349003,\n",
              " 0.8954351575857458,\n",
              " 0.0004695467808958,\n",
              " 0.058500997629324335,\n",
              " 0.5552905071457899,\n",
              " 0.010287215328779834,\n",
              " 0.38697232959411165,\n",
              " 0.19963876555690271,\n",
              " 0.04389274957069464,\n",
              " 0.5295235331889621,\n",
              " 0.9223505219966102,\n",
              " 0.09200322669097573,\n",
              " 0.3289980910226191,\n",
              " 0.8662805883639575,\n",
              " 0.05770494504790134,\n",
              " 0.23356685893196363,\n",
              " 0.9583951785709267,\n",
              " 0.0054428068157500835,\n",
              " 0.40003218357293363,\n",
              " 0.5083862776738052,\n",
              " 0.26267083205737657,\n",
              " 0.7943544639840144,\n",
              " 0.9540059791752848,\n",
              " 0.0379334026806634,\n",
              " 0.0038766723833423625,\n",
              " 0.4016151419315146,\n",
              " 0.06744452925622797,\n",
              " 0.13861715685392945,\n",
              " 0.3687205614540162,\n",
              " 0.9300008979757619,\n",
              " 0.1610420644131787,\n",
              " 0.9310635072243604,\n",
              " 0.004031304665433037,\n",
              " 0.8843819885114252,\n",
              " 0.007315195629445891,\n",
              " 0.5680928390233824,\n",
              " 0.014762484377555014,\n",
              " 0.9501973216762324,\n",
              " 0.07468298755404851,\n",
              " 0.20812625336446228,\n",
              " 0.3459619726662979,\n",
              " 0.22244310329775832,\n",
              " 0.48421648705768716,\n",
              " 0.0266761212436281,\n",
              " 0.07735169923594964,\n",
              " 0.1598077430852437,\n",
              " 0.019397897835409236,\n",
              " 0.0059541374893371714,\n",
              " 0.0020010818703059766,\n",
              " 0.14222954202490792,\n",
              " 0.13423317299333234,\n",
              " 0.005605079458390654,\n",
              " 0.8946594515345349,\n",
              " 0.24459708655427967,\n",
              " 0.17485712040777746,\n",
              " 1.7291933136917757e-06,\n",
              " 0.06780090163352268,\n",
              " 0.21955942075708731,\n",
              " 0.17928278547319956,\n",
              " 0.7269932762831088,\n",
              " 0.31352828408267785,\n",
              " 0.23024584109420426,\n",
              " 0.05315075184744512,\n",
              " 0.3744221892032665,\n",
              " 0.2284029942970054,\n",
              " 0.0353409324900368,\n",
              " 0.46949440141995663,\n",
              " 0.1678217038723311,\n",
              " 0.8859102796917822,\n",
              " 0.0019008720300200805,\n",
              " 0.1513527117752075,\n",
              " 0.0001914803639811741,\n",
              " 0.33836973641622675,\n",
              " 0.2836142914238254,\n",
              " 0.14464740567021048,\n",
              " 0.45626221194977334,\n",
              " 0.33059689699211925,\n",
              " 0.1140746783724306,\n",
              " 0.8815441249184616,\n",
              " 0.1246809293630006,\n",
              " 0.7324739551356666,\n",
              " 0.0003749940967450906,\n",
              " 0.15879550021202238,\n",
              " 0.36887881706917036,\n",
              " 0.9538317940346075,\n",
              " 0.2782936342628036,\n",
              " 0.020671582055607082,\n",
              " 0.41056258741529283,\n",
              " 0.14911900223905875,\n",
              " 0.05391029057114055,\n",
              " 0.6212605219984647,\n",
              " 0.05464781905328867,\n",
              " 0.4269846599187521,\n",
              " 0.01961055208868681,\n",
              " 0.016781844421508697,\n",
              " 0.5833132913689358,\n",
              " 0.33527495598372553,\n",
              " 0.30771613986442925,\n",
              " 0.35331586615116223,\n",
              " 0.004646119203553575,\n",
              " 0.1700626029437749,\n",
              " 0.9525038018094053,\n",
              " 0.4920880659579201,\n",
              " 0.26785331717834876,\n",
              " 0.005826485066961282,\n",
              " 0.9877875811418385,\n",
              " 0.0004109207093134409,\n",
              " 0.2635215791236126,\n",
              " 0.005361543182181194,\n",
              " 0.05595636924771108,\n",
              " 0.022651352497264875,\n",
              " 0.1141761817687625,\n",
              " 0.3307496797566172,\n",
              " 0.014585393421950643,\n",
              " 0.15021713754124608,\n",
              " 0.36220947729121616,\n",
              " 0.0013908307481793627,\n",
              " 0.5049240359389756,\n",
              " 0.4615372269737302,\n",
              " 0.8149816381054553,\n",
              " 0.14597710713210266,\n",
              " 0.4757462436451062,\n",
              " 0.037653150566097346,\n",
              " 0.5147589189307892,\n",
              " 0.030185205123420895,\n",
              " 0.033906032037714876,\n",
              " 0.1027389447064403,\n",
              " 0.02993986648338953,\n",
              " 0.10729287197046128,\n",
              " 0.21106947705853923,\n",
              " 0.00014908719549980922,\n",
              " 0.3558255809801482,\n",
              " 0.8063594770249006,\n",
              " 0.8659837242398299,\n",
              " 0.9341041984336586,\n",
              " 0.047255452978928435,\n",
              " 0.5908816815785641,\n",
              " 0.0956196561566992,\n",
              " 0.44815979400664063,\n",
              " 0.1817885994466251,\n",
              " 0.006495041364507673,\n",
              " 0.005035688356491309,\n",
              " 0.9209708885179301,\n",
              " 0.5614321683288654,\n",
              " 0.9369838010154998,\n",
              " 0.04273846131905411,\n",
              " 0.488468670315767,\n",
              " 0.4806624357378721,\n",
              " 0.7212444906584118,\n",
              " 0.05087645650980146,\n",
              " 0.004494360273947268,\n",
              " 0.07488863158992314,\n",
              " 0.007730393428466113,\n",
              " 0.39466862793237,\n",
              " 0.8585883734536098,\n",
              " 0.10988770888866639,\n",
              " 0.018737278778179357,\n",
              " 0.3843858799038441,\n",
              " 0.12472256433601853,\n",
              " 0.6118148988094597,\n",
              " 0.2734859379092499,\n",
              " 0.1754012500412127,\n",
              " 0.11048128537797214,\n",
              " 0.3076653727223454,\n",
              " 0.027351047152173232,\n",
              " 0.0005806855649921671,\n",
              " 0.6468385803714438,\n",
              " 0.0317238039541154,\n",
              " 0.7427526445897663,\n",
              " 0.0032435003440141933,\n",
              " 0.5078000571943275,\n",
              " 0.16510989708140433,\n",
              " 0.27904296331599604,\n",
              " 0.22662190089493145,\n",
              " 0.37824671195353876,\n",
              " 0.3027716369705205,\n",
              " 0.7650987405241607,\n",
              " 0.31013739333681767,\n",
              " 0.0015574419465950063,\n",
              " 0.004669038306167507,\n",
              " 0.8329166428529612,\n",
              " 0.08939778735598515,\n",
              " 0.5902973035199293,\n",
              " 0.7214019915374744,\n",
              " 0.13371171793285488,\n",
              " 0.06353733776024564,\n",
              " 0.09267292280670877,\n",
              " 0.43914064370342265,\n",
              " 0.018410988010965405,\n",
              " 0.7482117738414203,\n",
              " 0.5919937639106703,\n",
              " 0.036410012578552024,\n",
              " 0.10341332505654581,\n",
              " 0.09797639656387157,\n",
              " 0.005644103232055963,\n",
              " 0.03095282354376019,\n",
              " 0.1203054982815706,\n",
              " 0.8279711339994437,\n",
              " 0.15966121568023656,\n",
              " 0.29805057809189406,\n",
              " 0.8010640873107544,\n",
              " 0.2843204094933409,\n",
              " 0.043809829529965025,\n",
              " 0.6320393679583423,\n",
              " 0.44538745578299715,\n",
              " 0.015065348280934887,\n",
              " 0.6255138275065564,\n",
              " 0.29520957329136743,\n",
              " 0.7160096554890376,\n",
              " 0.06811227264077194,\n",
              " 0.7903500655243315,\n",
              " 0.3623149539259764,\n",
              " 0.06318626709660947,\n",
              " 0.3284640740792228,\n",
              " 0.8512085245537319,\n",
              " 0.49647045143515534,\n",
              " 0.23794223391626876,\n",
              " 0.3678402675276573,\n",
              " 0.30553186685263356,\n",
              " 0.6973073287878393,\n",
              " 0.053665714869151095,\n",
              " 0.29794337793896647,\n",
              " 0.009875193573435487,\n",
              " 0.2350581221641172,\n",
              " 0.005566798461268332,\n",
              " 0.022652660427389417,\n",
              " 0.7864218736052604,\n",
              " 0.07543204291406927,\n",
              " 0.11952621089422448,\n",
              " 0.5022179658672548,\n",
              " 0.30963586018311595,\n",
              " 0.6901095086553123,\n",
              " 0.8824016456641257,\n",
              " 0.08614275291482236,\n",
              " 0.18749673946835832,\n",
              " 0.4320354282327181,\n",
              " 0.5728585521485066,\n",
              " 0.005672061807302515,\n",
              " 0.9705892906234603,\n",
              " 0.21895758938871357,\n",
              " 0.27377293454412666,\n",
              " 0.14238393754861547,\n",
              " 0.0011034245105452007,\n",
              " 0.5315655597660791,\n",
              " 0.032112395353542024,\n",
              " 0.19986977088333027,\n",
              " 0.9452448848411841,\n",
              " 0.9282589681486264,\n",
              " 0.479631936859941,\n",
              " 0.14103392389982272,\n",
              " 0.025113912300153057,\n",
              " 0.007466424992316648,\n",
              " 0.9703748308791347,\n",
              " 0.2209486536987257,\n",
              " 0.5876476812595015,\n",
              " 0.1865833010998218,\n",
              " 0.2026584951828872,\n",
              " 0.44210945038257954,\n",
              " 0.3332612843102373,\n",
              " 0.000948344603644414,\n",
              " 0.011294296842758306,\n",
              " 0.033143601426216404,\n",
              " 0.3801833791536909,\n",
              " 0.36146819044422346,\n",
              " 0.20785754148029892,\n",
              " 0.47085904740013357,\n",
              " 0.14827863662704813,\n",
              " 0.8007122407274084,\n",
              " 0.0003035544063814533,\n",
              " 0.9355259326634942,\n",
              " 0.9747145389172943,\n",
              " 0.1553617324420202,\n",
              " 0.07385228255124036,\n",
              " 0.05268197072198394,\n",
              " 0.39360922804897575,\n",
              " 0.014832206807213352,\n",
              " 0.17580388403899677,\n",
              " 0.7497157296751097,\n",
              " 0.007150314359678947,\n",
              " 0.2248669783269297,\n",
              " 0.4330137502664854,\n",
              " 0.08086396901435297,\n",
              " 0.6122288082591923,\n",
              " 0.6554812152196234,\n",
              " 0.5376083546577187,\n",
              " 0.026762711080967175,\n",
              " 0.10854631057894412,\n",
              " 0.2883416022798801,\n",
              " 0.9187739156256194,\n",
              " 0.10293826958493223,\n",
              " 0.3007444106135586,\n",
              " 0.2750762687559776,\n",
              " 0.4657633222489901,\n",
              " 0.46804789220964976,\n",
              " 0.2620488150466276,\n",
              " 0.23084821549356896,\n",
              " 0.007961457075155866,\n",
              " 0.01839179999463841,\n",
              " 0.04680039604455234,\n",
              " 0.21020707928621796,\n",
              " 0.9869636438432128,\n",
              " 0.13336785723235325,\n",
              " 0.12956149368731246,\n",
              " 0.36742539786089323,\n",
              " 0.029290027039750477,\n",
              " 0.0178562685365067,\n",
              " 0.15258107471783214,\n",
              " 0.8462079697243566,\n",
              " 0.2525127794778027,\n",
              " 0.14673648849911125,\n",
              " 0.7266947261603368,\n",
              " 0.39675686241209496,\n",
              " 0.04332779482030428,\n",
              " 0.00021680218150280068,\n",
              " 0.27756952232469784,\n",
              " 0.1928416439914778,\n",
              " 0.13839461045469315,\n",
              " 0.6896069555514471,\n",
              " 0.16922467983392125,\n",
              " 0.3178753515212955,\n",
              " 0.09241172124709139,\n",
              " 0.27497611824939283,\n",
              " 0.4427454797049808,\n",
              " 0.25704594468204395,\n",
              " 0.19776931690447472,\n",
              " 0.9883678861174582,\n",
              " 0.8299938563709223,\n",
              " 0.09153827706510362,\n",
              " 0.019216680234397855,\n",
              " 0.3307416449981819,\n",
              " 0.05144859966600153,\n",
              " 0.22528295290261954,\n",
              " 0.99445292053798,\n",
              " 0.09179007467377279,\n",
              " 0.11558394878203404,\n",
              " 0.19010271364360623,\n",
              " 0.8041066643096363,\n",
              " 0.3012090045930882,\n",
              " 0.6181079298376015,\n",
              " 0.1667220443781489,\n",
              " 0.8310439545163076,\n",
              " 0.4478923517812267,\n",
              " 0.003046424366093345,\n",
              " 0.8761204080063202,\n",
              " 0.060181771989089416,\n",
              " 0.45682916297875087,\n",
              " 0.7407920444811644,\n",
              " 0.0046431433175165545,\n",
              " 0.8907666492960453,\n",
              " 0.17187421910452613,\n",
              " 0.6715070500401408,\n",
              " 0.4702565998220615,\n",
              " 0.9876472976763435,\n",
              " 0.6290692523747885,\n",
              " 0.3368918550105423,\n",
              " 0.8515988461718941,\n",
              " 0.005250498547147562,\n",
              " 0.6623553799825087,\n",
              " 0.13131129154723062,\n",
              " 0.13671765863449767,\n",
              " 0.2671267510453555,\n",
              " 0.8226511082415889,\n",
              " 0.11919680854781975,\n",
              " 0.4266134709690128,\n",
              " 0.011069159683224241,\n",
              " 0.3810177566944676,\n",
              " 0.625196461284333,\n",
              " 0.4246646083529437,\n",
              " 0.44729929157897846,\n",
              " 0.872886356667046,\n",
              " 0.3067453040308614,\n",
              " 0.17550634933757472,\n",
              " 0.13259863723206608,\n",
              " 0.09370267067434908,\n",
              " 0.18517376869797544,\n",
              " 0.6186138065472467,\n",
              " 0.17838423229535766,\n",
              " 0.10123258291633463,\n",
              " 0.07241106232228359,\n",
              " 0.11765721783921686,\n",
              " 0.8351156901716651,\n",
              " 0.013600766241215407,\n",
              " 0.07571809788498149,\n",
              " 0.011901255334570848,\n",
              " 0.16765570504344335,\n",
              " 0.05717548601972817,\n",
              " 0.09487177027871672,\n",
              " 0.6804487792236323,\n",
              " 0.35352760724564675,\n",
              " 0.517668413818163,\n",
              " 0.5631158734552016,\n",
              " 0.8694594309318731,\n",
              " 0.6347067155519132,\n",
              " 0.2019080459008565,\n",
              " 0.04743046168618009,\n",
              " 0.1479480309099474,\n",
              " 0.3635881275328191,\n",
              " 0.04509913564953563,\n",
              " 0.0020278466139695603,\n",
              " 0.12616087812112176,\n",
              " 0.020517136021610614,\n",
              " 0.9365088320874293,\n",
              " 0.1776177784864729,\n",
              " 0.12160707564711874,\n",
              " 0.02487864679327,\n",
              " 0.003799371420497186,\n",
              " 0.38808768642118074,\n",
              " 0.20234067593585917,\n",
              " 0.15150603134017668,\n",
              " 0.15474266466483597,\n",
              " 0.23037023636680118,\n",
              " 0.787605464765492,\n",
              " 0.15917930341682557,\n",
              " 0.2905253476818507,\n",
              " 0.6224279160458097,\n",
              " 0.05144161048433768,\n",
              " 0.503198062825954,\n",
              " 0.13184848883694564,\n",
              " 0.2652999332205935,\n",
              " 0.08884485962836514,\n",
              " 0.00927427955772898,\n",
              " 0.0013336084351135344,\n",
              " 0.8084022826811815,\n",
              " 0.8895684129093222,\n",
              " 0.029893108265534415,\n",
              " 0.9413905323243626,\n",
              " 0.9491824403755866,\n",
              " 0.15079038580528537,\n",
              " 0.007114465550293363,\n",
              " 0.18000704552220026,\n",
              " 0.03599664130137293,\n",
              " 0.7941781238109756,\n",
              " 0.011552890193146979,\n",
              " 0.7192877542330477,\n",
              " 0.9170421629299801,\n",
              " 0.4336005205783682,\n",
              " 0.4827872419775972,\n",
              " 0.0002012488660363833,\n",
              " 0.004097278723568993,\n",
              " 0.8060985857258007,\n",
              " 0.014625463956717077,\n",
              " 0.1414867538151227,\n",
              " 0.014304253694521709,\n",
              " 0.18821759776347483,\n",
              " 0.06138765129832757,\n",
              " 0.633023824625359,\n",
              " 0.9048144700671761,\n",
              " 0.10154108777370702,\n",
              " 0.7230155721370898,\n",
              " 0.0009039986386814041,\n",
              " 0.28103860878686304,\n",
              " 0.7409787549530376,\n",
              " 0.4494133117098491,\n",
              " 0.9750167716468806,\n",
              " 0.3437325339922111,\n",
              " 0.6541098860512409,\n",
              " 0.8250721166324614,\n",
              " 0.04150375463605564,\n",
              " 0.007438609421567846,\n",
              " 0.9840852003909093,\n",
              " 0.9406671838249266,\n",
              " 0.27711160845868665,\n",
              " 0.29772984065481106,\n",
              " 0.6890473972967384,\n",
              " 0.2965827589432193,\n",
              " 0.21911505323454597,\n",
              " 0.7764692216653509,\n",
              " 0.7207588417195337,\n",
              " 0.0007540614963209419,\n",
              " 0.06108937027331761,\n",
              " 0.07263246110853838,\n",
              " 0.5904127404511269,\n",
              " 0.6746344883659148,\n",
              " 0.5960714338549368,\n",
              " 0.14177840243905024,\n",
              " 0.8122002539427527,\n",
              " 0.27623794948120284,\n",
              " 0.0020350800034802225,\n",
              " 0.13399464952584209,\n",
              " 0.04050733467771883,\n",
              " 0.03722241825522572,\n",
              " 0.004251326792285428,\n",
              " 0.9628571152793045,\n",
              " 0.7961558401311397,\n",
              " 0.03909376820175272,\n",
              " 0.20761671325835623,\n",
              " 0.2881457383334553,\n",
              " 0.2001561835521515,\n",
              " 0.5457900432715177,\n",
              " 0.7277638084183653,\n",
              " 0.03208479437900608,\n",
              " 0.8335030155144838,\n",
              " 0.28698356014182075,\n",
              " 0.5975628525480436,\n",
              " 0.3054616203666441,\n",
              " 0.11853748832549119,\n",
              " 0.4504371891632181,\n",
              " 0.6630830622985959,\n",
              " 0.30938010892821,\n",
              " 0.05042681413838055,\n",
              " 0.4375554181515363,\n",
              " 0.0029988631891973623,\n",
              " 0.21344062199854405,\n",
              " 0.32400629075862275,\n",
              " 0.9637162430672223,\n",
              " 0.350836942959235,\n",
              " 0.4677617008526782,\n",
              " 0.6221410587508525,\n",
              " 0.3581613283314913,\n",
              " 0.047296556417753495,\n",
              " 0.8871910538236719,\n",
              " 0.40657227189267303,\n",
              " 0.0008384101821126167,\n",
              " 0.3411731741963627,\n",
              " 0.6992296965350183,\n",
              " 0.7733138908269668,\n",
              " 0.1016395262229265,\n",
              " ...]"
            ]
          },
          "metadata": {},
          "execution_count": 28
        }
      ]
    },
    {
      "cell_type": "code",
      "metadata": {
        "colab": {
          "base_uri": "https://localhost:8080/"
        },
        "id": "K9KGyn9InYIS",
        "outputId": "25410160-34f2-4e39-e8a3-f756ead9715d"
      },
      "source": [
        "%%time\n",
        "def square(x):\n",
        "  return x**2\n",
        "squares = map(square,nums)"
      ],
      "execution_count": 29,
      "outputs": [
        {
          "output_type": "stream",
          "name": "stdout",
          "text": [
            "CPU times: user 7 µs, sys: 1 µs, total: 8 µs\n",
            "Wall time: 13.4 µs\n"
          ]
        }
      ]
    },
    {
      "cell_type": "code",
      "metadata": {
        "colab": {
          "base_uri": "https://localhost:8080/"
        },
        "id": "lTQXRY3NnzmW",
        "outputId": "98bb1f7c-b0d9-43fb-e4d1-e5ec9c51e79c"
      },
      "source": [
        "squares"
      ],
      "execution_count": 30,
      "outputs": [
        {
          "output_type": "execute_result",
          "data": {
            "text/plain": [
              "<map at 0x7f0ae1da0c50>"
            ]
          },
          "metadata": {},
          "execution_count": 30
        }
      ]
    },
    {
      "cell_type": "code",
      "metadata": {
        "id": "2FI-KHdpqAgM"
      },
      "source": [
        "# Más prácticas\n",
        "# Capitalize all the words:\n",
        "phrase = \"there is more than one way to do it\""
      ],
      "execution_count": 37,
      "outputs": []
    },
    {
      "cell_type": "code",
      "metadata": {
        "colab": {
          "base_uri": "https://localhost:8080/",
          "height": 36
        },
        "id": "4r2sigptqnQZ",
        "outputId": "edb5fdb5-154f-4333-f8fe-fe9484359fd1"
      },
      "source": [
        "phrase.title()"
      ],
      "execution_count": 42,
      "outputs": [
        {
          "output_type": "execute_result",
          "data": {
            "application/vnd.google.colaboratory.intrinsic+json": {
              "type": "string"
            },
            "text/plain": [
              "'There Is More Than One Way To Do It'"
            ]
          },
          "metadata": {},
          "execution_count": 42
        }
      ]
    },
    {
      "cell_type": "code",
      "metadata": {
        "colab": {
          "base_uri": "https://localhost:8080/"
        },
        "id": "F1EotSEvraam",
        "outputId": "1bd00301-aa3b-489d-d682-06fc71d25ed6"
      },
      "source": [
        "%%time\n",
        "title_phrase = []\n",
        "for word in phrase.split():\n",
        "  title_phrase.append(word.capitalize())\n",
        "  new_title = \" \".join(title_phrase)\n",
        "print(new_title)"
      ],
      "execution_count": 46,
      "outputs": [
        {
          "output_type": "stream",
          "name": "stdout",
          "text": [
            "There Is More Than One Way To Do It\n",
            "CPU times: user 545 µs, sys: 0 ns, total: 545 µs\n",
            "Wall time: 551 µs\n"
          ]
        }
      ]
    },
    {
      "cell_type": "code",
      "metadata": {
        "colab": {
          "base_uri": "https://localhost:8080/"
        },
        "id": "ubiro1cKusC0",
        "outputId": "59435213-e432-48b2-da01-367daad1ec68"
      },
      "source": [
        "phrase.split(\" \")"
      ],
      "execution_count": 48,
      "outputs": [
        {
          "output_type": "execute_result",
          "data": {
            "text/plain": [
              "['there', 'is', 'more', 'than', 'one', 'way', 'to', 'do', 'it']"
            ]
          },
          "metadata": {},
          "execution_count": 48
        }
      ]
    },
    {
      "cell_type": "code",
      "metadata": {
        "colab": {
          "base_uri": "https://localhost:8080/",
          "height": 73
        },
        "id": "WLz4BfS0ryXW",
        "outputId": "69b3aa89-388a-4c7f-a456-d689f601f8c7"
      },
      "source": [
        "# Definimos una función que realice una capitalización \n",
        "%time\n",
        "def capitalizar(x):\n",
        "  return x.capitalize()\n",
        "  \n",
        "\" \".join(map(capitalizar, phrase.split()))"
      ],
      "execution_count": 50,
      "outputs": [
        {
          "output_type": "stream",
          "name": "stdout",
          "text": [
            "CPU times: user 2 µs, sys: 0 ns, total: 2 µs\n",
            "Wall time: 5.72 µs\n"
          ]
        },
        {
          "output_type": "execute_result",
          "data": {
            "application/vnd.google.colaboratory.intrinsic+json": {
              "type": "string"
            },
            "text/plain": [
              "'There Is More Than One Way To Do It'"
            ]
          },
          "metadata": {},
          "execution_count": 50
        }
      ]
    },
    {
      "cell_type": "code",
      "metadata": {
        "id": "bZVtxGWzvIZN"
      },
      "source": [
        "?map"
      ],
      "execution_count": 51,
      "outputs": []
    },
    {
      "cell_type": "markdown",
      "metadata": {
        "id": "C44HH7qDvfJG"
      },
      "source": [
        "Realizar una suma por estudiante"
      ]
    },
    {
      "cell_type": "code",
      "metadata": {
        "id": "nw45oG-xvh5w"
      },
      "source": [
        "grades = {\n",
        "    \"Pepe\":[6,3,5],\n",
        "    \"Marieta\":[9,8,9.5],\n",
        "    \"Adriana\":[10,8,3]\n",
        "}"
      ],
      "execution_count": 1,
      "outputs": []
    },
    {
      "cell_type": "code",
      "metadata": {
        "colab": {
          "base_uri": "https://localhost:8080/"
        },
        "id": "8CdBRy6iviZh",
        "outputId": "f1abb459-a604-494d-a846-b34f4410949e"
      },
      "source": [
        "for i in grades:\n",
        "  print(sum(grades[i]))"
      ],
      "execution_count": 5,
      "outputs": [
        {
          "output_type": "stream",
          "name": "stdout",
          "text": [
            "14\n",
            "26.5\n",
            "21\n"
          ]
        }
      ]
    },
    {
      "cell_type": "code",
      "metadata": {
        "colab": {
          "base_uri": "https://localhost:8080/"
        },
        "id": "46jJQUt19sxz",
        "outputId": "f19ee1de-fa43-4273-9d31-c5a4d0a12a8a"
      },
      "source": [
        "grades.values()"
      ],
      "execution_count": 26,
      "outputs": [
        {
          "output_type": "execute_result",
          "data": {
            "text/plain": [
              "dict_values([[6, 3, 5], [9, 8, 9.5], [10, 8, 3]])"
            ]
          },
          "metadata": {},
          "execution_count": 26
        }
      ]
    },
    {
      "cell_type": "code",
      "metadata": {
        "id": "0BAiRuMo9ZQE"
      },
      "source": [
        "suma_notas = list(map(sum, grades.values()))"
      ],
      "execution_count": 35,
      "outputs": []
    },
    {
      "cell_type": "code",
      "metadata": {
        "colab": {
          "base_uri": "https://localhost:8080/"
        },
        "id": "6H1hfLVR--w8",
        "outputId": "bd2b8974-df42-4388-9322-d6ff6c926f30"
      },
      "source": [
        "suma_notas.__dir__()"
      ],
      "execution_count": 36,
      "outputs": [
        {
          "output_type": "execute_result",
          "data": {
            "text/plain": [
              "['__repr__',\n",
              " '__hash__',\n",
              " '__getattribute__',\n",
              " '__lt__',\n",
              " '__le__',\n",
              " '__eq__',\n",
              " '__ne__',\n",
              " '__gt__',\n",
              " '__ge__',\n",
              " '__iter__',\n",
              " '__init__',\n",
              " '__len__',\n",
              " '__getitem__',\n",
              " '__setitem__',\n",
              " '__delitem__',\n",
              " '__add__',\n",
              " '__mul__',\n",
              " '__rmul__',\n",
              " '__contains__',\n",
              " '__iadd__',\n",
              " '__imul__',\n",
              " '__new__',\n",
              " '__reversed__',\n",
              " '__sizeof__',\n",
              " 'clear',\n",
              " 'copy',\n",
              " 'append',\n",
              " 'insert',\n",
              " 'extend',\n",
              " 'pop',\n",
              " 'remove',\n",
              " 'index',\n",
              " 'count',\n",
              " 'reverse',\n",
              " 'sort',\n",
              " '__doc__',\n",
              " '__str__',\n",
              " '__setattr__',\n",
              " '__delattr__',\n",
              " '__reduce_ex__',\n",
              " '__reduce__',\n",
              " '__subclasshook__',\n",
              " '__init_subclass__',\n",
              " '__format__',\n",
              " '__dir__',\n",
              " '__class__']"
            ]
          },
          "metadata": {},
          "execution_count": 36
        }
      ]
    },
    {
      "cell_type": "code",
      "metadata": {
        "colab": {
          "base_uri": "https://localhost:8080/"
        },
        "id": "HCn5EprB909k",
        "outputId": "ac8b86c6-56a4-46c3-a0fb-9bdd6938cb61"
      },
      "source": [
        "for i in suma_notas:\n",
        "  print(i/3)"
      ],
      "execution_count": 38,
      "outputs": [
        {
          "output_type": "stream",
          "name": "stdout",
          "text": [
            "4.666666666666667\n",
            "8.833333333333334\n",
            "7.0\n"
          ]
        }
      ]
    },
    {
      "cell_type": "code",
      "metadata": {
        "id": "0Byp8O5z-Wrn"
      },
      "source": [
        "import pandas as pd"
      ],
      "execution_count": 39,
      "outputs": []
    },
    {
      "cell_type": "markdown",
      "metadata": {
        "id": "7rFgs1tbAd5V"
      },
      "source": [
        "### Filter"
      ]
    },
    {
      "cell_type": "code",
      "metadata": {
        "id": "CTBWm9t3AfL5"
      },
      "source": [
        "# Generar 100 valores de 1 - 100\n",
        "nums = range(1,101)\n",
        "impares = []\n",
        "for n in nums:\n",
        "  if n%2 != 0:\n",
        "    impares.append(n)"
      ],
      "execution_count": 40,
      "outputs": []
    },
    {
      "cell_type": "code",
      "metadata": {
        "colab": {
          "base_uri": "https://localhost:8080/"
        },
        "id": "ECmUjwdlA8mA",
        "outputId": "6dedaab2-2bc9-4296-b703-9e484d1205ac"
      },
      "source": [
        "impares[:10]"
      ],
      "execution_count": 42,
      "outputs": [
        {
          "output_type": "execute_result",
          "data": {
            "text/plain": [
              "[1, 3, 5, 7, 9, 11, 13, 15, 17, 19]"
            ]
          },
          "metadata": {},
          "execution_count": 42
        }
      ]
    },
    {
      "cell_type": "code",
      "metadata": {
        "id": "Ci3UYVU5A_YL"
      },
      "source": [
        "# filter -> (function, iterable)\n",
        "# La función tendrá que evaluar si el valor es True o False dada una condición"
      ],
      "execution_count": 43,
      "outputs": []
    },
    {
      "cell_type": "code",
      "metadata": {
        "id": "9VADQmoFBd_r"
      },
      "source": [
        "def es_impares(x):\n",
        "  return x%2 != 0"
      ],
      "execution_count": 44,
      "outputs": []
    },
    {
      "cell_type": "code",
      "metadata": {
        "id": "9XS6lbriBieh"
      },
      "source": [
        "lista_impares = list(filter(es_impares, nums))"
      ],
      "execution_count": 49,
      "outputs": []
    },
    {
      "cell_type": "code",
      "metadata": {
        "colab": {
          "base_uri": "https://localhost:8080/"
        },
        "id": "TtH4ypvjBuu6",
        "outputId": "ee86d49a-89ee-4da9-8949-7d045c484812"
      },
      "source": [
        "for i in lista_impares:\n",
        "  print(i)"
      ],
      "execution_count": 48,
      "outputs": [
        {
          "output_type": "stream",
          "name": "stdout",
          "text": [
            "1\n",
            "3\n",
            "5\n",
            "7\n",
            "9\n",
            "11\n",
            "13\n",
            "15\n",
            "17\n",
            "19\n",
            "21\n",
            "23\n",
            "25\n",
            "27\n",
            "29\n",
            "31\n",
            "33\n",
            "35\n",
            "37\n",
            "39\n",
            "41\n",
            "43\n",
            "45\n",
            "47\n",
            "49\n",
            "51\n",
            "53\n",
            "55\n",
            "57\n",
            "59\n",
            "61\n",
            "63\n",
            "65\n",
            "67\n",
            "69\n",
            "71\n",
            "73\n",
            "75\n",
            "77\n",
            "79\n",
            "81\n",
            "83\n",
            "85\n",
            "87\n",
            "89\n",
            "91\n",
            "93\n",
            "95\n",
            "97\n",
            "99\n"
          ]
        }
      ]
    },
    {
      "cell_type": "markdown",
      "metadata": {
        "id": "9OXb763oCLRc"
      },
      "source": [
        "### Reduce\n",
        "\n",
        "La función Reduce() aplica la función de agregación al resultado final."
      ]
    },
    {
      "cell_type": "code",
      "metadata": {
        "id": "8fqG7dzvBlT1"
      },
      "source": [
        "from functools import reduce"
      ],
      "execution_count": 11,
      "outputs": []
    },
    {
      "cell_type": "code",
      "metadata": {
        "id": "zZiVodVsCasC"
      },
      "source": [
        "# reduce -> (function, iterable, accumulator)"
      ],
      "execution_count": 51,
      "outputs": []
    },
    {
      "cell_type": "code",
      "metadata": {
        "colab": {
          "base_uri": "https://localhost:8080/"
        },
        "id": "djmmPxycCgwG",
        "outputId": "d363aad3-e9bb-4ff3-c09f-820c871dc169"
      },
      "source": [
        "nums = range(1,11)\n",
        "suma = 0\n",
        "for n in nums:\n",
        "  suma = suma + n\n",
        "suma"
      ],
      "execution_count": 71,
      "outputs": [
        {
          "output_type": "execute_result",
          "data": {
            "text/plain": [
              "55"
            ]
          },
          "metadata": {},
          "execution_count": 71
        }
      ]
    },
    {
      "cell_type": "code",
      "metadata": {
        "id": "rOS4Cw7VCm0_"
      },
      "source": [
        "def suma(a,b):\n",
        "  return a+b"
      ],
      "execution_count": 73,
      "outputs": []
    },
    {
      "cell_type": "code",
      "metadata": {
        "colab": {
          "base_uri": "https://localhost:8080/"
        },
        "id": "CzUDu-aPCrYz",
        "outputId": "b7d73c12-c52d-42c9-a09d-2a71bc1caa69"
      },
      "source": [
        "reduce(suma,nums)"
      ],
      "execution_count": 74,
      "outputs": [
        {
          "output_type": "execute_result",
          "data": {
            "text/plain": [
              "55"
            ]
          },
          "metadata": {},
          "execution_count": 74
        }
      ]
    },
    {
      "cell_type": "code",
      "metadata": {
        "colab": {
          "base_uri": "https://localhost:8080/"
        },
        "id": "0l46ZKYs_kmL",
        "outputId": "b7fe788b-fbbb-4d0c-f9d0-71cf42f11e48"
      },
      "source": [
        "reduce(suma, nums, 5)"
      ],
      "execution_count": 75,
      "outputs": [
        {
          "output_type": "execute_result",
          "data": {
            "text/plain": [
              "60"
            ]
          },
          "metadata": {},
          "execution_count": 75
        }
      ]
    },
    {
      "cell_type": "markdown",
      "metadata": {
        "id": "c-jxVOLQDZY_"
      },
      "source": [
        "### Números factoriales\n",
        "\n",
        "```\n",
        "6! = 6*5*4*3*2*1\n",
        "```"
      ]
    },
    {
      "cell_type": "code",
      "metadata": {
        "id": "PtKfWa3CD60P"
      },
      "source": [
        "n = 10\n",
        "nums = range(1,11)\n",
        "def mult(a,b):\n",
        "  return a*b"
      ],
      "execution_count": 76,
      "outputs": []
    },
    {
      "cell_type": "code",
      "metadata": {
        "colab": {
          "base_uri": "https://localhost:8080/"
        },
        "id": "hu-BDDFDEASL",
        "outputId": "0c3dc929-bd50-4ee2-8671-9cd5c456c4d3"
      },
      "source": [
        "reduce(mult,nums)"
      ],
      "execution_count": 77,
      "outputs": [
        {
          "output_type": "execute_result",
          "data": {
            "text/plain": [
              "3628800"
            ]
          },
          "metadata": {},
          "execution_count": 77
        }
      ]
    },
    {
      "cell_type": "code",
      "metadata": {
        "id": "2cGErL6fEBwp"
      },
      "source": [
        "def factorial(n):\n",
        "  return reduce(mult,range(1, n+1))"
      ],
      "execution_count": 78,
      "outputs": []
    },
    {
      "cell_type": "code",
      "metadata": {
        "colab": {
          "base_uri": "https://localhost:8080/"
        },
        "id": "Gf6aPZmnEIHY",
        "outputId": "9fc4ad72-617c-4d70-ed6e-898526105ab8"
      },
      "source": [
        "factorial(10)"
      ],
      "execution_count": 79,
      "outputs": [
        {
          "output_type": "execute_result",
          "data": {
            "text/plain": [
              "3628800"
            ]
          },
          "metadata": {},
          "execution_count": 79
        }
      ]
    },
    {
      "cell_type": "code",
      "metadata": {
        "colab": {
          "base_uri": "https://localhost:8080/"
        },
        "id": "LChkgALWEI-7",
        "outputId": "1f665177-6e1a-45b4-8df2-dd04ae93f0e9"
      },
      "source": [
        "factorial(130)"
      ],
      "execution_count": 80,
      "outputs": [
        {
          "output_type": "execute_result",
          "data": {
            "text/plain": [
              "6466855489220473672507304395536485253155359447828049608975952322944781961185526165512707047229268452925683969240398027149120740074042105844737747799459310029635780991774612983803150965145600000000000000000000000000000000"
            ]
          },
          "metadata": {},
          "execution_count": 80
        }
      ]
    },
    {
      "cell_type": "code",
      "metadata": {
        "id": "FfvLqXT2D4Po"
      },
      "source": [
        "# Creamos la secuencia de Fibonacci\n",
        "# 0, 1, 1, 2, 3, 5, 8, 13..."
      ],
      "execution_count": 81,
      "outputs": []
    },
    {
      "cell_type": "code",
      "metadata": {
        "colab": {
          "base_uri": "https://localhost:8080/"
        },
        "id": "vVJ2bYYcEfWS",
        "outputId": "0b79da19-b6a4-4556-ef2e-d6e0d77bb1ef"
      },
      "source": [
        "fib = [0,1]\n",
        "for i in range(10):\n",
        "  fib.append(sum(fib[-2:]))\n",
        "fib"
      ],
      "execution_count": 83,
      "outputs": [
        {
          "output_type": "execute_result",
          "data": {
            "text/plain": [
              "[0, 1, 1, 2, 3, 5, 8, 13, 21, 34, 55, 89]"
            ]
          },
          "metadata": {},
          "execution_count": 83
        }
      ]
    },
    {
      "cell_type": "code",
      "metadata": {
        "id": "a3m9m2cGEsqr"
      },
      "source": [
        "def append_fib(arr,_):\n",
        "  arr.append(sum(arr[-2:]))\n",
        "  return arr"
      ],
      "execution_count": 84,
      "outputs": []
    },
    {
      "cell_type": "code",
      "metadata": {
        "colab": {
          "base_uri": "https://localhost:8080/"
        },
        "id": "esyDdDsjE301",
        "outputId": "a4bcdcb3-cdf5-4207-84b2-8ff57f39bf8a"
      },
      "source": [
        "reduce(append_fib, range(10), [0,1])"
      ],
      "execution_count": 85,
      "outputs": [
        {
          "output_type": "execute_result",
          "data": {
            "text/plain": [
              "[0, 1, 1, 2, 3, 5, 8, 13, 21, 34, 55, 89]"
            ]
          },
          "metadata": {},
          "execution_count": 85
        }
      ]
    },
    {
      "cell_type": "code",
      "metadata": {
        "id": "VxgH6n6CFI3Q"
      },
      "source": [
        "import pandas as pd\n",
        "df = pd.DataFrame({'animal': ['alligator', 'bee', 'falcon', 'lion',\n",
        "                   'monkey', 'parrot', 'shark', 'whale', 'zebra']})"
      ],
      "execution_count": 16,
      "outputs": []
    },
    {
      "cell_type": "code",
      "metadata": {
        "id": "nYwjjy0Mhi20"
      },
      "source": [
        "df.head()"
      ],
      "execution_count": null,
      "outputs": []
    },
    {
      "cell_type": "code",
      "metadata": {
        "colab": {
          "base_uri": "https://localhost:8080/"
        },
        "id": "kUkvHvRVG0n6",
        "outputId": "70ef083e-036e-4058-ca14-56055e11f63b"
      },
      "source": [
        "pd.read_csv()"
      ],
      "execution_count": 92,
      "outputs": [
        {
          "output_type": "execute_result",
          "data": {
            "text/plain": [
              "<pandas._libs.properties.AxisProperty at 0x7feb59ceaf50>"
            ]
          },
          "metadata": {},
          "execution_count": 92
        }
      ]
    },
    {
      "cell_type": "code",
      "metadata": {
        "colab": {
          "base_uri": "https://localhost:8080/",
          "height": 206
        },
        "id": "WSdlHFsFGZp0",
        "outputId": "6443688c-3802-464b-e572-886c29fd670e"
      },
      "source": [
        "df.head()"
      ],
      "execution_count": 91,
      "outputs": [
        {
          "output_type": "execute_result",
          "data": {
            "text/html": [
              "<div>\n",
              "<style scoped>\n",
              "    .dataframe tbody tr th:only-of-type {\n",
              "        vertical-align: middle;\n",
              "    }\n",
              "\n",
              "    .dataframe tbody tr th {\n",
              "        vertical-align: top;\n",
              "    }\n",
              "\n",
              "    .dataframe thead th {\n",
              "        text-align: right;\n",
              "    }\n",
              "</style>\n",
              "<table border=\"1\" class=\"dataframe\">\n",
              "  <thead>\n",
              "    <tr style=\"text-align: right;\">\n",
              "      <th></th>\n",
              "      <th>animal</th>\n",
              "    </tr>\n",
              "  </thead>\n",
              "  <tbody>\n",
              "    <tr>\n",
              "      <th>0</th>\n",
              "      <td>alligator</td>\n",
              "    </tr>\n",
              "    <tr>\n",
              "      <th>1</th>\n",
              "      <td>bee</td>\n",
              "    </tr>\n",
              "    <tr>\n",
              "      <th>2</th>\n",
              "      <td>falcon</td>\n",
              "    </tr>\n",
              "    <tr>\n",
              "      <th>3</th>\n",
              "      <td>lion</td>\n",
              "    </tr>\n",
              "    <tr>\n",
              "      <th>4</th>\n",
              "      <td>monkey</td>\n",
              "    </tr>\n",
              "  </tbody>\n",
              "</table>\n",
              "</div>"
            ],
            "text/plain": [
              "      animal\n",
              "0  alligator\n",
              "1        bee\n",
              "2     falcon\n",
              "3       lion\n",
              "4     monkey"
            ]
          },
          "metadata": {},
          "execution_count": 91
        }
      ]
    },
    {
      "cell_type": "code",
      "metadata": {
        "id": "8OFd_bsjLV5j"
      },
      "source": [
        "# Cread una función, donde le pasamos dos parámetros del tipo str y que compare su longitud.\n",
        "# Realizará una evaluación True o False y devolverá la palabra más larga."
      ],
      "execution_count": null,
      "outputs": []
    },
    {
      "cell_type": "code",
      "metadata": {
        "id": "d0d0V3BSK-Fz"
      },
      "source": [
        "# Cread una función que dada una palabra, contar el número de letras en minúsculas"
      ],
      "execution_count": null,
      "outputs": []
    },
    {
      "cell_type": "code",
      "metadata": {
        "id": "jF6A2ghmKUIN"
      },
      "source": [
        "def repeat(phrase, n=2):\n",
        "  \"\"\"\n",
        "    Repeats given phrase a number of times.\n",
        "    Args:\n",
        "        phrase (str): phrase to repeat\n",
        "        n (int): number of times to repeat. Defaults to 2.\n",
        "    \n",
        "    Returns:\n",
        "        None\n",
        "    \"\"\"\n",
        "  for i in range(n):\n",
        "    print(phrase)"
      ],
      "execution_count": 17,
      "outputs": []
    },
    {
      "cell_type": "code",
      "metadata": {
        "colab": {
          "base_uri": "https://localhost:8080/",
          "height": 172
        },
        "id": "Z17LSGjRGbIS",
        "outputId": "240bcc1d-49aa-43ef-a426-3a07fb054daa"
      },
      "source": [
        "repeat(n=2)"
      ],
      "execution_count": 21,
      "outputs": [
        {
          "output_type": "error",
          "ename": "TypeError",
          "evalue": "ignored",
          "traceback": [
            "\u001b[0;31m---------------------------------------------------------------------------\u001b[0m",
            "\u001b[0;31mTypeError\u001b[0m                                 Traceback (most recent call last)",
            "\u001b[0;32m<ipython-input-21-1288b871c94a>\u001b[0m in \u001b[0;36m<module>\u001b[0;34m()\u001b[0m\n\u001b[0;32m----> 1\u001b[0;31m \u001b[0mrepeat\u001b[0m\u001b[0;34m(\u001b[0m\u001b[0mn\u001b[0m\u001b[0;34m=\u001b[0m\u001b[0;36m2\u001b[0m\u001b[0;34m)\u001b[0m\u001b[0;34m\u001b[0m\u001b[0;34m\u001b[0m\u001b[0m\n\u001b[0m",
            "\u001b[0;31mTypeError\u001b[0m: repeat() missing 1 required positional argument: 'phrase'"
          ]
        }
      ]
    },
    {
      "cell_type": "code",
      "metadata": {
        "id": "-LE-C1mcGaaG"
      },
      "source": [
        "def square(x, verbose=False):\n",
        "  if verbose:\n",
        "    print(\"passed number was\", x)\n",
        "  return x ** 2"
      ],
      "execution_count": 32,
      "outputs": []
    },
    {
      "cell_type": "code",
      "metadata": {
        "colab": {
          "base_uri": "https://localhost:8080/"
        },
        "id": "zpX0ZseKiXBT",
        "outputId": "f0af6dcc-931a-41ce-a037-949b5767f849"
      },
      "source": [
        "square(lista, True)"
      ],
      "execution_count": 25,
      "outputs": [
        {
          "output_type": "stream",
          "name": "stdout",
          "text": [
            "passed number was 8\n"
          ]
        },
        {
          "output_type": "execute_result",
          "data": {
            "text/plain": [
              "64"
            ]
          },
          "metadata": {},
          "execution_count": 25
        }
      ]
    },
    {
      "cell_type": "code",
      "metadata": {
        "colab": {
          "base_uri": "https://localhost:8080/"
        },
        "id": "K5Jep39fiTL0",
        "outputId": "68078481-222b-441e-aea8-d93714139e14"
      },
      "source": [
        "square(15)"
      ],
      "execution_count": 26,
      "outputs": [
        {
          "output_type": "execute_result",
          "data": {
            "text/plain": [
              "225"
            ]
          },
          "metadata": {},
          "execution_count": 26
        }
      ]
    },
    {
      "cell_type": "code",
      "metadata": {
        "colab": {
          "base_uri": "https://localhost:8080/",
          "height": 283
        },
        "id": "_K-_C5j0ErQk",
        "outputId": "87f3ceab-cc3f-48b5-afed-3282d5c16676"
      },
      "source": [
        "square(\"hola\", 6)"
      ],
      "execution_count": 33,
      "outputs": [
        {
          "output_type": "stream",
          "name": "stdout",
          "text": [
            "passed number was hola\n"
          ]
        },
        {
          "output_type": "error",
          "ename": "TypeError",
          "evalue": "ignored",
          "traceback": [
            "\u001b[0;31m---------------------------------------------------------------------------\u001b[0m",
            "\u001b[0;31mTypeError\u001b[0m                                 Traceback (most recent call last)",
            "\u001b[0;32m<ipython-input-33-190c0d06408c>\u001b[0m in \u001b[0;36m<module>\u001b[0;34m()\u001b[0m\n\u001b[0;32m----> 1\u001b[0;31m \u001b[0msquare\u001b[0m\u001b[0;34m(\u001b[0m\u001b[0;34m\"hola\"\u001b[0m\u001b[0;34m,\u001b[0m \u001b[0;36m6\u001b[0m\u001b[0;34m)\u001b[0m\u001b[0;34m\u001b[0m\u001b[0;34m\u001b[0m\u001b[0m\n\u001b[0m",
            "\u001b[0;32m<ipython-input-32-a0e329e1ce1d>\u001b[0m in \u001b[0;36msquare\u001b[0;34m(x, verbose)\u001b[0m\n\u001b[1;32m      2\u001b[0m   \u001b[0;32mif\u001b[0m \u001b[0mverbose\u001b[0m\u001b[0;34m:\u001b[0m\u001b[0;34m\u001b[0m\u001b[0;34m\u001b[0m\u001b[0m\n\u001b[1;32m      3\u001b[0m     \u001b[0mprint\u001b[0m\u001b[0;34m(\u001b[0m\u001b[0;34m\"passed number was\"\u001b[0m\u001b[0;34m,\u001b[0m \u001b[0mx\u001b[0m\u001b[0;34m)\u001b[0m\u001b[0;34m\u001b[0m\u001b[0;34m\u001b[0m\u001b[0m\n\u001b[0;32m----> 4\u001b[0;31m   \u001b[0;32mreturn\u001b[0m \u001b[0mx\u001b[0m \u001b[0;34m**\u001b[0m \u001b[0;36m2\u001b[0m\u001b[0;34m\u001b[0m\u001b[0;34m\u001b[0m\u001b[0m\n\u001b[0m",
            "\u001b[0;31mTypeError\u001b[0m: unsupported operand type(s) for ** or pow(): 'str' and 'int'"
          ]
        }
      ]
    },
    {
      "cell_type": "code",
      "metadata": {
        "id": "j035R86m-Ioe"
      },
      "source": [
        "# Definid una función, pasamos un parámetro obligatorio del tipo lista de enteros, el segundo \n",
        "# será una verbose=False, tiene que calcular el máximo y el mínimo de esta lista.\n",
        "# Cuidad el docstring, y las descripciones de los prints(...)\n",
        "# Intentar evaluar el tipo de lista (números enteros)\n",
        "# Probar una secuencia sencilla de enteros finitos n\n",
        "# probar con otra del tipo random.randint de n valores\n",
        "# Sucesivamente calcular la diferencia entre el val máximo y mínimo"
      ],
      "execution_count": null,
      "outputs": []
    },
    {
      "cell_type": "code",
      "metadata": {
        "id": "ly2QeAwS9YYZ"
      },
      "source": [
        "import numpy as np"
      ],
      "execution_count": 34,
      "outputs": []
    },
    {
      "cell_type": "code",
      "metadata": {
        "colab": {
          "base_uri": "https://localhost:8080/"
        },
        "id": "ado0i1lNkY-m",
        "outputId": "5b0f903d-f396-4dd4-e36b-3639a257bf57"
      },
      "source": [
        "random.randint(1,100)"
      ],
      "execution_count": 36,
      "outputs": [
        {
          "output_type": "execute_result",
          "data": {
            "text/plain": [
              "3"
            ]
          },
          "metadata": {},
          "execution_count": 36
        }
      ]
    },
    {
      "cell_type": "code",
      "metadata": {
        "id": "DBFTEXrtkhNy"
      },
      "source": [
        ""
      ],
      "execution_count": null,
      "outputs": []
    }
  ]
}