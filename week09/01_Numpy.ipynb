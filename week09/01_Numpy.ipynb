{
  "nbformat": 4,
  "nbformat_minor": 0,
  "metadata": {
    "colab": {
      "name": "Numpy",
      "provenance": [],
      "collapsed_sections": []
    },
    "kernelspec": {
      "name": "python3",
      "display_name": "Python 3"
    },
    "language_info": {
      "name": "python"
    }
  },
  "cells": [
    {
      "cell_type": "code",
      "execution_count": null,
      "metadata": {
        "colab": {
          "base_uri": "https://localhost:8080/",
          "height": 36
        },
        "id": "EtKSM836GIb7",
        "outputId": "83256f91-7384-4f6e-b2ab-cadaa75a02c9"
      },
      "outputs": [
        {
          "output_type": "execute_result",
          "data": {
            "application/vnd.google.colaboratory.intrinsic+json": {
              "type": "string"
            },
            "text/plain": [
              "'1.19.5'"
            ]
          },
          "metadata": {},
          "execution_count": 1
        }
      ],
      "source": [
        "import numpy as np\n",
        "np.__version__"
      ]
    },
    {
      "cell_type": "markdown",
      "source": [
        "En `NumPy` el objeto básico se trata de una lista multidimensional de números normalmente del mismo tipo."
      ],
      "metadata": {
        "id": "S75M0jpfGhTU"
      }
    },
    {
      "cell_type": "code",
      "source": [
        "p = np.array([1, 2, 3])\n",
        "p"
      ],
      "metadata": {
        "colab": {
          "base_uri": "https://localhost:8080/"
        },
        "id": "5dn8I1kUGh9o",
        "outputId": "496d13a8-d611-4a66-f759-48686e0a4491"
      },
      "execution_count": null,
      "outputs": [
        {
          "output_type": "execute_result",
          "data": {
            "text/plain": [
              "array([1, 2, 3])"
            ]
          },
          "metadata": {},
          "execution_count": 2
        }
      ]
    },
    {
      "cell_type": "code",
      "source": [
        "type(p)"
      ],
      "metadata": {
        "colab": {
          "base_uri": "https://localhost:8080/"
        },
        "id": "2SW0jKo7GmIo",
        "outputId": "8dba82b2-0c56-4f17-ff85-438c2315988a"
      },
      "execution_count": null,
      "outputs": [
        {
          "output_type": "execute_result",
          "data": {
            "text/plain": [
              "numpy.ndarray"
            ]
          },
          "metadata": {},
          "execution_count": 3
        }
      ]
    },
    {
      "cell_type": "code",
      "source": [
        "# podemos llamar los elementos por posición\n",
        "p[0]"
      ],
      "metadata": {
        "colab": {
          "base_uri": "https://localhost:8080/"
        },
        "id": "1WphA3BLGWKE",
        "outputId": "d26f6882-ef0c-4285-a22d-3a674b3ad531"
      },
      "execution_count": null,
      "outputs": [
        {
          "output_type": "execute_result",
          "data": {
            "text/plain": [
              "1"
            ]
          },
          "metadata": {},
          "execution_count": 4
        }
      ]
    },
    {
      "cell_type": "markdown",
      "source": [
        "En Numpy, a las dimensiones se les conoce con el nombre de ejes (axes) y el número de los ejes, rango (rank).\n",
        "\n",
        "Array es un alias para referirse al tipo de objeto numpy.ndarray"
      ],
      "metadata": {
        "id": "SSIAhNK7G4ON"
      }
    },
    {
      "cell_type": "code",
      "source": [
        "# ndarray.ndim : el número de ejes del objeto array (matriz)\n",
        "a = np.arange(3*2) # con esta función creamos la estructura unidimensional de 6 elementos\n",
        "print(\"Array o matriz unidimensional\")\n",
        "print(a)"
      ],
      "metadata": {
        "colab": {
          "base_uri": "https://localhost:8080/"
        },
        "id": "BNdIAraUHF1H",
        "outputId": "ea0ee2ad-ca51-4b31-d73b-6b1b92a6264a"
      },
      "execution_count": null,
      "outputs": [
        {
          "output_type": "stream",
          "name": "stdout",
          "text": [
            "Array o matriz unidimensional\n",
            "[0 1 2 3 4 5]\n"
          ]
        }
      ]
    },
    {
      "cell_type": "code",
      "source": [
        "a.shape"
      ],
      "metadata": {
        "colab": {
          "base_uri": "https://localhost:8080/"
        },
        "id": "mle8cYqDHeWq",
        "outputId": "11824b9e-f516-48d8-d79b-59df46fc1078"
      },
      "execution_count": null,
      "outputs": [
        {
          "output_type": "execute_result",
          "data": {
            "text/plain": [
              "(6,)"
            ]
          },
          "metadata": {},
          "execution_count": 7
        }
      ]
    },
    {
      "cell_type": "code",
      "source": [
        "a.ndim"
      ],
      "metadata": {
        "colab": {
          "base_uri": "https://localhost:8080/"
        },
        "id": "Y1SXBbviHkUE",
        "outputId": "d423a229-16ad-4e4e-d623-edca48b18ca3"
      },
      "execution_count": null,
      "outputs": [
        {
          "output_type": "execute_result",
          "data": {
            "text/plain": [
              "1"
            ]
          },
          "metadata": {},
          "execution_count": 8
        }
      ]
    },
    {
      "cell_type": "code",
      "source": [
        "# Para convertirla en matriz 3x2\n",
        "b = a.reshape(3,2)\n",
        "print(\"Matriz 3x2\")\n",
        "print(b)"
      ],
      "metadata": {
        "colab": {
          "base_uri": "https://localhost:8080/"
        },
        "id": "a4EAvtmdHncE",
        "outputId": "06d23ab0-a18c-44a2-a6f2-9c5eb76db439"
      },
      "execution_count": null,
      "outputs": [
        {
          "output_type": "stream",
          "name": "stdout",
          "text": [
            "Matriz 3x2\n",
            "[[0 1]\n",
            " [2 3]\n",
            " [4 5]]\n"
          ]
        }
      ]
    },
    {
      "cell_type": "code",
      "source": [
        "type(b)"
      ],
      "metadata": {
        "colab": {
          "base_uri": "https://localhost:8080/"
        },
        "id": "DadCc5UVHwws",
        "outputId": "5828d8d0-5fc2-457e-c115-5491fa7c86a8"
      },
      "execution_count": null,
      "outputs": [
        {
          "output_type": "execute_result",
          "data": {
            "text/plain": [
              "numpy.ndarray"
            ]
          },
          "metadata": {},
          "execution_count": 10
        }
      ]
    },
    {
      "cell_type": "code",
      "source": [
        "# Realizamos el slice:dice de nuestra matriz\n",
        "b[0] # devuelve por posición 0, la fila 0 que incluye los elementos (0,1)"
      ],
      "metadata": {
        "colab": {
          "base_uri": "https://localhost:8080/"
        },
        "id": "rmUKfw2OH07A",
        "outputId": "d6a81dfa-6b44-4fdb-aca7-835536ff5b65"
      },
      "execution_count": null,
      "outputs": [
        {
          "output_type": "execute_result",
          "data": {
            "text/plain": [
              "array([0, 1])"
            ]
          },
          "metadata": {},
          "execution_count": 12
        }
      ]
    },
    {
      "cell_type": "code",
      "source": [
        "b[1,1] # extraemos de la fila 2, columna 2 (índices 1,1), el elemento 3"
      ],
      "metadata": {
        "colab": {
          "base_uri": "https://localhost:8080/"
        },
        "id": "Iz0pGtZHIBUU",
        "outputId": "aaebc436-bdd0-4341-e630-ea53e9e6e8b0"
      },
      "execution_count": null,
      "outputs": [
        {
          "output_type": "execute_result",
          "data": {
            "text/plain": [
              "3"
            ]
          },
          "metadata": {},
          "execution_count": 13
        }
      ]
    },
    {
      "cell_type": "code",
      "source": [
        "type(b[1,1]) # devuelve el tipo de elemento de nuestra matriz"
      ],
      "metadata": {
        "colab": {
          "base_uri": "https://localhost:8080/"
        },
        "id": "9mBjFS2QIXLy",
        "outputId": "ba72ada9-5f65-44f5-f7ba-44a0854785f6"
      },
      "execution_count": null,
      "outputs": [
        {
          "output_type": "execute_result",
          "data": {
            "text/plain": [
              "numpy.int64"
            ]
          },
          "metadata": {},
          "execution_count": 14
        }
      ]
    },
    {
      "cell_type": "code",
      "source": [
        "b.size # devuelve el número de elementos"
      ],
      "metadata": {
        "colab": {
          "base_uri": "https://localhost:8080/"
        },
        "id": "cIqgiFpzIZcI",
        "outputId": "9b6403fd-885a-4e22-a2b2-56eddbe815ea"
      },
      "execution_count": null,
      "outputs": [
        {
          "output_type": "execute_result",
          "data": {
            "text/plain": [
              "6"
            ]
          },
          "metadata": {},
          "execution_count": 15
        }
      ]
    },
    {
      "cell_type": "markdown",
      "source": [
        "> Podemos crear un array de ceros."
      ],
      "metadata": {
        "id": "zAq-NIgfIqZX"
      }
    },
    {
      "cell_type": "code",
      "source": [
        "z = np.zeros(10) # utilizamos la función np.zeros para crear un vector de ceros\n",
        "z"
      ],
      "metadata": {
        "colab": {
          "base_uri": "https://localhost:8080/"
        },
        "id": "EVRhGOwNIttN",
        "outputId": "26d3c8b0-d833-49c1-c8a3-6c88954cbe5e"
      },
      "execution_count": null,
      "outputs": [
        {
          "output_type": "execute_result",
          "data": {
            "text/plain": [
              "array([0., 0., 0., 0., 0., 0., 0., 0., 0., 0.])"
            ]
          },
          "metadata": {},
          "execution_count": 16
        }
      ]
    },
    {
      "cell_type": "code",
      "source": [
        "# Podemos cambiar cualquiera de los valores accediendo por su posición\n",
        "z[4] = 5. # 5. es el equivalente de 5.0\n",
        "z[-1] = .1 # es lo mismo que 0.1\n",
        "print(z)"
      ],
      "metadata": {
        "id": "GmQOaBgPIWys",
        "colab": {
          "base_uri": "https://localhost:8080/"
        },
        "outputId": "73fff51f-f177-4930-c0f2-1c1c07b22372"
      },
      "execution_count": 17,
      "outputs": [
        {
          "output_type": "stream",
          "name": "stdout",
          "text": [
            "[0.  0.  0.  0.  5.  0.  0.  0.  0.  0.1]\n"
          ]
        }
      ]
    },
    {
      "cell_type": "code",
      "source": [
        "type(z)"
      ],
      "metadata": {
        "colab": {
          "base_uri": "https://localhost:8080/"
        },
        "id": "Fl_vMFfbMJxi",
        "outputId": "7c6b481c-2d4b-4ae4-ed48-6640213d3150"
      },
      "execution_count": 18,
      "outputs": [
        {
          "output_type": "execute_result",
          "data": {
            "text/plain": [
              "numpy.ndarray"
            ]
          },
          "metadata": {},
          "execution_count": 18
        }
      ]
    },
    {
      "cell_type": "code",
      "source": [
        "type(z[-1])"
      ],
      "metadata": {
        "colab": {
          "base_uri": "https://localhost:8080/"
        },
        "id": "OZYNge4QMLCW",
        "outputId": "511c72cc-e074-4df4-d244-fac2ad4e0477"
      },
      "execution_count": 19,
      "outputs": [
        {
          "output_type": "execute_result",
          "data": {
            "text/plain": [
              "numpy.float64"
            ]
          },
          "metadata": {},
          "execution_count": 19
        }
      ]
    },
    {
      "cell_type": "code",
      "source": [
        "a"
      ],
      "metadata": {
        "colab": {
          "base_uri": "https://localhost:8080/"
        },
        "id": "21zHmllOMSwQ",
        "outputId": "26be91ec-4757-403d-86be-f0bcb43acd0e"
      },
      "execution_count": 20,
      "outputs": [
        {
          "output_type": "execute_result",
          "data": {
            "text/plain": [
              "array([0, 1, 2, 3, 4, 5])"
            ]
          },
          "metadata": {},
          "execution_count": 20
        }
      ]
    },
    {
      "cell_type": "code",
      "source": [
        "a = np.arange(10,20) # incluimos el elemento start=10, hasta el stop=20-1\n",
        "a"
      ],
      "metadata": {
        "colab": {
          "base_uri": "https://localhost:8080/"
        },
        "id": "hbfc4aUpMUJd",
        "outputId": "2347f6bf-4133-4288-f935-ff879542c87e"
      },
      "execution_count": 21,
      "outputs": [
        {
          "output_type": "execute_result",
          "data": {
            "text/plain": [
              "array([10, 11, 12, 13, 14, 15, 16, 17, 18, 19])"
            ]
          },
          "metadata": {},
          "execution_count": 21
        }
      ]
    },
    {
      "cell_type": "code",
      "source": [
        "# si queremos añadir el paso a nuestra función arange\n",
        "a = np.arange(10,20,2)\n",
        "a"
      ],
      "metadata": {
        "colab": {
          "base_uri": "https://localhost:8080/"
        },
        "id": "itbo5zlMMe4x",
        "outputId": "0b3a7f3a-0a2f-4cef-a13b-1e4e650be212"
      },
      "execution_count": 22,
      "outputs": [
        {
          "output_type": "execute_result",
          "data": {
            "text/plain": [
              "array([10, 12, 14, 16, 18])"
            ]
          },
          "metadata": {},
          "execution_count": 22
        }
      ]
    },
    {
      "cell_type": "code",
      "source": [
        "# Otra forma de crear los arrays\n",
        "c = np.array([\n",
        "              [1,2,3], \n",
        "              [4,5,6]\n",
        "              ])\n",
        "c"
      ],
      "metadata": {
        "colab": {
          "base_uri": "https://localhost:8080/"
        },
        "id": "0cTQKDewMjTy",
        "outputId": "7fd68bba-2e47-4406-9587-aed5b81956fc"
      },
      "execution_count": 24,
      "outputs": [
        {
          "output_type": "execute_result",
          "data": {
            "text/plain": [
              "array([[1, 2, 3],\n",
              "       [4, 5, 6]])"
            ]
          },
          "metadata": {},
          "execution_count": 24
        }
      ]
    },
    {
      "cell_type": "code",
      "source": [
        "# Es equivalente crear dos listas en Python y luego nuestro ndarray\n",
        "lista_1 = [7,8,9]\n",
        "lista_2 = [0.1, 0.2, 0.3]\n",
        "d = np.array([\n",
        "              lista_1,\n",
        "              lista_2\n",
        "])"
      ],
      "metadata": {
        "id": "ucBby2bkM3Hk"
      },
      "execution_count": 25,
      "outputs": []
    },
    {
      "cell_type": "code",
      "source": [
        "d"
      ],
      "metadata": {
        "colab": {
          "base_uri": "https://localhost:8080/"
        },
        "id": "94t2vPH6MvAJ",
        "outputId": "c1b1632e-a89f-444f-d6a7-701e4a8cff4c"
      },
      "execution_count": 26,
      "outputs": [
        {
          "output_type": "execute_result",
          "data": {
            "text/plain": [
              "array([[7. , 8. , 9. ],\n",
              "       [0.1, 0.2, 0.3]])"
            ]
          },
          "metadata": {},
          "execution_count": 26
        }
      ]
    },
    {
      "cell_type": "markdown",
      "source": [
        "## Operaciones con matrices\n",
        "\n",
        "Con **numpy** podemos implementar todas las operaciones habituales con matrices"
      ],
      "metadata": {
        "id": "1vzsBOT9NM5k"
      }
    },
    {
      "cell_type": "code",
      "source": [
        "# construimos dos matrices\n",
        "A = np.array([\n",
        "              [1,0],\n",
        "              [0,1]\n",
        "])\n",
        "\n",
        "B = np.array([\n",
        "              [1,2],\n",
        "              [3,4]\n",
        "])\n",
        "\n",
        "C = np.array([\n",
        "              [1,5],\n",
        "              [6,4],\n",
        "              [8,9]\n",
        "])"
      ],
      "metadata": {
        "id": "wuORSlpiNSlB"
      },
      "execution_count": 27,
      "outputs": []
    },
    {
      "cell_type": "code",
      "source": [
        "type(A)"
      ],
      "metadata": {
        "colab": {
          "base_uri": "https://localhost:8080/"
        },
        "id": "MYccNYr5Njm-",
        "outputId": "a882c6d8-2a9e-4ed2-f83b-1b00b315cb78"
      },
      "execution_count": 28,
      "outputs": [
        {
          "output_type": "execute_result",
          "data": {
            "text/plain": [
              "numpy.ndarray"
            ]
          },
          "metadata": {},
          "execution_count": 28
        }
      ]
    },
    {
      "cell_type": "code",
      "source": [
        "print(A.ndim)\n",
        "print(B.ndim)\n",
        "print(C.ndim)"
      ],
      "metadata": {
        "colab": {
          "base_uri": "https://localhost:8080/"
        },
        "id": "xqx7Nf1ZNln-",
        "outputId": "81d89890-79ff-4691-bb84-abf49d480a17"
      },
      "execution_count": 32,
      "outputs": [
        {
          "output_type": "stream",
          "name": "stdout",
          "text": [
            "2\n",
            "2\n",
            "2\n"
          ]
        }
      ]
    },
    {
      "cell_type": "code",
      "source": [
        "print(A.shape)\n",
        "print(B.shape)\n",
        "print(C.shape)"
      ],
      "metadata": {
        "colab": {
          "base_uri": "https://localhost:8080/"
        },
        "id": "WxUTOXARNwSu",
        "outputId": "fc89017c-d0f4-40f5-adb4-2ac42495c030"
      },
      "execution_count": 33,
      "outputs": [
        {
          "output_type": "stream",
          "name": "stdout",
          "text": [
            "(2, 2)\n",
            "(2, 2)\n",
            "(3, 2)\n"
          ]
        }
      ]
    },
    {
      "cell_type": "code",
      "source": [
        "A"
      ],
      "metadata": {
        "colab": {
          "base_uri": "https://localhost:8080/"
        },
        "id": "mrycytD4N5vV",
        "outputId": "e026acbc-c911-44fe-e9c4-7acb26eda5ec"
      },
      "execution_count": 34,
      "outputs": [
        {
          "output_type": "execute_result",
          "data": {
            "text/plain": [
              "array([[1, 0],\n",
              "       [0, 1]])"
            ]
          },
          "metadata": {},
          "execution_count": 34
        }
      ]
    },
    {
      "cell_type": "code",
      "source": [
        "B"
      ],
      "metadata": {
        "colab": {
          "base_uri": "https://localhost:8080/"
        },
        "id": "5KEvdRU2N6PS",
        "outputId": "6875871c-4f28-4db5-c193-d07544299d34"
      },
      "execution_count": 35,
      "outputs": [
        {
          "output_type": "execute_result",
          "data": {
            "text/plain": [
              "array([[1, 2],\n",
              "       [3, 4]])"
            ]
          },
          "metadata": {},
          "execution_count": 35
        }
      ]
    },
    {
      "cell_type": "code",
      "source": [
        "# suma de matrices\n",
        "print(A+B)"
      ],
      "metadata": {
        "colab": {
          "base_uri": "https://localhost:8080/"
        },
        "id": "iJ-WTh7LN6z6",
        "outputId": "f9f8bd40-c733-4d84-a5a0-127897ec969a"
      },
      "execution_count": 36,
      "outputs": [
        {
          "output_type": "stream",
          "name": "stdout",
          "text": [
            "[[2 2]\n",
            " [3 5]]\n"
          ]
        }
      ]
    },
    {
      "cell_type": "code",
      "source": [
        "print(B+C)"
      ],
      "metadata": {
        "colab": {
          "base_uri": "https://localhost:8080/",
          "height": 174
        },
        "id": "UIaapjAsOI56",
        "outputId": "612140f9-9d97-4f88-bb6e-9d59fd5bbd66"
      },
      "execution_count": 37,
      "outputs": [
        {
          "output_type": "error",
          "ename": "ValueError",
          "evalue": "ignored",
          "traceback": [
            "\u001b[0;31m---------------------------------------------------------------------------\u001b[0m",
            "\u001b[0;31mValueError\u001b[0m                                Traceback (most recent call last)",
            "\u001b[0;32m<ipython-input-37-2bd4df7feecc>\u001b[0m in \u001b[0;36m<module>\u001b[0;34m()\u001b[0m\n\u001b[0;32m----> 1\u001b[0;31m \u001b[0mprint\u001b[0m\u001b[0;34m(\u001b[0m\u001b[0mB\u001b[0m\u001b[0;34m+\u001b[0m\u001b[0mC\u001b[0m\u001b[0;34m)\u001b[0m\u001b[0;34m\u001b[0m\u001b[0;34m\u001b[0m\u001b[0m\n\u001b[0m",
            "\u001b[0;31mValueError\u001b[0m: operands could not be broadcast together with shapes (2,2) (3,2) "
          ]
        }
      ]
    },
    {
      "cell_type": "code",
      "source": [
        "# Resta de matrices\n",
        "print(B-C)"
      ],
      "metadata": {
        "colab": {
          "base_uri": "https://localhost:8080/",
          "height": 192
        },
        "id": "as_Wf_9LOKTm",
        "outputId": "381cca07-86a2-4929-c7d6-7398199c924a"
      },
      "execution_count": 38,
      "outputs": [
        {
          "output_type": "error",
          "ename": "ValueError",
          "evalue": "ignored",
          "traceback": [
            "\u001b[0;31m---------------------------------------------------------------------------\u001b[0m",
            "\u001b[0;31mValueError\u001b[0m                                Traceback (most recent call last)",
            "\u001b[0;32m<ipython-input-38-ac67aeda99ed>\u001b[0m in \u001b[0;36m<module>\u001b[0;34m()\u001b[0m\n\u001b[1;32m      1\u001b[0m \u001b[0;31m# Resta de matrices\u001b[0m\u001b[0;34m\u001b[0m\u001b[0;34m\u001b[0m\u001b[0;34m\u001b[0m\u001b[0m\n\u001b[0;32m----> 2\u001b[0;31m \u001b[0mprint\u001b[0m\u001b[0;34m(\u001b[0m\u001b[0mB\u001b[0m\u001b[0;34m-\u001b[0m\u001b[0mC\u001b[0m\u001b[0;34m)\u001b[0m\u001b[0;34m\u001b[0m\u001b[0;34m\u001b[0m\u001b[0m\n\u001b[0m",
            "\u001b[0;31mValueError\u001b[0m: operands could not be broadcast together with shapes (2,2) (3,2) "
          ]
        }
      ]
    },
    {
      "cell_type": "code",
      "source": [
        "print(A-B)"
      ],
      "metadata": {
        "colab": {
          "base_uri": "https://localhost:8080/"
        },
        "id": "IfAqEPOMOS_V",
        "outputId": "47f49012-2ee4-4a48-e667-9fa21f14e86a"
      },
      "execution_count": 39,
      "outputs": [
        {
          "output_type": "stream",
          "name": "stdout",
          "text": [
            "[[ 0 -2]\n",
            " [-3 -3]]\n"
          ]
        }
      ]
    },
    {
      "cell_type": "code",
      "source": [
        "# multiplicación de matrices\n",
        "print(A*B) # elemento por elemento"
      ],
      "metadata": {
        "colab": {
          "base_uri": "https://localhost:8080/"
        },
        "id": "WE_EPRkgOXn8",
        "outputId": "e1324558-70fd-49b8-94b8-3c0c51c24195"
      },
      "execution_count": 40,
      "outputs": [
        {
          "output_type": "stream",
          "name": "stdout",
          "text": [
            "[[1 0]\n",
            " [0 4]]\n"
          ]
        }
      ]
    },
    {
      "cell_type": "code",
      "source": [
        "# producto de matriz por matriz\n",
        "print(A.dot(B))"
      ],
      "metadata": {
        "colab": {
          "base_uri": "https://localhost:8080/"
        },
        "id": "TUyDqqDXOdBC",
        "outputId": "b6ab43ea-0c54-42af-a273-24a233d43f70"
      },
      "execution_count": 41,
      "outputs": [
        {
          "output_type": "stream",
          "name": "stdout",
          "text": [
            "[[1 2]\n",
            " [3 4]]\n"
          ]
        }
      ]
    },
    {
      "cell_type": "code",
      "source": [
        "# potencias \n",
        "print(B**2)"
      ],
      "metadata": {
        "colab": {
          "base_uri": "https://localhost:8080/"
        },
        "id": "4M9RKgJgOrF8",
        "outputId": "331d6690-2385-40df-cc4c-e4b97d23e18c"
      },
      "execution_count": 42,
      "outputs": [
        {
          "output_type": "stream",
          "name": "stdout",
          "text": [
            "[[ 1  4]\n",
            " [ 9 16]]\n"
          ]
        }
      ]
    },
    {
      "cell_type": "markdown",
      "source": [
        "## Slicint e Iteración de matrices"
      ],
      "metadata": {
        "id": "hW5Qb_jBOyuf"
      }
    },
    {
      "cell_type": "code",
      "source": [
        "a"
      ],
      "metadata": {
        "colab": {
          "base_uri": "https://localhost:8080/"
        },
        "id": "T_44ktD4O0vy",
        "outputId": "d60b6f0b-95f8-4efd-bfa2-b466aedba1fc"
      },
      "execution_count": 44,
      "outputs": [
        {
          "output_type": "execute_result",
          "data": {
            "text/plain": [
              "array([10, 12, 14, 16, 18])"
            ]
          },
          "metadata": {},
          "execution_count": 44
        }
      ]
    },
    {
      "cell_type": "code",
      "source": [
        "print(a[2:5]) # slice desde el elemento posición 2 hasta 5-1"
      ],
      "metadata": {
        "colab": {
          "base_uri": "https://localhost:8080/"
        },
        "id": "Rg2KgkCNO58H",
        "outputId": "7245adc0-9534-48b8-fe58-2fb20222e0cc"
      },
      "execution_count": 45,
      "outputs": [
        {
          "output_type": "stream",
          "name": "stdout",
          "text": [
            "[14 16 18]\n"
          ]
        }
      ]
    },
    {
      "cell_type": "code",
      "source": [
        "print(a[3:])"
      ],
      "metadata": {
        "colab": {
          "base_uri": "https://localhost:8080/"
        },
        "id": "BgpRSc7yO8v1",
        "outputId": "bdbc2265-2626-4ed0-d80a-b09d76338e24"
      },
      "execution_count": 48,
      "outputs": [
        {
          "output_type": "stream",
          "name": "stdout",
          "text": [
            "[16 18]\n"
          ]
        }
      ]
    },
    {
      "cell_type": "code",
      "source": [
        "# Si queremos iterar por cada elementos\n",
        "for i in a:\n",
        "  print(i)"
      ],
      "metadata": {
        "colab": {
          "base_uri": "https://localhost:8080/"
        },
        "id": "V115xcGSO433",
        "outputId": "679dec9d-ef72-4223-c116-de208ed8b6ce"
      },
      "execution_count": 49,
      "outputs": [
        {
          "output_type": "stream",
          "name": "stdout",
          "text": [
            "10\n",
            "12\n",
            "14\n",
            "16\n",
            "18\n"
          ]
        }
      ]
    },
    {
      "cell_type": "code",
      "source": [
        "# creamos un array multidimensional\n",
        "C = np.arange(18).reshape(6,3) # cambiamos la forma a 6 filas, 3 cols\n",
        "print(C)"
      ],
      "metadata": {
        "colab": {
          "base_uri": "https://localhost:8080/"
        },
        "id": "-y1RYx1MPQJD",
        "outputId": "7b0715f4-376e-4c1f-d2b8-896479077f35"
      },
      "execution_count": 50,
      "outputs": [
        {
          "output_type": "stream",
          "name": "stdout",
          "text": [
            "[[ 0  1  2]\n",
            " [ 3  4  5]\n",
            " [ 6  7  8]\n",
            " [ 9 10 11]\n",
            " [12 13 14]\n",
            " [15 16 17]]\n"
          ]
        }
      ]
    },
    {
      "cell_type": "code",
      "source": [
        "print(C[3][2]) # posición 3fila, 2col"
      ],
      "metadata": {
        "colab": {
          "base_uri": "https://localhost:8080/"
        },
        "id": "5J3RjiW-PcX6",
        "outputId": "33d49f66-583a-41aa-9679-972035f8d7de"
      },
      "execution_count": 51,
      "outputs": [
        {
          "output_type": "stream",
          "name": "stdout",
          "text": [
            "11\n"
          ]
        }
      ]
    },
    {
      "cell_type": "code",
      "source": [
        "print(C[3,2]) # es el equivalente del anterior"
      ],
      "metadata": {
        "colab": {
          "base_uri": "https://localhost:8080/"
        },
        "id": "JJlspda0PfSw",
        "outputId": "3624e76c-2d1e-4c5e-e2cd-c6c0d8694d21"
      },
      "execution_count": 52,
      "outputs": [
        {
          "output_type": "stream",
          "name": "stdout",
          "text": [
            "11\n"
          ]
        }
      ]
    },
    {
      "cell_type": "code",
      "source": [
        "print(C[3][3])"
      ],
      "metadata": {
        "colab": {
          "base_uri": "https://localhost:8080/",
          "height": 174
        },
        "id": "oh5xH2MaPr3f",
        "outputId": "b884173e-3a97-462f-9804-e1d66fc1b2bf"
      },
      "execution_count": 53,
      "outputs": [
        {
          "output_type": "error",
          "ename": "IndexError",
          "evalue": "ignored",
          "traceback": [
            "\u001b[0;31m---------------------------------------------------------------------------\u001b[0m",
            "\u001b[0;31mIndexError\u001b[0m                                Traceback (most recent call last)",
            "\u001b[0;32m<ipython-input-53-e74f429758c0>\u001b[0m in \u001b[0;36m<module>\u001b[0;34m()\u001b[0m\n\u001b[0;32m----> 1\u001b[0;31m \u001b[0mprint\u001b[0m\u001b[0;34m(\u001b[0m\u001b[0mC\u001b[0m\u001b[0;34m[\u001b[0m\u001b[0;36m3\u001b[0m\u001b[0;34m]\u001b[0m\u001b[0;34m[\u001b[0m\u001b[0;36m3\u001b[0m\u001b[0;34m]\u001b[0m\u001b[0;34m)\u001b[0m\u001b[0;34m\u001b[0m\u001b[0;34m\u001b[0m\u001b[0m\n\u001b[0m",
            "\u001b[0;31mIndexError\u001b[0m: index 3 is out of bounds for axis 0 with size 3"
          ]
        }
      ]
    },
    {
      "cell_type": "code",
      "source": [
        "# Accedemos a la fila completa\n",
        "print(C[2])"
      ],
      "metadata": {
        "colab": {
          "base_uri": "https://localhost:8080/"
        },
        "id": "RI4vEJntP-PN",
        "outputId": "04b7fc2c-04aa-496f-95a7-114c759a14ea"
      },
      "execution_count": 54,
      "outputs": [
        {
          "output_type": "stream",
          "name": "stdout",
          "text": [
            "[6 7 8]\n"
          ]
        }
      ]
    },
    {
      "cell_type": "code",
      "source": [
        "C"
      ],
      "metadata": {
        "colab": {
          "base_uri": "https://localhost:8080/"
        },
        "id": "CF0A15jwQMxp",
        "outputId": "830219d4-97b8-41da-f70e-fb9b56577ed5"
      },
      "execution_count": 56,
      "outputs": [
        {
          "output_type": "execute_result",
          "data": {
            "text/plain": [
              "array([[ 0,  1,  2],\n",
              "       [ 3,  4,  5],\n",
              "       [ 6,  7,  8],\n",
              "       [ 9, 10, 11],\n",
              "       [12, 13, 14],\n",
              "       [15, 16, 17]])"
            ]
          },
          "metadata": {},
          "execution_count": 56
        }
      ]
    },
    {
      "cell_type": "code",
      "source": [
        "# Accedemos a la columna 1 (pos 0)\n",
        "print(C[:,0]) # en este caso devolver todas las filas, columna pos 0"
      ],
      "metadata": {
        "colab": {
          "base_uri": "https://localhost:8080/"
        },
        "id": "ly3_8YydQE59",
        "outputId": "c7905008-5644-4baa-ad87-83695d1e478d"
      },
      "execution_count": 61,
      "outputs": [
        {
          "output_type": "stream",
          "name": "stdout",
          "text": [
            "[ 0  3  6  9 12 15]\n"
          ]
        }
      ]
    },
    {
      "cell_type": "code",
      "source": [
        "print(C[3:,1]) # devuelve las filas pos. 3 en adelante, columna pos. 1"
      ],
      "metadata": {
        "colab": {
          "base_uri": "https://localhost:8080/"
        },
        "id": "ZI5Z5WFGQraa",
        "outputId": "53036e9b-1b51-4ce1-92e4-91b45334bcad"
      },
      "execution_count": 62,
      "outputs": [
        {
          "output_type": "stream",
          "name": "stdout",
          "text": [
            "[10 13 16]\n"
          ]
        }
      ]
    },
    {
      "cell_type": "code",
      "source": [
        "# Extraemos todas las filas hasta la 5a\n",
        "print(C[:5]) # todas las filas hasta las 5a - 1"
      ],
      "metadata": {
        "colab": {
          "base_uri": "https://localhost:8080/"
        },
        "id": "HnHtOSOIQtfT",
        "outputId": "9f1c4a61-b43c-4ed6-cfc8-ee4ed48e91ad"
      },
      "execution_count": 63,
      "outputs": [
        {
          "output_type": "stream",
          "name": "stdout",
          "text": [
            "[[ 0  1  2]\n",
            " [ 3  4  5]\n",
            " [ 6  7  8]\n",
            " [ 9 10 11]\n",
            " [12 13 14]]\n"
          ]
        }
      ]
    },
    {
      "cell_type": "code",
      "source": [
        "C.shape"
      ],
      "metadata": {
        "colab": {
          "base_uri": "https://localhost:8080/"
        },
        "id": "WWktzQJfRlNE",
        "outputId": "f8ce84ce-993e-4b4d-a668-eacf7952847b"
      },
      "execution_count": 65,
      "outputs": [
        {
          "output_type": "execute_result",
          "data": {
            "text/plain": [
              "(6, 3)"
            ]
          },
          "metadata": {},
          "execution_count": 65
        }
      ]
    },
    {
      "cell_type": "code",
      "source": [
        "# iteramos un array multidimensional\n",
        "for i in range(C.shape[0]):\n",
        "  for j in range(C.shape[1]):\n",
        "    print(\"Elemento: {}\".format(C[i, j]))"
      ],
      "metadata": {
        "colab": {
          "base_uri": "https://localhost:8080/"
        },
        "id": "qjcqDM7PRQux",
        "outputId": "57535289-c4e4-4cab-cd6b-cd6df9ee858b"
      },
      "execution_count": 64,
      "outputs": [
        {
          "output_type": "stream",
          "name": "stdout",
          "text": [
            "Elemento: 0\n",
            "Elemento: 1\n",
            "Elemento: 2\n",
            "Elemento: 3\n",
            "Elemento: 4\n",
            "Elemento: 5\n",
            "Elemento: 6\n",
            "Elemento: 7\n",
            "Elemento: 8\n",
            "Elemento: 9\n",
            "Elemento: 10\n",
            "Elemento: 11\n",
            "Elemento: 12\n",
            "Elemento: 13\n",
            "Elemento: 14\n",
            "Elemento: 15\n",
            "Elemento: 16\n",
            "Elemento: 17\n"
          ]
        }
      ]
    },
    {
      "cell_type": "code",
      "source": [
        "# Realizamos el cambio en bloque de una fila completa, por su posición\n",
        "C[2] = [45, 46, 47]\n",
        "C"
      ],
      "metadata": {
        "colab": {
          "base_uri": "https://localhost:8080/"
        },
        "id": "CD_LKFRoR3X4",
        "outputId": "e6c07989-6e80-4785-8539-4d3b16f7020e"
      },
      "execution_count": 66,
      "outputs": [
        {
          "output_type": "execute_result",
          "data": {
            "text/plain": [
              "array([[ 0,  1,  2],\n",
              "       [ 3,  4,  5],\n",
              "       [45, 46, 47],\n",
              "       [ 9, 10, 11],\n",
              "       [12, 13, 14],\n",
              "       [15, 16, 17]])"
            ]
          },
          "metadata": {},
          "execution_count": 66
        }
      ]
    },
    {
      "cell_type": "code",
      "source": [
        "# Cambio de todos los valores por N utilizamos [...]\n",
        "D = C # copiamos la matriz \n",
        "D[...] = 1.5\n",
        "D # devuelve valores enteros"
      ],
      "metadata": {
        "colab": {
          "base_uri": "https://localhost:8080/"
        },
        "id": "_FsSwPWER_fY",
        "outputId": "b60442e8-91df-4c0c-8234-57e11d1542fc"
      },
      "execution_count": 70,
      "outputs": [
        {
          "output_type": "execute_result",
          "data": {
            "text/plain": [
              "array([[1, 1, 1],\n",
              "       [1, 1, 1],\n",
              "       [1, 1, 1],\n",
              "       [1, 1, 1],\n",
              "       [1, 1, 1],\n",
              "       [1, 1, 1]])"
            ]
          },
          "metadata": {},
          "execution_count": 70
        }
      ]
    },
    {
      "cell_type": "markdown",
      "source": [
        "# Replicando el Juego de la vida de Conway 1970\n",
        "\n",
        "https://es.wikipedia.org/wiki/Juego_de_la_vida\n",
        "\n",
        "El juego de la vida es un ejemplo clásico de autómata celular creado en 1970 por el famoso matemático John H. Conway. \n",
        "En el problema clásico, se representan en una matriz bidimensional células que vivirán o morirán dependiendo del número de vecinos en un determinado paso de la simulación. Cada célula tiene 8 vecinos (las casillas adyacentes en un tablero bidimensional) y puede estar viva (1) o muerta (0). Las reglas clásicas entre transición vida/muerte son las siguientes:\n",
        "Una célula muerta con exactamente 3 células vecinas vivas al turno siguiente estará viva.Una célula viva con 2 o 3 células vecinas vivas sigue viva. Si no es el caso, muere o permanece muerta (soledad en caso de un número menor a 2, superpoblación si es mayor a 3).\n",
        "Este problema (o juego) tiene muchas variantes dependiendo de las condiciones iniciales, si el tablero (o mundo) tiene bordes o no, o si bien las reglas de vida o muerte son alteradas.A continuación tenéis un ejemplo del juego clásico implementado en NumPy:"
      ],
      "metadata": {
        "id": "f3qkaLgYXfHM"
      }
    },
    {
      "cell_type": "code",
      "source": [
        "SIZE = 10\n",
        "STEPS = 10"
      ],
      "metadata": {
        "id": "Jg4LZ4JwXlbp"
      },
      "execution_count": 71,
      "outputs": []
    },
    {
      "cell_type": "code",
      "source": [
        "def iterate(Z):\n",
        "  # Contar vecinos\n",
        "  N = (Z[0:-2,0:-2] + Z[0:-2, 1:-1] + Z[0:-2,2:] +\n",
        "       Z[1:-1,0:-2]                + Z[1:-1,2:] +\n",
        "       Z[2: ,0:-2]  + Z[2: ,1:-1] + Z[2: ,2:])\n",
        "  \n",
        "  # Aplicando las reglas\n",
        "  birth = (N==3) & (Z[1:-1,1:-1]==0)\n",
        "  survive = ((N==2) | (N==3)) & (Z[1:-1,1:-1]==1)\n",
        "  Z[...] = 0\n",
        "  Z[1:-1,1:-1][birth | survive] = 1\n",
        "  return Z  "
      ],
      "metadata": {
        "id": "vbCu4JbCXtFZ"
      },
      "execution_count": 73,
      "outputs": []
    },
    {
      "cell_type": "code",
      "source": [
        "np.random.randint()"
      ],
      "metadata": {
        "id": "fOWSK6dqcD2Y"
      },
      "execution_count": null,
      "outputs": []
    },
    {
      "cell_type": "code",
      "source": [
        "N = (Z[0:-2,0:-2] + Z[0:-2, 1:-1] + Z[0:-2,2:] +\n",
        "       Z[1:-1,0:-2]                + Z[1:-1,2:] +\n",
        "       Z[2: ,0:-2]  + Z[2: ,1:-1] + Z[2: ,2:])"
      ],
      "metadata": {
        "id": "glYnqfUNdVAb"
      },
      "execution_count": 84,
      "outputs": []
    },
    {
      "cell_type": "code",
      "source": [
        "N"
      ],
      "metadata": {
        "colab": {
          "base_uri": "https://localhost:8080/"
        },
        "id": "5tZ6BRPWdWCl",
        "outputId": "79d83adb-f3a7-4b40-cfa4-9b130614cdf2"
      },
      "execution_count": 85,
      "outputs": [
        {
          "output_type": "execute_result",
          "data": {
            "text/plain": [
              "array([[2, 2, 2, 2, 2, 1, 0, 0],\n",
              "       [3, 3, 4, 3, 3, 2, 0, 0],\n",
              "       [5, 6, 7, 6, 5, 3, 0, 0],\n",
              "       [5, 6, 6, 6, 5, 3, 0, 0],\n",
              "       [4, 5, 6, 6, 5, 3, 0, 0],\n",
              "       [3, 4, 5, 4, 4, 2, 0, 0],\n",
              "       [2, 1, 3, 2, 3, 1, 0, 0],\n",
              "       [1, 1, 2, 1, 1, 0, 0, 0]])"
            ]
          },
          "metadata": {},
          "execution_count": 85
        }
      ]
    },
    {
      "cell_type": "code",
      "source": [
        "birth = (N==3) & (Z[1:-1,1:-1]==0)\n",
        "birth"
      ],
      "metadata": {
        "colab": {
          "base_uri": "https://localhost:8080/"
        },
        "id": "BLicyeeGfBtD",
        "outputId": "0f8df9b4-2d05-4b36-e89b-4f6048d38884"
      },
      "execution_count": 95,
      "outputs": [
        {
          "output_type": "execute_result",
          "data": {
            "text/plain": [
              "array([[False, False, False, False, False, False, False, False],\n",
              "       [ True,  True, False,  True, False, False, False, False],\n",
              "       [False, False, False, False, False,  True, False, False],\n",
              "       [False, False, False, False, False,  True, False, False],\n",
              "       [False, False, False, False, False,  True, False, False],\n",
              "       [ True, False, False, False, False, False, False, False],\n",
              "       [False, False,  True, False,  True, False, False, False],\n",
              "       [False, False, False, False, False, False, False, False]])"
            ]
          },
          "metadata": {},
          "execution_count": 95
        }
      ]
    },
    {
      "cell_type": "code",
      "source": [
        "survive = ((N==2) | (N==3)) & (Z[1:-1,1:-1]==1)\n",
        "survive"
      ],
      "metadata": {
        "colab": {
          "base_uri": "https://localhost:8080/"
        },
        "id": "pWDrthFmgoN1",
        "outputId": "4ac4dbaa-b1a3-4b39-a840-6a9a7ad76881"
      },
      "execution_count": 96,
      "outputs": [
        {
          "output_type": "execute_result",
          "data": {
            "text/plain": [
              "array([[ True,  True, False, False, False, False, False, False],\n",
              "       [False, False, False, False,  True, False, False, False],\n",
              "       [False, False, False, False, False, False, False, False],\n",
              "       [False, False, False, False, False, False, False, False],\n",
              "       [False, False, False, False, False, False, False, False],\n",
              "       [False, False, False, False, False, False, False, False],\n",
              "       [False, False, False, False, False, False, False, False],\n",
              "       [False, False, False, False, False, False, False, False]])"
            ]
          },
          "metadata": {},
          "execution_count": 96
        }
      ]
    },
    {
      "cell_type": "code",
      "source": [
        "# Creamos el tablero con células vivas o muertas de forma aleatoria\n",
        "Z = np.random.randint(0,2,(SIZE, SIZE))\n",
        "\n",
        "# Simulamos durante los pasos indicados\n",
        "for i in range(STEPS):\n",
        "  Z = iterate(Z)\n",
        "  break\n",
        "print(Z)"
      ],
      "metadata": {
        "colab": {
          "base_uri": "https://localhost:8080/"
        },
        "id": "OYSRwTUhZncT",
        "outputId": "4503e174-6e79-4fe6-b4ac-ec0a25e72d2a"
      },
      "execution_count": 88,
      "outputs": [
        {
          "output_type": "stream",
          "name": "stdout",
          "text": [
            "[[0 0 0 0 0 0 0 0 0 0]\n",
            " [0 1 1 0 0 0 0 1 0 0]\n",
            " [0 0 0 1 0 1 0 1 0 0]\n",
            " [0 1 1 1 0 0 0 1 0 0]\n",
            " [0 1 1 0 1 1 0 0 0 0]\n",
            " [0 0 0 1 0 1 0 1 1 0]\n",
            " [0 0 0 1 0 0 0 0 0 0]\n",
            " [0 0 0 0 0 0 0 0 1 0]\n",
            " [0 0 0 0 0 0 0 0 0 0]\n",
            " [0 0 0 0 0 0 0 0 0 0]]\n"
          ]
        }
      ]
    },
    {
      "cell_type": "code",
      "source": [
        "Z"
      ],
      "metadata": {
        "colab": {
          "base_uri": "https://localhost:8080/"
        },
        "id": "pCdBq5ORXhhv",
        "outputId": "0e6da6e1-8b82-44e4-9297-b8b8d455ae52"
      },
      "execution_count": 89,
      "outputs": [
        {
          "output_type": "execute_result",
          "data": {
            "text/plain": [
              "array([[0, 0, 0, 0, 0, 0, 0, 0, 0, 0],\n",
              "       [0, 1, 1, 0, 0, 0, 0, 1, 0, 0],\n",
              "       [0, 0, 0, 1, 0, 1, 0, 1, 0, 0],\n",
              "       [0, 1, 1, 1, 0, 0, 0, 1, 0, 0],\n",
              "       [0, 1, 1, 0, 1, 1, 0, 0, 0, 0],\n",
              "       [0, 0, 0, 1, 0, 1, 0, 1, 1, 0],\n",
              "       [0, 0, 0, 1, 0, 0, 0, 0, 0, 0],\n",
              "       [0, 0, 0, 0, 0, 0, 0, 0, 1, 0],\n",
              "       [0, 0, 0, 0, 0, 0, 0, 0, 0, 0],\n",
              "       [0, 0, 0, 0, 0, 0, 0, 0, 0, 0]])"
            ]
          },
          "metadata": {},
          "execution_count": 89
        }
      ]
    },
    {
      "cell_type": "code",
      "source": [
        "Z[1:-1,1:-1] == 0"
      ],
      "metadata": {
        "colab": {
          "base_uri": "https://localhost:8080/"
        },
        "id": "9PHss_niSRZZ",
        "outputId": "517b7fb2-85b5-4d55-a4d2-9a3a6b525a05"
      },
      "execution_count": 93,
      "outputs": [
        {
          "output_type": "execute_result",
          "data": {
            "text/plain": [
              "array([[False, False,  True,  True,  True,  True, False,  True],\n",
              "       [ True,  True, False,  True, False,  True, False,  True],\n",
              "       [False, False, False,  True,  True,  True, False,  True],\n",
              "       [False, False,  True, False, False,  True,  True,  True],\n",
              "       [ True,  True, False,  True, False,  True, False, False],\n",
              "       [ True,  True, False,  True,  True,  True,  True,  True],\n",
              "       [ True,  True,  True,  True,  True,  True,  True, False],\n",
              "       [ True,  True,  True,  True,  True,  True,  True,  True]])"
            ]
          },
          "metadata": {},
          "execution_count": 93
        }
      ]
    },
    {
      "cell_type": "code",
      "source": [
        "print(Z[1:-1,1:-1])"
      ],
      "metadata": {
        "colab": {
          "base_uri": "https://localhost:8080/"
        },
        "id": "bQCog669f9-i",
        "outputId": "4882cf1a-711b-44ab-e6ab-326f890e9762"
      },
      "execution_count": 97,
      "outputs": [
        {
          "output_type": "stream",
          "name": "stdout",
          "text": [
            "[[1 1 0 0 0 0 1 0]\n",
            " [0 0 1 0 1 0 1 0]\n",
            " [1 1 1 0 0 0 1 0]\n",
            " [1 1 0 1 1 0 0 0]\n",
            " [0 0 1 0 1 0 1 1]\n",
            " [0 0 1 0 0 0 0 0]\n",
            " [0 0 0 0 0 0 0 1]\n",
            " [0 0 0 0 0 0 0 0]]\n"
          ]
        }
      ]
    },
    {
      "cell_type": "markdown",
      "source": [
        "## Prácticas con Numpy"
      ],
      "metadata": {
        "id": "nC6VCOO7hyae"
      }
    },
    {
      "cell_type": "markdown",
      "source": [
        "### Ejercicio 1\n",
        "Calculad la norma y el determinante de la siguiente matriz: ```[[1, 0], [2, -1]]```."
      ],
      "metadata": {
        "id": "k4fv4rJFh3vp"
      }
    },
    {
      "cell_type": "code",
      "source": [
        "# Respuesta\n",
        "A = np.array([\n",
        "              [1,0],\n",
        "              [2,-1]\n",
        "])"
      ],
      "metadata": {
        "id": "ZUn4c7CJh4m1"
      },
      "execution_count": 99,
      "outputs": []
    },
    {
      "cell_type": "code",
      "source": [
        "# Calculamos la norma\n",
        "norma = np.linalg.norm(A)\n",
        "print(norma)"
      ],
      "metadata": {
        "colab": {
          "base_uri": "https://localhost:8080/"
        },
        "id": "oWxs0jsxku2_",
        "outputId": "02279f14-c050-444a-f513-4c56319a83a8"
      },
      "execution_count": 101,
      "outputs": [
        {
          "output_type": "stream",
          "name": "stdout",
          "text": [
            "2.449489742783178\n"
          ]
        }
      ]
    },
    {
      "cell_type": "code",
      "source": [
        "determ = np.linalg.det(A)\n",
        "print(determ)"
      ],
      "metadata": {
        "colab": {
          "base_uri": "https://localhost:8080/"
        },
        "id": "y4OiwbnqlEbX",
        "outputId": "79691552-2c85-421c-c464-9bb97a59e265"
      },
      "execution_count": 102,
      "outputs": [
        {
          "output_type": "stream",
          "name": "stdout",
          "text": [
            "-1.0\n"
          ]
        }
      ]
    },
    {
      "cell_type": "markdown",
      "source": [
        "## Ejercicio 2\n",
        "\n",
        "Generad una lista de 100 valores enteros aleatorios de 0-9. Realizad los siguientes cálculos utilizando métodos de _numpy_:\n",
        "- Media y desviación estándar de los valores de la lista\n",
        "- Valor máximo y mínimo\n",
        "- Sumad todos los valores de la lista\n",
        "- Conseguid una lista de valores únicos"
      ],
      "metadata": {
        "id": "KevngLBElNz3"
      }
    },
    {
      "cell_type": "code",
      "source": [
        "# Respuesta\n",
        "from random import randint\n",
        "import numpy as np"
      ],
      "metadata": {
        "id": "fkuKfhWjlPta"
      },
      "execution_count": 103,
      "outputs": []
    },
    {
      "cell_type": "code",
      "source": [
        "# Utilizamos la función randint para generar los valores aleatorios y los guardamos en una lista\n",
        "rand_ints = [randint(0,9) for _ in range(100)]"
      ],
      "metadata": {
        "id": "PRE4P8BEpakC"
      },
      "execution_count": 104,
      "outputs": []
    },
    {
      "cell_type": "code",
      "source": [
        "# Para calcular la media y desviación\n",
        "media = np.mean(rand_ints)\n",
        "desv = np.std(rand_ints)"
      ],
      "metadata": {
        "id": "wQcuYvMtpqGm"
      },
      "execution_count": 105,
      "outputs": []
    },
    {
      "cell_type": "code",
      "source": [
        "print(\"Nuestra lista de valores es {}\".format(rand_ints))\n",
        "print(\"Su valor medio es %f, y su desviación estándar es %f\"%(media,desv))"
      ],
      "metadata": {
        "colab": {
          "base_uri": "https://localhost:8080/"
        },
        "id": "VZmgEckwp0Is",
        "outputId": "75dc87d8-b7b1-443e-9183-b6814a357bf5"
      },
      "execution_count": 106,
      "outputs": [
        {
          "output_type": "stream",
          "name": "stdout",
          "text": [
            "Nuestra lista de valores es [6, 5, 0, 6, 4, 8, 2, 5, 4, 3, 5, 9, 7, 5, 4, 6, 7, 5, 6, 4, 6, 5, 0, 6, 8, 7, 8, 6, 5, 8, 1, 5, 5, 6, 4, 5, 7, 1, 9, 9, 6, 1, 9, 2, 0, 3, 5, 1, 1, 2, 0, 4, 0, 2, 6, 7, 5, 2, 8, 1, 7, 3, 5, 1, 9, 9, 2, 0, 1, 4, 0, 1, 2, 0, 1, 2, 4, 5, 1, 7, 5, 0, 2, 2, 0, 4, 6, 1, 4, 9, 0, 1, 6, 3, 5, 3, 8, 4, 8, 5]\n",
            "Su valor medio es 4.170000, y su desviación estándar es 2.738814\n"
          ]
        }
      ]
    },
    {
      "cell_type": "code",
      "source": [
        "# Valores máximo y mínimo\n",
        "max_val = np.max(rand_ints)\n",
        "min_val = np.min(rand_ints)"
      ],
      "metadata": {
        "id": "WYBjiDhbqC2D"
      },
      "execution_count": 107,
      "outputs": []
    },
    {
      "cell_type": "code",
      "source": [
        "print(max_val)\n",
        "print(min_val)"
      ],
      "metadata": {
        "colab": {
          "base_uri": "https://localhost:8080/"
        },
        "id": "HkI6dP3zqID1",
        "outputId": "f693fb02-0ad5-4548-bdbd-3b2a4f10429a"
      },
      "execution_count": 108,
      "outputs": [
        {
          "output_type": "stream",
          "name": "stdout",
          "text": [
            "9\n",
            "0\n"
          ]
        }
      ]
    },
    {
      "cell_type": "code",
      "source": [
        "suma_valores = np.sum(rand_ints)\n",
        "print(suma_valores)"
      ],
      "metadata": {
        "colab": {
          "base_uri": "https://localhost:8080/"
        },
        "id": "woIHPkBFqOyJ",
        "outputId": "9b0882cf-d691-4722-ba80-e9ea438fa8ab"
      },
      "execution_count": 109,
      "outputs": [
        {
          "output_type": "stream",
          "name": "stdout",
          "text": [
            "417\n"
          ]
        }
      ]
    },
    {
      "cell_type": "code",
      "source": [
        "valores_unicos = np.unique(rand_ints)\n",
        "print(valores_unicos)"
      ],
      "metadata": {
        "colab": {
          "base_uri": "https://localhost:8080/"
        },
        "id": "21Szg17uqSlT",
        "outputId": "5eb853ce-36f2-4370-93af-5d3e254d7107"
      },
      "execution_count": 110,
      "outputs": [
        {
          "output_type": "stream",
          "name": "stdout",
          "text": [
            "[0 1 2 3 4 5 6 7 8 9]\n"
          ]
        }
      ]
    },
    {
      "cell_type": "markdown",
      "source": [
        "# Ejercicio 3 \n",
        "\n",
        "Cread dos matrices de tamaño 5x5 con números reales aleatorios. Obtened el resultado de multiplicar ambas matrices usando los dos métodos de multiplicación de matrices vistos en el Notebook de teoría. ¿Cuál es la diferencia entre ambos resultados? Cread ahora dos matrices de tamaño 4x5 y 5x5 respectivamente, repetid la operación. Describid cuál de los métodos de multiplicación podéis aplicar y porqué. "
      ],
      "metadata": {
        "id": "Hk5lpKChqpPj"
      }
    },
    {
      "cell_type": "code",
      "source": [
        "import numpy as np\n",
        "B = np.random.rand(5,5)\n",
        "C = np.random.rand(5,5)"
      ],
      "metadata": {
        "id": "y6sdJS8OqrU0"
      },
      "execution_count": 112,
      "outputs": []
    },
    {
      "cell_type": "code",
      "source": [
        "print(B)\n",
        "print(\"*\"*10)\n",
        "print(C)"
      ],
      "metadata": {
        "colab": {
          "base_uri": "https://localhost:8080/"
        },
        "id": "kR3J81k1tLzn",
        "outputId": "55602ff5-8b92-40a2-ff26-63abec69b8d0"
      },
      "execution_count": 114,
      "outputs": [
        {
          "output_type": "stream",
          "name": "stdout",
          "text": [
            "[[0.46322367 0.03051328 0.19053438 0.45383339 0.70164884]\n",
            " [0.54753609 0.99204463 0.69015939 0.76088045 0.82443463]\n",
            " [0.39133426 0.82033244 0.8919286  0.32049189 0.41477312]\n",
            " [0.62471425 0.47326554 0.41500941 0.37851075 0.50697812]\n",
            " [0.78863641 0.81063137 0.07920411 0.10120406 0.74990838]]\n",
            "**********\n",
            "[[0.40074971 0.5940319  0.38323736 0.17322638 0.88748595]\n",
            " [0.17724904 0.92887162 0.2279166  0.32521007 0.62418004]\n",
            " [0.52038361 0.07293592 0.78969898 0.27574983 0.69934347]\n",
            " [0.98370253 0.27983683 0.03925332 0.89476941 0.83217984]\n",
            " [0.0138666  0.36767432 0.65205361 0.59278784 0.53862475]]\n"
          ]
        }
      ]
    },
    {
      "cell_type": "code",
      "source": [
        "B*C"
      ],
      "metadata": {
        "colab": {
          "base_uri": "https://localhost:8080/"
        },
        "id": "6rHIi7wUqOnf",
        "outputId": "8aad6150-7ec5-4e35-a244-17915e5d202d"
      },
      "execution_count": 115,
      "outputs": [
        {
          "output_type": "execute_result",
          "data": {
            "text/plain": [
              "array([[0.18563675, 0.01812586, 0.07301989, 0.07861591, 0.62270349],\n",
              "       [0.09705025, 0.9214821 , 0.15729878, 0.24744598, 0.51459564],\n",
              "       [0.20364394, 0.0598317 , 0.70435511, 0.08837558, 0.29006887],\n",
              "       [0.61453299, 0.13243713, 0.0162905 , 0.33867983, 0.42189697],\n",
              "       [0.0109357 , 0.29804834, 0.05164533, 0.05999253, 0.40391921]])"
            ]
          },
          "metadata": {},
          "execution_count": 115
        }
      ]
    },
    {
      "cell_type": "code",
      "source": [
        "B.dot(C)"
      ],
      "metadata": {
        "colab": {
          "base_uri": "https://localhost:8080/"
        },
        "id": "Qqi5x1QVtXOL",
        "outputId": "43fd446d-66f5-439e-dc53-5d45f484e487"
      },
      "execution_count": 116,
      "outputs": [
        {
          "output_type": "execute_result",
          "data": {
            "text/plain": [
              "array([[0.7463627 , 0.70238691, 0.81027103, 0.96471073, 1.31899567],\n",
              "       [1.51432365, 1.81311923, 1.54840056, 1.77730931, 2.66505377],\n",
              "       [1.08739543, 1.30168906, 1.32433108, 1.11315775, 1.97321719],\n",
              "       [0.92957606, 1.1332963 , 1.02044614, 1.01577678, 1.72812212],\n",
              "       [0.61089933, 1.53126717, 1.04249175, 0.95716949, 1.74941372]])"
            ]
          },
          "metadata": {},
          "execution_count": 116
        }
      ]
    },
    {
      "cell_type": "code",
      "source": [
        "# creamos una matriz 4x5\n",
        "D = np.random.rand(4,5)\n",
        "D"
      ],
      "metadata": {
        "colab": {
          "base_uri": "https://localhost:8080/"
        },
        "id": "vH_J2hgqqOkG",
        "outputId": "142ddcb6-e4a1-4b74-f594-da707a5cbce0"
      },
      "execution_count": 117,
      "outputs": [
        {
          "output_type": "execute_result",
          "data": {
            "text/plain": [
              "array([[0.68430563, 0.87093145, 0.44454496, 0.5676491 , 0.49725536],\n",
              "       [0.68920851, 0.98878951, 0.98469565, 0.63545953, 0.24869201],\n",
              "       [0.83617636, 0.56986758, 0.02612753, 0.78397511, 0.51253143],\n",
              "       [0.2934002 , 0.41402402, 0.50493042, 0.14785505, 0.5321755 ]])"
            ]
          },
          "metadata": {},
          "execution_count": 117
        }
      ]
    },
    {
      "cell_type": "code",
      "source": [
        "E = np.random.rand(5,5)"
      ],
      "metadata": {
        "id": "upvIQGrLtkdF"
      },
      "execution_count": 118,
      "outputs": []
    },
    {
      "cell_type": "code",
      "source": [
        "D*E # es imposible por tener dos dimensiones diferentes"
      ],
      "metadata": {
        "colab": {
          "base_uri": "https://localhost:8080/",
          "height": 174
        },
        "id": "bNGozpfltp59",
        "outputId": "d2ee6e04-c775-4b38-81bc-3faada538c6b"
      },
      "execution_count": 119,
      "outputs": [
        {
          "output_type": "error",
          "ename": "ValueError",
          "evalue": "ignored",
          "traceback": [
            "\u001b[0;31m---------------------------------------------------------------------------\u001b[0m",
            "\u001b[0;31mValueError\u001b[0m                                Traceback (most recent call last)",
            "\u001b[0;32m<ipython-input-119-51aff58d77fa>\u001b[0m in \u001b[0;36m<module>\u001b[0;34m()\u001b[0m\n\u001b[0;32m----> 1\u001b[0;31m \u001b[0mD\u001b[0m\u001b[0;34m*\u001b[0m\u001b[0mE\u001b[0m\u001b[0;34m\u001b[0m\u001b[0;34m\u001b[0m\u001b[0m\n\u001b[0m",
            "\u001b[0;31mValueError\u001b[0m: operands could not be broadcast together with shapes (4,5) (5,5) "
          ]
        }
      ]
    },
    {
      "cell_type": "code",
      "source": [
        "D.dot(E) # es posible porque estamos realizando el producto de matrices"
      ],
      "metadata": {
        "colab": {
          "base_uri": "https://localhost:8080/"
        },
        "id": "qPIX4L1GtsMY",
        "outputId": "5376df0b-6eeb-47d4-cf36-f04bca7bfc52"
      },
      "execution_count": 120,
      "outputs": [
        {
          "output_type": "execute_result",
          "data": {
            "text/plain": [
              "array([[1.51923562, 1.39790687, 1.56063744, 1.87834997, 1.05258996],\n",
              "       [1.69592485, 1.73015479, 1.86960769, 2.12248096, 1.41066527],\n",
              "       [1.51271957, 1.40922665, 1.55893136, 1.93309069, 0.75164899],\n",
              "       [0.68227895, 0.71274036, 0.86312096, 0.9827057 , 0.89546708]])"
            ]
          },
          "metadata": {},
          "execution_count": 120
        }
      ]
    },
    {
      "cell_type": "code",
      "source": [
        ""
      ],
      "metadata": {
        "id": "S9jWDVjstubO"
      },
      "execution_count": null,
      "outputs": []
    },
    {
      "cell_type": "code",
      "source": [
        ""
      ],
      "metadata": {
        "id": "gF9tb9s7qMnk"
      },
      "execution_count": null,
      "outputs": []
    }
  ]
}