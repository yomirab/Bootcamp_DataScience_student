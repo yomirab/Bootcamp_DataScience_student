{
  "nbformat": 4,
  "nbformat_minor": 0,
  "metadata": {
    "colab": {
      "name": "Pandas_parte1",
      "provenance": [],
      "collapsed_sections": []
    },
    "kernelspec": {
      "name": "python3",
      "display_name": "Python 3"
    },
    "language_info": {
      "name": "python"
    }
  },
  "cells": [
    {
      "cell_type": "markdown",
      "source": [
        "# Pandas\n",
        "\n",
        "https://pandas.pydata.org/"
      ],
      "metadata": {
        "id": "BIKr79v8yZlw"
      }
    },
    {
      "cell_type": "code",
      "execution_count": 1,
      "metadata": {
        "colab": {
          "base_uri": "https://localhost:8080/",
          "height": 36
        },
        "id": "bxLkGq1AwpfS",
        "outputId": "c052880e-7d0d-4f89-e214-f5ec06863263"
      },
      "outputs": [
        {
          "output_type": "execute_result",
          "data": {
            "application/vnd.google.colaboratory.intrinsic+json": {
              "type": "string"
            },
            "text/plain": [
              "'1.1.5'"
            ]
          },
          "metadata": {},
          "execution_count": 1
        }
      ],
      "source": [
        "import pandas as pd\n",
        "import numpy as np\n",
        "pd.__version__"
      ]
    },
    {
      "cell_type": "markdown",
      "source": [
        "Pandas es la navaja suiza de los analista y científicos de datos. Sirve para manipular datos, analizar datos."
      ],
      "metadata": {
        "id": "G8ljPJRKyknX"
      }
    },
    {
      "cell_type": "markdown",
      "source": [
        "## Estructura de los datos en Pandas\n",
        "\n",
        "Tres estructuras principales: *series*, *dataframe*, *panel*.\n",
        "\n",
        "**Series**: es un vector unidimensional, con etiquetas (labels), y normalmente con datos homogéneos."
      ],
      "metadata": {
        "id": "9GI9BulxzDNC"
      }
    },
    {
      "cell_type": "code",
      "source": [
        "print(pd.Series([1, 2, 3, 6, 8]))"
      ],
      "metadata": {
        "colab": {
          "base_uri": "https://localhost:8080/"
        },
        "id": "KODB2wLQzWxR",
        "outputId": "3ce7c0fd-a5e3-42bb-b1a3-6bad1a94e7b3"
      },
      "execution_count": 2,
      "outputs": [
        {
          "output_type": "stream",
          "name": "stdout",
          "text": [
            "0    1\n",
            "1    2\n",
            "2    3\n",
            "3    6\n",
            "4    8\n",
            "dtype: int64\n"
          ]
        }
      ]
    },
    {
      "cell_type": "code",
      "source": [
        "print(np.array([1,2,3,6,8]))"
      ],
      "metadata": {
        "colab": {
          "base_uri": "https://localhost:8080/"
        },
        "id": "ztOMP8hrzaQV",
        "outputId": "9aebb947-03b9-414d-a291-5a72b25f9194"
      },
      "execution_count": 4,
      "outputs": [
        {
          "output_type": "stream",
          "name": "stdout",
          "text": [
            "[1 2 3 6 8]\n"
          ]
        }
      ]
    },
    {
      "cell_type": "code",
      "source": [
        "print(pd.Series([1.5, .6, 5, 7.8]))\n"
      ],
      "metadata": {
        "colab": {
          "base_uri": "https://localhost:8080/"
        },
        "id": "nQRlrGO6y_e9",
        "outputId": "69705503-e1c5-46f3-ca90-ce99a2cbb47f"
      },
      "execution_count": 5,
      "outputs": [
        {
          "output_type": "stream",
          "name": "stdout",
          "text": [
            "0    1.5\n",
            "1    0.6\n",
            "2    5.0\n",
            "3    7.8\n",
            "dtype: float64\n"
          ]
        }
      ]
    },
    {
      "cell_type": "code",
      "source": [
        "print(pd.Series([1, 5., False, \"Data\"]))"
      ],
      "metadata": {
        "colab": {
          "base_uri": "https://localhost:8080/"
        },
        "id": "PNphVks0zwtq",
        "outputId": "ad575ea6-a07e-42b1-9e2e-45045cd730bf"
      },
      "execution_count": 6,
      "outputs": [
        {
          "output_type": "stream",
          "name": "stdout",
          "text": [
            "0        1\n",
            "1        5\n",
            "2    False\n",
            "3     Data\n",
            "dtype: object\n"
          ]
        }
      ]
    },
    {
      "cell_type": "code",
      "source": [
        "a = pd.Series([1, 5., False, \"Data\"])\n",
        "type(a)"
      ],
      "metadata": {
        "colab": {
          "base_uri": "https://localhost:8080/"
        },
        "id": "XNIQVQc6z7Nv",
        "outputId": "ab659fb4-4eb1-4b1a-f4be-bf7dc4d0f27f"
      },
      "execution_count": 7,
      "outputs": [
        {
          "output_type": "execute_result",
          "data": {
            "text/plain": [
              "pandas.core.series.Series"
            ]
          },
          "metadata": {},
          "execution_count": 7
        }
      ]
    },
    {
      "cell_type": "code",
      "source": [
        "a[3] # llamamos los valores por su posición o índice"
      ],
      "metadata": {
        "colab": {
          "base_uri": "https://localhost:8080/",
          "height": 36
        },
        "id": "o7aZFlhV0MME",
        "outputId": "c6899693-fa7d-4e66-f3c7-7710cfc7e24d"
      },
      "execution_count": 12,
      "outputs": [
        {
          "output_type": "execute_result",
          "data": {
            "application/vnd.google.colaboratory.intrinsic+json": {
              "type": "string"
            },
            "text/plain": [
              "'Data'"
            ]
          },
          "metadata": {},
          "execution_count": 12
        }
      ]
    },
    {
      "cell_type": "code",
      "source": [
        "a.index"
      ],
      "metadata": {
        "colab": {
          "base_uri": "https://localhost:8080/"
        },
        "id": "4F_-0pSY0XSE",
        "outputId": "75350a77-339b-49a1-9858-e479cdcfb167"
      },
      "execution_count": 15,
      "outputs": [
        {
          "output_type": "execute_result",
          "data": {
            "text/plain": [
              "RangeIndex(start=0, stop=4, step=1)"
            ]
          },
          "metadata": {},
          "execution_count": 15
        }
      ]
    },
    {
      "cell_type": "code",
      "source": [
        "# Creamos una serie con el índice etiquetado, partimos de un diccionario\n",
        "b = pd.Series({\n",
        "    \"alice\" : 2,\n",
        "    \"bob\" : 3,\n",
        "    \"eve\" :5\n",
        "})\n",
        "print(b)"
      ],
      "metadata": {
        "colab": {
          "base_uri": "https://localhost:8080/"
        },
        "id": "DugCQmOI0fxB",
        "outputId": "42205918-6f6a-47c9-d964-817ecd322405"
      },
      "execution_count": 16,
      "outputs": [
        {
          "output_type": "stream",
          "name": "stdout",
          "text": [
            "alice    2\n",
            "bob      3\n",
            "eve      5\n",
            "dtype: int64\n"
          ]
        }
      ]
    },
    {
      "cell_type": "code",
      "source": [
        "dicc = {\n",
        "    \"alice\" : 2,\n",
        "    \"bob\" : 3,\n",
        "    \"eve\" :5\n",
        "}\n",
        "type(dicc)"
      ],
      "metadata": {
        "colab": {
          "base_uri": "https://localhost:8080/"
        },
        "id": "7GtuolRB13Zn",
        "outputId": "ef73568e-20ee-4fa4-b4a6-4482bd0907e7"
      },
      "execution_count": 22,
      "outputs": [
        {
          "output_type": "execute_result",
          "data": {
            "text/plain": [
              "dict"
            ]
          },
          "metadata": {},
          "execution_count": 22
        }
      ]
    },
    {
      "cell_type": "code",
      "source": [
        "pd.Series(dicc)"
      ],
      "metadata": {
        "colab": {
          "base_uri": "https://localhost:8080/"
        },
        "id": "HVUn5wIP16q9",
        "outputId": "54f707f3-299f-49ba-a148-781c1b345bf6"
      },
      "execution_count": 23,
      "outputs": [
        {
          "output_type": "execute_result",
          "data": {
            "text/plain": [
              "alice    2\n",
              "bob      3\n",
              "eve      5\n",
              "dtype: int64"
            ]
          },
          "metadata": {},
          "execution_count": 23
        }
      ]
    },
    {
      "cell_type": "code",
      "source": [
        "b.index"
      ],
      "metadata": {
        "colab": {
          "base_uri": "https://localhost:8080/"
        },
        "id": "vQg7mNqU0s_J",
        "outputId": "a982cb29-85cb-4ffc-e42f-f1b1e74e97bf"
      },
      "execution_count": 17,
      "outputs": [
        {
          "output_type": "execute_result",
          "data": {
            "text/plain": [
              "Index(['alice', 'bob', 'eve'], dtype='object')"
            ]
          },
          "metadata": {},
          "execution_count": 17
        }
      ]
    },
    {
      "cell_type": "code",
      "source": [
        "print(b['alice']) # extraemos los valores por su etiqueta"
      ],
      "metadata": {
        "colab": {
          "base_uri": "https://localhost:8080/"
        },
        "id": "1TKXXrXc0fqf",
        "outputId": "26077cb4-8d17-4517-f58d-647a7904c7e4"
      },
      "execution_count": 18,
      "outputs": [
        {
          "output_type": "stream",
          "name": "stdout",
          "text": [
            "2\n"
          ]
        }
      ]
    },
    {
      "cell_type": "code",
      "source": [
        "print(b[0]) # extraemos los valores por su índice"
      ],
      "metadata": {
        "colab": {
          "base_uri": "https://localhost:8080/"
        },
        "id": "VStP6YqM05Jp",
        "outputId": "54933e2d-575e-4489-de47-06d3990fab5b"
      },
      "execution_count": 19,
      "outputs": [
        {
          "output_type": "stream",
          "name": "stdout",
          "text": [
            "2\n"
          ]
        }
      ]
    },
    {
      "cell_type": "code",
      "source": [
        "# otra forma alternativa de crear una Series\n",
        "print(pd.Series([2,5,7],\n",
        "                index = [\"gaby\", \"jorge\", \"mag\"]))"
      ],
      "metadata": {
        "colab": {
          "base_uri": "https://localhost:8080/"
        },
        "id": "ZKAv68or2Nt2",
        "outputId": "182b365b-f259-49c7-d71d-4a4d298eff85"
      },
      "execution_count": 24,
      "outputs": [
        {
          "output_type": "stream",
          "name": "stdout",
          "text": [
            "gaby     2\n",
            "jorge    5\n",
            "mag      7\n",
            "dtype: int64\n"
          ]
        }
      ]
    },
    {
      "cell_type": "markdown",
      "source": [
        "## Dataframe\n",
        "\n",
        "La segunda estructura de datos prinicipal es el **dataframe**\n",
        "\n",
        "Un **dataframe** es una tabla bidimensional con **etiquetas** en los ejes y datos **heterogéneos**."
      ],
      "metadata": {
        "id": "hvXVkbtj2ppI"
      }
    },
    {
      "cell_type": "code",
      "source": [
        "print(pd.DataFrame([\n",
        "                    [1,2,3],\n",
        "                    [4,5,6]\n",
        "]))"
      ],
      "metadata": {
        "colab": {
          "base_uri": "https://localhost:8080/"
        },
        "id": "pp5D3ZQr246d",
        "outputId": "049518cf-ecd7-4c2c-d002-57b134492937"
      },
      "execution_count": 25,
      "outputs": [
        {
          "output_type": "stream",
          "name": "stdout",
          "text": [
            "   0  1  2\n",
            "0  1  2  3\n",
            "1  4  5  6\n"
          ]
        }
      ]
    },
    {
      "cell_type": "markdown",
      "source": [
        "al igual que la *series* , el dataframe puede tener etiquetas en los ejes \n",
        "```\n",
        "Filas: axis=0\n",
        "Cols: axis=1\n",
        "```"
      ],
      "metadata": {
        "id": "yXCVnWxu3HPf"
      }
    },
    {
      "cell_type": "code",
      "source": [
        "# utilizamos un diccionario para definir cada columna y una lista para indicar las etiquetas\n",
        "d = {\n",
        "    \"alice\" : [1953, 12, 3],\n",
        "     \"bob\" : [1981, 7, 14],\n",
        "     \"eve\" : [2011, 11, 11]\n",
        "}\n",
        "print(d)"
      ],
      "metadata": {
        "colab": {
          "base_uri": "https://localhost:8080/"
        },
        "id": "ccGUSFhc2_oF",
        "outputId": "ceffd158-f75c-467a-dd1c-ce9f8b8bd407"
      },
      "execution_count": 27,
      "outputs": [
        {
          "output_type": "stream",
          "name": "stdout",
          "text": [
            "{'alice': [1953, 12, 3], 'bob': [1981, 7, 14], 'eve': [2011, 11, 11]}\n"
          ]
        }
      ]
    },
    {
      "cell_type": "code",
      "source": [
        "type(d)"
      ],
      "metadata": {
        "colab": {
          "base_uri": "https://localhost:8080/"
        },
        "id": "GlTYngKP3nJe",
        "outputId": "84edff45-1c39-47bc-fd56-cd51cef489cb"
      },
      "execution_count": 28,
      "outputs": [
        {
          "output_type": "execute_result",
          "data": {
            "text/plain": [
              "dict"
            ]
          },
          "metadata": {},
          "execution_count": 28
        }
      ]
    },
    {
      "cell_type": "code",
      "source": [
        "print(pd.DataFrame(d, index=['year', 'month', 'day']))"
      ],
      "metadata": {
        "colab": {
          "base_uri": "https://localhost:8080/"
        },
        "id": "le2skey22dH4",
        "outputId": "f77cd5fd-10d6-4e08-8659-0c51fe88ff59"
      },
      "execution_count": 29,
      "outputs": [
        {
          "output_type": "stream",
          "name": "stdout",
          "text": [
            "       alice   bob   eve\n",
            "year    1953  1981  2011\n",
            "month     12     7    11\n",
            "day        3    14    11\n"
          ]
        }
      ]
    },
    {
      "cell_type": "code",
      "source": [
        "# alternativa \n",
        "listas_vals = [[1953, 12, 3], [1955, 11, 24], [2011, 10, 10]]\n",
        "df = pd.DataFrame(data=listas_vals,\n",
        "                  columns=['year','month','day'],\n",
        "                  index=['alice','bob','eve'],\n",
        "                  dtype=np.int16)\n",
        "print(df)"
      ],
      "metadata": {
        "colab": {
          "base_uri": "https://localhost:8080/"
        },
        "id": "3aAA3vcF3_lX",
        "outputId": "89146a9b-4ad4-4ea8-dc94-1bb313ae196c"
      },
      "execution_count": 42,
      "outputs": [
        {
          "output_type": "stream",
          "name": "stdout",
          "text": [
            "       year  month  day\n",
            "alice  1953     12    3\n",
            "bob    1955     11   24\n",
            "eve    2011     10   10\n"
          ]
        }
      ]
    },
    {
      "cell_type": "code",
      "source": [
        "df.info()"
      ],
      "metadata": {
        "colab": {
          "base_uri": "https://localhost:8080/"
        },
        "id": "v8HHoZX248du",
        "outputId": "ae177322-ed15-4259-8476-d13a26112754"
      },
      "execution_count": 43,
      "outputs": [
        {
          "output_type": "stream",
          "name": "stdout",
          "text": [
            "<class 'pandas.core.frame.DataFrame'>\n",
            "Index: 3 entries, alice to eve\n",
            "Data columns (total 3 columns):\n",
            " #   Column  Non-Null Count  Dtype\n",
            "---  ------  --------------  -----\n",
            " 0   year    3 non-null      int16\n",
            " 1   month   3 non-null      int16\n",
            " 2   day     3 non-null      int16\n",
            "dtypes: int16(3)\n",
            "memory usage: 42.0+ bytes\n"
          ]
        }
      ]
    },
    {
      "cell_type": "code",
      "source": [
        "# Creamos una estructura de datos heterogénea\n",
        "a = [\n",
        "     [1953, \"computer science\", 3.5], \n",
        "     [1955, \"archeology\", 3.8], \n",
        "     [2011, \"biology\", 2.8]]\n",
        "print(pd.DataFrame(a, \n",
        "                   columns=[\"year\", \"major\", \"average grade\"], \n",
        "                   index = [\"alice\", \"bob\", \"eve\"]))"
      ],
      "metadata": {
        "colab": {
          "base_uri": "https://localhost:8080/"
        },
        "id": "5YO8bxu24aK1",
        "outputId": "f914bc08-438f-4c45-b409-e8ba24c1d19a"
      },
      "execution_count": 44,
      "outputs": [
        {
          "output_type": "stream",
          "name": "stdout",
          "text": [
            "       year             major  average grade\n",
            "alice  1953  computer science            3.5\n",
            "bob    1955        archeology            3.8\n",
            "eve    2011           biology            2.8\n"
          ]
        }
      ]
    },
    {
      "cell_type": "markdown",
      "source": [
        "## Panel\n",
        "\n",
        "Es la tercera estructura en Pandas del tipo tridimensional, puede contener etiquetas y ser heterogénea. Es la menos usada en pandas y normalmente para \n",
        "imágenes."
      ],
      "metadata": {
        "id": "4iFVY_as7aEZ"
      }
    },
    {
      "cell_type": "code",
      "source": [
        "img = [[[0, 0, 0], \n",
        "        [0, 15, 0], \n",
        "        [0, 0, 15], \n",
        "        [15, 0, 0], \n",
        "        [180, 180, 180]\n",
        "        ],\n",
        "       [\n",
        "        [200, 200, 200], \n",
        "        [125, 1, 125], \n",
        "        [100, 100, 2], \n",
        "        [1, 152, 125], \n",
        "        [15, 25, 20]\n",
        "        ]\n",
        "       ]\n"
      ],
      "metadata": {
        "id": "lDx5nX6s6NhX"
      },
      "execution_count": 48,
      "outputs": []
    },
    {
      "cell_type": "code",
      "source": [
        "pd.Panel()"
      ],
      "metadata": {
        "colab": {
          "base_uri": "https://localhost:8080/"
        },
        "id": "PNJM8F108872",
        "outputId": "fed5869d-6f73-4a62-ab06-c2ec115263a1"
      },
      "execution_count": 50,
      "outputs": [
        {
          "output_type": "stream",
          "name": "stderr",
          "text": [
            "/usr/local/lib/python3.7/dist-packages/ipykernel_launcher.py:1: FutureWarning: The Panel class is removed from pandas. Accessing it from the top-level namespace will also be removed in the next version\n",
            "  \"\"\"Entry point for launching an IPython kernel.\n"
          ]
        },
        {
          "output_type": "execute_result",
          "data": {
            "text/plain": [
              "<pandas.__getattr__.<locals>.Panel at 0x7ff6b669be50>"
            ]
          },
          "metadata": {},
          "execution_count": 50
        }
      ]
    },
    {
      "cell_type": "code",
      "source": [
        "data_panel = pd.Panel(img,\n",
        "         minor_axis = [\"R\", \"G\", \"B\"], # píxel 3 valores\n",
        "         major_axis = [\"x\"+str(i) for i in range(5)], # 5 px horizontal\n",
        "         items = [\"y\"+str(i) for i in range(2)]\n",
        "         ) # 2 px vertical"
      ],
      "metadata": {
        "colab": {
          "base_uri": "https://localhost:8080/",
          "height": 287
        },
        "id": "kEt5eDnG7-2Z",
        "outputId": "c0f41571-fb9f-4b71-91ee-b943f5a52c61"
      },
      "execution_count": 49,
      "outputs": [
        {
          "output_type": "stream",
          "name": "stderr",
          "text": [
            "/usr/local/lib/python3.7/dist-packages/ipykernel_launcher.py:1: FutureWarning: The Panel class is removed from pandas. Accessing it from the top-level namespace will also be removed in the next version\n",
            "  \"\"\"Entry point for launching an IPython kernel.\n"
          ]
        },
        {
          "output_type": "error",
          "ename": "TypeError",
          "evalue": "ignored",
          "traceback": [
            "\u001b[0;31m---------------------------------------------------------------------------\u001b[0m",
            "\u001b[0;31mTypeError\u001b[0m                                 Traceback (most recent call last)",
            "\u001b[0;32m<ipython-input-49-915ce427e6a0>\u001b[0m in \u001b[0;36m<module>\u001b[0;34m()\u001b[0m\n\u001b[1;32m      2\u001b[0m          \u001b[0mminor_axis\u001b[0m \u001b[0;34m=\u001b[0m \u001b[0;34m[\u001b[0m\u001b[0;34m\"R\"\u001b[0m\u001b[0;34m,\u001b[0m \u001b[0;34m\"G\"\u001b[0m\u001b[0;34m,\u001b[0m \u001b[0;34m\"B\"\u001b[0m\u001b[0;34m]\u001b[0m\u001b[0;34m,\u001b[0m \u001b[0;31m# píxel 3 valores\u001b[0m\u001b[0;34m\u001b[0m\u001b[0;34m\u001b[0m\u001b[0m\n\u001b[1;32m      3\u001b[0m          \u001b[0mmajor_axis\u001b[0m \u001b[0;34m=\u001b[0m \u001b[0;34m[\u001b[0m\u001b[0;34m\"x\"\u001b[0m\u001b[0;34m+\u001b[0m\u001b[0mstr\u001b[0m\u001b[0;34m(\u001b[0m\u001b[0mi\u001b[0m\u001b[0;34m)\u001b[0m \u001b[0;32mfor\u001b[0m \u001b[0mi\u001b[0m \u001b[0;32min\u001b[0m \u001b[0mrange\u001b[0m\u001b[0;34m(\u001b[0m\u001b[0;36m5\u001b[0m\u001b[0;34m)\u001b[0m\u001b[0;34m]\u001b[0m\u001b[0;34m,\u001b[0m \u001b[0;31m# 5 px horizontal\u001b[0m\u001b[0;34m\u001b[0m\u001b[0;34m\u001b[0m\u001b[0m\n\u001b[0;32m----> 4\u001b[0;31m          \u001b[0mitems\u001b[0m \u001b[0;34m=\u001b[0m \u001b[0;34m[\u001b[0m\u001b[0;34m\"y\"\u001b[0m\u001b[0;34m+\u001b[0m\u001b[0mstr\u001b[0m\u001b[0;34m(\u001b[0m\u001b[0mi\u001b[0m\u001b[0;34m)\u001b[0m \u001b[0;32mfor\u001b[0m \u001b[0mi\u001b[0m \u001b[0;32min\u001b[0m \u001b[0mrange\u001b[0m\u001b[0;34m(\u001b[0m\u001b[0;36m2\u001b[0m\u001b[0;34m)\u001b[0m\u001b[0;34m]\u001b[0m\u001b[0;34m\u001b[0m\u001b[0;34m\u001b[0m\u001b[0m\n\u001b[0m\u001b[1;32m      5\u001b[0m          ) # 2 px vertical\n",
            "\u001b[0;31mTypeError\u001b[0m: Panel() takes no arguments"
          ]
        }
      ]
    },
    {
      "cell_type": "code",
      "source": [
        "%pylab inline\n",
        "from pylab import imshow\n",
        "imshow(array(img, dtype=uint32), interpolation='nearest')"
      ],
      "metadata": {
        "colab": {
          "base_uri": "https://localhost:8080/",
          "height": 223
        },
        "id": "ktGufa539HwS",
        "outputId": "a74c6a9f-46a0-4de1-829d-330ca2589b4e"
      },
      "execution_count": 52,
      "outputs": [
        {
          "output_type": "stream",
          "name": "stdout",
          "text": [
            "Populating the interactive namespace from numpy and matplotlib\n"
          ]
        },
        {
          "output_type": "execute_result",
          "data": {
            "text/plain": [
              "<matplotlib.image.AxesImage at 0x7ff6b6180fd0>"
            ]
          },
          "metadata": {},
          "execution_count": 52
        },
        {
          "output_type": "display_data",
          "data": {
            "image/png": "[encoded data removed]",
            "text/plain": [
              "<Figure size 432x288 with 1 Axes>"
            ]
          },
          "metadata": {
            "needs_background": "light"
          }
        }
      ]
    },
    {
      "cell_type": "markdown",
      "source": [
        "## Operaciones básicas sobre un dataframe"
      ],
      "metadata": {
        "id": "g4lOy30j-UzB"
      }
    },
    {
      "cell_type": "code",
      "source": [
        "# Importamos un fichero y lo pasamos a dataframe\n",
        "data = pd.read_csv(\"/content/marvel-wikia-data.csv\")\n",
        "data"
      ],
      "metadata": {
        "colab": {
          "base_uri": "https://localhost:8080/",
          "height": 860
        },
        "id": "BI_1cxiZ-EBO",
        "outputId": "476345b5-be2d-4d1d-f765-36efb0267341"
      },
      "execution_count": 53,
      "outputs": [
        {
          "output_type": "execute_result",
          "data": {
            "text/html": [
              "<div>\n",
              "<style scoped>\n",
              "    .dataframe tbody tr th:only-of-type {\n",
              "        vertical-align: middle;\n",
              "    }\n",
              "\n",
              "    .dataframe tbody tr th {\n",
              "        vertical-align: top;\n",
              "    }\n",
              "\n",
              "    .dataframe thead th {\n",
              "        text-align: right;\n",
              "    }\n",
              "</style>\n",
              "<table border=\"1\" class=\"dataframe\">\n",
              "  <thead>\n",
              "    <tr style=\"text-align: right;\">\n",
              "      <th></th>\n",
              "      <th>page_id</th>\n",
              "      <th>name</th>\n",
              "      <th>urlslug</th>\n",
              "      <th>ID</th>\n",
              "      <th>ALIGN</th>\n",
              "      <th>EYE</th>\n",
              "      <th>HAIR</th>\n",
              "      <th>SEX</th>\n",
              "      <th>GSM</th>\n",
              "      <th>ALIVE</th>\n",
              "      <th>APPEARANCES</th>\n",
              "      <th>FIRST APPEARANCE</th>\n",
              "      <th>Year</th>\n",
              "    </tr>\n",
              "  </thead>\n",
              "  <tbody>\n",
              "    <tr>\n",
              "      <th>0</th>\n",
              "      <td>1678</td>\n",
              "      <td>Spider-Man (Peter Parker)</td>\n",
              "      <td>\\/Spider-Man_(Peter_Parker)</td>\n",
              "      <td>Secret Identity</td>\n",
              "      <td>Good Characters</td>\n",
              "      <td>Hazel Eyes</td>\n",
              "      <td>Brown Hair</td>\n",
              "      <td>Male Characters</td>\n",
              "      <td>NaN</td>\n",
              "      <td>Living Characters</td>\n",
              "      <td>4043.0</td>\n",
              "      <td>Aug-62</td>\n",
              "      <td>1962.0</td>\n",
              "    </tr>\n",
              "    <tr>\n",
              "      <th>1</th>\n",
              "      <td>7139</td>\n",
              "      <td>Captain America (Steven Rogers)</td>\n",
              "      <td>\\/Captain_America_(Steven_Rogers)</td>\n",
              "      <td>Public Identity</td>\n",
              "      <td>Good Characters</td>\n",
              "      <td>Blue Eyes</td>\n",
              "      <td>White Hair</td>\n",
              "      <td>Male Characters</td>\n",
              "      <td>NaN</td>\n",
              "      <td>Living Characters</td>\n",
              "      <td>3360.0</td>\n",
              "      <td>Mar-41</td>\n",
              "      <td>1941.0</td>\n",
              "    </tr>\n",
              "    <tr>\n",
              "      <th>2</th>\n",
              "      <td>64786</td>\n",
              "      <td>Wolverine (James \\\"Logan\\\" Howlett)</td>\n",
              "      <td>\\/Wolverine_(James_%22Logan%22_Howlett)</td>\n",
              "      <td>Public Identity</td>\n",
              "      <td>Neutral Characters</td>\n",
              "      <td>Blue Eyes</td>\n",
              "      <td>Black Hair</td>\n",
              "      <td>Male Characters</td>\n",
              "      <td>NaN</td>\n",
              "      <td>Living Characters</td>\n",
              "      <td>3061.0</td>\n",
              "      <td>Oct-74</td>\n",
              "      <td>1974.0</td>\n",
              "    </tr>\n",
              "    <tr>\n",
              "      <th>3</th>\n",
              "      <td>1868</td>\n",
              "      <td>Iron Man (Anthony \\\"Tony\\\" Stark)</td>\n",
              "      <td>\\/Iron_Man_(Anthony_%22Tony%22_Stark)</td>\n",
              "      <td>Public Identity</td>\n",
              "      <td>Good Characters</td>\n",
              "      <td>Blue Eyes</td>\n",
              "      <td>Black Hair</td>\n",
              "      <td>Male Characters</td>\n",
              "      <td>NaN</td>\n",
              "      <td>Living Characters</td>\n",
              "      <td>2961.0</td>\n",
              "      <td>Mar-63</td>\n",
              "      <td>1963.0</td>\n",
              "    </tr>\n",
              "    <tr>\n",
              "      <th>4</th>\n",
              "      <td>2460</td>\n",
              "      <td>Thor (Thor Odinson)</td>\n",
              "      <td>\\/Thor_(Thor_Odinson)</td>\n",
              "      <td>No Dual Identity</td>\n",
              "      <td>Good Characters</td>\n",
              "      <td>Blue Eyes</td>\n",
              "      <td>Blond Hair</td>\n",
              "      <td>Male Characters</td>\n",
              "      <td>NaN</td>\n",
              "      <td>Living Characters</td>\n",
              "      <td>2258.0</td>\n",
              "      <td>Nov-50</td>\n",
              "      <td>1950.0</td>\n",
              "    </tr>\n",
              "    <tr>\n",
              "      <th>...</th>\n",
              "      <td>...</td>\n",
              "      <td>...</td>\n",
              "      <td>...</td>\n",
              "      <td>...</td>\n",
              "      <td>...</td>\n",
              "      <td>...</td>\n",
              "      <td>...</td>\n",
              "      <td>...</td>\n",
              "      <td>...</td>\n",
              "      <td>...</td>\n",
              "      <td>...</td>\n",
              "      <td>...</td>\n",
              "      <td>...</td>\n",
              "    </tr>\n",
              "    <tr>\n",
              "      <th>16371</th>\n",
              "      <td>657508</td>\n",
              "      <td>Ru'ach (Earth-616)</td>\n",
              "      <td>\\/Ru%27ach_(Earth-616)</td>\n",
              "      <td>No Dual Identity</td>\n",
              "      <td>Bad Characters</td>\n",
              "      <td>Green Eyes</td>\n",
              "      <td>No Hair</td>\n",
              "      <td>Male Characters</td>\n",
              "      <td>NaN</td>\n",
              "      <td>Living Characters</td>\n",
              "      <td>NaN</td>\n",
              "      <td>NaN</td>\n",
              "      <td>NaN</td>\n",
              "    </tr>\n",
              "    <tr>\n",
              "      <th>16372</th>\n",
              "      <td>665474</td>\n",
              "      <td>Thane (Thanos' son) (Earth-616)</td>\n",
              "      <td>\\/Thane_(Thanos%27_son)_(Earth-616)</td>\n",
              "      <td>No Dual Identity</td>\n",
              "      <td>Good Characters</td>\n",
              "      <td>Blue Eyes</td>\n",
              "      <td>Bald</td>\n",
              "      <td>Male Characters</td>\n",
              "      <td>NaN</td>\n",
              "      <td>Living Characters</td>\n",
              "      <td>NaN</td>\n",
              "      <td>NaN</td>\n",
              "      <td>NaN</td>\n",
              "    </tr>\n",
              "    <tr>\n",
              "      <th>16373</th>\n",
              "      <td>695217</td>\n",
              "      <td>Tinkerer (Skrull) (Earth-616)</td>\n",
              "      <td>\\/Tinkerer_(Skrull)_(Earth-616)</td>\n",
              "      <td>Secret Identity</td>\n",
              "      <td>Bad Characters</td>\n",
              "      <td>Black Eyes</td>\n",
              "      <td>Bald</td>\n",
              "      <td>Male Characters</td>\n",
              "      <td>NaN</td>\n",
              "      <td>Living Characters</td>\n",
              "      <td>NaN</td>\n",
              "      <td>NaN</td>\n",
              "      <td>NaN</td>\n",
              "    </tr>\n",
              "    <tr>\n",
              "      <th>16374</th>\n",
              "      <td>708811</td>\n",
              "      <td>TK421 (Spiderling) (Earth-616)</td>\n",
              "      <td>\\/TK421_(Spiderling)_(Earth-616)</td>\n",
              "      <td>Secret Identity</td>\n",
              "      <td>Neutral Characters</td>\n",
              "      <td>NaN</td>\n",
              "      <td>NaN</td>\n",
              "      <td>Male Characters</td>\n",
              "      <td>NaN</td>\n",
              "      <td>Living Characters</td>\n",
              "      <td>NaN</td>\n",
              "      <td>NaN</td>\n",
              "      <td>NaN</td>\n",
              "    </tr>\n",
              "    <tr>\n",
              "      <th>16375</th>\n",
              "      <td>673702</td>\n",
              "      <td>Yologarch (Earth-616)</td>\n",
              "      <td>\\/Yologarch_(Earth-616)</td>\n",
              "      <td>NaN</td>\n",
              "      <td>Bad Characters</td>\n",
              "      <td>NaN</td>\n",
              "      <td>NaN</td>\n",
              "      <td>NaN</td>\n",
              "      <td>NaN</td>\n",
              "      <td>Living Characters</td>\n",
              "      <td>NaN</td>\n",
              "      <td>NaN</td>\n",
              "      <td>NaN</td>\n",
              "    </tr>\n",
              "  </tbody>\n",
              "</table>\n",
              "<p>16376 rows × 13 columns</p>\n",
              "</div>"
            ],
            "text/plain": [
              "       page_id                                 name  ... FIRST APPEARANCE    Year\n",
              "0         1678            Spider-Man (Peter Parker)  ...           Aug-62  1962.0\n",
              "1         7139      Captain America (Steven Rogers)  ...           Mar-41  1941.0\n",
              "2        64786  Wolverine (James \\\"Logan\\\" Howlett)  ...           Oct-74  1974.0\n",
              "3         1868    Iron Man (Anthony \\\"Tony\\\" Stark)  ...           Mar-63  1963.0\n",
              "4         2460                  Thor (Thor Odinson)  ...           Nov-50  1950.0\n",
              "...        ...                                  ...  ...              ...     ...\n",
              "16371   657508                   Ru'ach (Earth-616)  ...              NaN     NaN\n",
              "16372   665474      Thane (Thanos' son) (Earth-616)  ...              NaN     NaN\n",
              "16373   695217        Tinkerer (Skrull) (Earth-616)  ...              NaN     NaN\n",
              "16374   708811       TK421 (Spiderling) (Earth-616)  ...              NaN     NaN\n",
              "16375   673702                Yologarch (Earth-616)  ...              NaN     NaN\n",
              "\n",
              "[16376 rows x 13 columns]"
            ]
          },
          "metadata": {},
          "execution_count": 53
        }
      ]
    },
    {
      "cell_type": "code",
      "source": [
        "data.index # devuelve el número de índices"
      ],
      "metadata": {
        "colab": {
          "base_uri": "https://localhost:8080/"
        },
        "id": "0YqR1a9r-9wb",
        "outputId": "579ee088-d2eb-41e5-f9dd-4ee313d39999"
      },
      "execution_count": 56,
      "outputs": [
        {
          "output_type": "execute_result",
          "data": {
            "text/plain": [
              "RangeIndex(start=0, stop=16376, step=1)"
            ]
          },
          "metadata": {},
          "execution_count": 56
        }
      ]
    },
    {
      "cell_type": "code",
      "source": [
        "data.columns # devuelve los valores de las columnas"
      ],
      "metadata": {
        "colab": {
          "base_uri": "https://localhost:8080/"
        },
        "id": "1-DuDOUL_W7M",
        "outputId": "eaf620a5-4333-447d-b732-6a421929cd17"
      },
      "execution_count": 57,
      "outputs": [
        {
          "output_type": "execute_result",
          "data": {
            "text/plain": [
              "Index(['page_id', 'name', 'urlslug', 'ID', 'ALIGN', 'EYE', 'HAIR', 'SEX',\n",
              "       'GSM', 'ALIVE', 'APPEARANCES', 'FIRST APPEARANCE', 'Year'],\n",
              "      dtype='object')"
            ]
          },
          "metadata": {},
          "execution_count": 57
        }
      ]
    },
    {
      "cell_type": "code",
      "source": [
        "data.describe() # por defecto por valores numéricos"
      ],
      "metadata": {
        "colab": {
          "base_uri": "https://localhost:8080/",
          "height": 300
        },
        "id": "zIbbqceR_Xi5",
        "outputId": "58514e81-7df1-48d8-a6c5-691bd47dd12f"
      },
      "execution_count": 58,
      "outputs": [
        {
          "output_type": "execute_result",
          "data": {
            "text/html": [
              "<div>\n",
              "<style scoped>\n",
              "    .dataframe tbody tr th:only-of-type {\n",
              "        vertical-align: middle;\n",
              "    }\n",
              "\n",
              "    .dataframe tbody tr th {\n",
              "        vertical-align: top;\n",
              "    }\n",
              "\n",
              "    .dataframe thead th {\n",
              "        text-align: right;\n",
              "    }\n",
              "</style>\n",
              "<table border=\"1\" class=\"dataframe\">\n",
              "  <thead>\n",
              "    <tr style=\"text-align: right;\">\n",
              "      <th></th>\n",
              "      <th>page_id</th>\n",
              "      <th>APPEARANCES</th>\n",
              "      <th>Year</th>\n",
              "    </tr>\n",
              "  </thead>\n",
              "  <tbody>\n",
              "    <tr>\n",
              "      <th>count</th>\n",
              "      <td>16376.000000</td>\n",
              "      <td>15280.000000</td>\n",
              "      <td>15561.000000</td>\n",
              "    </tr>\n",
              "    <tr>\n",
              "      <th>mean</th>\n",
              "      <td>300232.082377</td>\n",
              "      <td>17.033377</td>\n",
              "      <td>1984.951803</td>\n",
              "    </tr>\n",
              "    <tr>\n",
              "      <th>std</th>\n",
              "      <td>253460.403399</td>\n",
              "      <td>96.372959</td>\n",
              "      <td>19.663571</td>\n",
              "    </tr>\n",
              "    <tr>\n",
              "      <th>min</th>\n",
              "      <td>1025.000000</td>\n",
              "      <td>1.000000</td>\n",
              "      <td>1939.000000</td>\n",
              "    </tr>\n",
              "    <tr>\n",
              "      <th>25%</th>\n",
              "      <td>28309.500000</td>\n",
              "      <td>1.000000</td>\n",
              "      <td>1974.000000</td>\n",
              "    </tr>\n",
              "    <tr>\n",
              "      <th>50%</th>\n",
              "      <td>282578.000000</td>\n",
              "      <td>3.000000</td>\n",
              "      <td>1990.000000</td>\n",
              "    </tr>\n",
              "    <tr>\n",
              "      <th>75%</th>\n",
              "      <td>509077.000000</td>\n",
              "      <td>8.000000</td>\n",
              "      <td>2000.000000</td>\n",
              "    </tr>\n",
              "    <tr>\n",
              "      <th>max</th>\n",
              "      <td>755278.000000</td>\n",
              "      <td>4043.000000</td>\n",
              "      <td>2013.000000</td>\n",
              "    </tr>\n",
              "  </tbody>\n",
              "</table>\n",
              "</div>"
            ],
            "text/plain": [
              "             page_id   APPEARANCES          Year\n",
              "count   16376.000000  15280.000000  15561.000000\n",
              "mean   300232.082377     17.033377   1984.951803\n",
              "std    253460.403399     96.372959     19.663571\n",
              "min      1025.000000      1.000000   1939.000000\n",
              "25%     28309.500000      1.000000   1974.000000\n",
              "50%    282578.000000      3.000000   1990.000000\n",
              "75%    509077.000000      8.000000   2000.000000\n",
              "max    755278.000000   4043.000000   2013.000000"
            ]
          },
          "metadata": {},
          "execution_count": 58
        }
      ]
    },
    {
      "cell_type": "markdown",
      "source": [
        "## Indexación y selección de datos"
      ],
      "metadata": {
        "id": "AQ4bUm4j_wgu"
      }
    },
    {
      "cell_type": "code",
      "source": [
        "# Seleccionamos los nombres de los diez primeros personajes\n",
        "data[\"name\"][0:10]"
      ],
      "metadata": {
        "colab": {
          "base_uri": "https://localhost:8080/"
        },
        "id": "rKXzr1ju_yb9",
        "outputId": "95c0d792-7846-416f-d324-17cfbb4fe383"
      },
      "execution_count": 59,
      "outputs": [
        {
          "output_type": "execute_result",
          "data": {
            "text/plain": [
              "0              Spider-Man (Peter Parker)\n",
              "1        Captain America (Steven Rogers)\n",
              "2    Wolverine (James \\\"Logan\\\" Howlett)\n",
              "3      Iron Man (Anthony \\\"Tony\\\" Stark)\n",
              "4                    Thor (Thor Odinson)\n",
              "5             Benjamin Grimm (Earth-616)\n",
              "6              Reed Richards (Earth-616)\n",
              "7             Hulk (Robert Bruce Banner)\n",
              "8              Scott Summers (Earth-616)\n",
              "9             Jonathan Storm (Earth-616)\n",
              "Name: name, dtype: object"
            ]
          },
          "metadata": {},
          "execution_count": 59
        }
      ]
    },
    {
      "cell_type": "code",
      "source": [
        "# Seleccionamos el nombre, estado de identidad, color de pelo solo filas 3, 8\n",
        "data.loc[[3,8],\n",
        "      [\"name\", \"ID\", \"HAIR\"]]"
      ],
      "metadata": {
        "colab": {
          "base_uri": "https://localhost:8080/",
          "height": 112
        },
        "id": "j5ktIsaE_f1l",
        "outputId": "5304deb4-1514-42fe-8637-9e7d403f2e1f"
      },
      "execution_count": 64,
      "outputs": [
        {
          "output_type": "execute_result",
          "data": {
            "text/html": [
              "<div>\n",
              "<style scoped>\n",
              "    .dataframe tbody tr th:only-of-type {\n",
              "        vertical-align: middle;\n",
              "    }\n",
              "\n",
              "    .dataframe tbody tr th {\n",
              "        vertical-align: top;\n",
              "    }\n",
              "\n",
              "    .dataframe thead th {\n",
              "        text-align: right;\n",
              "    }\n",
              "</style>\n",
              "<table border=\"1\" class=\"dataframe\">\n",
              "  <thead>\n",
              "    <tr style=\"text-align: right;\">\n",
              "      <th></th>\n",
              "      <th>name</th>\n",
              "      <th>ID</th>\n",
              "      <th>HAIR</th>\n",
              "    </tr>\n",
              "  </thead>\n",
              "  <tbody>\n",
              "    <tr>\n",
              "      <th>3</th>\n",
              "      <td>Iron Man (Anthony \\\"Tony\\\" Stark)</td>\n",
              "      <td>Public Identity</td>\n",
              "      <td>Black Hair</td>\n",
              "    </tr>\n",
              "    <tr>\n",
              "      <th>8</th>\n",
              "      <td>Scott Summers (Earth-616)</td>\n",
              "      <td>Public Identity</td>\n",
              "      <td>Brown Hair</td>\n",
              "    </tr>\n",
              "  </tbody>\n",
              "</table>\n",
              "</div>"
            ],
            "text/plain": [
              "                                name               ID        HAIR\n",
              "3  Iron Man (Anthony \\\"Tony\\\" Stark)  Public Identity  Black Hair\n",
              "8          Scott Summers (Earth-616)  Public Identity  Brown Hair"
            ]
          },
          "metadata": {},
          "execution_count": 64
        }
      ]
    },
    {
      "cell_type": "code",
      "source": [
        "# Seleccionamos filas según el género utilizando operadores binarios\n",
        "male = data[data.SEX == 'Male Characters']\n",
        "female = data[data.SEX == 'Female Characters']\n",
        "print(male)\n",
        "print(female)"
      ],
      "metadata": {
        "colab": {
          "base_uri": "https://localhost:8080/"
        },
        "id": "53DAhcyXAKbx",
        "outputId": "70de581c-a195-4891-d177-2dfd6d166975"
      },
      "execution_count": 66,
      "outputs": [
        {
          "output_type": "stream",
          "name": "stdout",
          "text": [
            "       page_id  ...    Year\n",
            "0         1678  ...  1962.0\n",
            "1         7139  ...  1941.0\n",
            "2        64786  ...  1974.0\n",
            "3         1868  ...  1963.0\n",
            "4         2460  ...  1950.0\n",
            "...        ...  ...     ...\n",
            "16367   694583  ...     NaN\n",
            "16371   657508  ...     NaN\n",
            "16372   665474  ...     NaN\n",
            "16373   695217  ...     NaN\n",
            "16374   708811  ...     NaN\n",
            "\n",
            "[11638 rows x 13 columns]\n",
            "       page_id  ...    Year\n",
            "11        1863  ...  1961.0\n",
            "13        2614  ...  1975.0\n",
            "17        1978  ...  1965.0\n",
            "24        2512  ...  1964.0\n",
            "26        1976  ...  1963.0\n",
            "...        ...  ...     ...\n",
            "16361   713903  ...     NaN\n",
            "16362   508693  ...     NaN\n",
            "16366   643435  ...     NaN\n",
            "16368   703892  ...     NaN\n",
            "16369   660799  ...     NaN\n",
            "\n",
            "[3837 rows x 13 columns]\n"
          ]
        }
      ]
    },
    {
      "cell_type": "code",
      "source": [
        "data[data.SEX == 'Male Characters']"
      ],
      "metadata": {
        "colab": {
          "base_uri": "https://localhost:8080/",
          "height": 912
        },
        "id": "v2mQw9sq_SdI",
        "outputId": "2ca378be-383c-4b82-abd7-2ebcc9949c4b"
      },
      "execution_count": 69,
      "outputs": [
        {
          "output_type": "execute_result",
          "data": {
            "text/html": [
              "<div>\n",
              "<style scoped>\n",
              "    .dataframe tbody tr th:only-of-type {\n",
              "        vertical-align: middle;\n",
              "    }\n",
              "\n",
              "    .dataframe tbody tr th {\n",
              "        vertical-align: top;\n",
              "    }\n",
              "\n",
              "    .dataframe thead th {\n",
              "        text-align: right;\n",
              "    }\n",
              "</style>\n",
              "<table border=\"1\" class=\"dataframe\">\n",
              "  <thead>\n",
              "    <tr style=\"text-align: right;\">\n",
              "      <th></th>\n",
              "      <th>page_id</th>\n",
              "      <th>name</th>\n",
              "      <th>urlslug</th>\n",
              "      <th>ID</th>\n",
              "      <th>ALIGN</th>\n",
              "      <th>EYE</th>\n",
              "      <th>HAIR</th>\n",
              "      <th>SEX</th>\n",
              "      <th>GSM</th>\n",
              "      <th>ALIVE</th>\n",
              "      <th>APPEARANCES</th>\n",
              "      <th>FIRST APPEARANCE</th>\n",
              "      <th>Year</th>\n",
              "    </tr>\n",
              "  </thead>\n",
              "  <tbody>\n",
              "    <tr>\n",
              "      <th>0</th>\n",
              "      <td>1678</td>\n",
              "      <td>Spider-Man (Peter Parker)</td>\n",
              "      <td>\\/Spider-Man_(Peter_Parker)</td>\n",
              "      <td>Secret Identity</td>\n",
              "      <td>Good Characters</td>\n",
              "      <td>Hazel Eyes</td>\n",
              "      <td>Brown Hair</td>\n",
              "      <td>Male Characters</td>\n",
              "      <td>NaN</td>\n",
              "      <td>Living Characters</td>\n",
              "      <td>4043.0</td>\n",
              "      <td>Aug-62</td>\n",
              "      <td>1962.0</td>\n",
              "    </tr>\n",
              "    <tr>\n",
              "      <th>1</th>\n",
              "      <td>7139</td>\n",
              "      <td>Captain America (Steven Rogers)</td>\n",
              "      <td>\\/Captain_America_(Steven_Rogers)</td>\n",
              "      <td>Public Identity</td>\n",
              "      <td>Good Characters</td>\n",
              "      <td>Blue Eyes</td>\n",
              "      <td>White Hair</td>\n",
              "      <td>Male Characters</td>\n",
              "      <td>NaN</td>\n",
              "      <td>Living Characters</td>\n",
              "      <td>3360.0</td>\n",
              "      <td>Mar-41</td>\n",
              "      <td>1941.0</td>\n",
              "    </tr>\n",
              "    <tr>\n",
              "      <th>2</th>\n",
              "      <td>64786</td>\n",
              "      <td>Wolverine (James \\\"Logan\\\" Howlett)</td>\n",
              "      <td>\\/Wolverine_(James_%22Logan%22_Howlett)</td>\n",
              "      <td>Public Identity</td>\n",
              "      <td>Neutral Characters</td>\n",
              "      <td>Blue Eyes</td>\n",
              "      <td>Black Hair</td>\n",
              "      <td>Male Characters</td>\n",
              "      <td>NaN</td>\n",
              "      <td>Living Characters</td>\n",
              "      <td>3061.0</td>\n",
              "      <td>Oct-74</td>\n",
              "      <td>1974.0</td>\n",
              "    </tr>\n",
              "    <tr>\n",
              "      <th>3</th>\n",
              "      <td>1868</td>\n",
              "      <td>Iron Man (Anthony \\\"Tony\\\" Stark)</td>\n",
              "      <td>\\/Iron_Man_(Anthony_%22Tony%22_Stark)</td>\n",
              "      <td>Public Identity</td>\n",
              "      <td>Good Characters</td>\n",
              "      <td>Blue Eyes</td>\n",
              "      <td>Black Hair</td>\n",
              "      <td>Male Characters</td>\n",
              "      <td>NaN</td>\n",
              "      <td>Living Characters</td>\n",
              "      <td>2961.0</td>\n",
              "      <td>Mar-63</td>\n",
              "      <td>1963.0</td>\n",
              "    </tr>\n",
              "    <tr>\n",
              "      <th>4</th>\n",
              "      <td>2460</td>\n",
              "      <td>Thor (Thor Odinson)</td>\n",
              "      <td>\\/Thor_(Thor_Odinson)</td>\n",
              "      <td>No Dual Identity</td>\n",
              "      <td>Good Characters</td>\n",
              "      <td>Blue Eyes</td>\n",
              "      <td>Blond Hair</td>\n",
              "      <td>Male Characters</td>\n",
              "      <td>NaN</td>\n",
              "      <td>Living Characters</td>\n",
              "      <td>2258.0</td>\n",
              "      <td>Nov-50</td>\n",
              "      <td>1950.0</td>\n",
              "    </tr>\n",
              "    <tr>\n",
              "      <th>...</th>\n",
              "      <td>...</td>\n",
              "      <td>...</td>\n",
              "      <td>...</td>\n",
              "      <td>...</td>\n",
              "      <td>...</td>\n",
              "      <td>...</td>\n",
              "      <td>...</td>\n",
              "      <td>...</td>\n",
              "      <td>...</td>\n",
              "      <td>...</td>\n",
              "      <td>...</td>\n",
              "      <td>...</td>\n",
              "      <td>...</td>\n",
              "    </tr>\n",
              "    <tr>\n",
              "      <th>16367</th>\n",
              "      <td>694583</td>\n",
              "      <td>Marcus (Kate Bishop's neighbor) (Earth-616)</td>\n",
              "      <td>\\/Marcus_(Kate_Bishop%27s_neighbor)_(Earth-616)</td>\n",
              "      <td>Public Identity</td>\n",
              "      <td>Good Characters</td>\n",
              "      <td>Hazel Eyes</td>\n",
              "      <td>Bald</td>\n",
              "      <td>Male Characters</td>\n",
              "      <td>Homosexual Characters</td>\n",
              "      <td>Living Characters</td>\n",
              "      <td>NaN</td>\n",
              "      <td>NaN</td>\n",
              "      <td>NaN</td>\n",
              "    </tr>\n",
              "    <tr>\n",
              "      <th>16371</th>\n",
              "      <td>657508</td>\n",
              "      <td>Ru'ach (Earth-616)</td>\n",
              "      <td>\\/Ru%27ach_(Earth-616)</td>\n",
              "      <td>No Dual Identity</td>\n",
              "      <td>Bad Characters</td>\n",
              "      <td>Green Eyes</td>\n",
              "      <td>No Hair</td>\n",
              "      <td>Male Characters</td>\n",
              "      <td>NaN</td>\n",
              "      <td>Living Characters</td>\n",
              "      <td>NaN</td>\n",
              "      <td>NaN</td>\n",
              "      <td>NaN</td>\n",
              "    </tr>\n",
              "    <tr>\n",
              "      <th>16372</th>\n",
              "      <td>665474</td>\n",
              "      <td>Thane (Thanos' son) (Earth-616)</td>\n",
              "      <td>\\/Thane_(Thanos%27_son)_(Earth-616)</td>\n",
              "      <td>No Dual Identity</td>\n",
              "      <td>Good Characters</td>\n",
              "      <td>Blue Eyes</td>\n",
              "      <td>Bald</td>\n",
              "      <td>Male Characters</td>\n",
              "      <td>NaN</td>\n",
              "      <td>Living Characters</td>\n",
              "      <td>NaN</td>\n",
              "      <td>NaN</td>\n",
              "      <td>NaN</td>\n",
              "    </tr>\n",
              "    <tr>\n",
              "      <th>16373</th>\n",
              "      <td>695217</td>\n",
              "      <td>Tinkerer (Skrull) (Earth-616)</td>\n",
              "      <td>\\/Tinkerer_(Skrull)_(Earth-616)</td>\n",
              "      <td>Secret Identity</td>\n",
              "      <td>Bad Characters</td>\n",
              "      <td>Black Eyes</td>\n",
              "      <td>Bald</td>\n",
              "      <td>Male Characters</td>\n",
              "      <td>NaN</td>\n",
              "      <td>Living Characters</td>\n",
              "      <td>NaN</td>\n",
              "      <td>NaN</td>\n",
              "      <td>NaN</td>\n",
              "    </tr>\n",
              "    <tr>\n",
              "      <th>16374</th>\n",
              "      <td>708811</td>\n",
              "      <td>TK421 (Spiderling) (Earth-616)</td>\n",
              "      <td>\\/TK421_(Spiderling)_(Earth-616)</td>\n",
              "      <td>Secret Identity</td>\n",
              "      <td>Neutral Characters</td>\n",
              "      <td>NaN</td>\n",
              "      <td>NaN</td>\n",
              "      <td>Male Characters</td>\n",
              "      <td>NaN</td>\n",
              "      <td>Living Characters</td>\n",
              "      <td>NaN</td>\n",
              "      <td>NaN</td>\n",
              "      <td>NaN</td>\n",
              "    </tr>\n",
              "  </tbody>\n",
              "</table>\n",
              "<p>11638 rows × 13 columns</p>\n",
              "</div>"
            ],
            "text/plain": [
              "       page_id  ...    Year\n",
              "0         1678  ...  1962.0\n",
              "1         7139  ...  1941.0\n",
              "2        64786  ...  1974.0\n",
              "3         1868  ...  1963.0\n",
              "4         2460  ...  1950.0\n",
              "...        ...  ...     ...\n",
              "16367   694583  ...     NaN\n",
              "16371   657508  ...     NaN\n",
              "16372   665474  ...     NaN\n",
              "16373   695217  ...     NaN\n",
              "16374   708811  ...     NaN\n",
              "\n",
              "[11638 rows x 13 columns]"
            ]
          },
          "metadata": {},
          "execution_count": 69
        }
      ]
    },
    {
      "cell_type": "code",
      "source": [
        "# Combinamos operadores binarios para seleccionar los superhéroes con ID secreta que han aparecido más de dos mil veces\n",
        "secret_and_popular = data[(data.APPEARANCES > 2000) & (data.ID == \"Secret Identity\")]\n",
        "print(len(secret_and_popular))"
      ],
      "metadata": {
        "colab": {
          "base_uri": "https://localhost:8080/"
        },
        "id": "B0JkG_aHBbOz",
        "outputId": "e182daa6-1fa8-4359-f612-68958887f743"
      },
      "execution_count": 70,
      "outputs": [
        {
          "output_type": "stream",
          "name": "stdout",
          "text": [
            "1\n"
          ]
        }
      ]
    },
    {
      "cell_type": "code",
      "source": [
        "print(secret_and_popular['name'])"
      ],
      "metadata": {
        "colab": {
          "base_uri": "https://localhost:8080/"
        },
        "id": "7PcChU2fB3Aq",
        "outputId": "ac660e4a-4991-4571-9ff9-8d85c6b64864"
      },
      "execution_count": 72,
      "outputs": [
        {
          "output_type": "stream",
          "name": "stdout",
          "text": [
            "0    Spider-Man (Peter Parker)\n",
            "Name: name, dtype: object\n"
          ]
        }
      ]
    },
    {
      "cell_type": "code",
      "source": [
        "# Otro método es con where\n",
        "secr_and_pop2 = data.where((data.APPEARANCES > 1000) & (data.ID == \"Secret Identity\"))\n",
        "secr_and_pop2"
      ],
      "metadata": {
        "colab": {
          "base_uri": "https://localhost:8080/",
          "height": 493
        },
        "id": "Z_MHmhdECDPX",
        "outputId": "35fd2ca9-4925-4f27-8fa9-46bba12b44b8"
      },
      "execution_count": 73,
      "outputs": [
        {
          "output_type": "execute_result",
          "data": {
            "text/html": [
              "<div>\n",
              "<style scoped>\n",
              "    .dataframe tbody tr th:only-of-type {\n",
              "        vertical-align: middle;\n",
              "    }\n",
              "\n",
              "    .dataframe tbody tr th {\n",
              "        vertical-align: top;\n",
              "    }\n",
              "\n",
              "    .dataframe thead th {\n",
              "        text-align: right;\n",
              "    }\n",
              "</style>\n",
              "<table border=\"1\" class=\"dataframe\">\n",
              "  <thead>\n",
              "    <tr style=\"text-align: right;\">\n",
              "      <th></th>\n",
              "      <th>page_id</th>\n",
              "      <th>name</th>\n",
              "      <th>urlslug</th>\n",
              "      <th>ID</th>\n",
              "      <th>ALIGN</th>\n",
              "      <th>EYE</th>\n",
              "      <th>HAIR</th>\n",
              "      <th>SEX</th>\n",
              "      <th>GSM</th>\n",
              "      <th>ALIVE</th>\n",
              "      <th>APPEARANCES</th>\n",
              "      <th>FIRST APPEARANCE</th>\n",
              "      <th>Year</th>\n",
              "    </tr>\n",
              "  </thead>\n",
              "  <tbody>\n",
              "    <tr>\n",
              "      <th>0</th>\n",
              "      <td>1678.0</td>\n",
              "      <td>Spider-Man (Peter Parker)</td>\n",
              "      <td>\\/Spider-Man_(Peter_Parker)</td>\n",
              "      <td>Secret Identity</td>\n",
              "      <td>Good Characters</td>\n",
              "      <td>Hazel Eyes</td>\n",
              "      <td>Brown Hair</td>\n",
              "      <td>Male Characters</td>\n",
              "      <td>NaN</td>\n",
              "      <td>Living Characters</td>\n",
              "      <td>4043.0</td>\n",
              "      <td>Aug-62</td>\n",
              "      <td>1962.0</td>\n",
              "    </tr>\n",
              "    <tr>\n",
              "      <th>1</th>\n",
              "      <td>NaN</td>\n",
              "      <td>NaN</td>\n",
              "      <td>NaN</td>\n",
              "      <td>NaN</td>\n",
              "      <td>NaN</td>\n",
              "      <td>NaN</td>\n",
              "      <td>NaN</td>\n",
              "      <td>NaN</td>\n",
              "      <td>NaN</td>\n",
              "      <td>NaN</td>\n",
              "      <td>NaN</td>\n",
              "      <td>NaN</td>\n",
              "      <td>NaN</td>\n",
              "    </tr>\n",
              "    <tr>\n",
              "      <th>2</th>\n",
              "      <td>NaN</td>\n",
              "      <td>NaN</td>\n",
              "      <td>NaN</td>\n",
              "      <td>NaN</td>\n",
              "      <td>NaN</td>\n",
              "      <td>NaN</td>\n",
              "      <td>NaN</td>\n",
              "      <td>NaN</td>\n",
              "      <td>NaN</td>\n",
              "      <td>NaN</td>\n",
              "      <td>NaN</td>\n",
              "      <td>NaN</td>\n",
              "      <td>NaN</td>\n",
              "    </tr>\n",
              "    <tr>\n",
              "      <th>3</th>\n",
              "      <td>NaN</td>\n",
              "      <td>NaN</td>\n",
              "      <td>NaN</td>\n",
              "      <td>NaN</td>\n",
              "      <td>NaN</td>\n",
              "      <td>NaN</td>\n",
              "      <td>NaN</td>\n",
              "      <td>NaN</td>\n",
              "      <td>NaN</td>\n",
              "      <td>NaN</td>\n",
              "      <td>NaN</td>\n",
              "      <td>NaN</td>\n",
              "      <td>NaN</td>\n",
              "    </tr>\n",
              "    <tr>\n",
              "      <th>4</th>\n",
              "      <td>NaN</td>\n",
              "      <td>NaN</td>\n",
              "      <td>NaN</td>\n",
              "      <td>NaN</td>\n",
              "      <td>NaN</td>\n",
              "      <td>NaN</td>\n",
              "      <td>NaN</td>\n",
              "      <td>NaN</td>\n",
              "      <td>NaN</td>\n",
              "      <td>NaN</td>\n",
              "      <td>NaN</td>\n",
              "      <td>NaN</td>\n",
              "      <td>NaN</td>\n",
              "    </tr>\n",
              "    <tr>\n",
              "      <th>...</th>\n",
              "      <td>...</td>\n",
              "      <td>...</td>\n",
              "      <td>...</td>\n",
              "      <td>...</td>\n",
              "      <td>...</td>\n",
              "      <td>...</td>\n",
              "      <td>...</td>\n",
              "      <td>...</td>\n",
              "      <td>...</td>\n",
              "      <td>...</td>\n",
              "      <td>...</td>\n",
              "      <td>...</td>\n",
              "      <td>...</td>\n",
              "    </tr>\n",
              "    <tr>\n",
              "      <th>16371</th>\n",
              "      <td>NaN</td>\n",
              "      <td>NaN</td>\n",
              "      <td>NaN</td>\n",
              "      <td>NaN</td>\n",
              "      <td>NaN</td>\n",
              "      <td>NaN</td>\n",
              "      <td>NaN</td>\n",
              "      <td>NaN</td>\n",
              "      <td>NaN</td>\n",
              "      <td>NaN</td>\n",
              "      <td>NaN</td>\n",
              "      <td>NaN</td>\n",
              "      <td>NaN</td>\n",
              "    </tr>\n",
              "    <tr>\n",
              "      <th>16372</th>\n",
              "      <td>NaN</td>\n",
              "      <td>NaN</td>\n",
              "      <td>NaN</td>\n",
              "      <td>NaN</td>\n",
              "      <td>NaN</td>\n",
              "      <td>NaN</td>\n",
              "      <td>NaN</td>\n",
              "      <td>NaN</td>\n",
              "      <td>NaN</td>\n",
              "      <td>NaN</td>\n",
              "      <td>NaN</td>\n",
              "      <td>NaN</td>\n",
              "      <td>NaN</td>\n",
              "    </tr>\n",
              "    <tr>\n",
              "      <th>16373</th>\n",
              "      <td>NaN</td>\n",
              "      <td>NaN</td>\n",
              "      <td>NaN</td>\n",
              "      <td>NaN</td>\n",
              "      <td>NaN</td>\n",
              "      <td>NaN</td>\n",
              "      <td>NaN</td>\n",
              "      <td>NaN</td>\n",
              "      <td>NaN</td>\n",
              "      <td>NaN</td>\n",
              "      <td>NaN</td>\n",
              "      <td>NaN</td>\n",
              "      <td>NaN</td>\n",
              "    </tr>\n",
              "    <tr>\n",
              "      <th>16374</th>\n",
              "      <td>NaN</td>\n",
              "      <td>NaN</td>\n",
              "      <td>NaN</td>\n",
              "      <td>NaN</td>\n",
              "      <td>NaN</td>\n",
              "      <td>NaN</td>\n",
              "      <td>NaN</td>\n",
              "      <td>NaN</td>\n",
              "      <td>NaN</td>\n",
              "      <td>NaN</td>\n",
              "      <td>NaN</td>\n",
              "      <td>NaN</td>\n",
              "      <td>NaN</td>\n",
              "    </tr>\n",
              "    <tr>\n",
              "      <th>16375</th>\n",
              "      <td>NaN</td>\n",
              "      <td>NaN</td>\n",
              "      <td>NaN</td>\n",
              "      <td>NaN</td>\n",
              "      <td>NaN</td>\n",
              "      <td>NaN</td>\n",
              "      <td>NaN</td>\n",
              "      <td>NaN</td>\n",
              "      <td>NaN</td>\n",
              "      <td>NaN</td>\n",
              "      <td>NaN</td>\n",
              "      <td>NaN</td>\n",
              "      <td>NaN</td>\n",
              "    </tr>\n",
              "  </tbody>\n",
              "</table>\n",
              "<p>16376 rows × 13 columns</p>\n",
              "</div>"
            ],
            "text/plain": [
              "       page_id                       name  ... FIRST APPEARANCE    Year\n",
              "0       1678.0  Spider-Man (Peter Parker)  ...           Aug-62  1962.0\n",
              "1          NaN                        NaN  ...              NaN     NaN\n",
              "2          NaN                        NaN  ...              NaN     NaN\n",
              "3          NaN                        NaN  ...              NaN     NaN\n",
              "4          NaN                        NaN  ...              NaN     NaN\n",
              "...        ...                        ...  ...              ...     ...\n",
              "16371      NaN                        NaN  ...              NaN     NaN\n",
              "16372      NaN                        NaN  ...              NaN     NaN\n",
              "16373      NaN                        NaN  ...              NaN     NaN\n",
              "16374      NaN                        NaN  ...              NaN     NaN\n",
              "16375      NaN                        NaN  ...              NaN     NaN\n",
              "\n",
              "[16376 rows x 13 columns]"
            ]
          },
          "metadata": {},
          "execution_count": 73
        }
      ]
    },
    {
      "cell_type": "code",
      "source": [
        "# Para extraer los valores con doble condición a través de la función where, devolverá la misma estructura original\n",
        "secr_and_pop2['name'][0:5]"
      ],
      "metadata": {
        "colab": {
          "base_uri": "https://localhost:8080/"
        },
        "id": "igbi1cvICa0L",
        "outputId": "2f74ab42-c22e-4b74-fadb-8d3938af9462"
      },
      "execution_count": 75,
      "outputs": [
        {
          "output_type": "execute_result",
          "data": {
            "text/plain": [
              "0    Spider-Man (Peter Parker)\n",
              "1                          NaN\n",
              "2                          NaN\n",
              "3                          NaN\n",
              "4                          NaN\n",
              "Name: name, dtype: object"
            ]
          },
          "metadata": {},
          "execution_count": 75
        }
      ]
    },
    {
      "cell_type": "code",
      "source": [
        "# Para obviar este problema, utilizamos la función dropna() para eliminar los duplicados\n",
        "secr_and_pop2.dropna(how=\"all\")['name']"
      ],
      "metadata": {
        "colab": {
          "base_uri": "https://localhost:8080/"
        },
        "id": "pRLwpDKHCqe5",
        "outputId": "e14a2f00-99ef-4c6d-c3c5-9b9c88a834a2"
      },
      "execution_count": 76,
      "outputs": [
        {
          "output_type": "execute_result",
          "data": {
            "text/plain": [
              "0      Spider-Man (Peter Parker)\n",
              "19      Robert Drake (Earth-616)\n",
              "23    Piotr Rasputin (Earth-616)\n",
              "29       Kurt Wagner (Earth-616)\n",
              "30            Vision (Earth-616)\n",
              "Name: name, dtype: object"
            ]
          },
          "metadata": {},
          "execution_count": 76
        }
      ]
    },
    {
      "cell_type": "code",
      "source": [
        "# aplicamos a filas axis=0, condición todos los valores nulos, \"all\"\n",
        "data2 = secr_and_pop2.dropna(axis=0,how=\"all\", inplace=False)['name']\n",
        "data2"
      ],
      "metadata": {
        "colab": {
          "base_uri": "https://localhost:8080/"
        },
        "id": "4RKVbRgmEIjU",
        "outputId": "dc6dfe42-41b7-4812-eba2-17d590da619a"
      },
      "execution_count": 82,
      "outputs": [
        {
          "output_type": "execute_result",
          "data": {
            "text/plain": [
              "0      Spider-Man (Peter Parker)\n",
              "19      Robert Drake (Earth-616)\n",
              "23    Piotr Rasputin (Earth-616)\n",
              "29       Kurt Wagner (Earth-616)\n",
              "30            Vision (Earth-616)\n",
              "Name: name, dtype: object"
            ]
          },
          "metadata": {},
          "execution_count": 82
        }
      ]
    },
    {
      "cell_type": "code",
      "source": [
        "data3 = secr_and_pop2.dropna(axis=0, how='any', thresh=4)['name']\n",
        "data3"
      ],
      "metadata": {
        "colab": {
          "base_uri": "https://localhost:8080/"
        },
        "id": "ha4DqG91Ezb6",
        "outputId": "aa50258e-81df-46d7-cb98-aac20659cb32"
      },
      "execution_count": 86,
      "outputs": [
        {
          "output_type": "execute_result",
          "data": {
            "text/plain": [
              "0      Spider-Man (Peter Parker)\n",
              "19      Robert Drake (Earth-616)\n",
              "23    Piotr Rasputin (Earth-616)\n",
              "29       Kurt Wagner (Earth-616)\n",
              "30            Vision (Earth-616)\n",
              "Name: name, dtype: object"
            ]
          },
          "metadata": {},
          "execution_count": 86
        }
      ]
    },
    {
      "cell_type": "markdown",
      "source": [
        "## Agregación de datos\n",
        "\n",
        "Pandas permite crear grupos de datos a partir de los valores de una o más columnas."
      ],
      "metadata": {
        "id": "swrnJ5-pF70_"
      }
    },
    {
      "cell_type": "code",
      "source": [
        "# Agrupamos el dataframe en función de la alineación del superhéroe\n",
        "grouped = data.groupby(\"ALIGN\")\n",
        "grouped # devuelve un objeto del tipo DataFrameGroupBy"
      ],
      "metadata": {
        "colab": {
          "base_uri": "https://localhost:8080/"
        },
        "id": "rkamVJ4aGjvf",
        "outputId": "1c4622d7-9b1e-4ae7-9fcc-4afe6f02b7d7"
      },
      "execution_count": 87,
      "outputs": [
        {
          "output_type": "execute_result",
          "data": {
            "text/plain": [
              "<pandas.core.groupby.generic.DataFrameGroupBy object at 0x7ff6b4eb6610>"
            ]
          },
          "metadata": {},
          "execution_count": 87
        }
      ]
    },
    {
      "cell_type": "code",
      "source": [
        "# Para visualizar los datos agrupados\n",
        "for name, group in grouped:\n",
        "  print(name, len(group))"
      ],
      "metadata": {
        "colab": {
          "base_uri": "https://localhost:8080/"
        },
        "id": "tQ579VNXGrKX",
        "outputId": "54bc6480-b7de-4c39-b58a-2ab996350164"
      },
      "execution_count": 88,
      "outputs": [
        {
          "output_type": "stream",
          "name": "stdout",
          "text": [
            "Bad Characters 6720\n",
            "Good Characters 4636\n",
            "Neutral Characters 2208\n"
          ]
        }
      ]
    },
    {
      "cell_type": "code",
      "source": [
        "# Agrupamos por ALIGN e ID\n",
        "grouped = data.groupby([\"ALIGN\", \"ID\"])\n",
        "for name, group in grouped:\n",
        "  print(name, len(group))"
      ],
      "metadata": {
        "colab": {
          "base_uri": "https://localhost:8080/"
        },
        "id": "i4hzFZzmG6by",
        "outputId": "2ede934b-d3a1-44e3-a1e5-19624835c23e"
      },
      "execution_count": 89,
      "outputs": [
        {
          "output_type": "stream",
          "name": "stdout",
          "text": [
            "('Bad Characters', 'Known to Authorities Identity') 3\n",
            "('Bad Characters', 'No Dual Identity') 474\n",
            "('Bad Characters', 'Public Identity') 1452\n",
            "('Bad Characters', 'Secret Identity') 3223\n",
            "('Good Characters', 'Known to Authorities Identity') 10\n",
            "('Good Characters', 'No Dual Identity') 647\n",
            "('Good Characters', 'Public Identity') 1628\n",
            "('Good Characters', 'Secret Identity') 1613\n",
            "('Neutral Characters', 'Known to Authorities Identity') 2\n",
            "('Neutral Characters', 'No Dual Identity') 390\n",
            "('Neutral Characters', 'Public Identity') 706\n",
            "('Neutral Characters', 'Secret Identity') 818\n"
          ]
        }
      ]
    },
    {
      "cell_type": "code",
      "source": [
        "# A partir de los datos agrupados, aplicamos la función de agregación np.mean\n",
        "grouped.aggregate(np.mean)"
      ],
      "metadata": {
        "colab": {
          "base_uri": "https://localhost:8080/",
          "height": 457
        },
        "id": "OgfSF4sJEac0",
        "outputId": "4dda7f60-f315-4db3-bc14-fd181116cefb"
      },
      "execution_count": 90,
      "outputs": [
        {
          "output_type": "execute_result",
          "data": {
            "text/html": [
              "<div>\n",
              "<style scoped>\n",
              "    .dataframe tbody tr th:only-of-type {\n",
              "        vertical-align: middle;\n",
              "    }\n",
              "\n",
              "    .dataframe tbody tr th {\n",
              "        vertical-align: top;\n",
              "    }\n",
              "\n",
              "    .dataframe thead th {\n",
              "        text-align: right;\n",
              "    }\n",
              "</style>\n",
              "<table border=\"1\" class=\"dataframe\">\n",
              "  <thead>\n",
              "    <tr style=\"text-align: right;\">\n",
              "      <th></th>\n",
              "      <th></th>\n",
              "      <th>page_id</th>\n",
              "      <th>APPEARANCES</th>\n",
              "      <th>Year</th>\n",
              "    </tr>\n",
              "    <tr>\n",
              "      <th>ALIGN</th>\n",
              "      <th>ID</th>\n",
              "      <th></th>\n",
              "      <th></th>\n",
              "      <th></th>\n",
              "    </tr>\n",
              "  </thead>\n",
              "  <tbody>\n",
              "    <tr>\n",
              "      <th rowspan=\"4\" valign=\"top\">Bad Characters</th>\n",
              "      <th>Known to Authorities Identity</th>\n",
              "      <td>20762.666667</td>\n",
              "      <td>11.666667</td>\n",
              "      <td>1991.666667</td>\n",
              "    </tr>\n",
              "    <tr>\n",
              "      <th>No Dual Identity</th>\n",
              "      <td>420196.056962</td>\n",
              "      <td>10.434211</td>\n",
              "      <td>1973.530806</td>\n",
              "    </tr>\n",
              "    <tr>\n",
              "      <th>Public Identity</th>\n",
              "      <td>364450.002066</td>\n",
              "      <td>10.846815</td>\n",
              "      <td>1973.381458</td>\n",
              "    </tr>\n",
              "    <tr>\n",
              "      <th>Secret Identity</th>\n",
              "      <td>272270.281415</td>\n",
              "      <td>8.895082</td>\n",
              "      <td>1984.200065</td>\n",
              "    </tr>\n",
              "    <tr>\n",
              "      <th rowspan=\"4\" valign=\"top\">Good Characters</th>\n",
              "      <th>Known to Authorities Identity</th>\n",
              "      <td>67293.700000</td>\n",
              "      <td>72.000000</td>\n",
              "      <td>1994.100000</td>\n",
              "    </tr>\n",
              "    <tr>\n",
              "      <th>No Dual Identity</th>\n",
              "      <td>351762.737249</td>\n",
              "      <td>41.811570</td>\n",
              "      <td>1981.512195</td>\n",
              "    </tr>\n",
              "    <tr>\n",
              "      <th>Public Identity</th>\n",
              "      <td>328621.391892</td>\n",
              "      <td>42.761401</td>\n",
              "      <td>1982.214422</td>\n",
              "    </tr>\n",
              "    <tr>\n",
              "      <th>Secret Identity</th>\n",
              "      <td>209598.569746</td>\n",
              "      <td>37.098220</td>\n",
              "      <td>1990.303430</td>\n",
              "    </tr>\n",
              "    <tr>\n",
              "      <th rowspan=\"4\" valign=\"top\">Neutral Characters</th>\n",
              "      <th>Known to Authorities Identity</th>\n",
              "      <td>25164.000000</td>\n",
              "      <td>180.500000</td>\n",
              "      <td>1988.500000</td>\n",
              "    </tr>\n",
              "    <tr>\n",
              "      <th>No Dual Identity</th>\n",
              "      <td>448877.128205</td>\n",
              "      <td>24.430481</td>\n",
              "      <td>1983.160237</td>\n",
              "    </tr>\n",
              "    <tr>\n",
              "      <th>Public Identity</th>\n",
              "      <td>405297.841360</td>\n",
              "      <td>22.266165</td>\n",
              "      <td>1987.366322</td>\n",
              "    </tr>\n",
              "    <tr>\n",
              "      <th>Secret Identity</th>\n",
              "      <td>255694.179707</td>\n",
              "      <td>19.737113</td>\n",
              "      <td>1992.339818</td>\n",
              "    </tr>\n",
              "  </tbody>\n",
              "</table>\n",
              "</div>"
            ],
            "text/plain": [
              "                                                        page_id  ...         Year\n",
              "ALIGN              ID                                            ...             \n",
              "Bad Characters     Known to Authorities Identity   20762.666667  ...  1991.666667\n",
              "                   No Dual Identity               420196.056962  ...  1973.530806\n",
              "                   Public Identity                364450.002066  ...  1973.381458\n",
              "                   Secret Identity                272270.281415  ...  1984.200065\n",
              "Good Characters    Known to Authorities Identity   67293.700000  ...  1994.100000\n",
              "                   No Dual Identity               351762.737249  ...  1981.512195\n",
              "                   Public Identity                328621.391892  ...  1982.214422\n",
              "                   Secret Identity                209598.569746  ...  1990.303430\n",
              "Neutral Characters Known to Authorities Identity   25164.000000  ...  1988.500000\n",
              "                   No Dual Identity               448877.128205  ...  1983.160237\n",
              "                   Public Identity                405297.841360  ...  1987.366322\n",
              "                   Secret Identity                255694.179707  ...  1992.339818\n",
              "\n",
              "[12 rows x 3 columns]"
            ]
          },
          "metadata": {},
          "execution_count": 90
        }
      ]
    },
    {
      "cell_type": "code",
      "source": [
        "# recuperamos la info de un único grupo\n",
        "grouped.get_group((\"Neutral Characters\", \"Known to Authorities Identity\"))"
      ],
      "metadata": {
        "colab": {
          "base_uri": "https://localhost:8080/",
          "height": 219
        },
        "id": "5qcZ_FpEHich",
        "outputId": "d72bf866-9e86-4e2c-9007-086e9c2a4410"
      },
      "execution_count": 91,
      "outputs": [
        {
          "output_type": "execute_result",
          "data": {
            "text/html": [
              "<div>\n",
              "<style scoped>\n",
              "    .dataframe tbody tr th:only-of-type {\n",
              "        vertical-align: middle;\n",
              "    }\n",
              "\n",
              "    .dataframe tbody tr th {\n",
              "        vertical-align: top;\n",
              "    }\n",
              "\n",
              "    .dataframe thead th {\n",
              "        text-align: right;\n",
              "    }\n",
              "</style>\n",
              "<table border=\"1\" class=\"dataframe\">\n",
              "  <thead>\n",
              "    <tr style=\"text-align: right;\">\n",
              "      <th></th>\n",
              "      <th>page_id</th>\n",
              "      <th>name</th>\n",
              "      <th>urlslug</th>\n",
              "      <th>ID</th>\n",
              "      <th>ALIGN</th>\n",
              "      <th>EYE</th>\n",
              "      <th>HAIR</th>\n",
              "      <th>SEX</th>\n",
              "      <th>GSM</th>\n",
              "      <th>ALIVE</th>\n",
              "      <th>APPEARANCES</th>\n",
              "      <th>FIRST APPEARANCE</th>\n",
              "      <th>Year</th>\n",
              "    </tr>\n",
              "  </thead>\n",
              "  <tbody>\n",
              "    <tr>\n",
              "      <th>106</th>\n",
              "      <td>18186</td>\n",
              "      <td>Venom (Symbiote) (Earth-616)</td>\n",
              "      <td>\\/Venom_(Symbiote)_(Earth-616)</td>\n",
              "      <td>Known to Authorities Identity</td>\n",
              "      <td>Neutral Characters</td>\n",
              "      <td>Variable Eyes</td>\n",
              "      <td>No Hair</td>\n",
              "      <td>Agender Characters</td>\n",
              "      <td>NaN</td>\n",
              "      <td>Living Characters</td>\n",
              "      <td>348.0</td>\n",
              "      <td>May-84</td>\n",
              "      <td>1984.0</td>\n",
              "    </tr>\n",
              "    <tr>\n",
              "      <th>2668</th>\n",
              "      <td>32142</td>\n",
              "      <td>Obax Majid (Earth-616)</td>\n",
              "      <td>\\/Obax_Majid_(Earth-616)</td>\n",
              "      <td>Known to Authorities Identity</td>\n",
              "      <td>Neutral Characters</td>\n",
              "      <td>Brown Eyes</td>\n",
              "      <td>Black Hair</td>\n",
              "      <td>Female Characters</td>\n",
              "      <td>NaN</td>\n",
              "      <td>Living Characters</td>\n",
              "      <td>13.0</td>\n",
              "      <td>Sep-93</td>\n",
              "      <td>1993.0</td>\n",
              "    </tr>\n",
              "  </tbody>\n",
              "</table>\n",
              "</div>"
            ],
            "text/plain": [
              "      page_id                          name  ... FIRST APPEARANCE    Year\n",
              "106     18186  Venom (Symbiote) (Earth-616)  ...           May-84  1984.0\n",
              "2668    32142        Obax Majid (Earth-616)  ...           Sep-93  1993.0\n",
              "\n",
              "[2 rows x 13 columns]"
            ]
          },
          "metadata": {},
          "execution_count": 91
        }
      ]
    },
    {
      "cell_type": "code",
      "source": [
        "# creamos una dataframe con los nombres de los superhéroes\n",
        "new_dataset = data[['name']]\n"
      ],
      "metadata": {
        "id": "9p3e7YBZIB_D"
      },
      "execution_count": 92,
      "outputs": []
    },
    {
      "cell_type": "code",
      "source": [
        "# guardamos el dataframe en un fichero csv\n",
        "new_dataset.to_csv(\"marvel-wikia-data-reduced.csv\", encoding=\"utf-8\")"
      ],
      "metadata": {
        "id": "XrTWcBasIJXp"
      },
      "execution_count": 96,
      "outputs": []
    },
    {
      "cell_type": "code",
      "source": [
        ""
      ],
      "metadata": {
        "id": "CbS2W1w_IVl7"
      },
      "execution_count": null,
      "outputs": []
    },
    {
      "cell_type": "code",
      "source": [
        ""
      ],
      "metadata": {
        "id": "2j3LxUaVIRO0"
      },
      "execution_count": null,
      "outputs": []
    }
  ]
}