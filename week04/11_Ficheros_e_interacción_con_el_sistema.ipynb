{
 "cells": [
  {
   "cell_type": "markdown",
   "metadata": {},
   "source": [
    "# Interactuamos con los ficheros y con el sistema operativo\n",
    "\n",
    "Trataremos los ficheros, manipularlos y leer/guardar desde la consola"
   ]
  },
  {
   "cell_type": "markdown",
   "metadata": {},
   "source": [
    "## Ficheros con el módulo OS\n",
    "\n",
    "el módulo `os` que nos permite interactura con el sistema operativo."
   ]
  },
  {
   "cell_type": "code",
   "execution_count": 1,
   "metadata": {},
   "outputs": [],
   "source": [
    "# importamos el módulo\n",
    "import os"
   ]
  },
  {
   "cell_type": "code",
   "execution_count": 6,
   "metadata": {},
   "outputs": [],
   "source": [
    "\n",
    "\n",
    "nombre_fichero = 'test_file'\n",
    "# Abrir el fichero test_file.txt para escritura\n",
    "out = open(f'../../files_folder/{nombre_fichero}.txt', 'w')\n",
    "\n",
    "# Escribimos la palabra 'test' en este archivo\n",
    "out.write('test')\n",
    "\n",
    "# Cerramos el fichero\n",
    "out.close()"
   ]
  },
  {
   "cell_type": "code",
   "execution_count": 8,
   "metadata": {},
   "outputs": [],
   "source": [
    "# Abrimos el path o ruta del fichero para leerlo\n",
    "ruta = f'../../files_folder/{nombre_fichero}.txt'\n",
    "\n",
    "try:\n",
    "    with open(ruta, 'r') as entrada:\n",
    "        pass\n",
    "except FileNotFoundError as e:\n",
    "    print(e)"
   ]
  },
  {
   "cell_type": "code",
   "execution_count": 10,
   "metadata": {},
   "outputs": [],
   "source": [
    "# Hay un método alternativo para abrir y el programa cierra automaticamente según el contexto\n",
    "with open(f'../../files_folder/{nombre_fichero}_2.txt', 'w') as out:\n",
    "    out.write('another test')"
   ]
  },
  {
   "cell_type": "code",
   "execution_count": 11,
   "metadata": {},
   "outputs": [
    {
     "name": "stdout",
     "output_type": "stream",
     "text": [
      "I/O operation on closed file.\n"
     ]
    }
   ],
   "source": [
    "# Para comprobar que con el método with cierra de forma automática\n",
    "try:\n",
    "    out.write(\"otra línea\")\n",
    "except Exception as e:\n",
    "    print(e)"
   ]
  },
  {
   "cell_type": "markdown",
   "metadata": {},
   "source": [
    "Con el primer método debemos cerrar para ahorrar memoría, con el segundo el progrma lo cierra automáticamente."
   ]
  },
  {
   "cell_type": "markdown",
   "metadata": {},
   "source": [
    "***\n",
    "### 1.1.1. El *path*\n",
    "\n",
    "El primer argumento que recibe la función [`open`](https://docs.python.org/3/library/functions.html#open) (y el único que es obligatorio) es el *path*. El *path* puede ser absoluto o relativo al directorio donde se está ejecutando el código.\n",
    "\n",
    "Indicaremos que el *path* es **absoluto** iniciándolo con una barra, `/` (que indica el directorio raíz).\n",
    "\n",
    "En cambio, si el *path* comienza con un carácter, este será **relativo** al directorio donde se ejecuta el código. Así, en los dos ejemplos anteriores, los *paths* `test_file.txt` y `test_file_2.txt` eran relativos al directorio de ejecución, e indicaban que los archivos se encontraban directamente en el propio directorio.\n",
    "\n",
    "Del mismo modo que en el sistema operativo, podemos utilizar `.` y` ..` para referirnos, respectivamente, al directorio actual y al superior al actual en *paths* relativos. Especificaremos el *path* utilizando también barras `/` después de cada nombre de directorio.\n",
    "\n",
    "\n",
    "### 1.1.2. El modo\n",
    "\n",
    "En relación con el modo de apertura, Python reconoce los siguientes modificadores, que se pueden combinar entre ellos para especificar cómo y con qué finalidad se abre el fichero:\n",
    "\n",
    "* `r`, modo de lectura (del inglés, _**r**eading_).\n",
    "* `w`, modo de escritura (del inglés, _**w**riting_), sobrescribe el contenido del archivo si este ya existe, o bien crea el archivo si no existe.\n",
    "* `x`, modo de creación e**x**clusiva.\n",
    "* `a`, modo de escritura, escribe al final del archivo, después del contenido ya existente en el archivo (del inglés, _**a**ppend_), o bien crea el archivo si no existe.\n",
    "* `b`, modo **b**inario.\n",
    "* `t`, modo de **t**exto (modo predeterminado).\n",
    "* `+`, modo de actualización (tanto para lectura como para escritura).\n",
    "\n",
    "Python permite abrir archivo en modo binario (devolviendo los contenidos como bytes, sin descodificarlo) o en modo texto (devolviendo los contenidos como cadenas de texto, obtenidas de descodificar los bytes en función de la plataforma donde se ejecute el código o bien de la codificación especificada). Por defecto (es decir, si no se especifica el modo), los archivos se abren en modo texto, de manera que, por ejemplo, `r` y `rt` son equivalentes.\n",
    "\n",
    "Tanto el modo `w` como el modo `a` permiten escribir en un archivo. La diferencia entre ellos radica en el tratamiento del contenido existente en el archivo: `w` sobrescribe el contenido del archivo, eliminando el contenido ya existente e incorporando el nuevo; en cambio, `a` escribe a continuación del contenido ya existente en el archivo, añadiendo el nuevo contenido después del contenido ya existente.\n",
    "\n",
    "El modo de actualización, `+`, permite abrir un archivo para escribir y leer. Así, tanto `w+` como `r+` permitirán leer y escribir un archivo. La diferencia entre ambos modos recae en el comportamiento respecto al contenido existente en el archivo y a la existencia del propio archivo. Si especificamos `w+`, sobrescribiremos el contenido del archivo y crearemos el archivo si este no existe; en cambio, si especificamos `r+`, mantendremos el contenido del archivo y se generará un error si el archivo no existe.\n",
    "\n",
    "A continuación se presentan algunos ejemplos del funcionamiento de los modos de apertura de archivos:"
   ]
  },
  {
   "cell_type": "code",
   "execution_count": 21,
   "metadata": {},
   "outputs": [],
   "source": [
    "with open(ruta, 'w') as out:\n",
    "    out.write(\"El fichero no existe_3\\n\")\n",
    "    out.write(\"Contiene dos líneas_3\\n\")"
   ]
  },
  {
   "cell_type": "code",
   "execution_count": 24,
   "metadata": {},
   "outputs": [
    {
     "name": "stdout",
     "output_type": "stream",
     "text": [
      "El fichero no existe_3\n",
      "Contiene dos líneas_3\n",
      "Nueva línea por aquí\n",
      "\n"
     ]
    }
   ],
   "source": [
    "try:\n",
    "    with open(ruta, 'r') as inpt:\n",
    "        content = inpt.read()\n",
    "        \n",
    "        # Mostramos el contenido\n",
    "        print(content)\n",
    "except Exception as e:\n",
    "    print(e)"
   ]
  },
  {
   "cell_type": "code",
   "execution_count": 23,
   "metadata": {},
   "outputs": [],
   "source": [
    "#  Para añadir lineas nuevas a un fichero existente\n",
    "with open(ruta, 'a') as out:\n",
    "    out.write(\"Nueva línea por aquí\\n\")"
   ]
  },
  {
   "cell_type": "code",
   "execution_count": 25,
   "metadata": {},
   "outputs": [
    {
     "name": "stdout",
     "output_type": "stream",
     "text": [
      "e_3\n",
      "Contiene dos líneas_3\n",
      "Nueva línea por aquí\n",
      "\n"
     ]
    }
   ],
   "source": [
    "# Abrimos el archivo en modo de lectura con actualización, escribimos una\n",
    "# frase y leemos el contenido a partir del final de la escritura\n",
    "with open(ruta, 'r+') as out:\n",
    "    out.write(\"Trying the r+ mode!\")\n",
    "    content = out.read()\n",
    "    print(content)"
   ]
  },
  {
   "cell_type": "code",
   "execution_count": 26,
   "metadata": {},
   "outputs": [
    {
     "name": "stdout",
     "output_type": "stream",
     "text": [
      "The size of the variable is: 250.087890625 KB\n",
      "\n",
      "\n",
      "This document gives coding conventions for the Python code comprising the standard library in the main Python distribution. Please see the companion informational PEP describing style guidelines for the C code in the C implementation of Python [1].\n",
      "\n",
      "The size of the variable is: 0.291015625 KB\n",
      "\n",
      "\n",
      "This style guide evolves over time as additional conventions are identified and past conventions are rendered obsolete by changes in the language itself.\n",
      "\n",
      "The size of the variable is: 0.1982421875 KB\n",
      "\n",
      "\n",
      "Many projects have their own coding style guidelines. In the event of any conflicts, such project-specific guides take precedence for that project.\n",
      "\n",
      "The size of the variable is: 0.1923828125 KB\n",
      "\n",
      "\n",
      "One of Guido's key insights is that code is read much more often than it is written. The guidelines provided here are intended to improve the readability of code and make it consistent across the wide spectrum of Python code. As PEP 20 says, \"Readability counts\".\n",
      "\n",
      "The size of the variable is: 0.3056640625 KB\n",
      "\n",
      "\n",
      "A style guide is about consistency. Consistency with this style guide is important. Consistency within a project is more important. Consistency within one module or function is the most important.\n",
      "\n",
      "The size of the variable is: 0.240234375 KB\n",
      "\n",
      "\n"
     ]
    }
   ],
   "source": [
    "# Lectura de ficheros grandes\n",
    "\n",
    "from sys import getsizeof\n",
    "\n",
    "p_big = '../../files_folder/somehow_big_file.txt'\n",
    "\n",
    "# Cargamos el archivo somehow_big_file.txt completo y mostramos\n",
    "# el tamaño de la variable content en memoria\n",
    "with open(p_big, 'r') as f:\n",
    "    content = f.read()\n",
    "    size_in_bytes = getsizeof(content)\n",
    "    print(\"The size of the variable is: {} KB\\n\\n\".format(\n",
    "        size_in_bytes / 1024))\n",
    "\n",
    "# Leemos el fichero línea a línea (y únicamente las 5 primeras líneas),\n",
    "# mostrando el tamaño de la variable line\n",
    "with open(p_big, 'r') as f:\n",
    "    counter = 0\n",
    "    for line in f:\n",
    "        print(line)\n",
    "        size_in_bytes = getsizeof(line)\n",
    "        print(\"The size of the variable is: {} KB\\n\\n\".format(\n",
    "            size_in_bytes / 1024))\n",
    "        counter += 1\n",
    "        if counter == 5:\n",
    "            break"
   ]
  },
  {
   "cell_type": "markdown",
   "metadata": {},
   "source": [
    "## Creación de carpetas"
   ]
  },
  {
   "cell_type": "code",
   "execution_count": 12,
   "metadata": {},
   "outputs": [
    {
     "ename": "FileExistsError",
     "evalue": "[Errno 17] File exists: 'files_folder/a_new_folder'",
     "output_type": "error",
     "traceback": [
      "\u001b[0;31m---------------------------------------------------------------------------\u001b[0m",
      "\u001b[0;31mFileExistsError\u001b[0m                           Traceback (most recent call last)",
      "\u001b[0;32m<ipython-input-12-e9968a5c434b>\u001b[0m in \u001b[0;36m<module>\u001b[0;34m\u001b[0m\n\u001b[1;32m      1\u001b[0m \u001b[0;31m# Si queremos crear una nueva carpeta dentro de /files_folder/\u001b[0m\u001b[0;34m\u001b[0m\u001b[0;34m\u001b[0m\u001b[0;34m\u001b[0m\u001b[0m\n\u001b[1;32m      2\u001b[0m \u001b[0mnew_folder\u001b[0m \u001b[0;34m=\u001b[0m \u001b[0;34m'files_folder/a_new_folder'\u001b[0m\u001b[0;34m\u001b[0m\u001b[0;34m\u001b[0m\u001b[0m\n\u001b[0;32m----> 3\u001b[0;31m \u001b[0mos\u001b[0m\u001b[0;34m.\u001b[0m\u001b[0mmkdir\u001b[0m\u001b[0;34m(\u001b[0m\u001b[0mnew_folder\u001b[0m\u001b[0;34m)\u001b[0m\u001b[0;34m\u001b[0m\u001b[0;34m\u001b[0m\u001b[0m\n\u001b[0m",
      "\u001b[0;31mFileExistsError\u001b[0m: [Errno 17] File exists: 'files_folder/a_new_folder'"
     ]
    }
   ],
   "source": [
    "# Si queremos crear una nueva carpeta dentro de /files_folder/\n",
    "new_folder = 'files_folder/a_new_folder'\n",
    "os.mkdir(new_folder)"
   ]
  },
  {
   "cell_type": "code",
   "execution_count": 13,
   "metadata": {},
   "outputs": [
    {
     "name": "stdout",
     "output_type": "stream",
     "text": [
      "total 257\n",
      "drwxrwxrwx 1 jovyan users      0 Nov  6 13:05 a_folder_in_a_zip\n",
      "drwxrwxrwx 1 jovyan users      0 Nov 12 15:33 a_new_folder\n",
      "-rwxr-xr-x 1 jovyan users      3 Jul  1 14:33 a_number.txt\n",
      "-rwxr-xr-x 1 jovyan users     78 Jul  1 14:33 echo_read_script.sh\n",
      "-rwxr-xr-x 1 jovyan users     37 Jul  1 14:33 echo_script.sh\n",
      "-rwxr-xr-x 1 jovyan users     41 Jul  1 14:33 endless_script.sh\n",
      "-rwxr-xr-x 1 jovyan users    823 Jul  1 14:33 file_1.txt\n",
      "-rwxr-xr-x 1 jovyan users     17 Jul  1 14:33 file_2.txt\n",
      "-rwxr-xr-x 1 jovyan users      0 Jul  1 14:33 original_file.txt\n",
      "-rwxr-xr-x 1 jovyan users 256041 Jul  1 14:33 somehow_big_file.txt\n",
      "-rwxr-xr-x 1 jovyan users     12 Nov  6 13:43 test_file_2.txt\n",
      "-rwxr-xr-x 1 jovyan users     69 Nov  6 13:54 test_file.txt\n",
      "-rwxr-xr-x 1 jovyan users   1051 Jul  1 14:33 zip_with_multiple_files.zip\n"
     ]
    }
   ],
   "source": [
    "!ls -l files_folder/"
   ]
  },
  {
   "cell_type": "code",
   "execution_count": 18,
   "metadata": {},
   "outputs": [
    {
     "name": "stdout",
     "output_type": "stream",
     "text": [
      "[Errno 17] File exists: 'files_folder/a_new_folder/1/2'\n"
     ]
    }
   ],
   "source": [
    "# intentamos crear la carpeta 2 dentro de una carpeta 1 dentro de la carpeta\n",
    "# a_new_folder que hemos creado anteriormente\n",
    "try:\n",
    "    new_folder = 'files_folder/a_new_folder/1/2'\n",
    "    os.mkdir(new_folder)\n",
    "except Exception as e:\n",
    "    print(e)"
   ]
  },
  {
   "cell_type": "code",
   "execution_count": 19,
   "metadata": {},
   "outputs": [
    {
     "ename": "FileExistsError",
     "evalue": "[Errno 17] File exists: 'files_folder/a_new_folder/1/2/3'",
     "output_type": "error",
     "traceback": [
      "\u001b[0;31m---------------------------------------------------------------------------\u001b[0m",
      "\u001b[0;31mFileExistsError\u001b[0m                           Traceback (most recent call last)",
      "\u001b[0;32m<ipython-input-19-182ba70e1b38>\u001b[0m in \u001b[0;36m<module>\u001b[0;34m\u001b[0m\n\u001b[1;32m      1\u001b[0m \u001b[0;31m# Para crear más carpetas y subcarpetas a la vez\u001b[0m\u001b[0;34m\u001b[0m\u001b[0;34m\u001b[0m\u001b[0;34m\u001b[0m\u001b[0m\n\u001b[1;32m      2\u001b[0m \u001b[0mnew_folders\u001b[0m \u001b[0;34m=\u001b[0m \u001b[0;34m'files_folder/a_new_folder/1/2/3'\u001b[0m\u001b[0;34m\u001b[0m\u001b[0;34m\u001b[0m\u001b[0m\n\u001b[0;32m----> 3\u001b[0;31m \u001b[0mos\u001b[0m\u001b[0;34m.\u001b[0m\u001b[0mmakedirs\u001b[0m\u001b[0;34m(\u001b[0m\u001b[0mnew_folders\u001b[0m\u001b[0;34m)\u001b[0m\u001b[0;34m\u001b[0m\u001b[0;34m\u001b[0m\u001b[0m\n\u001b[0m",
      "\u001b[0;32m/opt/conda/lib/python3.8/os.py\u001b[0m in \u001b[0;36mmakedirs\u001b[0;34m(name, mode, exist_ok)\u001b[0m\n\u001b[1;32m    221\u001b[0m             \u001b[0;32mreturn\u001b[0m\u001b[0;34m\u001b[0m\u001b[0;34m\u001b[0m\u001b[0m\n\u001b[1;32m    222\u001b[0m     \u001b[0;32mtry\u001b[0m\u001b[0;34m:\u001b[0m\u001b[0;34m\u001b[0m\u001b[0;34m\u001b[0m\u001b[0m\n\u001b[0;32m--> 223\u001b[0;31m         \u001b[0mmkdir\u001b[0m\u001b[0;34m(\u001b[0m\u001b[0mname\u001b[0m\u001b[0;34m,\u001b[0m \u001b[0mmode\u001b[0m\u001b[0;34m)\u001b[0m\u001b[0;34m\u001b[0m\u001b[0;34m\u001b[0m\u001b[0m\n\u001b[0m\u001b[1;32m    224\u001b[0m     \u001b[0;32mexcept\u001b[0m \u001b[0mOSError\u001b[0m\u001b[0;34m:\u001b[0m\u001b[0;34m\u001b[0m\u001b[0;34m\u001b[0m\u001b[0m\n\u001b[1;32m    225\u001b[0m         \u001b[0;31m# Cannot rely on checking for EEXIST, since the operating system\u001b[0m\u001b[0;34m\u001b[0m\u001b[0;34m\u001b[0m\u001b[0;34m\u001b[0m\u001b[0m\n",
      "\u001b[0;31mFileExistsError\u001b[0m: [Errno 17] File exists: 'files_folder/a_new_folder/1/2/3'"
     ]
    }
   ],
   "source": [
    "# Para crear más carpetas y subcarpetas a la vez\n",
    "new_folders = 'files_folder/a_new_folder/1/2/3'\n",
    "os.makedirs(new_folders)"
   ]
  },
  {
   "cell_type": "code",
   "execution_count": 17,
   "metadata": {},
   "outputs": [
    {
     "name": "stdout",
     "output_type": "stream",
     "text": [
      "ls: cannot access 'new_folder/a_new_folder': No such file or directory\n"
     ]
    }
   ],
   "source": [
    "!ls new_folder/a_new_folder"
   ]
  },
  {
   "cell_type": "code",
   "execution_count": 21,
   "metadata": {},
   "outputs": [],
   "source": [
    "# En caso de remover ficheros\n",
    "nombre_fichero = 'test_file'\n",
    "ruta = f'files_folder/{nombre_fichero}.txt'\n",
    "os.remove(ruta)"
   ]
  },
  {
   "cell_type": "code",
   "execution_count": 22,
   "metadata": {},
   "outputs": [
    {
     "name": "stdout",
     "output_type": "stream",
     "text": [
      "total 256\n",
      "drwxrwxrwx 1 jovyan users      0 Nov  6 13:05 a_folder_in_a_zip\n",
      "drwxrwxrwx 1 jovyan users      0 Nov 12 15:33 a_new_folder\n",
      "-rwxr-xr-x 1 jovyan users      3 Jul  1 14:33 a_number.txt\n",
      "-rwxr-xr-x 1 jovyan users     78 Jul  1 14:33 echo_read_script.sh\n",
      "-rwxr-xr-x 1 jovyan users     37 Jul  1 14:33 echo_script.sh\n",
      "-rwxr-xr-x 1 jovyan users     41 Jul  1 14:33 endless_script.sh\n",
      "-rwxr-xr-x 1 jovyan users    823 Jul  1 14:33 file_1.txt\n",
      "-rwxr-xr-x 1 jovyan users     17 Jul  1 14:33 file_2.txt\n",
      "-rwxr-xr-x 1 jovyan users      0 Jul  1 14:33 original_file.txt\n",
      "-rwxr-xr-x 1 jovyan users 256041 Jul  1 14:33 somehow_big_file.txt\n",
      "-rwxr-xr-x 1 jovyan users     12 Nov  6 13:43 test_file_2.txt\n",
      "-rwxr-xr-x 1 jovyan users   1051 Jul  1 14:33 zip_with_multiple_files.zip\n"
     ]
    }
   ],
   "source": [
    "!ls -l files_folder/"
   ]
  },
  {
   "cell_type": "code",
   "execution_count": 23,
   "metadata": {},
   "outputs": [],
   "source": [
    "# Eliminamos carpeta vacía\n",
    "\n",
    "empty_folder = 'files_folder/an_empty_folder'\n",
    "os.mkdir(empty_folder) # creamos la carpeta vacía\n",
    "os.rmdir(empty_folder) # eliminamos la carpeta vacía"
   ]
  },
  {
   "cell_type": "code",
   "execution_count": 24,
   "metadata": {},
   "outputs": [
    {
     "name": "stdout",
     "output_type": "stream",
     "text": [
      "[Errno 39] Directory not empty: 'files_folder'\n"
     ]
    }
   ],
   "source": [
    "# Intentamos eliminar ficheros y directorios con ficheros\n",
    "try:\n",
    "    non_empty_folder = 'files_folder'\n",
    "    os.rmdir(non_empty_folder)\n",
    "except Exception as e:\n",
    "    print(e)"
   ]
  },
  {
   "cell_type": "markdown",
   "metadata": {},
   "source": [
    "> Para eliminar y forzar la eliminación utilizamos la sentencia de linux:\n",
    "```\n",
    "$ rm -r <nombre-carpeta>\n",
    "```\n",
    "o bien en Jupyter utilizamos : `!` el signo de admiración"
   ]
  },
  {
   "cell_type": "code",
   "execution_count": null,
   "metadata": {},
   "outputs": [],
   "source": [
    "#!rm -r files_folder "
   ]
  },
  {
   "cell_type": "code",
   "execution_count": 25,
   "metadata": {},
   "outputs": [],
   "source": [
    "# En caso de renombrar el archivo original_file.txt a dest_file.txt\n",
    "os.rename('files_folder/original_file.txt', 'files_folder/dest_file.txt')"
   ]
  },
  {
   "cell_type": "markdown",
   "metadata": {},
   "source": [
    "> El comando que viene a continuación solo sirve para verificar el contenido emulando\n",
    "la acción de shell en Jupyter, NUNCA utilizarlo en script de Python."
   ]
  },
  {
   "cell_type": "code",
   "execution_count": 27,
   "metadata": {},
   "outputs": [
    {
     "name": "stdout",
     "output_type": "stream",
     "text": [
      "total 256\n",
      "drwxrwxrwx 1 jovyan users      0 Nov  6 13:05 a_folder_in_a_zip\n",
      "drwxrwxrwx 1 jovyan users      0 Nov 12 15:33 a_new_folder\n",
      "-rwxr-xr-x 1 jovyan users      3 Jul  1 14:33 a_number.txt\n",
      "-rwxr-xr-x 1 jovyan users      0 Jul  1 14:33 dest_file.txt\n",
      "-rwxr-xr-x 1 jovyan users     78 Jul  1 14:33 echo_read_script.sh\n",
      "-rwxr-xr-x 1 jovyan users     37 Jul  1 14:33 echo_script.sh\n",
      "-rwxr-xr-x 1 jovyan users     41 Jul  1 14:33 endless_script.sh\n",
      "-rwxr-xr-x 1 jovyan users    823 Jul  1 14:33 file_1.txt\n",
      "-rwxr-xr-x 1 jovyan users     17 Jul  1 14:33 file_2.txt\n",
      "-rwxr-xr-x 1 jovyan users 256041 Jul  1 14:33 somehow_big_file.txt\n",
      "-rwxr-xr-x 1 jovyan users     12 Nov  6 13:43 test_file_2.txt\n",
      "-rwxr-xr-x 1 jovyan users   1051 Jul  1 14:33 zip_with_multiple_files.zip\n"
     ]
    }
   ],
   "source": [
    "!ls -l files_folder/"
   ]
  },
  {
   "cell_type": "markdown",
   "metadata": {},
   "source": [
    "## Funciones auxiliare de `paths`"
   ]
  },
  {
   "cell_type": "code",
   "execution_count": 28,
   "metadata": {
    "scrolled": true
   },
   "outputs": [
    {
     "name": "stdout",
     "output_type": "stream",
     "text": [
      "/home/idBootcamps/notebooks/filename.txt\n"
     ]
    }
   ],
   "source": [
    "# Unimos diferentes partes de un path con join\n",
    "path = \"/home\"\n",
    "full_path = os.path.join(path, \"idBootcamps/notebooks\", \"filename.txt\")\n",
    "print(full_path)"
   ]
  },
  {
   "cell_type": "code",
   "execution_count": 33,
   "metadata": {},
   "outputs": [
    {
     "name": "stdout",
     "output_type": "stream",
     "text": [
      "/home/idBootcamps/notebooks/Documents/\n"
     ]
    }
   ],
   "source": [
    "another_full_path = os.path.join(path, \"idBootcamps/notebooks/\", \"Documents\", \"\")\n",
    "print(another_full_path)"
   ]
  },
  {
   "cell_type": "markdown",
   "metadata": {},
   "source": [
    "A partir de un `path`podemos obtener el nombre de las carpetas y ficheros"
   ]
  },
  {
   "cell_type": "code",
   "execution_count": 34,
   "metadata": {},
   "outputs": [
    {
     "data": {
      "text/plain": [
       "'/home/idBootcamps/notebooks'"
      ]
     },
     "execution_count": 34,
     "metadata": {},
     "output_type": "execute_result"
    }
   ],
   "source": [
    "# Obtenemos el nombre del directorio\n",
    "os.path.dirname(full_path)"
   ]
  },
  {
   "cell_type": "code",
   "execution_count": 35,
   "metadata": {},
   "outputs": [
    {
     "data": {
      "text/plain": [
       "'filename.txt'"
      ]
     },
     "execution_count": 35,
     "metadata": {},
     "output_type": "execute_result"
    }
   ],
   "source": [
    "# Para obtener el nombre del fichero\n",
    "os.path.basename(full_path)"
   ]
  },
  {
   "cell_type": "code",
   "execution_count": 36,
   "metadata": {},
   "outputs": [
    {
     "data": {
      "text/plain": [
       "('/home/idBootcamps/notebooks/filename', '.txt')"
      ]
     },
     "execution_count": 36,
     "metadata": {},
     "output_type": "execute_result"
    }
   ],
   "source": [
    "# Si queremos separar la extensión del path\n",
    "os.path.splitext(full_path)"
   ]
  },
  {
   "cell_type": "markdown",
   "metadata": {},
   "source": [
    "## Listado de directorios"
   ]
  },
  {
   "cell_type": "code",
   "execution_count": 37,
   "metadata": {},
   "outputs": [
    {
     "name": "stdout",
     "output_type": "stream",
     "text": [
      "a_folder_in_a_zip\n",
      "a_new_folder\n",
      "a_number.txt\n",
      "dest_file.txt\n",
      "echo_read_script.sh\n",
      "echo_script.sh\n",
      "endless_script.sh\n",
      "file_1.txt\n",
      "file_2.txt\n",
      "somehow_big_file.txt\n",
      "test_file_2.txt\n",
      "zip_with_multiple_files.zip\n"
     ]
    }
   ],
   "source": [
    "# Mostramos todas las entradas de la carpeta files_folder\n",
    "folder_name = 'files_folder/'\n",
    "with os.scandir(folder_name) as dir_list:\n",
    "    for entry in dir_list:\n",
    "        print(entry.name)"
   ]
  },
  {
   "cell_type": "code",
   "execution_count": 38,
   "metadata": {},
   "outputs": [
    {
     "name": "stdout",
     "output_type": "stream",
     "text": [
      "a_number.txt\n",
      "dest_file.txt\n",
      "echo_read_script.sh\n",
      "echo_script.sh\n",
      "endless_script.sh\n",
      "file_1.txt\n",
      "file_2.txt\n",
      "somehow_big_file.txt\n",
      "test_file_2.txt\n",
      "zip_with_multiple_files.zip\n"
     ]
    }
   ],
   "source": [
    "#mostramos los ficheros de la carpeta files_folder\n",
    "with os.scandir(folder_name) as dir_list:\n",
    "    for entry in dir_list:\n",
    "        if os.path.isfile(entry.path):\n",
    "            print(entry.name)"
   ]
  },
  {
   "cell_type": "code",
   "execution_count": 39,
   "metadata": {},
   "outputs": [
    {
     "name": "stdout",
     "output_type": "stream",
     "text": [
      "<class 'posix.DirEntry'> a_number.txt\n",
      "<class 'posix.DirEntry'> dest_file.txt\n",
      "<class 'posix.DirEntry'> echo_read_script.sh\n",
      "<class 'posix.DirEntry'> echo_script.sh\n",
      "<class 'posix.DirEntry'> endless_script.sh\n",
      "<class 'posix.DirEntry'> file_1.txt\n",
      "<class 'posix.DirEntry'> file_2.txt\n",
      "<class 'posix.DirEntry'> somehow_big_file.txt\n",
      "<class 'posix.DirEntry'> test_file_2.txt\n",
      "<class 'posix.DirEntry'> zip_with_multiple_files.zip\n"
     ]
    }
   ],
   "source": [
    "# Mostramos todos los archivos de la carpeta files_folder\n",
    "with os.scandir(folder_name) as dir_list:\n",
    "    for entry in dir_list:\n",
    "        if entry.is_file():\n",
    "            print(type(entry), entry.name)"
   ]
  },
  {
   "cell_type": "markdown",
   "metadata": {},
   "source": [
    "# Patrones de Unix shell"
   ]
  },
  {
   "cell_type": "code",
   "execution_count": 40,
   "metadata": {},
   "outputs": [
    {
     "name": "stdout",
     "output_type": "stream",
     "text": [
      "a_number.txt\n",
      "dest_file.txt\n",
      "file_1.txt\n",
      "file_2.txt\n",
      "somehow_big_file.txt\n",
      "test_file_2.txt\n"
     ]
    }
   ],
   "source": [
    "# mostramos nuevamente los ficheros de la carpeta files_folder\n",
    "with os.scandir(folder_name) as dir_list:\n",
    "    for entry in dir_list:\n",
    "        if entry.is_file() and entry.name.endswith(\".txt\"):\n",
    "            print(entry.name)"
   ]
  },
  {
   "cell_type": "code",
   "execution_count": 44,
   "metadata": {},
   "outputs": [
    {
     "data": {
      "text/plain": [
       "['07.1_python_avanzado.ipynb',\n",
       " '11_Ficheros_e_interacción_con_el_sistema.ipynb',\n",
       " 'LAB_numpy.ipynb',\n",
       " 'MADS_201920_10_DATA_MINING_Kaggle_Titanic_Predict survival on the Titanic_v2.ipynb',\n",
       " 'Matplot library.ipynb',\n",
       " 'PoC_advancedAnalytics.ipynb',\n",
       " 'Práctica_con_Funciones_week2.ipynb',\n",
       " 'R_datasets.ipynb',\n",
       " 'demandforecast.ipynb',\n",
       " 'kafka.ipynb',\n",
       " 'mlapis.ipynb',\n",
       " 'python101.ipynb']"
      ]
     },
     "execution_count": 44,
     "metadata": {},
     "output_type": "execute_result"
    }
   ],
   "source": [
    "# Alternativa que emula el escenario cloud\n",
    "import glob\n",
    "\n",
    "# obtenemos la lsita con los nombres de jupyter\n",
    "glob.glob('*.ipynb')"
   ]
  },
  {
   "cell_type": "code",
   "execution_count": 45,
   "metadata": {},
   "outputs": [
    {
     "data": {
      "text/plain": [
       "['./files_folder/a_folder_in_a_zip',\n",
       " './files_folder/a_new_folder',\n",
       " './files_folder/a_number.txt',\n",
       " './files_folder/dest_file.txt',\n",
       " './files_folder/echo_read_script.sh',\n",
       " './files_folder/echo_script.sh',\n",
       " './files_folder/endless_script.sh',\n",
       " './files_folder/file_1.txt',\n",
       " './files_folder/file_2.txt',\n",
       " './files_folder/somehow_big_file.txt',\n",
       " './files_folder/test_file_2.txt',\n",
       " './files_folder/zip_with_multiple_files.zip']"
      ]
     },
     "execution_count": 45,
     "metadata": {},
     "output_type": "execute_result"
    }
   ],
   "source": [
    "# listamos el contenido de files_folder\n",
    "glob.glob('./files_folder/*')"
   ]
  },
  {
   "cell_type": "code",
   "execution_count": 50,
   "metadata": {},
   "outputs": [
    {
     "data": {
      "text/plain": [
       "['./files_folder/a_number.txt',\n",
       " './files_folder/dest_file.txt',\n",
       " './files_folder/file_1.txt',\n",
       " './files_folder/file_2.txt',\n",
       " './files_folder/somehow_big_file.txt',\n",
       " './files_folder/test_file_2.txt']"
      ]
     },
     "execution_count": 50,
     "metadata": {},
     "output_type": "execute_result"
    }
   ],
   "source": [
    "# listamos los ficheros que terminen en .txt dentro de la carpeta files_folder\n",
    "glob.glob('./files_folder/*.txt')"
   ]
  },
  {
   "cell_type": "code",
   "execution_count": 51,
   "metadata": {},
   "outputs": [
    {
     "ename": "KeyboardInterrupt",
     "evalue": "",
     "output_type": "error",
     "traceback": [
      "\u001b[0;31m---------------------------------------------------------------------------\u001b[0m",
      "\u001b[0;31mKeyboardInterrupt\u001b[0m                         Traceback (most recent call last)",
      "\u001b[0;32m<ipython-input-51-362b0fdfa490>\u001b[0m in \u001b[0;36m<module>\u001b[0;34m\u001b[0m\n\u001b[1;32m      1\u001b[0m \u001b[0;31m# listamos los ficheros que hay en este path actual buscando\u001b[0m\u001b[0;34m\u001b[0m\u001b[0;34m\u001b[0m\u001b[0;34m\u001b[0m\u001b[0m\n\u001b[1;32m      2\u001b[0m \u001b[0;31m# recursivamente dentro de las carpetas\u001b[0m\u001b[0;34m\u001b[0m\u001b[0;34m\u001b[0m\u001b[0;34m\u001b[0m\u001b[0m\n\u001b[0;32m----> 3\u001b[0;31m \u001b[0mglob\u001b[0m\u001b[0;34m.\u001b[0m\u001b[0mglob\u001b[0m\u001b[0;34m(\u001b[0m\u001b[0;34m'**/*'\u001b[0m\u001b[0;34m,\u001b[0m \u001b[0mrecursive\u001b[0m\u001b[0;34m=\u001b[0m\u001b[0;32mTrue\u001b[0m\u001b[0;34m)\u001b[0m\u001b[0;34m\u001b[0m\u001b[0;34m\u001b[0m\u001b[0m\n\u001b[0m",
      "\u001b[0;32m/opt/conda/lib/python3.8/glob.py\u001b[0m in \u001b[0;36mglob\u001b[0;34m(pathname, recursive)\u001b[0m\n\u001b[1;32m     19\u001b[0m     \u001b[0mzero\u001b[0m \u001b[0;32mor\u001b[0m \u001b[0mmore\u001b[0m \u001b[0mdirectories\u001b[0m \u001b[0;32mand\u001b[0m \u001b[0msubdirectories\u001b[0m\u001b[0;34m.\u001b[0m\u001b[0;34m\u001b[0m\u001b[0;34m\u001b[0m\u001b[0m\n\u001b[1;32m     20\u001b[0m     \"\"\"\n\u001b[0;32m---> 21\u001b[0;31m     \u001b[0;32mreturn\u001b[0m \u001b[0mlist\u001b[0m\u001b[0;34m(\u001b[0m\u001b[0miglob\u001b[0m\u001b[0;34m(\u001b[0m\u001b[0mpathname\u001b[0m\u001b[0;34m,\u001b[0m \u001b[0mrecursive\u001b[0m\u001b[0;34m=\u001b[0m\u001b[0mrecursive\u001b[0m\u001b[0;34m)\u001b[0m\u001b[0;34m)\u001b[0m\u001b[0;34m\u001b[0m\u001b[0;34m\u001b[0m\u001b[0m\n\u001b[0m\u001b[1;32m     22\u001b[0m \u001b[0;34m\u001b[0m\u001b[0m\n\u001b[1;32m     23\u001b[0m \u001b[0;32mdef\u001b[0m \u001b[0miglob\u001b[0m\u001b[0;34m(\u001b[0m\u001b[0mpathname\u001b[0m\u001b[0;34m,\u001b[0m \u001b[0;34m*\u001b[0m\u001b[0;34m,\u001b[0m \u001b[0mrecursive\u001b[0m\u001b[0;34m=\u001b[0m\u001b[0;32mFalse\u001b[0m\u001b[0;34m)\u001b[0m\u001b[0;34m:\u001b[0m\u001b[0;34m\u001b[0m\u001b[0;34m\u001b[0m\u001b[0m\n",
      "\u001b[0;32m/opt/conda/lib/python3.8/glob.py\u001b[0m in \u001b[0;36m_iglob\u001b[0;34m(pathname, recursive, dironly)\u001b[0m\n\u001b[1;32m     72\u001b[0m         \u001b[0mglob_in_dir\u001b[0m \u001b[0;34m=\u001b[0m \u001b[0m_glob0\u001b[0m\u001b[0;34m\u001b[0m\u001b[0;34m\u001b[0m\u001b[0m\n\u001b[1;32m     73\u001b[0m     \u001b[0;32mfor\u001b[0m \u001b[0mdirname\u001b[0m \u001b[0;32min\u001b[0m \u001b[0mdirs\u001b[0m\u001b[0;34m:\u001b[0m\u001b[0;34m\u001b[0m\u001b[0;34m\u001b[0m\u001b[0m\n\u001b[0;32m---> 74\u001b[0;31m         \u001b[0;32mfor\u001b[0m \u001b[0mname\u001b[0m \u001b[0;32min\u001b[0m \u001b[0mglob_in_dir\u001b[0m\u001b[0;34m(\u001b[0m\u001b[0mdirname\u001b[0m\u001b[0;34m,\u001b[0m \u001b[0mbasename\u001b[0m\u001b[0;34m,\u001b[0m \u001b[0mdironly\u001b[0m\u001b[0;34m)\u001b[0m\u001b[0;34m:\u001b[0m\u001b[0;34m\u001b[0m\u001b[0;34m\u001b[0m\u001b[0m\n\u001b[0m\u001b[1;32m     75\u001b[0m             \u001b[0;32myield\u001b[0m \u001b[0mos\u001b[0m\u001b[0;34m.\u001b[0m\u001b[0mpath\u001b[0m\u001b[0;34m.\u001b[0m\u001b[0mjoin\u001b[0m\u001b[0;34m(\u001b[0m\u001b[0mdirname\u001b[0m\u001b[0;34m,\u001b[0m \u001b[0mname\u001b[0m\u001b[0;34m)\u001b[0m\u001b[0;34m\u001b[0m\u001b[0;34m\u001b[0m\u001b[0m\n\u001b[1;32m     76\u001b[0m \u001b[0;34m\u001b[0m\u001b[0m\n",
      "\u001b[0;32m/opt/conda/lib/python3.8/glob.py\u001b[0m in \u001b[0;36m_glob1\u001b[0;34m(dirname, pattern, dironly)\u001b[0m\n\u001b[1;32m     80\u001b[0m \u001b[0;34m\u001b[0m\u001b[0m\n\u001b[1;32m     81\u001b[0m \u001b[0;32mdef\u001b[0m \u001b[0m_glob1\u001b[0m\u001b[0;34m(\u001b[0m\u001b[0mdirname\u001b[0m\u001b[0;34m,\u001b[0m \u001b[0mpattern\u001b[0m\u001b[0;34m,\u001b[0m \u001b[0mdironly\u001b[0m\u001b[0;34m)\u001b[0m\u001b[0;34m:\u001b[0m\u001b[0;34m\u001b[0m\u001b[0;34m\u001b[0m\u001b[0m\n\u001b[0;32m---> 82\u001b[0;31m     \u001b[0mnames\u001b[0m \u001b[0;34m=\u001b[0m \u001b[0mlist\u001b[0m\u001b[0;34m(\u001b[0m\u001b[0m_iterdir\u001b[0m\u001b[0;34m(\u001b[0m\u001b[0mdirname\u001b[0m\u001b[0;34m,\u001b[0m \u001b[0mdironly\u001b[0m\u001b[0;34m)\u001b[0m\u001b[0;34m)\u001b[0m\u001b[0;34m\u001b[0m\u001b[0;34m\u001b[0m\u001b[0m\n\u001b[0m\u001b[1;32m     83\u001b[0m     \u001b[0;32mif\u001b[0m \u001b[0;32mnot\u001b[0m \u001b[0m_ishidden\u001b[0m\u001b[0;34m(\u001b[0m\u001b[0mpattern\u001b[0m\u001b[0;34m)\u001b[0m\u001b[0;34m:\u001b[0m\u001b[0;34m\u001b[0m\u001b[0;34m\u001b[0m\u001b[0m\n\u001b[1;32m     84\u001b[0m         \u001b[0mnames\u001b[0m \u001b[0;34m=\u001b[0m \u001b[0;34m(\u001b[0m\u001b[0mx\u001b[0m \u001b[0;32mfor\u001b[0m \u001b[0mx\u001b[0m \u001b[0;32min\u001b[0m \u001b[0mnames\u001b[0m \u001b[0;32mif\u001b[0m \u001b[0;32mnot\u001b[0m \u001b[0m_ishidden\u001b[0m\u001b[0;34m(\u001b[0m\u001b[0mx\u001b[0m\u001b[0;34m)\u001b[0m\u001b[0;34m)\u001b[0m\u001b[0;34m\u001b[0m\u001b[0;34m\u001b[0m\u001b[0m\n",
      "\u001b[0;32m/opt/conda/lib/python3.8/glob.py\u001b[0m in \u001b[0;36m_iterdir\u001b[0;34m(dirname, dironly)\u001b[0m\n\u001b[1;32m    122\u001b[0m     \u001b[0;32mtry\u001b[0m\u001b[0;34m:\u001b[0m\u001b[0;34m\u001b[0m\u001b[0;34m\u001b[0m\u001b[0m\n\u001b[1;32m    123\u001b[0m         \u001b[0;32mwith\u001b[0m \u001b[0mos\u001b[0m\u001b[0;34m.\u001b[0m\u001b[0mscandir\u001b[0m\u001b[0;34m(\u001b[0m\u001b[0mdirname\u001b[0m\u001b[0;34m)\u001b[0m \u001b[0;32mas\u001b[0m \u001b[0mit\u001b[0m\u001b[0;34m:\u001b[0m\u001b[0;34m\u001b[0m\u001b[0;34m\u001b[0m\u001b[0m\n\u001b[0;32m--> 124\u001b[0;31m             \u001b[0;32mfor\u001b[0m \u001b[0mentry\u001b[0m \u001b[0;32min\u001b[0m \u001b[0mit\u001b[0m\u001b[0;34m:\u001b[0m\u001b[0;34m\u001b[0m\u001b[0;34m\u001b[0m\u001b[0m\n\u001b[0m\u001b[1;32m    125\u001b[0m                 \u001b[0;32mtry\u001b[0m\u001b[0;34m:\u001b[0m\u001b[0;34m\u001b[0m\u001b[0;34m\u001b[0m\u001b[0m\n\u001b[1;32m    126\u001b[0m                     \u001b[0;32mif\u001b[0m \u001b[0;32mnot\u001b[0m \u001b[0mdironly\u001b[0m \u001b[0;32mor\u001b[0m \u001b[0mentry\u001b[0m\u001b[0;34m.\u001b[0m\u001b[0mis_dir\u001b[0m\u001b[0;34m(\u001b[0m\u001b[0;34m)\u001b[0m\u001b[0;34m:\u001b[0m\u001b[0;34m\u001b[0m\u001b[0;34m\u001b[0m\u001b[0m\n",
      "\u001b[0;31mKeyboardInterrupt\u001b[0m: "
     ]
    }
   ],
   "source": [
    "# listamos los ficheros que hay en este path actual buscando\n",
    "# recursivamente dentro de las carpetas\n",
    "glob.glob('**/*', recursive=True)"
   ]
  },
  {
   "cell_type": "markdown",
   "metadata": {},
   "source": [
    "## Obtención de metadatos de los ficheros"
   ]
  },
  {
   "cell_type": "code",
   "execution_count": 55,
   "metadata": {},
   "outputs": [
    {
     "name": "stdout",
     "output_type": "stream",
     "text": [
      "Este fichero files_folder/somehow_big_file.txt pesa 256041 KB\n"
     ]
    }
   ],
   "source": [
    "# obtenemos el tamaño del fichero p_big\n",
    "p_big = 'files_folder/somehow_big_file.txt'\n",
    "p_big_size = os.path.getsize(p_big)\n",
    "print(f\"Este fichero {p_big} pesa {p_big_size} KB\")"
   ]
  },
  {
   "cell_type": "code",
   "execution_count": 57,
   "metadata": {},
   "outputs": [
    {
     "name": "stdout",
     "output_type": "stream",
     "text": [
      "La última modificación del fichero files_folder/somehow_big_file.txt es 1625150010.0 (unix ts)\n"
     ]
    }
   ],
   "source": [
    "# Listamos la fecha de modificación del fichero\n",
    "from datetime import datetime\n",
    "\n",
    "unx_ts_mtime = os.path.getmtime(p_big)\n",
    "print(f\"La última modificación del fichero {p_big} es {unx_ts_mtime} (unix ts)\")"
   ]
  },
  {
   "cell_type": "code",
   "execution_count": 60,
   "metadata": {},
   "outputs": [
    {
     "name": "stdout",
     "output_type": "stream",
     "text": [
      "La conversión human readable es: 2021-07-01 14:33:30\n"
     ]
    }
   ],
   "source": [
    "# Si queremos convertir el timestamp de unix en format yyyy-mm-dd hh:mm:ss\n",
    "yyyy_mm_dd = datetime.utcfromtimestamp(unx_ts_mtime)\n",
    "print(f\"La conversión human readable es: {yyyy_mm_dd}\")"
   ]
  },
  {
   "cell_type": "code",
   "execution_count": 61,
   "metadata": {},
   "outputs": [
    {
     "name": "stdout",
     "output_type": "stream",
     "text": [
      "La conversión human readable es: 01-07-2021 14:33:30\n"
     ]
    }
   ],
   "source": [
    "# Si queremos convertir el timestamp de unix en format d-m-y h:m:s\n",
    "yyyy_mm_dd = datetime.utcfromtimestamp(unx_ts_mtime).strftime('%d-%m-%Y %H:%M:%S')\n",
    "print(f\"La conversión human readable es: {yyyy_mm_dd}\")"
   ]
  },
  {
   "cell_type": "code",
   "execution_count": 62,
   "metadata": {},
   "outputs": [
    {
     "name": "stdout",
     "output_type": "stream",
     "text": [
      "0o755\n"
     ]
    }
   ],
   "source": [
    "# La otra manera de imprimir metadatos\n",
    "import stat\n",
    "\n",
    "# mostramos los bits de protección del fichero\n",
    "print(oct(stat.S_IMODE(os.stat(p_big).st_mode)))"
   ]
  },
  {
   "cell_type": "markdown",
   "metadata": {},
   "source": [
    "## Trabajo con ficheros comprimidos"
   ]
  },
  {
   "cell_type": "code",
   "execution_count": 63,
   "metadata": {},
   "outputs": [],
   "source": [
    "# CREAR FICHEROS ZIP\n",
    "import zipfile as zf\n",
    "zip_file = 'files_folder/compressed_file.zip'\n",
    "# creamos el fichero\n",
    "with zf.ZipFile(zip_file, 'w', compression=zf.ZIP_DEFLATED) as zip_f:\n",
    "    # Añadimos el fichero p_big \n",
    "    zip_f.write(p_big)"
   ]
  },
  {
   "cell_type": "code",
   "execution_count": 70,
   "metadata": {},
   "outputs": [
    {
     "name": "stdout",
     "output_type": "stream",
     "text": [
      "El fichero tiene tamaño 250.0400390625 KB\n"
     ]
    }
   ],
   "source": [
    "# Para obtener el tamaño\n",
    "p_big_size = os.path.getsize(p_big)\n",
    "print(f\"El fichero tiene tamaño {p_big_size/1024} KB\")"
   ]
  },
  {
   "cell_type": "code",
   "execution_count": 71,
   "metadata": {},
   "outputs": [
    {
     "name": "stdout",
     "output_type": "stream",
     "text": [
      "El fichero tiene tamaño 1.876953125 KB\n"
     ]
    }
   ],
   "source": [
    "zip_file_size = os.path.getsize(zip_file)\n",
    "print(f\"El fichero tiene tamaño {zip_file_size/1024} KB\")"
   ]
  },
  {
   "cell_type": "code",
   "execution_count": 73,
   "metadata": {},
   "outputs": [],
   "source": [
    "# Lectura de ficheros grandes\n",
    "zip_with_multiple_files = 'files_folder/zip_with_multiple_files.zip'\n",
    "with zf.ZipFile(zip_with_multiple_files, 'r') as zip_f:\n",
    "    # descomprimimos únicamente el fichero file_2.txt\n",
    "    zip_f.extract(\"file_2.txt\")"
   ]
  },
  {
   "cell_type": "code",
   "execution_count": 74,
   "metadata": {},
   "outputs": [
    {
     "name": "stdout",
     "output_type": "stream",
     "text": [
      "File Name                                             Modified             Size\n",
      "a_folder_in_a_zip/                             2020-01-20 16:42:00            0\n",
      "a_folder_in_a_zip/file_3.txt                   2020-01-20 16:42:00           24\n",
      "file_1.txt                                     2020-01-20 16:41:14          823\n",
      "file_2.txt                                     2020-01-20 16:41:42           17\n",
      "None\n"
     ]
    }
   ],
   "source": [
    "# imprimimos en pantalla el contenido del zip\n",
    "zip_with_multiple_files = 'files_folder/zip_with_multiple_files.zip'\n",
    "with zf.ZipFile(zip_with_multiple_files, 'r') as zip_f:\n",
    "    print(zip_f.printdir())"
   ]
  },
  {
   "cell_type": "code",
   "execution_count": 76,
   "metadata": {},
   "outputs": [
    {
     "name": "stdout",
     "output_type": "stream",
     "text": [
      "Filename: a_folder_in_a_zip/\n",
      "\tFile size: 0 bytes\n",
      "\tIs dir?: True\n",
      "\tDate and time: (2020, 1, 20, 16, 42, 0)\n",
      "\tCompression type: 0\n",
      "\tCRC: 0\n",
      "\n",
      "Filename: a_folder_in_a_zip/file_3.txt\n",
      "\tFile size: 24 bytes\n",
      "\tIs dir?: False\n",
      "\tDate and time: (2020, 1, 20, 16, 42, 0)\n",
      "\tCompression type: 0\n",
      "\tCRC: 2817114606\n",
      "\n",
      "Filename: file_1.txt\n",
      "\tFile size: 823 bytes\n",
      "\tIs dir?: False\n",
      "\tDate and time: (2020, 1, 20, 16, 41, 14)\n",
      "\tCompression type: 8\n",
      "\tCRC: 3521977432\n",
      "\n",
      "Filename: file_2.txt\n",
      "\tFile size: 17 bytes\n",
      "\tIs dir?: False\n",
      "\tDate and time: (2020, 1, 20, 16, 41, 42)\n",
      "\tCompression type: 0\n",
      "\tCRC: 742541709\n",
      "\n"
     ]
    }
   ],
   "source": [
    "# Imprime la info del contenido del fichero zip\n",
    "with zf.ZipFile(zip_with_multiple_files, 'r') as zip_f:\n",
    "    # Obtenemos un objeto ZipInfo del archivo zip_with_mult_files\n",
    "    info_list = zip_f.infolist()\n",
    "\n",
    "    # Para cada archivo dentro del zip, mostramos la\n",
    "    # información del fichero\n",
    "    for info in info_list:\n",
    "        print(\"Filename: {}\".format(info.filename))\n",
    "        print(\"\\tFile size: {} bytes\".format(info.file_size))\n",
    "        print(\"\\tIs dir?: {}\".format(info.is_dir()))\n",
    "        print(\"\\tDate and time: {}\".format(info.date_time))\n",
    "        print(\"\\tCompression type: {}\".format(info.compress_type))\n",
    "        print(\"\\tCRC: {}\\n\".format(info.CRC))"
   ]
  },
  {
   "cell_type": "markdown",
   "metadata": {},
   "source": [
    "## Lectura y escritura de ficheros con la librería Pandas\n",
    "\n",
    "https://pandas.pydata.org/pandas-docs/stable/user_guide/io.html"
   ]
  },
  {
   "cell_type": "code",
   "execution_count": 77,
   "metadata": {},
   "outputs": [],
   "source": [
    "import pandas as pd"
   ]
  },
  {
   "cell_type": "code",
   "execution_count": 79,
   "metadata": {},
   "outputs": [
    {
     "data": {
      "text/html": [
       "<div>\n",
       "<style scoped>\n",
       "    .dataframe tbody tr th:only-of-type {\n",
       "        vertical-align: middle;\n",
       "    }\n",
       "\n",
       "    .dataframe tbody tr th {\n",
       "        vertical-align: top;\n",
       "    }\n",
       "\n",
       "    .dataframe thead th {\n",
       "        text-align: right;\n",
       "    }\n",
       "</style>\n",
       "<table border=\"1\" class=\"dataframe\">\n",
       "  <thead>\n",
       "    <tr style=\"text-align: right;\">\n",
       "      <th></th>\n",
       "      <th>page_id</th>\n",
       "      <th>name</th>\n",
       "      <th>urlslug</th>\n",
       "      <th>ID</th>\n",
       "      <th>ALIGN</th>\n",
       "      <th>EYE</th>\n",
       "      <th>HAIR</th>\n",
       "      <th>SEX</th>\n",
       "      <th>GSM</th>\n",
       "      <th>ALIVE</th>\n",
       "      <th>APPEARANCES</th>\n",
       "      <th>FIRST APPEARANCE</th>\n",
       "      <th>Year</th>\n",
       "    </tr>\n",
       "  </thead>\n",
       "  <tbody>\n",
       "    <tr>\n",
       "      <th>0</th>\n",
       "      <td>1678</td>\n",
       "      <td>Spider-Man (Peter Parker)</td>\n",
       "      <td>\\/Spider-Man_(Peter_Parker)</td>\n",
       "      <td>Secret Identity</td>\n",
       "      <td>Good Characters</td>\n",
       "      <td>Hazel Eyes</td>\n",
       "      <td>Brown Hair</td>\n",
       "      <td>Male Characters</td>\n",
       "      <td>dontknow</td>\n",
       "      <td>Living Characters</td>\n",
       "      <td>4043.0</td>\n",
       "      <td>Aug-62</td>\n",
       "      <td>1.962</td>\n",
       "    </tr>\n",
       "    <tr>\n",
       "      <th>1</th>\n",
       "      <td>7139</td>\n",
       "      <td>Captain America (Steven Rogers)</td>\n",
       "      <td>\\/Captain_America_(Steven_Rogers)</td>\n",
       "      <td>Public Identity</td>\n",
       "      <td>Good Characters</td>\n",
       "      <td>Blue Eyes</td>\n",
       "      <td>White Hair</td>\n",
       "      <td>Male Characters</td>\n",
       "      <td>NaN</td>\n",
       "      <td>Living Characters</td>\n",
       "      <td>3360.0</td>\n",
       "      <td>Mar-41</td>\n",
       "      <td>1.941</td>\n",
       "    </tr>\n",
       "    <tr>\n",
       "      <th>2</th>\n",
       "      <td>64786</td>\n",
       "      <td>Wolverine (James \\\"Logan\\\" Howlett)</td>\n",
       "      <td>\\/Wolverine_(James_%22Logan%22_Howlett)</td>\n",
       "      <td>Public Identity</td>\n",
       "      <td>Neutral Characters</td>\n",
       "      <td>Blue Eyes</td>\n",
       "      <td>Black Hair</td>\n",
       "      <td>Male Characters</td>\n",
       "      <td>dontknow</td>\n",
       "      <td>Living Characters</td>\n",
       "      <td>3061.0</td>\n",
       "      <td>Oct-74</td>\n",
       "      <td>1.974</td>\n",
       "    </tr>\n",
       "    <tr>\n",
       "      <th>3</th>\n",
       "      <td>1868</td>\n",
       "      <td>Iron Man (Anthony \\\"Tony\\\" Stark)</td>\n",
       "      <td>\\/Iron_Man_(Anthony_%22Tony%22_Stark)</td>\n",
       "      <td>Public Identity</td>\n",
       "      <td>Good Characters</td>\n",
       "      <td>Blue Eyes</td>\n",
       "      <td>Black Hair</td>\n",
       "      <td>Male Characters</td>\n",
       "      <td>NaN</td>\n",
       "      <td>Living Characters</td>\n",
       "      <td>2961.0</td>\n",
       "      <td>Mar-63</td>\n",
       "      <td>1.963</td>\n",
       "    </tr>\n",
       "    <tr>\n",
       "      <th>4</th>\n",
       "      <td>2460</td>\n",
       "      <td>Thor (Thor Odinson)</td>\n",
       "      <td>\\/Thor_(Thor_Odinson)</td>\n",
       "      <td>No Dual Identity</td>\n",
       "      <td>Good Characters</td>\n",
       "      <td>Blue Eyes</td>\n",
       "      <td>Blond Hair</td>\n",
       "      <td>Male Characters</td>\n",
       "      <td>NaN</td>\n",
       "      <td>Living Characters</td>\n",
       "      <td>2258.0</td>\n",
       "      <td>Nov-50</td>\n",
       "      <td>1.950</td>\n",
       "    </tr>\n",
       "    <tr>\n",
       "      <th>5</th>\n",
       "      <td>2458</td>\n",
       "      <td>Benjamin Grimm (Earth-616)</td>\n",
       "      <td>\\/Benjamin_Grimm_(Earth-616)</td>\n",
       "      <td>Public Identity</td>\n",
       "      <td>Good Characters</td>\n",
       "      <td>Blue Eyes</td>\n",
       "      <td>No Hair</td>\n",
       "      <td>Male Characters</td>\n",
       "      <td>NaN</td>\n",
       "      <td>Living Characters</td>\n",
       "      <td>2255.0</td>\n",
       "      <td>Nov-61</td>\n",
       "      <td>1.961</td>\n",
       "    </tr>\n",
       "    <tr>\n",
       "      <th>6</th>\n",
       "      <td>2166</td>\n",
       "      <td>Reed Richards (Earth-616)</td>\n",
       "      <td>\\/Reed_Richards_(Earth-616)</td>\n",
       "      <td>Public Identity</td>\n",
       "      <td>Good Characters</td>\n",
       "      <td>Brown Eyes</td>\n",
       "      <td>Brown Hair</td>\n",
       "      <td>Male Characters</td>\n",
       "      <td>dontknow</td>\n",
       "      <td>Living Characters</td>\n",
       "      <td>2072.0</td>\n",
       "      <td>Nov-61</td>\n",
       "      <td>1.961</td>\n",
       "    </tr>\n",
       "    <tr>\n",
       "      <th>7</th>\n",
       "      <td>1833</td>\n",
       "      <td>Hulk (Robert Bruce Banner)</td>\n",
       "      <td>\\/Hulk_(Robert_Bruce_Banner)</td>\n",
       "      <td>Public Identity</td>\n",
       "      <td>Good Characters</td>\n",
       "      <td>Brown Eyes</td>\n",
       "      <td>Brown Hair</td>\n",
       "      <td>Male Characters</td>\n",
       "      <td>NaN</td>\n",
       "      <td>Living Characters</td>\n",
       "      <td>2017.0</td>\n",
       "      <td>May-62</td>\n",
       "      <td>1.962</td>\n",
       "    </tr>\n",
       "    <tr>\n",
       "      <th>8</th>\n",
       "      <td>29481</td>\n",
       "      <td>Scott Summers (Earth-616)</td>\n",
       "      <td>\\/Scott_Summers_(Earth-616)</td>\n",
       "      <td>Public Identity</td>\n",
       "      <td>Neutral Characters</td>\n",
       "      <td>Brown Eyes</td>\n",
       "      <td>Brown Hair</td>\n",
       "      <td>Male Characters</td>\n",
       "      <td>NaN</td>\n",
       "      <td>Living Characters</td>\n",
       "      <td>1955.0</td>\n",
       "      <td>Sep-63</td>\n",
       "      <td>1.963</td>\n",
       "    </tr>\n",
       "    <tr>\n",
       "      <th>9</th>\n",
       "      <td>1837</td>\n",
       "      <td>Jonathan Storm (Earth-616)</td>\n",
       "      <td>\\/Jonathan_Storm_(Earth-616)</td>\n",
       "      <td>Public Identity</td>\n",
       "      <td>Good Characters</td>\n",
       "      <td>Blue Eyes</td>\n",
       "      <td>Blond Hair</td>\n",
       "      <td>Male Characters</td>\n",
       "      <td>NaN</td>\n",
       "      <td>Living Characters</td>\n",
       "      <td>1934.0</td>\n",
       "      <td>Nov-61</td>\n",
       "      <td>1.961</td>\n",
       "    </tr>\n",
       "  </tbody>\n",
       "</table>\n",
       "</div>"
      ],
      "text/plain": [
       "   page_id                                 name  \\\n",
       "0     1678            Spider-Man (Peter Parker)   \n",
       "1     7139      Captain America (Steven Rogers)   \n",
       "2    64786  Wolverine (James \\\"Logan\\\" Howlett)   \n",
       "3     1868    Iron Man (Anthony \\\"Tony\\\" Stark)   \n",
       "4     2460                  Thor (Thor Odinson)   \n",
       "5     2458           Benjamin Grimm (Earth-616)   \n",
       "6     2166            Reed Richards (Earth-616)   \n",
       "7     1833           Hulk (Robert Bruce Banner)   \n",
       "8    29481            Scott Summers (Earth-616)   \n",
       "9     1837           Jonathan Storm (Earth-616)   \n",
       "\n",
       "                                   urlslug                ID  \\\n",
       "0              \\/Spider-Man_(Peter_Parker)   Secret Identity   \n",
       "1        \\/Captain_America_(Steven_Rogers)   Public Identity   \n",
       "2  \\/Wolverine_(James_%22Logan%22_Howlett)   Public Identity   \n",
       "3    \\/Iron_Man_(Anthony_%22Tony%22_Stark)   Public Identity   \n",
       "4                    \\/Thor_(Thor_Odinson)  No Dual Identity   \n",
       "5             \\/Benjamin_Grimm_(Earth-616)   Public Identity   \n",
       "6              \\/Reed_Richards_(Earth-616)   Public Identity   \n",
       "7             \\/Hulk_(Robert_Bruce_Banner)   Public Identity   \n",
       "8              \\/Scott_Summers_(Earth-616)   Public Identity   \n",
       "9             \\/Jonathan_Storm_(Earth-616)   Public Identity   \n",
       "\n",
       "                ALIGN         EYE        HAIR              SEX       GSM  \\\n",
       "0     Good Characters  Hazel Eyes  Brown Hair  Male Characters  dontknow   \n",
       "1     Good Characters   Blue Eyes  White Hair  Male Characters       NaN   \n",
       "2  Neutral Characters   Blue Eyes  Black Hair  Male Characters  dontknow   \n",
       "3     Good Characters   Blue Eyes  Black Hair  Male Characters       NaN   \n",
       "4     Good Characters   Blue Eyes  Blond Hair  Male Characters       NaN   \n",
       "5     Good Characters   Blue Eyes     No Hair  Male Characters       NaN   \n",
       "6     Good Characters  Brown Eyes  Brown Hair  Male Characters  dontknow   \n",
       "7     Good Characters  Brown Eyes  Brown Hair  Male Characters       NaN   \n",
       "8  Neutral Characters  Brown Eyes  Brown Hair  Male Characters       NaN   \n",
       "9     Good Characters   Blue Eyes  Blond Hair  Male Characters       NaN   \n",
       "\n",
       "               ALIVE  APPEARANCES FIRST APPEARANCE   Year  \n",
       "0  Living Characters       4043.0           Aug-62  1.962  \n",
       "1  Living Characters       3360.0           Mar-41  1.941  \n",
       "2  Living Characters       3061.0           Oct-74  1.974  \n",
       "3  Living Characters       2961.0           Mar-63  1.963  \n",
       "4  Living Characters       2258.0           Nov-50  1.950  \n",
       "5  Living Characters       2255.0           Nov-61  1.961  \n",
       "6  Living Characters       2072.0           Nov-61  1.961  \n",
       "7  Living Characters       2017.0           May-62  1.962  \n",
       "8  Living Characters       1955.0           Sep-63  1.963  \n",
       "9  Living Characters       1934.0           Nov-61  1.961  "
      ]
     },
     "execution_count": 79,
     "metadata": {},
     "output_type": "execute_result"
    }
   ],
   "source": [
    "# Cargamos los datos del fichero \"marvel-wikia-data.csv\"\n",
    "df = pd.read_csv(\"data/marvel-wikia-data.csv\",)\n",
    "df.head(10)"
   ]
  },
  {
   "cell_type": "code",
   "execution_count": 80,
   "metadata": {},
   "outputs": [
    {
     "data": {
      "text/html": [
       "<div>\n",
       "<style scoped>\n",
       "    .dataframe tbody tr th:only-of-type {\n",
       "        vertical-align: middle;\n",
       "    }\n",
       "\n",
       "    .dataframe tbody tr th {\n",
       "        vertical-align: top;\n",
       "    }\n",
       "\n",
       "    .dataframe thead th {\n",
       "        text-align: right;\n",
       "    }\n",
       "</style>\n",
       "<table border=\"1\" class=\"dataframe\">\n",
       "  <thead>\n",
       "    <tr style=\"text-align: right;\">\n",
       "      <th></th>\n",
       "      <th>page_id</th>\n",
       "      <th>name</th>\n",
       "      <th>urlslug</th>\n",
       "      <th>ID</th>\n",
       "      <th>ALIGN</th>\n",
       "      <th>EYE</th>\n",
       "      <th>HAIR</th>\n",
       "      <th>SEX</th>\n",
       "      <th>GSM</th>\n",
       "      <th>ALIVE</th>\n",
       "      <th>APPEARANCES</th>\n",
       "      <th>FIRST APPEARANCE</th>\n",
       "      <th>Year</th>\n",
       "    </tr>\n",
       "  </thead>\n",
       "  <tbody>\n",
       "    <tr>\n",
       "      <th>26</th>\n",
       "      <td>1976</td>\n",
       "      <td>Janet van Dyne (Earth-616)</td>\n",
       "      <td>\\/Janet_van_Dyne_(Earth-616)</td>\n",
       "      <td>Public Identity</td>\n",
       "      <td>Good Characters</td>\n",
       "      <td>Blue Eyes</td>\n",
       "      <td>Auburn Hair</td>\n",
       "      <td>Female Characters</td>\n",
       "      <td>NaN</td>\n",
       "      <td>Living Characters</td>\n",
       "      <td>1120.0</td>\n",
       "      <td>Jun-63</td>\n",
       "      <td>1.963</td>\n",
       "    </tr>\n",
       "    <tr>\n",
       "      <th>27</th>\n",
       "      <td>65219</td>\n",
       "      <td>Jean Grey (Earth-616)</td>\n",
       "      <td>\\/Jean_Grey_(Earth-616)</td>\n",
       "      <td>Public Identity</td>\n",
       "      <td>Good Characters</td>\n",
       "      <td>Green Eyes</td>\n",
       "      <td>Red Hair</td>\n",
       "      <td>Female Characters</td>\n",
       "      <td>NaN</td>\n",
       "      <td>Deceased Characters</td>\n",
       "      <td>1107.0</td>\n",
       "      <td>Sep-63</td>\n",
       "      <td>1.963</td>\n",
       "    </tr>\n",
       "    <tr>\n",
       "      <th>28</th>\n",
       "      <td>6545</td>\n",
       "      <td>Natalia Romanova (Earth-616)</td>\n",
       "      <td>\\/Natalia_Romanova_(Earth-616)</td>\n",
       "      <td>Public Identity</td>\n",
       "      <td>Good Characters</td>\n",
       "      <td>Green Eyes</td>\n",
       "      <td>Red Hair</td>\n",
       "      <td>Female Characters</td>\n",
       "      <td>Bisexual Characters</td>\n",
       "      <td>Living Characters</td>\n",
       "      <td>1050.0</td>\n",
       "      <td>Apr-64</td>\n",
       "      <td>1.964</td>\n",
       "    </tr>\n",
       "    <tr>\n",
       "      <th>29</th>\n",
       "      <td>2223</td>\n",
       "      <td>Kurt Wagner (Earth-616)</td>\n",
       "      <td>\\/Kurt_Wagner_(Earth-616)</td>\n",
       "      <td>Secret Identity</td>\n",
       "      <td>Good Characters</td>\n",
       "      <td>Yellow Eyes</td>\n",
       "      <td>Blue Hair</td>\n",
       "      <td>Male Characters</td>\n",
       "      <td>NaN</td>\n",
       "      <td>Living Characters</td>\n",
       "      <td>1047.0</td>\n",
       "      <td>May-75</td>\n",
       "      <td>1.975</td>\n",
       "    </tr>\n",
       "    <tr>\n",
       "      <th>30</th>\n",
       "      <td>9999</td>\n",
       "      <td>-</td>\n",
       "      <td>-</td>\n",
       "      <td>-</td>\n",
       "      <td>-</td>\n",
       "      <td>-</td>\n",
       "      <td>-</td>\n",
       "      <td>-</td>\n",
       "      <td>NaN</td>\n",
       "      <td>-</td>\n",
       "      <td>0.0</td>\n",
       "      <td>-0</td>\n",
       "      <td>0.000</td>\n",
       "    </tr>\n",
       "  </tbody>\n",
       "</table>\n",
       "</div>"
      ],
      "text/plain": [
       "    page_id                          name                         urlslug  \\\n",
       "26     1976    Janet van Dyne (Earth-616)    \\/Janet_van_Dyne_(Earth-616)   \n",
       "27    65219         Jean Grey (Earth-616)         \\/Jean_Grey_(Earth-616)   \n",
       "28     6545  Natalia Romanova (Earth-616)  \\/Natalia_Romanova_(Earth-616)   \n",
       "29     2223       Kurt Wagner (Earth-616)       \\/Kurt_Wagner_(Earth-616)   \n",
       "30     9999                             -                               -   \n",
       "\n",
       "                 ID            ALIGN          EYE         HAIR  \\\n",
       "26  Public Identity  Good Characters    Blue Eyes  Auburn Hair   \n",
       "27  Public Identity  Good Characters   Green Eyes     Red Hair   \n",
       "28  Public Identity  Good Characters   Green Eyes     Red Hair   \n",
       "29  Secret Identity  Good Characters  Yellow Eyes    Blue Hair   \n",
       "30                -                -            -            -   \n",
       "\n",
       "                  SEX                  GSM                ALIVE  APPEARANCES  \\\n",
       "26  Female Characters                  NaN    Living Characters       1120.0   \n",
       "27  Female Characters                  NaN  Deceased Characters       1107.0   \n",
       "28  Female Characters  Bisexual Characters    Living Characters       1050.0   \n",
       "29    Male Characters                  NaN    Living Characters       1047.0   \n",
       "30                  -                  NaN                    -          0.0   \n",
       "\n",
       "   FIRST APPEARANCE   Year  \n",
       "26           Jun-63  1.963  \n",
       "27           Sep-63  1.963  \n",
       "28           Apr-64  1.964  \n",
       "29           May-75  1.975  \n",
       "30               -0  0.000  "
      ]
     },
     "execution_count": 80,
     "metadata": {},
     "output_type": "execute_result"
    }
   ],
   "source": [
    "df.tail()"
   ]
  },
  {
   "cell_type": "code",
   "execution_count": 81,
   "metadata": {},
   "outputs": [
    {
     "data": {
      "text/html": [
       "<div>\n",
       "<style scoped>\n",
       "    .dataframe tbody tr th:only-of-type {\n",
       "        vertical-align: middle;\n",
       "    }\n",
       "\n",
       "    .dataframe tbody tr th {\n",
       "        vertical-align: top;\n",
       "    }\n",
       "\n",
       "    .dataframe thead th {\n",
       "        text-align: right;\n",
       "    }\n",
       "</style>\n",
       "<table border=\"1\" class=\"dataframe\">\n",
       "  <thead>\n",
       "    <tr style=\"text-align: right;\">\n",
       "      <th></th>\n",
       "      <th>page_id</th>\n",
       "      <th>APPEARANCES</th>\n",
       "      <th>Year</th>\n",
       "    </tr>\n",
       "  </thead>\n",
       "  <tbody>\n",
       "    <tr>\n",
       "      <th>count</th>\n",
       "      <td>31.000000</td>\n",
       "      <td>30.000000</td>\n",
       "      <td>31.000000</td>\n",
       "    </tr>\n",
       "    <tr>\n",
       "      <th>mean</th>\n",
       "      <td>12936.774194</td>\n",
       "      <td>1677.466667</td>\n",
       "      <td>1.885871</td>\n",
       "    </tr>\n",
       "    <tr>\n",
       "      <th>std</th>\n",
       "      <td>21056.994013</td>\n",
       "      <td>821.949228</td>\n",
       "      <td>0.358674</td>\n",
       "    </tr>\n",
       "    <tr>\n",
       "      <th>min</th>\n",
       "      <td>1073.000000</td>\n",
       "      <td>0.000000</td>\n",
       "      <td>0.000000</td>\n",
       "    </tr>\n",
       "    <tr>\n",
       "      <th>25%</th>\n",
       "      <td>1835.000000</td>\n",
       "      <td>1179.000000</td>\n",
       "      <td>1.961500</td>\n",
       "    </tr>\n",
       "    <tr>\n",
       "      <th>50%</th>\n",
       "      <td>2223.000000</td>\n",
       "      <td>1322.500000</td>\n",
       "      <td>1.963000</td>\n",
       "    </tr>\n",
       "    <tr>\n",
       "      <th>75%</th>\n",
       "      <td>8911.000000</td>\n",
       "      <td>2001.500000</td>\n",
       "      <td>1.964000</td>\n",
       "    </tr>\n",
       "    <tr>\n",
       "      <th>max</th>\n",
       "      <td>65255.000000</td>\n",
       "      <td>4043.000000</td>\n",
       "      <td>1.975000</td>\n",
       "    </tr>\n",
       "  </tbody>\n",
       "</table>\n",
       "</div>"
      ],
      "text/plain": [
       "            page_id  APPEARANCES       Year\n",
       "count     31.000000    30.000000  31.000000\n",
       "mean   12936.774194  1677.466667   1.885871\n",
       "std    21056.994013   821.949228   0.358674\n",
       "min     1073.000000     0.000000   0.000000\n",
       "25%     1835.000000  1179.000000   1.961500\n",
       "50%     2223.000000  1322.500000   1.963000\n",
       "75%     8911.000000  2001.500000   1.964000\n",
       "max    65255.000000  4043.000000   1.975000"
      ]
     },
     "execution_count": 81,
     "metadata": {},
     "output_type": "execute_result"
    }
   ],
   "source": [
    "# Observamos los estadísticos básico de los datos numéricos\n",
    "df.describe()"
   ]
  },
  {
   "cell_type": "code",
   "execution_count": 85,
   "metadata": {},
   "outputs": [
    {
     "name": "stdout",
     "output_type": "stream",
     "text": [
      "<class 'pandas.core.frame.DataFrame'>\n",
      "RangeIndex: 31 entries, 0 to 30\n",
      "Data columns (total 13 columns):\n",
      " #   Column            Non-Null Count  Dtype  \n",
      "---  ------            --------------  -----  \n",
      " 0   page_id           31 non-null     int64  \n",
      " 1   name              31 non-null     object \n",
      " 2   urlslug           31 non-null     object \n",
      " 3   ID                31 non-null     object \n",
      " 4   ALIGN             31 non-null     object \n",
      " 5   EYE               31 non-null     object \n",
      " 6   HAIR              31 non-null     object \n",
      " 7   SEX               31 non-null     object \n",
      " 8   GSM               4 non-null      object \n",
      " 9   ALIVE             31 non-null     object \n",
      " 10  APPEARANCES       30 non-null     float64\n",
      " 11  FIRST APPEARANCE  31 non-null     object \n",
      " 12  Year              31 non-null     float64\n",
      "dtypes: float64(2), int64(1), object(10)\n",
      "memory usage: 3.3+ KB\n"
     ]
    }
   ],
   "source": [
    "# Información básica del dataframe\n",
    "df.info()"
   ]
  },
  {
   "cell_type": "code",
   "execution_count": 96,
   "metadata": {},
   "outputs": [
    {
     "data": {
      "text/plain": [
       "Index(['page_id', 'name', 'urlslug', 'ID', 'ALIGN', 'EYE', 'HAIR', 'SEX',\n",
       "       'GSM', 'ALIVE', 'APPEARANCES', 'FIRST APPEARANCE', 'Year'],\n",
       "      dtype='object')"
      ]
     },
     "execution_count": 96,
     "metadata": {},
     "output_type": "execute_result"
    }
   ],
   "source": [
    "df.columns"
   ]
  },
  {
   "cell_type": "code",
   "execution_count": 97,
   "metadata": {},
   "outputs": [
    {
     "data": {
      "text/plain": [
       "RangeIndex(start=0, stop=31, step=1)"
      ]
     },
     "execution_count": 97,
     "metadata": {},
     "output_type": "execute_result"
    }
   ],
   "source": [
    "df.index"
   ]
  },
  {
   "cell_type": "code",
   "execution_count": 88,
   "metadata": {},
   "outputs": [
    {
     "data": {
      "text/html": [
       "<div>\n",
       "<style scoped>\n",
       "    .dataframe tbody tr th:only-of-type {\n",
       "        vertical-align: middle;\n",
       "    }\n",
       "\n",
       "    .dataframe tbody tr th {\n",
       "        vertical-align: top;\n",
       "    }\n",
       "\n",
       "    .dataframe thead th {\n",
       "        text-align: right;\n",
       "    }\n",
       "</style>\n",
       "<table border=\"1\" class=\"dataframe\">\n",
       "  <thead>\n",
       "    <tr style=\"text-align: right;\">\n",
       "      <th></th>\n",
       "      <th>page_id</th>\n",
       "      <th>name</th>\n",
       "      <th>urlslug</th>\n",
       "      <th>ID</th>\n",
       "      <th>ALIGN</th>\n",
       "      <th>EYE</th>\n",
       "      <th>HAIR</th>\n",
       "      <th>SEX</th>\n",
       "      <th>GSM</th>\n",
       "      <th>ALIVE</th>\n",
       "      <th>APPEARANCES</th>\n",
       "      <th>FIRST APPEARANCE</th>\n",
       "      <th>Year</th>\n",
       "    </tr>\n",
       "  </thead>\n",
       "  <tbody>\n",
       "    <tr>\n",
       "      <th>0</th>\n",
       "      <td>1678</td>\n",
       "      <td>Spider-Man (Peter Parker)</td>\n",
       "      <td>\\/Spider-Man_(Peter_Parker)</td>\n",
       "      <td>Secret Identity</td>\n",
       "      <td>Good Characters</td>\n",
       "      <td>Hazel Eyes</td>\n",
       "      <td>Brown Hair</td>\n",
       "      <td>Male Characters</td>\n",
       "      <td>dontknow</td>\n",
       "      <td>Living Characters</td>\n",
       "      <td>4043.0</td>\n",
       "      <td>Aug-62</td>\n",
       "      <td>1962</td>\n",
       "    </tr>\n",
       "    <tr>\n",
       "      <th>1</th>\n",
       "      <td>7139</td>\n",
       "      <td>Captain America (Steven Rogers)</td>\n",
       "      <td>\\/Captain_America_(Steven_Rogers)</td>\n",
       "      <td>Public Identity</td>\n",
       "      <td>Good Characters</td>\n",
       "      <td>Blue Eyes</td>\n",
       "      <td>White Hair</td>\n",
       "      <td>Male Characters</td>\n",
       "      <td>NaN</td>\n",
       "      <td>Living Characters</td>\n",
       "      <td>3360.0</td>\n",
       "      <td>Mar-41</td>\n",
       "      <td>1941</td>\n",
       "    </tr>\n",
       "    <tr>\n",
       "      <th>2</th>\n",
       "      <td>64786</td>\n",
       "      <td>Wolverine (James \\\"Logan\\\" Howlett)</td>\n",
       "      <td>\\/Wolverine_(James_%22Logan%22_Howlett)</td>\n",
       "      <td>Public Identity</td>\n",
       "      <td>Neutral Characters</td>\n",
       "      <td>Blue Eyes</td>\n",
       "      <td>Black Hair</td>\n",
       "      <td>Male Characters</td>\n",
       "      <td>dontknow</td>\n",
       "      <td>Living Characters</td>\n",
       "      <td>3061.0</td>\n",
       "      <td>Oct-74</td>\n",
       "      <td>1974</td>\n",
       "    </tr>\n",
       "    <tr>\n",
       "      <th>3</th>\n",
       "      <td>1868</td>\n",
       "      <td>Iron Man (Anthony \\\"Tony\\\" Stark)</td>\n",
       "      <td>\\/Iron_Man_(Anthony_%22Tony%22_Stark)</td>\n",
       "      <td>Public Identity</td>\n",
       "      <td>Good Characters</td>\n",
       "      <td>Blue Eyes</td>\n",
       "      <td>Black Hair</td>\n",
       "      <td>Male Characters</td>\n",
       "      <td>NaN</td>\n",
       "      <td>Living Characters</td>\n",
       "      <td>2961.0</td>\n",
       "      <td>Mar-63</td>\n",
       "      <td>1963</td>\n",
       "    </tr>\n",
       "    <tr>\n",
       "      <th>4</th>\n",
       "      <td>2460</td>\n",
       "      <td>Thor (Thor Odinson)</td>\n",
       "      <td>\\/Thor_(Thor_Odinson)</td>\n",
       "      <td>No Dual Identity</td>\n",
       "      <td>Good Characters</td>\n",
       "      <td>Blue Eyes</td>\n",
       "      <td>Blond Hair</td>\n",
       "      <td>Male Characters</td>\n",
       "      <td>NaN</td>\n",
       "      <td>Living Characters</td>\n",
       "      <td>2258.0</td>\n",
       "      <td>Nov-50</td>\n",
       "      <td>1950</td>\n",
       "    </tr>\n",
       "  </tbody>\n",
       "</table>\n",
       "</div>"
      ],
      "text/plain": [
       "   page_id                                 name  \\\n",
       "0     1678            Spider-Man (Peter Parker)   \n",
       "1     7139      Captain America (Steven Rogers)   \n",
       "2    64786  Wolverine (James \\\"Logan\\\" Howlett)   \n",
       "3     1868    Iron Man (Anthony \\\"Tony\\\" Stark)   \n",
       "4     2460                  Thor (Thor Odinson)   \n",
       "\n",
       "                                   urlslug                ID  \\\n",
       "0              \\/Spider-Man_(Peter_Parker)   Secret Identity   \n",
       "1        \\/Captain_America_(Steven_Rogers)   Public Identity   \n",
       "2  \\/Wolverine_(James_%22Logan%22_Howlett)   Public Identity   \n",
       "3    \\/Iron_Man_(Anthony_%22Tony%22_Stark)   Public Identity   \n",
       "4                    \\/Thor_(Thor_Odinson)  No Dual Identity   \n",
       "\n",
       "                ALIGN         EYE        HAIR              SEX       GSM  \\\n",
       "0     Good Characters  Hazel Eyes  Brown Hair  Male Characters  dontknow   \n",
       "1     Good Characters   Blue Eyes  White Hair  Male Characters       NaN   \n",
       "2  Neutral Characters   Blue Eyes  Black Hair  Male Characters  dontknow   \n",
       "3     Good Characters   Blue Eyes  Black Hair  Male Characters       NaN   \n",
       "4     Good Characters   Blue Eyes  Blond Hair  Male Characters       NaN   \n",
       "\n",
       "               ALIVE  APPEARANCES FIRST APPEARANCE  Year  \n",
       "0  Living Characters       4043.0           Aug-62  1962  \n",
       "1  Living Characters       3360.0           Mar-41  1941  \n",
       "2  Living Characters       3061.0           Oct-74  1974  \n",
       "3  Living Characters       2961.0           Mar-63  1963  \n",
       "4  Living Characters       2258.0           Nov-50  1950  "
      ]
     },
     "execution_count": 88,
     "metadata": {},
     "output_type": "execute_result"
    }
   ],
   "source": [
    "# Podemos corregir el año con el parámetro thousand\n",
    "data = pd.read_csv(\"data/marvel-wikia-data.csv\", thousands=\".\")\n",
    "data.head()"
   ]
  },
  {
   "cell_type": "code",
   "execution_count": 94,
   "metadata": {},
   "outputs": [
    {
     "data": {
      "text/plain": [
       "0    1962\n",
       "1    1941\n",
       "2    1974\n",
       "3    1963\n",
       "4    1950\n",
       "Name: Year, dtype: int64"
      ]
     },
     "execution_count": 94,
     "metadata": {},
     "output_type": "execute_result"
    }
   ],
   "source": [
    "# Si queremos recoger la info de la columna literal Year\n",
    "data.Year.head()"
   ]
  },
  {
   "cell_type": "code",
   "execution_count": 95,
   "metadata": {},
   "outputs": [
    {
     "data": {
      "text/plain": [
       "0    Aug-62\n",
       "1    Mar-41\n",
       "2    Oct-74\n",
       "3    Mar-63\n",
       "4    Nov-50\n",
       "Name: FIRST APPEARANCE, dtype: object"
      ]
     },
     "execution_count": 95,
     "metadata": {},
     "output_type": "execute_result"
    }
   ],
   "source": [
    "# En caso que la columna tiene espacio o guión medio entonces utilizamos los corchetes\n",
    "data['FIRST APPEARANCE'].head()"
   ]
  },
  {
   "cell_type": "code",
   "execution_count": 98,
   "metadata": {},
   "outputs": [
    {
     "data": {
      "text/html": [
       "<div>\n",
       "<style scoped>\n",
       "    .dataframe tbody tr th:only-of-type {\n",
       "        vertical-align: middle;\n",
       "    }\n",
       "\n",
       "    .dataframe tbody tr th {\n",
       "        vertical-align: top;\n",
       "    }\n",
       "\n",
       "    .dataframe thead th {\n",
       "        text-align: right;\n",
       "    }\n",
       "</style>\n",
       "<table border=\"1\" class=\"dataframe\">\n",
       "  <thead>\n",
       "    <tr style=\"text-align: right;\">\n",
       "      <th></th>\n",
       "      <th>page_id</th>\n",
       "      <th>name</th>\n",
       "      <th>urlslug</th>\n",
       "      <th>ID</th>\n",
       "      <th>ALIGN</th>\n",
       "      <th>EYE</th>\n",
       "      <th>HAIR</th>\n",
       "      <th>SEX</th>\n",
       "      <th>GSM</th>\n",
       "      <th>ALIVE</th>\n",
       "      <th>APPEARANCES</th>\n",
       "      <th>FIRST APPEARANCE</th>\n",
       "      <th>Year</th>\n",
       "    </tr>\n",
       "  </thead>\n",
       "  <tbody>\n",
       "    <tr>\n",
       "      <th>26</th>\n",
       "      <td>1976</td>\n",
       "      <td>Janet van Dyne (Earth-616)</td>\n",
       "      <td>\\/Janet_van_Dyne_(Earth-616)</td>\n",
       "      <td>Public Identity</td>\n",
       "      <td>Good Characters</td>\n",
       "      <td>Blue Eyes</td>\n",
       "      <td>Auburn Hair</td>\n",
       "      <td>Female Characters</td>\n",
       "      <td>NaN</td>\n",
       "      <td>Living Characters</td>\n",
       "      <td>1120.0</td>\n",
       "      <td>Jun-63</td>\n",
       "      <td>1963</td>\n",
       "    </tr>\n",
       "    <tr>\n",
       "      <th>27</th>\n",
       "      <td>65219</td>\n",
       "      <td>Jean Grey (Earth-616)</td>\n",
       "      <td>\\/Jean_Grey_(Earth-616)</td>\n",
       "      <td>Public Identity</td>\n",
       "      <td>Good Characters</td>\n",
       "      <td>Green Eyes</td>\n",
       "      <td>Red Hair</td>\n",
       "      <td>Female Characters</td>\n",
       "      <td>NaN</td>\n",
       "      <td>Deceased Characters</td>\n",
       "      <td>1107.0</td>\n",
       "      <td>Sep-63</td>\n",
       "      <td>1963</td>\n",
       "    </tr>\n",
       "    <tr>\n",
       "      <th>28</th>\n",
       "      <td>6545</td>\n",
       "      <td>Natalia Romanova (Earth-616)</td>\n",
       "      <td>\\/Natalia_Romanova_(Earth-616)</td>\n",
       "      <td>Public Identity</td>\n",
       "      <td>Good Characters</td>\n",
       "      <td>Green Eyes</td>\n",
       "      <td>Red Hair</td>\n",
       "      <td>Female Characters</td>\n",
       "      <td>Bisexual Characters</td>\n",
       "      <td>Living Characters</td>\n",
       "      <td>1050.0</td>\n",
       "      <td>Apr-64</td>\n",
       "      <td>1964</td>\n",
       "    </tr>\n",
       "    <tr>\n",
       "      <th>29</th>\n",
       "      <td>2223</td>\n",
       "      <td>Kurt Wagner (Earth-616)</td>\n",
       "      <td>\\/Kurt_Wagner_(Earth-616)</td>\n",
       "      <td>Secret Identity</td>\n",
       "      <td>Good Characters</td>\n",
       "      <td>Yellow Eyes</td>\n",
       "      <td>Blue Hair</td>\n",
       "      <td>Male Characters</td>\n",
       "      <td>NaN</td>\n",
       "      <td>Living Characters</td>\n",
       "      <td>1047.0</td>\n",
       "      <td>May-75</td>\n",
       "      <td>1975</td>\n",
       "    </tr>\n",
       "    <tr>\n",
       "      <th>30</th>\n",
       "      <td>9999</td>\n",
       "      <td>-</td>\n",
       "      <td>-</td>\n",
       "      <td>-</td>\n",
       "      <td>-</td>\n",
       "      <td>-</td>\n",
       "      <td>-</td>\n",
       "      <td>-</td>\n",
       "      <td>NaN</td>\n",
       "      <td>-</td>\n",
       "      <td>0.0</td>\n",
       "      <td>-0</td>\n",
       "      <td>0</td>\n",
       "    </tr>\n",
       "  </tbody>\n",
       "</table>\n",
       "</div>"
      ],
      "text/plain": [
       "    page_id                          name                         urlslug  \\\n",
       "26     1976    Janet van Dyne (Earth-616)    \\/Janet_van_Dyne_(Earth-616)   \n",
       "27    65219         Jean Grey (Earth-616)         \\/Jean_Grey_(Earth-616)   \n",
       "28     6545  Natalia Romanova (Earth-616)  \\/Natalia_Romanova_(Earth-616)   \n",
       "29     2223       Kurt Wagner (Earth-616)       \\/Kurt_Wagner_(Earth-616)   \n",
       "30     9999                             -                               -   \n",
       "\n",
       "                 ID            ALIGN          EYE         HAIR  \\\n",
       "26  Public Identity  Good Characters    Blue Eyes  Auburn Hair   \n",
       "27  Public Identity  Good Characters   Green Eyes     Red Hair   \n",
       "28  Public Identity  Good Characters   Green Eyes     Red Hair   \n",
       "29  Secret Identity  Good Characters  Yellow Eyes    Blue Hair   \n",
       "30                -                -            -            -   \n",
       "\n",
       "                  SEX                  GSM                ALIVE  APPEARANCES  \\\n",
       "26  Female Characters                  NaN    Living Characters       1120.0   \n",
       "27  Female Characters                  NaN  Deceased Characters       1107.0   \n",
       "28  Female Characters  Bisexual Characters    Living Characters       1050.0   \n",
       "29    Male Characters                  NaN    Living Characters       1047.0   \n",
       "30                  -                  NaN                    -          0.0   \n",
       "\n",
       "   FIRST APPEARANCE  Year  \n",
       "26           Jun-63  1963  \n",
       "27           Sep-63  1963  \n",
       "28           Apr-64  1964  \n",
       "29           May-75  1975  \n",
       "30               -0     0  "
      ]
     },
     "execution_count": 98,
     "metadata": {},
     "output_type": "execute_result"
    }
   ],
   "source": [
    "data.tail()"
   ]
  },
  {
   "cell_type": "code",
   "execution_count": 99,
   "metadata": {},
   "outputs": [
    {
     "data": {
      "text/plain": [
       "25    1963\n",
       "26    1963\n",
       "27    1963\n",
       "28    1964\n",
       "29    1975\n",
       "Name: Year, dtype: int64"
      ]
     },
     "execution_count": 99,
     "metadata": {},
     "output_type": "execute_result"
    }
   ],
   "source": [
    "# Omitimos la última fila de nuestro dataset\n",
    "data = pd.read_csv(\"data/marvel-wikia-data.csv\", \n",
    "                   thousands=\".\",\n",
    "                  skiprows=[31])\n",
    "data.Year.tail()"
   ]
  },
  {
   "cell_type": "code",
   "execution_count": 101,
   "metadata": {},
   "outputs": [
    {
     "data": {
      "text/html": [
       "<div>\n",
       "<style scoped>\n",
       "    .dataframe tbody tr th:only-of-type {\n",
       "        vertical-align: middle;\n",
       "    }\n",
       "\n",
       "    .dataframe tbody tr th {\n",
       "        vertical-align: top;\n",
       "    }\n",
       "\n",
       "    .dataframe thead th {\n",
       "        text-align: right;\n",
       "    }\n",
       "</style>\n",
       "<table border=\"1\" class=\"dataframe\">\n",
       "  <thead>\n",
       "    <tr style=\"text-align: right;\">\n",
       "      <th></th>\n",
       "      <th>Year</th>\n",
       "      <th>page_id</th>\n",
       "    </tr>\n",
       "  </thead>\n",
       "  <tbody>\n",
       "    <tr>\n",
       "      <th>25</th>\n",
       "      <td>1963</td>\n",
       "      <td>1671</td>\n",
       "    </tr>\n",
       "    <tr>\n",
       "      <th>26</th>\n",
       "      <td>1963</td>\n",
       "      <td>1976</td>\n",
       "    </tr>\n",
       "    <tr>\n",
       "      <th>27</th>\n",
       "      <td>1963</td>\n",
       "      <td>65219</td>\n",
       "    </tr>\n",
       "    <tr>\n",
       "      <th>28</th>\n",
       "      <td>1964</td>\n",
       "      <td>6545</td>\n",
       "    </tr>\n",
       "    <tr>\n",
       "      <th>29</th>\n",
       "      <td>1975</td>\n",
       "      <td>2223</td>\n",
       "    </tr>\n",
       "  </tbody>\n",
       "</table>\n",
       "</div>"
      ],
      "text/plain": [
       "    Year  page_id\n",
       "25  1963     1671\n",
       "26  1963     1976\n",
       "27  1963    65219\n",
       "28  1964     6545\n",
       "29  1975     2223"
      ]
     },
     "execution_count": 101,
     "metadata": {},
     "output_type": "execute_result"
    }
   ],
   "source": [
    "data[['Year', 'page_id']].tail()"
   ]
  },
  {
   "cell_type": "code",
   "execution_count": 104,
   "metadata": {},
   "outputs": [],
   "source": [
    "# Si queremos eliminar el índice por defecto y sustituirlo con el page_id\n",
    "df.set_index('page_id', inplace=True)"
   ]
  },
  {
   "cell_type": "code",
   "execution_count": 106,
   "metadata": {
    "collapsed": true,
    "jupyter": {
     "outputs_hidden": true
    }
   },
   "outputs": [
    {
     "data": {
      "text/html": [
       "<div>\n",
       "<style scoped>\n",
       "    .dataframe tbody tr th:only-of-type {\n",
       "        vertical-align: middle;\n",
       "    }\n",
       "\n",
       "    .dataframe tbody tr th {\n",
       "        vertical-align: top;\n",
       "    }\n",
       "\n",
       "    .dataframe thead th {\n",
       "        text-align: right;\n",
       "    }\n",
       "</style>\n",
       "<table border=\"1\" class=\"dataframe\">\n",
       "  <thead>\n",
       "    <tr style=\"text-align: right;\">\n",
       "      <th></th>\n",
       "      <th>name</th>\n",
       "      <th>urlslug</th>\n",
       "      <th>ID</th>\n",
       "      <th>ALIGN</th>\n",
       "      <th>EYE</th>\n",
       "      <th>HAIR</th>\n",
       "      <th>SEX</th>\n",
       "      <th>GSM</th>\n",
       "      <th>ALIVE</th>\n",
       "      <th>APPEARANCES</th>\n",
       "      <th>FIRST APPEARANCE</th>\n",
       "      <th>Year</th>\n",
       "    </tr>\n",
       "    <tr>\n",
       "      <th>page_id</th>\n",
       "      <th></th>\n",
       "      <th></th>\n",
       "      <th></th>\n",
       "      <th></th>\n",
       "      <th></th>\n",
       "      <th></th>\n",
       "      <th></th>\n",
       "      <th></th>\n",
       "      <th></th>\n",
       "      <th></th>\n",
       "      <th></th>\n",
       "      <th></th>\n",
       "    </tr>\n",
       "  </thead>\n",
       "  <tbody>\n",
       "    <tr>\n",
       "      <th>1678</th>\n",
       "      <td>Spider-Man (Peter Parker)</td>\n",
       "      <td>\\/Spider-Man_(Peter_Parker)</td>\n",
       "      <td>Secret Identity</td>\n",
       "      <td>Good Characters</td>\n",
       "      <td>Hazel Eyes</td>\n",
       "      <td>Brown Hair</td>\n",
       "      <td>Male Characters</td>\n",
       "      <td>dontknow</td>\n",
       "      <td>Living Characters</td>\n",
       "      <td>4043.0</td>\n",
       "      <td>Aug-62</td>\n",
       "      <td>1.962</td>\n",
       "    </tr>\n",
       "    <tr>\n",
       "      <th>7139</th>\n",
       "      <td>Captain America (Steven Rogers)</td>\n",
       "      <td>\\/Captain_America_(Steven_Rogers)</td>\n",
       "      <td>Public Identity</td>\n",
       "      <td>Good Characters</td>\n",
       "      <td>Blue Eyes</td>\n",
       "      <td>White Hair</td>\n",
       "      <td>Male Characters</td>\n",
       "      <td>NaN</td>\n",
       "      <td>Living Characters</td>\n",
       "      <td>3360.0</td>\n",
       "      <td>Mar-41</td>\n",
       "      <td>1.941</td>\n",
       "    </tr>\n",
       "    <tr>\n",
       "      <th>64786</th>\n",
       "      <td>Wolverine (James \\\"Logan\\\" Howlett)</td>\n",
       "      <td>\\/Wolverine_(James_%22Logan%22_Howlett)</td>\n",
       "      <td>Public Identity</td>\n",
       "      <td>Neutral Characters</td>\n",
       "      <td>Blue Eyes</td>\n",
       "      <td>Black Hair</td>\n",
       "      <td>Male Characters</td>\n",
       "      <td>dontknow</td>\n",
       "      <td>Living Characters</td>\n",
       "      <td>3061.0</td>\n",
       "      <td>Oct-74</td>\n",
       "      <td>1.974</td>\n",
       "    </tr>\n",
       "    <tr>\n",
       "      <th>1868</th>\n",
       "      <td>Iron Man (Anthony \\\"Tony\\\" Stark)</td>\n",
       "      <td>\\/Iron_Man_(Anthony_%22Tony%22_Stark)</td>\n",
       "      <td>Public Identity</td>\n",
       "      <td>Good Characters</td>\n",
       "      <td>Blue Eyes</td>\n",
       "      <td>Black Hair</td>\n",
       "      <td>Male Characters</td>\n",
       "      <td>NaN</td>\n",
       "      <td>Living Characters</td>\n",
       "      <td>2961.0</td>\n",
       "      <td>Mar-63</td>\n",
       "      <td>1.963</td>\n",
       "    </tr>\n",
       "    <tr>\n",
       "      <th>2460</th>\n",
       "      <td>Thor (Thor Odinson)</td>\n",
       "      <td>\\/Thor_(Thor_Odinson)</td>\n",
       "      <td>No Dual Identity</td>\n",
       "      <td>Good Characters</td>\n",
       "      <td>Blue Eyes</td>\n",
       "      <td>Blond Hair</td>\n",
       "      <td>Male Characters</td>\n",
       "      <td>NaN</td>\n",
       "      <td>Living Characters</td>\n",
       "      <td>2258.0</td>\n",
       "      <td>Nov-50</td>\n",
       "      <td>1.950</td>\n",
       "    </tr>\n",
       "    <tr>\n",
       "      <th>2458</th>\n",
       "      <td>Benjamin Grimm (Earth-616)</td>\n",
       "      <td>\\/Benjamin_Grimm_(Earth-616)</td>\n",
       "      <td>Public Identity</td>\n",
       "      <td>Good Characters</td>\n",
       "      <td>Blue Eyes</td>\n",
       "      <td>No Hair</td>\n",
       "      <td>Male Characters</td>\n",
       "      <td>NaN</td>\n",
       "      <td>Living Characters</td>\n",
       "      <td>2255.0</td>\n",
       "      <td>Nov-61</td>\n",
       "      <td>1.961</td>\n",
       "    </tr>\n",
       "    <tr>\n",
       "      <th>2166</th>\n",
       "      <td>Reed Richards (Earth-616)</td>\n",
       "      <td>\\/Reed_Richards_(Earth-616)</td>\n",
       "      <td>Public Identity</td>\n",
       "      <td>Good Characters</td>\n",
       "      <td>Brown Eyes</td>\n",
       "      <td>Brown Hair</td>\n",
       "      <td>Male Characters</td>\n",
       "      <td>dontknow</td>\n",
       "      <td>Living Characters</td>\n",
       "      <td>2072.0</td>\n",
       "      <td>Nov-61</td>\n",
       "      <td>1.961</td>\n",
       "    </tr>\n",
       "    <tr>\n",
       "      <th>1833</th>\n",
       "      <td>Hulk (Robert Bruce Banner)</td>\n",
       "      <td>\\/Hulk_(Robert_Bruce_Banner)</td>\n",
       "      <td>Public Identity</td>\n",
       "      <td>Good Characters</td>\n",
       "      <td>Brown Eyes</td>\n",
       "      <td>Brown Hair</td>\n",
       "      <td>Male Characters</td>\n",
       "      <td>NaN</td>\n",
       "      <td>Living Characters</td>\n",
       "      <td>2017.0</td>\n",
       "      <td>May-62</td>\n",
       "      <td>1.962</td>\n",
       "    </tr>\n",
       "    <tr>\n",
       "      <th>29481</th>\n",
       "      <td>Scott Summers (Earth-616)</td>\n",
       "      <td>\\/Scott_Summers_(Earth-616)</td>\n",
       "      <td>Public Identity</td>\n",
       "      <td>Neutral Characters</td>\n",
       "      <td>Brown Eyes</td>\n",
       "      <td>Brown Hair</td>\n",
       "      <td>Male Characters</td>\n",
       "      <td>NaN</td>\n",
       "      <td>Living Characters</td>\n",
       "      <td>1955.0</td>\n",
       "      <td>Sep-63</td>\n",
       "      <td>1.963</td>\n",
       "    </tr>\n",
       "    <tr>\n",
       "      <th>1837</th>\n",
       "      <td>Jonathan Storm (Earth-616)</td>\n",
       "      <td>\\/Jonathan_Storm_(Earth-616)</td>\n",
       "      <td>Public Identity</td>\n",
       "      <td>Good Characters</td>\n",
       "      <td>Blue Eyes</td>\n",
       "      <td>Blond Hair</td>\n",
       "      <td>Male Characters</td>\n",
       "      <td>NaN</td>\n",
       "      <td>Living Characters</td>\n",
       "      <td>1934.0</td>\n",
       "      <td>Nov-61</td>\n",
       "      <td>1.961</td>\n",
       "    </tr>\n",
       "    <tr>\n",
       "      <th>15725</th>\n",
       "      <td>Henry McCoy (Earth-616)</td>\n",
       "      <td>\\/Henry_McCoy_(Earth-616)</td>\n",
       "      <td>Public Identity</td>\n",
       "      <td>Good Characters</td>\n",
       "      <td>Blue Eyes</td>\n",
       "      <td>Blue Hair</td>\n",
       "      <td>Male Characters</td>\n",
       "      <td>NaN</td>\n",
       "      <td>Living Characters</td>\n",
       "      <td>1825.0</td>\n",
       "      <td>Sep-63</td>\n",
       "      <td>1.963</td>\n",
       "    </tr>\n",
       "    <tr>\n",
       "      <th>1863</th>\n",
       "      <td>Susan Storm (Earth-616)</td>\n",
       "      <td>\\/Susan_Storm_(Earth-616)</td>\n",
       "      <td>Public Identity</td>\n",
       "      <td>Good Characters</td>\n",
       "      <td>Blue Eyes</td>\n",
       "      <td>Blond Hair</td>\n",
       "      <td>Female Characters</td>\n",
       "      <td>NaN</td>\n",
       "      <td>Living Characters</td>\n",
       "      <td>1713.0</td>\n",
       "      <td>Nov-61</td>\n",
       "      <td>1.961</td>\n",
       "    </tr>\n",
       "    <tr>\n",
       "      <th>7823</th>\n",
       "      <td>Namor McKenzie (Earth-616)</td>\n",
       "      <td>\\/Namor_McKenzie_(Earth-616)</td>\n",
       "      <td>No Dual Identity</td>\n",
       "      <td>Neutral Characters</td>\n",
       "      <td>Green Eyes</td>\n",
       "      <td>Black Hair</td>\n",
       "      <td>Male Characters</td>\n",
       "      <td>NaN</td>\n",
       "      <td>Living Characters</td>\n",
       "      <td>NaN</td>\n",
       "      <td>Nov-61</td>\n",
       "      <td>1.528</td>\n",
       "    </tr>\n",
       "    <tr>\n",
       "      <th>2614</th>\n",
       "      <td>Ororo Munroe (Earth-616)</td>\n",
       "      <td>\\/Ororo_Munroe_(Earth-616)</td>\n",
       "      <td>Public Identity</td>\n",
       "      <td>Good Characters</td>\n",
       "      <td>Blue Eyes</td>\n",
       "      <td>White Hair</td>\n",
       "      <td>Female Characters</td>\n",
       "      <td>NaN</td>\n",
       "      <td>Living Characters</td>\n",
       "      <td>1512.0</td>\n",
       "      <td>May-75</td>\n",
       "      <td>1.975</td>\n",
       "    </tr>\n",
       "    <tr>\n",
       "      <th>1803</th>\n",
       "      <td>Clinton Barton (Earth-616)</td>\n",
       "      <td>\\/Clinton_Barton_(Earth-616)</td>\n",
       "      <td>Public Identity</td>\n",
       "      <td>Good Characters</td>\n",
       "      <td>Blue Eyes</td>\n",
       "      <td>Blond Hair</td>\n",
       "      <td>Male Characters</td>\n",
       "      <td>NaN</td>\n",
       "      <td>Living Characters</td>\n",
       "      <td>1394.0</td>\n",
       "      <td>Sep-64</td>\n",
       "      <td>1.964</td>\n",
       "    </tr>\n",
       "    <tr>\n",
       "      <th>1396</th>\n",
       "      <td>Matthew Murdock (Earth-616)</td>\n",
       "      <td>\\/Matthew_Murdock_(Earth-616)</td>\n",
       "      <td>Public Identity</td>\n",
       "      <td>Good Characters</td>\n",
       "      <td>Blue Eyes</td>\n",
       "      <td>Red Hair</td>\n",
       "      <td>Male Characters</td>\n",
       "      <td>NaN</td>\n",
       "      <td>Living Characters</td>\n",
       "      <td>1338.0</td>\n",
       "      <td>Apr-64</td>\n",
       "      <td>1.964</td>\n",
       "    </tr>\n",
       "    <tr>\n",
       "      <th>55534</th>\n",
       "      <td>Stephen Strange (Earth-616)</td>\n",
       "      <td>\\/Stephen_Strange_(Earth-616)</td>\n",
       "      <td>Public Identity</td>\n",
       "      <td>Good Characters</td>\n",
       "      <td>Grey Eyes</td>\n",
       "      <td>Black Hair</td>\n",
       "      <td>Male Characters</td>\n",
       "      <td>NaN</td>\n",
       "      <td>Living Characters</td>\n",
       "      <td>1307.0</td>\n",
       "      <td>Jul-63</td>\n",
       "      <td>1.963</td>\n",
       "    </tr>\n",
       "    <tr>\n",
       "      <th>1978</th>\n",
       "      <td>Mary Jane Watson (Earth-616)</td>\n",
       "      <td>\\/Mary_Jane_Watson_(Earth-616)</td>\n",
       "      <td>No Dual Identity</td>\n",
       "      <td>Good Characters</td>\n",
       "      <td>Green Eyes</td>\n",
       "      <td>Red Hair</td>\n",
       "      <td>Female Characters</td>\n",
       "      <td>NaN</td>\n",
       "      <td>Living Characters</td>\n",
       "      <td>1304.0</td>\n",
       "      <td>Jun-65</td>\n",
       "      <td>1.965</td>\n",
       "    </tr>\n",
       "    <tr>\n",
       "      <th>1872</th>\n",
       "      <td>John Jonah Jameson (Earth-616)</td>\n",
       "      <td>\\/John_Jonah_Jameson_(Earth-616)</td>\n",
       "      <td>No Dual Identity</td>\n",
       "      <td>Neutral Characters</td>\n",
       "      <td>Blue Eyes</td>\n",
       "      <td>Black Hair</td>\n",
       "      <td>Male Characters</td>\n",
       "      <td>NaN</td>\n",
       "      <td>Living Characters</td>\n",
       "      <td>1266.0</td>\n",
       "      <td>Mar-63</td>\n",
       "      <td>1.963</td>\n",
       "    </tr>\n",
       "    <tr>\n",
       "      <th>35350</th>\n",
       "      <td>Robert Drake (Earth-616)</td>\n",
       "      <td>\\/Robert_Drake_(Earth-616)</td>\n",
       "      <td>Secret Identity</td>\n",
       "      <td>Good Characters</td>\n",
       "      <td>Brown Eyes</td>\n",
       "      <td>Brown Hair</td>\n",
       "      <td>Male Characters</td>\n",
       "      <td>NaN</td>\n",
       "      <td>Living Characters</td>\n",
       "      <td>1265.0</td>\n",
       "      <td>Sep-63</td>\n",
       "      <td>1.963</td>\n",
       "    </tr>\n",
       "    <tr>\n",
       "      <th>1557</th>\n",
       "      <td>Henry Pym (Earth-616)</td>\n",
       "      <td>\\/Henry_Pym_(Earth-616)</td>\n",
       "      <td>Public Identity</td>\n",
       "      <td>Good Characters</td>\n",
       "      <td>Blue Eyes</td>\n",
       "      <td>Blond Hair</td>\n",
       "      <td>Male Characters</td>\n",
       "      <td>NaN</td>\n",
       "      <td>Living Characters</td>\n",
       "      <td>1237.0</td>\n",
       "      <td>Jan-62</td>\n",
       "      <td>1.962</td>\n",
       "    </tr>\n",
       "    <tr>\n",
       "      <th>65255</th>\n",
       "      <td>Charles Xavier (Earth-616)</td>\n",
       "      <td>\\/Charles_Xavier_(Earth-616)</td>\n",
       "      <td>Public Identity</td>\n",
       "      <td>Good Characters</td>\n",
       "      <td>Blue Eyes</td>\n",
       "      <td>Bald</td>\n",
       "      <td>Male Characters</td>\n",
       "      <td>NaN</td>\n",
       "      <td>Deceased Characters</td>\n",
       "      <td>1233.0</td>\n",
       "      <td>Sep-63</td>\n",
       "      <td>1.963</td>\n",
       "    </tr>\n",
       "    <tr>\n",
       "      <th>1073</th>\n",
       "      <td>Warren Worthington III (Earth-616)</td>\n",
       "      <td>\\/Warren_Worthington_III_(Earth-616)</td>\n",
       "      <td>Public Identity</td>\n",
       "      <td>Good Characters</td>\n",
       "      <td>Blue Eyes</td>\n",
       "      <td>Blond Hair</td>\n",
       "      <td>Male Characters</td>\n",
       "      <td>NaN</td>\n",
       "      <td>Living Characters</td>\n",
       "      <td>1230.0</td>\n",
       "      <td>Sep-63</td>\n",
       "      <td>1.963</td>\n",
       "    </tr>\n",
       "    <tr>\n",
       "      <th>1346</th>\n",
       "      <td>Piotr Rasputin (Earth-616)</td>\n",
       "      <td>\\/Piotr_Rasputin_(Earth-616)</td>\n",
       "      <td>Secret Identity</td>\n",
       "      <td>Good Characters</td>\n",
       "      <td>Blue Eyes</td>\n",
       "      <td>Black Hair</td>\n",
       "      <td>Male Characters</td>\n",
       "      <td>NaN</td>\n",
       "      <td>Living Characters</td>\n",
       "      <td>1162.0</td>\n",
       "      <td>May-75</td>\n",
       "      <td>1.975</td>\n",
       "    </tr>\n",
       "    <tr>\n",
       "      <th>2512</th>\n",
       "      <td>Wanda Maximoff (Earth-616)</td>\n",
       "      <td>\\/Wanda_Maximoff_(Earth-616)</td>\n",
       "      <td>Public Identity</td>\n",
       "      <td>Good Characters</td>\n",
       "      <td>Green Eyes</td>\n",
       "      <td>Brown Hair</td>\n",
       "      <td>Female Characters</td>\n",
       "      <td>NaN</td>\n",
       "      <td>Living Characters</td>\n",
       "      <td>1161.0</td>\n",
       "      <td>Mar-64</td>\n",
       "      <td>1.964</td>\n",
       "    </tr>\n",
       "    <tr>\n",
       "      <th>1671</th>\n",
       "      <td>Nicholas Fury (Earth-616)</td>\n",
       "      <td>\\/Nicholas_Fury_(Earth-616)</td>\n",
       "      <td>No Dual Identity</td>\n",
       "      <td>Neutral Characters</td>\n",
       "      <td>Brown Eyes</td>\n",
       "      <td>Brown Hair</td>\n",
       "      <td>Male Characters</td>\n",
       "      <td>NaN</td>\n",
       "      <td>Living Characters</td>\n",
       "      <td>1137.0</td>\n",
       "      <td>May-63</td>\n",
       "      <td>1.963</td>\n",
       "    </tr>\n",
       "    <tr>\n",
       "      <th>1976</th>\n",
       "      <td>Janet van Dyne (Earth-616)</td>\n",
       "      <td>\\/Janet_van_Dyne_(Earth-616)</td>\n",
       "      <td>Public Identity</td>\n",
       "      <td>Good Characters</td>\n",
       "      <td>Blue Eyes</td>\n",
       "      <td>Auburn Hair</td>\n",
       "      <td>Female Characters</td>\n",
       "      <td>NaN</td>\n",
       "      <td>Living Characters</td>\n",
       "      <td>1120.0</td>\n",
       "      <td>Jun-63</td>\n",
       "      <td>1.963</td>\n",
       "    </tr>\n",
       "    <tr>\n",
       "      <th>65219</th>\n",
       "      <td>Jean Grey (Earth-616)</td>\n",
       "      <td>\\/Jean_Grey_(Earth-616)</td>\n",
       "      <td>Public Identity</td>\n",
       "      <td>Good Characters</td>\n",
       "      <td>Green Eyes</td>\n",
       "      <td>Red Hair</td>\n",
       "      <td>Female Characters</td>\n",
       "      <td>NaN</td>\n",
       "      <td>Deceased Characters</td>\n",
       "      <td>1107.0</td>\n",
       "      <td>Sep-63</td>\n",
       "      <td>1.963</td>\n",
       "    </tr>\n",
       "    <tr>\n",
       "      <th>6545</th>\n",
       "      <td>Natalia Romanova (Earth-616)</td>\n",
       "      <td>\\/Natalia_Romanova_(Earth-616)</td>\n",
       "      <td>Public Identity</td>\n",
       "      <td>Good Characters</td>\n",
       "      <td>Green Eyes</td>\n",
       "      <td>Red Hair</td>\n",
       "      <td>Female Characters</td>\n",
       "      <td>Bisexual Characters</td>\n",
       "      <td>Living Characters</td>\n",
       "      <td>1050.0</td>\n",
       "      <td>Apr-64</td>\n",
       "      <td>1.964</td>\n",
       "    </tr>\n",
       "    <tr>\n",
       "      <th>2223</th>\n",
       "      <td>Kurt Wagner (Earth-616)</td>\n",
       "      <td>\\/Kurt_Wagner_(Earth-616)</td>\n",
       "      <td>Secret Identity</td>\n",
       "      <td>Good Characters</td>\n",
       "      <td>Yellow Eyes</td>\n",
       "      <td>Blue Hair</td>\n",
       "      <td>Male Characters</td>\n",
       "      <td>NaN</td>\n",
       "      <td>Living Characters</td>\n",
       "      <td>1047.0</td>\n",
       "      <td>May-75</td>\n",
       "      <td>1.975</td>\n",
       "    </tr>\n",
       "    <tr>\n",
       "      <th>9999</th>\n",
       "      <td>-</td>\n",
       "      <td>-</td>\n",
       "      <td>-</td>\n",
       "      <td>-</td>\n",
       "      <td>-</td>\n",
       "      <td>-</td>\n",
       "      <td>-</td>\n",
       "      <td>NaN</td>\n",
       "      <td>-</td>\n",
       "      <td>0.0</td>\n",
       "      <td>-0</td>\n",
       "      <td>0.000</td>\n",
       "    </tr>\n",
       "  </tbody>\n",
       "</table>\n",
       "</div>"
      ],
      "text/plain": [
       "                                        name  \\\n",
       "page_id                                        \n",
       "1678               Spider-Man (Peter Parker)   \n",
       "7139         Captain America (Steven Rogers)   \n",
       "64786    Wolverine (James \\\"Logan\\\" Howlett)   \n",
       "1868       Iron Man (Anthony \\\"Tony\\\" Stark)   \n",
       "2460                     Thor (Thor Odinson)   \n",
       "2458              Benjamin Grimm (Earth-616)   \n",
       "2166               Reed Richards (Earth-616)   \n",
       "1833              Hulk (Robert Bruce Banner)   \n",
       "29481              Scott Summers (Earth-616)   \n",
       "1837              Jonathan Storm (Earth-616)   \n",
       "15725                Henry McCoy (Earth-616)   \n",
       "1863                 Susan Storm (Earth-616)   \n",
       "7823              Namor McKenzie (Earth-616)   \n",
       "2614                Ororo Munroe (Earth-616)   \n",
       "1803              Clinton Barton (Earth-616)   \n",
       "1396             Matthew Murdock (Earth-616)   \n",
       "55534            Stephen Strange (Earth-616)   \n",
       "1978            Mary Jane Watson (Earth-616)   \n",
       "1872          John Jonah Jameson (Earth-616)   \n",
       "35350               Robert Drake (Earth-616)   \n",
       "1557                   Henry Pym (Earth-616)   \n",
       "65255             Charles Xavier (Earth-616)   \n",
       "1073      Warren Worthington III (Earth-616)   \n",
       "1346              Piotr Rasputin (Earth-616)   \n",
       "2512              Wanda Maximoff (Earth-616)   \n",
       "1671               Nicholas Fury (Earth-616)   \n",
       "1976              Janet van Dyne (Earth-616)   \n",
       "65219                  Jean Grey (Earth-616)   \n",
       "6545            Natalia Romanova (Earth-616)   \n",
       "2223                 Kurt Wagner (Earth-616)   \n",
       "9999                                       -   \n",
       "\n",
       "                                         urlslug                ID  \\\n",
       "page_id                                                              \n",
       "1678                 \\/Spider-Man_(Peter_Parker)   Secret Identity   \n",
       "7139           \\/Captain_America_(Steven_Rogers)   Public Identity   \n",
       "64786    \\/Wolverine_(James_%22Logan%22_Howlett)   Public Identity   \n",
       "1868       \\/Iron_Man_(Anthony_%22Tony%22_Stark)   Public Identity   \n",
       "2460                       \\/Thor_(Thor_Odinson)  No Dual Identity   \n",
       "2458                \\/Benjamin_Grimm_(Earth-616)   Public Identity   \n",
       "2166                 \\/Reed_Richards_(Earth-616)   Public Identity   \n",
       "1833                \\/Hulk_(Robert_Bruce_Banner)   Public Identity   \n",
       "29481                \\/Scott_Summers_(Earth-616)   Public Identity   \n",
       "1837                \\/Jonathan_Storm_(Earth-616)   Public Identity   \n",
       "15725                  \\/Henry_McCoy_(Earth-616)   Public Identity   \n",
       "1863                   \\/Susan_Storm_(Earth-616)   Public Identity   \n",
       "7823                \\/Namor_McKenzie_(Earth-616)  No Dual Identity   \n",
       "2614                  \\/Ororo_Munroe_(Earth-616)   Public Identity   \n",
       "1803                \\/Clinton_Barton_(Earth-616)   Public Identity   \n",
       "1396               \\/Matthew_Murdock_(Earth-616)   Public Identity   \n",
       "55534              \\/Stephen_Strange_(Earth-616)   Public Identity   \n",
       "1978              \\/Mary_Jane_Watson_(Earth-616)  No Dual Identity   \n",
       "1872            \\/John_Jonah_Jameson_(Earth-616)  No Dual Identity   \n",
       "35350                 \\/Robert_Drake_(Earth-616)   Secret Identity   \n",
       "1557                     \\/Henry_Pym_(Earth-616)   Public Identity   \n",
       "65255               \\/Charles_Xavier_(Earth-616)   Public Identity   \n",
       "1073        \\/Warren_Worthington_III_(Earth-616)   Public Identity   \n",
       "1346                \\/Piotr_Rasputin_(Earth-616)   Secret Identity   \n",
       "2512                \\/Wanda_Maximoff_(Earth-616)   Public Identity   \n",
       "1671                 \\/Nicholas_Fury_(Earth-616)  No Dual Identity   \n",
       "1976                \\/Janet_van_Dyne_(Earth-616)   Public Identity   \n",
       "65219                    \\/Jean_Grey_(Earth-616)   Public Identity   \n",
       "6545              \\/Natalia_Romanova_(Earth-616)   Public Identity   \n",
       "2223                   \\/Kurt_Wagner_(Earth-616)   Secret Identity   \n",
       "9999                                           -                 -   \n",
       "\n",
       "                      ALIGN          EYE         HAIR                SEX  \\\n",
       "page_id                                                                    \n",
       "1678        Good Characters   Hazel Eyes   Brown Hair    Male Characters   \n",
       "7139        Good Characters    Blue Eyes   White Hair    Male Characters   \n",
       "64786    Neutral Characters    Blue Eyes   Black Hair    Male Characters   \n",
       "1868        Good Characters    Blue Eyes   Black Hair    Male Characters   \n",
       "2460        Good Characters    Blue Eyes   Blond Hair    Male Characters   \n",
       "2458        Good Characters    Blue Eyes      No Hair    Male Characters   \n",
       "2166        Good Characters   Brown Eyes   Brown Hair    Male Characters   \n",
       "1833        Good Characters   Brown Eyes   Brown Hair    Male Characters   \n",
       "29481    Neutral Characters   Brown Eyes   Brown Hair    Male Characters   \n",
       "1837        Good Characters    Blue Eyes   Blond Hair    Male Characters   \n",
       "15725       Good Characters    Blue Eyes    Blue Hair    Male Characters   \n",
       "1863        Good Characters    Blue Eyes   Blond Hair  Female Characters   \n",
       "7823     Neutral Characters   Green Eyes   Black Hair    Male Characters   \n",
       "2614        Good Characters    Blue Eyes   White Hair  Female Characters   \n",
       "1803        Good Characters    Blue Eyes   Blond Hair    Male Characters   \n",
       "1396        Good Characters    Blue Eyes     Red Hair    Male Characters   \n",
       "55534       Good Characters    Grey Eyes   Black Hair    Male Characters   \n",
       "1978        Good Characters   Green Eyes     Red Hair  Female Characters   \n",
       "1872     Neutral Characters    Blue Eyes   Black Hair    Male Characters   \n",
       "35350       Good Characters   Brown Eyes   Brown Hair    Male Characters   \n",
       "1557        Good Characters    Blue Eyes   Blond Hair    Male Characters   \n",
       "65255       Good Characters    Blue Eyes         Bald    Male Characters   \n",
       "1073        Good Characters    Blue Eyes   Blond Hair    Male Characters   \n",
       "1346        Good Characters    Blue Eyes   Black Hair    Male Characters   \n",
       "2512        Good Characters   Green Eyes   Brown Hair  Female Characters   \n",
       "1671     Neutral Characters   Brown Eyes   Brown Hair    Male Characters   \n",
       "1976        Good Characters    Blue Eyes  Auburn Hair  Female Characters   \n",
       "65219       Good Characters   Green Eyes     Red Hair  Female Characters   \n",
       "6545        Good Characters   Green Eyes     Red Hair  Female Characters   \n",
       "2223        Good Characters  Yellow Eyes    Blue Hair    Male Characters   \n",
       "9999                      -            -            -                  -   \n",
       "\n",
       "                         GSM                ALIVE  APPEARANCES  \\\n",
       "page_id                                                          \n",
       "1678                dontknow    Living Characters       4043.0   \n",
       "7139                     NaN    Living Characters       3360.0   \n",
       "64786               dontknow    Living Characters       3061.0   \n",
       "1868                     NaN    Living Characters       2961.0   \n",
       "2460                     NaN    Living Characters       2258.0   \n",
       "2458                     NaN    Living Characters       2255.0   \n",
       "2166                dontknow    Living Characters       2072.0   \n",
       "1833                     NaN    Living Characters       2017.0   \n",
       "29481                    NaN    Living Characters       1955.0   \n",
       "1837                     NaN    Living Characters       1934.0   \n",
       "15725                    NaN    Living Characters       1825.0   \n",
       "1863                     NaN    Living Characters       1713.0   \n",
       "7823                     NaN    Living Characters          NaN   \n",
       "2614                     NaN    Living Characters       1512.0   \n",
       "1803                     NaN    Living Characters       1394.0   \n",
       "1396                     NaN    Living Characters       1338.0   \n",
       "55534                    NaN    Living Characters       1307.0   \n",
       "1978                     NaN    Living Characters       1304.0   \n",
       "1872                     NaN    Living Characters       1266.0   \n",
       "35350                    NaN    Living Characters       1265.0   \n",
       "1557                     NaN    Living Characters       1237.0   \n",
       "65255                    NaN  Deceased Characters       1233.0   \n",
       "1073                     NaN    Living Characters       1230.0   \n",
       "1346                     NaN    Living Characters       1162.0   \n",
       "2512                     NaN    Living Characters       1161.0   \n",
       "1671                     NaN    Living Characters       1137.0   \n",
       "1976                     NaN    Living Characters       1120.0   \n",
       "65219                    NaN  Deceased Characters       1107.0   \n",
       "6545     Bisexual Characters    Living Characters       1050.0   \n",
       "2223                     NaN    Living Characters       1047.0   \n",
       "9999                     NaN                    -          0.0   \n",
       "\n",
       "        FIRST APPEARANCE   Year  \n",
       "page_id                          \n",
       "1678              Aug-62  1.962  \n",
       "7139              Mar-41  1.941  \n",
       "64786             Oct-74  1.974  \n",
       "1868              Mar-63  1.963  \n",
       "2460              Nov-50  1.950  \n",
       "2458              Nov-61  1.961  \n",
       "2166              Nov-61  1.961  \n",
       "1833              May-62  1.962  \n",
       "29481             Sep-63  1.963  \n",
       "1837              Nov-61  1.961  \n",
       "15725             Sep-63  1.963  \n",
       "1863              Nov-61  1.961  \n",
       "7823              Nov-61  1.528  \n",
       "2614              May-75  1.975  \n",
       "1803              Sep-64  1.964  \n",
       "1396              Apr-64  1.964  \n",
       "55534             Jul-63  1.963  \n",
       "1978              Jun-65  1.965  \n",
       "1872              Mar-63  1.963  \n",
       "35350             Sep-63  1.963  \n",
       "1557              Jan-62  1.962  \n",
       "65255             Sep-63  1.963  \n",
       "1073              Sep-63  1.963  \n",
       "1346              May-75  1.975  \n",
       "2512              Mar-64  1.964  \n",
       "1671              May-63  1.963  \n",
       "1976              Jun-63  1.963  \n",
       "65219             Sep-63  1.963  \n",
       "6545              Apr-64  1.964  \n",
       "2223              May-75  1.975  \n",
       "9999                  -0  0.000  "
      ]
     },
     "execution_count": 106,
     "metadata": {},
     "output_type": "execute_result"
    }
   ],
   "source": [
    "df"
   ]
  },
  {
   "cell_type": "code",
   "execution_count": 107,
   "metadata": {},
   "outputs": [
    {
     "data": {
      "text/html": [
       "<div>\n",
       "<style scoped>\n",
       "    .dataframe tbody tr th:only-of-type {\n",
       "        vertical-align: middle;\n",
       "    }\n",
       "\n",
       "    .dataframe tbody tr th {\n",
       "        vertical-align: top;\n",
       "    }\n",
       "\n",
       "    .dataframe thead th {\n",
       "        text-align: right;\n",
       "    }\n",
       "</style>\n",
       "<table border=\"1\" class=\"dataframe\">\n",
       "  <thead>\n",
       "    <tr style=\"text-align: right;\">\n",
       "      <th></th>\n",
       "      <th>page_id</th>\n",
       "      <th>name</th>\n",
       "      <th>urlslug</th>\n",
       "      <th>ID</th>\n",
       "      <th>ALIGN</th>\n",
       "      <th>EYE</th>\n",
       "      <th>HAIR</th>\n",
       "      <th>SEX</th>\n",
       "      <th>GSM</th>\n",
       "      <th>ALIVE</th>\n",
       "      <th>APPEARANCES</th>\n",
       "      <th>FIRST APPEARANCE</th>\n",
       "      <th>Year</th>\n",
       "    </tr>\n",
       "  </thead>\n",
       "  <tbody>\n",
       "    <tr>\n",
       "      <th>0</th>\n",
       "      <td>1678</td>\n",
       "      <td>Spider-Man (Peter Parker)</td>\n",
       "      <td>/Spider-Man_(Peter_Parker)</td>\n",
       "      <td>Secret Identity</td>\n",
       "      <td>Good Characters</td>\n",
       "      <td>Hazel Eyes</td>\n",
       "      <td>Brown Hair</td>\n",
       "      <td>Male Characters</td>\n",
       "      <td>dontknow</td>\n",
       "      <td>Living Characters</td>\n",
       "      <td>4043.0</td>\n",
       "      <td>Aug-62</td>\n",
       "      <td>1962</td>\n",
       "    </tr>\n",
       "    <tr>\n",
       "      <th>1</th>\n",
       "      <td>7139</td>\n",
       "      <td>Captain America (Steven Rogers)</td>\n",
       "      <td>/Captain_America_(Steven_Rogers)</td>\n",
       "      <td>Public Identity</td>\n",
       "      <td>Good Characters</td>\n",
       "      <td>Blue Eyes</td>\n",
       "      <td>White Hair</td>\n",
       "      <td>Male Characters</td>\n",
       "      <td>NaN</td>\n",
       "      <td>Living Characters</td>\n",
       "      <td>3360.0</td>\n",
       "      <td>Mar-41</td>\n",
       "      <td>1941</td>\n",
       "    </tr>\n",
       "    <tr>\n",
       "      <th>2</th>\n",
       "      <td>64786</td>\n",
       "      <td>Wolverine (James \"Logan\"\" Howlett)\"</td>\n",
       "      <td>/Wolverine_(James_%22Logan%22_Howlett)</td>\n",
       "      <td>Public Identity</td>\n",
       "      <td>Neutral Characters</td>\n",
       "      <td>Blue Eyes</td>\n",
       "      <td>Black Hair</td>\n",
       "      <td>Male Characters</td>\n",
       "      <td>dontknow</td>\n",
       "      <td>Living Characters</td>\n",
       "      <td>3061.0</td>\n",
       "      <td>Oct-74</td>\n",
       "      <td>1974</td>\n",
       "    </tr>\n",
       "    <tr>\n",
       "      <th>3</th>\n",
       "      <td>1868</td>\n",
       "      <td>Iron Man (Anthony \"Tony\"\" Stark)\"</td>\n",
       "      <td>/Iron_Man_(Anthony_%22Tony%22_Stark)</td>\n",
       "      <td>Public Identity</td>\n",
       "      <td>Good Characters</td>\n",
       "      <td>Blue Eyes</td>\n",
       "      <td>Black Hair</td>\n",
       "      <td>Male Characters</td>\n",
       "      <td>NaN</td>\n",
       "      <td>Living Characters</td>\n",
       "      <td>2961.0</td>\n",
       "      <td>Mar-63</td>\n",
       "      <td>1963</td>\n",
       "    </tr>\n",
       "    <tr>\n",
       "      <th>4</th>\n",
       "      <td>2460</td>\n",
       "      <td>Thor (Thor Odinson)</td>\n",
       "      <td>/Thor_(Thor_Odinson)</td>\n",
       "      <td>No Dual Identity</td>\n",
       "      <td>Good Characters</td>\n",
       "      <td>Blue Eyes</td>\n",
       "      <td>Blond Hair</td>\n",
       "      <td>Male Characters</td>\n",
       "      <td>NaN</td>\n",
       "      <td>Living Characters</td>\n",
       "      <td>2258.0</td>\n",
       "      <td>Nov-50</td>\n",
       "      <td>1950</td>\n",
       "    </tr>\n",
       "  </tbody>\n",
       "</table>\n",
       "</div>"
      ],
      "text/plain": [
       "   page_id                                 name  \\\n",
       "0     1678            Spider-Man (Peter Parker)   \n",
       "1     7139      Captain America (Steven Rogers)   \n",
       "2    64786  Wolverine (James \"Logan\"\" Howlett)\"   \n",
       "3     1868    Iron Man (Anthony \"Tony\"\" Stark)\"   \n",
       "4     2460                  Thor (Thor Odinson)   \n",
       "\n",
       "                                  urlslug                ID  \\\n",
       "0              /Spider-Man_(Peter_Parker)   Secret Identity   \n",
       "1        /Captain_America_(Steven_Rogers)   Public Identity   \n",
       "2  /Wolverine_(James_%22Logan%22_Howlett)   Public Identity   \n",
       "3    /Iron_Man_(Anthony_%22Tony%22_Stark)   Public Identity   \n",
       "4                    /Thor_(Thor_Odinson)  No Dual Identity   \n",
       "\n",
       "                ALIGN         EYE        HAIR              SEX       GSM  \\\n",
       "0     Good Characters  Hazel Eyes  Brown Hair  Male Characters  dontknow   \n",
       "1     Good Characters   Blue Eyes  White Hair  Male Characters       NaN   \n",
       "2  Neutral Characters   Blue Eyes  Black Hair  Male Characters  dontknow   \n",
       "3     Good Characters   Blue Eyes  Black Hair  Male Characters       NaN   \n",
       "4     Good Characters   Blue Eyes  Blond Hair  Male Characters       NaN   \n",
       "\n",
       "               ALIVE  APPEARANCES FIRST APPEARANCE  Year  \n",
       "0  Living Characters       4043.0           Aug-62  1962  \n",
       "1  Living Characters       3360.0           Mar-41  1941  \n",
       "2  Living Characters       3061.0           Oct-74  1974  \n",
       "3  Living Characters       2961.0           Mar-63  1963  \n",
       "4  Living Characters       2258.0           Nov-50  1950  "
      ]
     },
     "execution_count": 107,
     "metadata": {},
     "output_type": "execute_result"
    }
   ],
   "source": [
    "# Para eliminar la barra de escape \"\\\" que se utiliza delante de las \"\" o \"/\"\n",
    "data = pd.read_csv(\"data/marvel-wikia-data.csv\", \n",
    "                  thousands=\".\",\n",
    "                  skiprows=[31],\n",
    "                  escapechar=\"\\\\\")\n",
    "data.head()"
   ]
  },
  {
   "cell_type": "code",
   "execution_count": 108,
   "metadata": {},
   "outputs": [
    {
     "data": {
      "text/html": [
       "<div>\n",
       "<style scoped>\n",
       "    .dataframe tbody tr th:only-of-type {\n",
       "        vertical-align: middle;\n",
       "    }\n",
       "\n",
       "    .dataframe tbody tr th {\n",
       "        vertical-align: top;\n",
       "    }\n",
       "\n",
       "    .dataframe thead th {\n",
       "        text-align: right;\n",
       "    }\n",
       "</style>\n",
       "<table border=\"1\" class=\"dataframe\">\n",
       "  <thead>\n",
       "    <tr style=\"text-align: right;\">\n",
       "      <th></th>\n",
       "      <th>page_id</th>\n",
       "      <th>name</th>\n",
       "      <th>urlslug</th>\n",
       "      <th>ID</th>\n",
       "      <th>ALIGN</th>\n",
       "      <th>EYE</th>\n",
       "      <th>HAIR</th>\n",
       "      <th>SEX</th>\n",
       "      <th>GSM</th>\n",
       "      <th>ALIVE</th>\n",
       "      <th>APPEARANCES</th>\n",
       "      <th>FIRST APPEARANCE</th>\n",
       "      <th>Year</th>\n",
       "    </tr>\n",
       "  </thead>\n",
       "  <tbody>\n",
       "    <tr>\n",
       "      <th>0</th>\n",
       "      <td>1678</td>\n",
       "      <td>Spider-Man (Peter Parker)</td>\n",
       "      <td>/Spider-Man_(Peter_Parker)</td>\n",
       "      <td>Secret Identity</td>\n",
       "      <td>Good Characters</td>\n",
       "      <td>Hazel Eyes</td>\n",
       "      <td>Brown Hair</td>\n",
       "      <td>Male Characters</td>\n",
       "      <td>NaN</td>\n",
       "      <td>Living Characters</td>\n",
       "      <td>4043.0</td>\n",
       "      <td>Aug-62</td>\n",
       "      <td>1962</td>\n",
       "    </tr>\n",
       "    <tr>\n",
       "      <th>1</th>\n",
       "      <td>7139</td>\n",
       "      <td>Captain America (Steven Rogers)</td>\n",
       "      <td>/Captain_America_(Steven_Rogers)</td>\n",
       "      <td>Public Identity</td>\n",
       "      <td>Good Characters</td>\n",
       "      <td>Blue Eyes</td>\n",
       "      <td>White Hair</td>\n",
       "      <td>Male Characters</td>\n",
       "      <td>NaN</td>\n",
       "      <td>Living Characters</td>\n",
       "      <td>3360.0</td>\n",
       "      <td>Mar-41</td>\n",
       "      <td>1941</td>\n",
       "    </tr>\n",
       "    <tr>\n",
       "      <th>2</th>\n",
       "      <td>64786</td>\n",
       "      <td>Wolverine (James \"Logan\"\" Howlett)\"</td>\n",
       "      <td>/Wolverine_(James_%22Logan%22_Howlett)</td>\n",
       "      <td>Public Identity</td>\n",
       "      <td>Neutral Characters</td>\n",
       "      <td>Blue Eyes</td>\n",
       "      <td>Black Hair</td>\n",
       "      <td>Male Characters</td>\n",
       "      <td>NaN</td>\n",
       "      <td>Living Characters</td>\n",
       "      <td>3061.0</td>\n",
       "      <td>Oct-74</td>\n",
       "      <td>1974</td>\n",
       "    </tr>\n",
       "    <tr>\n",
       "      <th>3</th>\n",
       "      <td>1868</td>\n",
       "      <td>Iron Man (Anthony \"Tony\"\" Stark)\"</td>\n",
       "      <td>/Iron_Man_(Anthony_%22Tony%22_Stark)</td>\n",
       "      <td>Public Identity</td>\n",
       "      <td>Good Characters</td>\n",
       "      <td>Blue Eyes</td>\n",
       "      <td>Black Hair</td>\n",
       "      <td>Male Characters</td>\n",
       "      <td>NaN</td>\n",
       "      <td>Living Characters</td>\n",
       "      <td>2961.0</td>\n",
       "      <td>Mar-63</td>\n",
       "      <td>1963</td>\n",
       "    </tr>\n",
       "    <tr>\n",
       "      <th>4</th>\n",
       "      <td>2460</td>\n",
       "      <td>Thor (Thor Odinson)</td>\n",
       "      <td>/Thor_(Thor_Odinson)</td>\n",
       "      <td>No Dual Identity</td>\n",
       "      <td>Good Characters</td>\n",
       "      <td>Blue Eyes</td>\n",
       "      <td>Blond Hair</td>\n",
       "      <td>Male Characters</td>\n",
       "      <td>NaN</td>\n",
       "      <td>Living Characters</td>\n",
       "      <td>2258.0</td>\n",
       "      <td>Nov-50</td>\n",
       "      <td>1950</td>\n",
       "    </tr>\n",
       "  </tbody>\n",
       "</table>\n",
       "</div>"
      ],
      "text/plain": [
       "   page_id                                 name  \\\n",
       "0     1678            Spider-Man (Peter Parker)   \n",
       "1     7139      Captain America (Steven Rogers)   \n",
       "2    64786  Wolverine (James \"Logan\"\" Howlett)\"   \n",
       "3     1868    Iron Man (Anthony \"Tony\"\" Stark)\"   \n",
       "4     2460                  Thor (Thor Odinson)   \n",
       "\n",
       "                                  urlslug                ID  \\\n",
       "0              /Spider-Man_(Peter_Parker)   Secret Identity   \n",
       "1        /Captain_America_(Steven_Rogers)   Public Identity   \n",
       "2  /Wolverine_(James_%22Logan%22_Howlett)   Public Identity   \n",
       "3    /Iron_Man_(Anthony_%22Tony%22_Stark)   Public Identity   \n",
       "4                    /Thor_(Thor_Odinson)  No Dual Identity   \n",
       "\n",
       "                ALIGN         EYE        HAIR              SEX  GSM  \\\n",
       "0     Good Characters  Hazel Eyes  Brown Hair  Male Characters  NaN   \n",
       "1     Good Characters   Blue Eyes  White Hair  Male Characters  NaN   \n",
       "2  Neutral Characters   Blue Eyes  Black Hair  Male Characters  NaN   \n",
       "3     Good Characters   Blue Eyes  Black Hair  Male Characters  NaN   \n",
       "4     Good Characters   Blue Eyes  Blond Hair  Male Characters  NaN   \n",
       "\n",
       "               ALIVE  APPEARANCES FIRST APPEARANCE  Year  \n",
       "0  Living Characters       4043.0           Aug-62  1962  \n",
       "1  Living Characters       3360.0           Mar-41  1941  \n",
       "2  Living Characters       3061.0           Oct-74  1974  \n",
       "3  Living Characters       2961.0           Mar-63  1963  \n",
       "4  Living Characters       2258.0           Nov-50  1950  "
      ]
     },
     "execution_count": 108,
     "metadata": {},
     "output_type": "execute_result"
    }
   ],
   "source": [
    "# En caso de detectar valores NaN\n",
    "data = pd.read_csv(\"data/marvel-wikia-data.csv\", \n",
    "                  thousands=\".\",\n",
    "                  skiprows=[31],\n",
    "                  escapechar=\"\\\\\",\n",
    "                  na_values=[\"dontknow\"])\n",
    "data.head()"
   ]
  },
  {
   "cell_type": "code",
   "execution_count": 109,
   "metadata": {},
   "outputs": [
    {
     "data": {
      "text/html": [
       "<div>\n",
       "<style scoped>\n",
       "    .dataframe tbody tr th:only-of-type {\n",
       "        vertical-align: middle;\n",
       "    }\n",
       "\n",
       "    .dataframe tbody tr th {\n",
       "        vertical-align: top;\n",
       "    }\n",
       "\n",
       "    .dataframe thead th {\n",
       "        text-align: right;\n",
       "    }\n",
       "</style>\n",
       "<table border=\"1\" class=\"dataframe\">\n",
       "  <thead>\n",
       "    <tr style=\"text-align: right;\">\n",
       "      <th></th>\n",
       "      <th>page_id</th>\n",
       "      <th>name</th>\n",
       "      <th>urlslug</th>\n",
       "      <th>ID</th>\n",
       "      <th>ALIGN</th>\n",
       "      <th>EYE</th>\n",
       "      <th>HAIR</th>\n",
       "      <th>SEX</th>\n",
       "      <th>GSM</th>\n",
       "      <th>ALIVE</th>\n",
       "      <th>APPEARANCES</th>\n",
       "      <th>FIRST APPEARANCE</th>\n",
       "      <th>Year</th>\n",
       "    </tr>\n",
       "  </thead>\n",
       "  <tbody>\n",
       "    <tr>\n",
       "      <th>0</th>\n",
       "      <td>1678</td>\n",
       "      <td>Spider-Man (Peter Parker)</td>\n",
       "      <td>/Spider-Man_(Peter_Parker)</td>\n",
       "      <td>Secret Identity</td>\n",
       "      <td>Good Characters</td>\n",
       "      <td>Hazel Eyes</td>\n",
       "      <td>Brown Hair</td>\n",
       "      <td>Male Characters</td>\n",
       "      <td>NaN</td>\n",
       "      <td>Living Characters</td>\n",
       "      <td>4043.0</td>\n",
       "      <td>1962</td>\n",
       "      <td>1962</td>\n",
       "    </tr>\n",
       "    <tr>\n",
       "      <th>1</th>\n",
       "      <td>7139</td>\n",
       "      <td>Captain America (Steven Rogers)</td>\n",
       "      <td>/Captain_America_(Steven_Rogers)</td>\n",
       "      <td>Public Identity</td>\n",
       "      <td>Good Characters</td>\n",
       "      <td>Blue Eyes</td>\n",
       "      <td>White Hair</td>\n",
       "      <td>Male Characters</td>\n",
       "      <td>NaN</td>\n",
       "      <td>Living Characters</td>\n",
       "      <td>3360.0</td>\n",
       "      <td>1941</td>\n",
       "      <td>1941</td>\n",
       "    </tr>\n",
       "    <tr>\n",
       "      <th>2</th>\n",
       "      <td>64786</td>\n",
       "      <td>Wolverine (James \"Logan\"\" Howlett)\"</td>\n",
       "      <td>/Wolverine_(James_%22Logan%22_Howlett)</td>\n",
       "      <td>Public Identity</td>\n",
       "      <td>Neutral Characters</td>\n",
       "      <td>Blue Eyes</td>\n",
       "      <td>Black Hair</td>\n",
       "      <td>Male Characters</td>\n",
       "      <td>NaN</td>\n",
       "      <td>Living Characters</td>\n",
       "      <td>3061.0</td>\n",
       "      <td>1974</td>\n",
       "      <td>1974</td>\n",
       "    </tr>\n",
       "    <tr>\n",
       "      <th>3</th>\n",
       "      <td>1868</td>\n",
       "      <td>Iron Man (Anthony \"Tony\"\" Stark)\"</td>\n",
       "      <td>/Iron_Man_(Anthony_%22Tony%22_Stark)</td>\n",
       "      <td>Public Identity</td>\n",
       "      <td>Good Characters</td>\n",
       "      <td>Blue Eyes</td>\n",
       "      <td>Black Hair</td>\n",
       "      <td>Male Characters</td>\n",
       "      <td>NaN</td>\n",
       "      <td>Living Characters</td>\n",
       "      <td>2961.0</td>\n",
       "      <td>1963</td>\n",
       "      <td>1963</td>\n",
       "    </tr>\n",
       "    <tr>\n",
       "      <th>4</th>\n",
       "      <td>2460</td>\n",
       "      <td>Thor (Thor Odinson)</td>\n",
       "      <td>/Thor_(Thor_Odinson)</td>\n",
       "      <td>No Dual Identity</td>\n",
       "      <td>Good Characters</td>\n",
       "      <td>Blue Eyes</td>\n",
       "      <td>Blond Hair</td>\n",
       "      <td>Male Characters</td>\n",
       "      <td>NaN</td>\n",
       "      <td>Living Characters</td>\n",
       "      <td>2258.0</td>\n",
       "      <td>1950</td>\n",
       "      <td>1950</td>\n",
       "    </tr>\n",
       "  </tbody>\n",
       "</table>\n",
       "</div>"
      ],
      "text/plain": [
       "   page_id                                 name  \\\n",
       "0     1678            Spider-Man (Peter Parker)   \n",
       "1     7139      Captain America (Steven Rogers)   \n",
       "2    64786  Wolverine (James \"Logan\"\" Howlett)\"   \n",
       "3     1868    Iron Man (Anthony \"Tony\"\" Stark)\"   \n",
       "4     2460                  Thor (Thor Odinson)   \n",
       "\n",
       "                                  urlslug                ID  \\\n",
       "0              /Spider-Man_(Peter_Parker)   Secret Identity   \n",
       "1        /Captain_America_(Steven_Rogers)   Public Identity   \n",
       "2  /Wolverine_(James_%22Logan%22_Howlett)   Public Identity   \n",
       "3    /Iron_Man_(Anthony_%22Tony%22_Stark)   Public Identity   \n",
       "4                    /Thor_(Thor_Odinson)  No Dual Identity   \n",
       "\n",
       "                ALIGN         EYE        HAIR              SEX  GSM  \\\n",
       "0     Good Characters  Hazel Eyes  Brown Hair  Male Characters  NaN   \n",
       "1     Good Characters   Blue Eyes  White Hair  Male Characters  NaN   \n",
       "2  Neutral Characters   Blue Eyes  Black Hair  Male Characters  NaN   \n",
       "3     Good Characters   Blue Eyes  Black Hair  Male Characters  NaN   \n",
       "4     Good Characters   Blue Eyes  Blond Hair  Male Characters  NaN   \n",
       "\n",
       "               ALIVE  APPEARANCES  FIRST APPEARANCE  Year  \n",
       "0  Living Characters       4043.0              1962  1962  \n",
       "1  Living Characters       3360.0              1941  1941  \n",
       "2  Living Characters       3061.0              1974  1974  \n",
       "3  Living Characters       2961.0              1963  1963  \n",
       "4  Living Characters       2258.0              1950  1950  "
      ]
     },
     "execution_count": 109,
     "metadata": {},
     "output_type": "execute_result"
    }
   ],
   "source": [
    "# si queremos convertir un valor \n",
    "data = pd.read_csv(\"data/marvel-wikia-data.csv\", \n",
    "                  thousands=\".\",\n",
    "                  skiprows=[31],\n",
    "                  escapechar=\"\\\\\",\n",
    "                  na_values=['dontknow'],\n",
    "                  converters={'FIRST APPEARANCE': lambda x: int(x.split(\"-\")[1])+1900})\n",
    "data.head()"
   ]
  },
  {
   "cell_type": "code",
   "execution_count": null,
   "metadata": {},
   "outputs": [],
   "source": []
  },
  {
   "cell_type": "code",
   "execution_count": 112,
   "metadata": {},
   "outputs": [],
   "source": [
    "import numpy as np"
   ]
  },
  {
   "cell_type": "code",
   "execution_count": null,
   "metadata": {},
   "outputs": [],
   "source": [
    "data['First Appearance'].apply(np.mean())"
   ]
  },
  {
   "cell_type": "code",
   "execution_count": 111,
   "metadata": {},
   "outputs": [
    {
     "data": {
      "text/html": [
       "<div>\n",
       "<style scoped>\n",
       "    .dataframe tbody tr th:only-of-type {\n",
       "        vertical-align: middle;\n",
       "    }\n",
       "\n",
       "    .dataframe tbody tr th {\n",
       "        vertical-align: top;\n",
       "    }\n",
       "\n",
       "    .dataframe thead th {\n",
       "        text-align: right;\n",
       "    }\n",
       "</style>\n",
       "<table border=\"1\" class=\"dataframe\">\n",
       "  <thead>\n",
       "    <tr style=\"text-align: right;\">\n",
       "      <th></th>\n",
       "      <th>page_id</th>\n",
       "      <th>name</th>\n",
       "      <th>urlslug</th>\n",
       "      <th>ID</th>\n",
       "      <th>ALIGN</th>\n",
       "      <th>EYE</th>\n",
       "      <th>HAIR</th>\n",
       "      <th>SEX</th>\n",
       "      <th>GSM</th>\n",
       "      <th>ALIVE</th>\n",
       "      <th>APPEARANCES</th>\n",
       "      <th>FIRST APPEARANCE</th>\n",
       "      <th>Year</th>\n",
       "      <th>First Appearance</th>\n",
       "    </tr>\n",
       "  </thead>\n",
       "  <tbody>\n",
       "    <tr>\n",
       "      <th>0</th>\n",
       "      <td>1678</td>\n",
       "      <td>Spider-Man (Peter Parker)</td>\n",
       "      <td>/Spider-Man_(Peter_Parker)</td>\n",
       "      <td>Secret Identity</td>\n",
       "      <td>Good Characters</td>\n",
       "      <td>Hazel Eyes</td>\n",
       "      <td>Brown Hair</td>\n",
       "      <td>Male Characters</td>\n",
       "      <td>NaN</td>\n",
       "      <td>Living Characters</td>\n",
       "      <td>4043.0</td>\n",
       "      <td>1962</td>\n",
       "      <td>1962</td>\n",
       "      <td>1956</td>\n",
       "    </tr>\n",
       "    <tr>\n",
       "      <th>1</th>\n",
       "      <td>7139</td>\n",
       "      <td>Captain America (Steven Rogers)</td>\n",
       "      <td>/Captain_America_(Steven_Rogers)</td>\n",
       "      <td>Public Identity</td>\n",
       "      <td>Good Characters</td>\n",
       "      <td>Blue Eyes</td>\n",
       "      <td>White Hair</td>\n",
       "      <td>Male Characters</td>\n",
       "      <td>NaN</td>\n",
       "      <td>Living Characters</td>\n",
       "      <td>3360.0</td>\n",
       "      <td>1941</td>\n",
       "      <td>1941</td>\n",
       "      <td>1956</td>\n",
       "    </tr>\n",
       "    <tr>\n",
       "      <th>2</th>\n",
       "      <td>64786</td>\n",
       "      <td>Wolverine (James \"Logan\"\" Howlett)\"</td>\n",
       "      <td>/Wolverine_(James_%22Logan%22_Howlett)</td>\n",
       "      <td>Public Identity</td>\n",
       "      <td>Neutral Characters</td>\n",
       "      <td>Blue Eyes</td>\n",
       "      <td>Black Hair</td>\n",
       "      <td>Male Characters</td>\n",
       "      <td>NaN</td>\n",
       "      <td>Living Characters</td>\n",
       "      <td>3061.0</td>\n",
       "      <td>1974</td>\n",
       "      <td>1974</td>\n",
       "      <td>1956</td>\n",
       "    </tr>\n",
       "    <tr>\n",
       "      <th>3</th>\n",
       "      <td>1868</td>\n",
       "      <td>Iron Man (Anthony \"Tony\"\" Stark)\"</td>\n",
       "      <td>/Iron_Man_(Anthony_%22Tony%22_Stark)</td>\n",
       "      <td>Public Identity</td>\n",
       "      <td>Good Characters</td>\n",
       "      <td>Blue Eyes</td>\n",
       "      <td>Black Hair</td>\n",
       "      <td>Male Characters</td>\n",
       "      <td>NaN</td>\n",
       "      <td>Living Characters</td>\n",
       "      <td>2961.0</td>\n",
       "      <td>1963</td>\n",
       "      <td>1963</td>\n",
       "      <td>1956</td>\n",
       "    </tr>\n",
       "    <tr>\n",
       "      <th>4</th>\n",
       "      <td>2460</td>\n",
       "      <td>Thor (Thor Odinson)</td>\n",
       "      <td>/Thor_(Thor_Odinson)</td>\n",
       "      <td>No Dual Identity</td>\n",
       "      <td>Good Characters</td>\n",
       "      <td>Blue Eyes</td>\n",
       "      <td>Blond Hair</td>\n",
       "      <td>Male Characters</td>\n",
       "      <td>NaN</td>\n",
       "      <td>Living Characters</td>\n",
       "      <td>2258.0</td>\n",
       "      <td>1950</td>\n",
       "      <td>1950</td>\n",
       "      <td>1956</td>\n",
       "    </tr>\n",
       "  </tbody>\n",
       "</table>\n",
       "</div>"
      ],
      "text/plain": [
       "   page_id                                 name  \\\n",
       "0     1678            Spider-Man (Peter Parker)   \n",
       "1     7139      Captain America (Steven Rogers)   \n",
       "2    64786  Wolverine (James \"Logan\"\" Howlett)\"   \n",
       "3     1868    Iron Man (Anthony \"Tony\"\" Stark)\"   \n",
       "4     2460                  Thor (Thor Odinson)   \n",
       "\n",
       "                                  urlslug                ID  \\\n",
       "0              /Spider-Man_(Peter_Parker)   Secret Identity   \n",
       "1        /Captain_America_(Steven_Rogers)   Public Identity   \n",
       "2  /Wolverine_(James_%22Logan%22_Howlett)   Public Identity   \n",
       "3    /Iron_Man_(Anthony_%22Tony%22_Stark)   Public Identity   \n",
       "4                    /Thor_(Thor_Odinson)  No Dual Identity   \n",
       "\n",
       "                ALIGN         EYE        HAIR              SEX  GSM  \\\n",
       "0     Good Characters  Hazel Eyes  Brown Hair  Male Characters  NaN   \n",
       "1     Good Characters   Blue Eyes  White Hair  Male Characters  NaN   \n",
       "2  Neutral Characters   Blue Eyes  Black Hair  Male Characters  NaN   \n",
       "3     Good Characters   Blue Eyes  Black Hair  Male Characters  NaN   \n",
       "4     Good Characters   Blue Eyes  Blond Hair  Male Characters  NaN   \n",
       "\n",
       "               ALIVE  APPEARANCES  FIRST APPEARANCE  Year  First Appearance  \n",
       "0  Living Characters       4043.0              1962  1962              1956  \n",
       "1  Living Characters       3360.0              1941  1941              1956  \n",
       "2  Living Characters       3061.0              1974  1974              1956  \n",
       "3  Living Characters       2961.0              1963  1963              1956  \n",
       "4  Living Characters       2258.0              1950  1950              1956  "
      ]
     },
     "execution_count": 111,
     "metadata": {},
     "output_type": "execute_result"
    }
   ],
   "source": [
    "data.head()"
   ]
  },
  {
   "cell_type": "markdown",
   "metadata": {},
   "source": [
    "## Serialización de datos\n",
    "\n",
    "convierte los datos estructurados (una lista o diccionario) en algo que es posible su manipulación y distribución"
   ]
  },
  {
   "cell_type": "code",
   "execution_count": 113,
   "metadata": {},
   "outputs": [
    {
     "name": "stdout",
     "output_type": "stream",
     "text": [
      "b'\\x80\\x04\\x952\\x00\\x00\\x00\\x00\\x00\\x00\\x00}\\x94(\\x8c\\x05Spain\\x94K\"\\x8c\\x06Italia\\x94K\\'\\x8c\\x08Alemania\\x94K,\\x8c\\x06France\\x94K!u.'\n"
     ]
    }
   ],
   "source": [
    "# serialización con pickle\n",
    "import pickle\n",
    "\n",
    "# creamos un diccionario\n",
    "a_dict = {'Spain': 34, 'Italia': 39, 'Alemania':44, 'France':33}\n",
    "\n",
    "# serializamos el diccionario y mostramos los resultados\n",
    "serialized_dict = pickle.dumps(a_dict)\n",
    "print(serialized_dict)"
   ]
  },
  {
   "cell_type": "code",
   "execution_count": 114,
   "metadata": {},
   "outputs": [
    {
     "data": {
      "text/plain": [
       "{'Spain': 34, 'Italia': 39, 'Alemania': 44, 'France': 33}"
      ]
     },
     "execution_count": 114,
     "metadata": {},
     "output_type": "execute_result"
    }
   ],
   "source": [
    "# Para leer el fichero debemos deserializar el pickle\n",
    "des_dict = pickle.loads(serialized_dict)\n",
    "\n",
    "des_dict"
   ]
  },
  {
   "cell_type": "code",
   "execution_count": 116,
   "metadata": {},
   "outputs": [
    {
     "data": {
      "text/plain": [
       "True"
      ]
     },
     "execution_count": 116,
     "metadata": {},
     "output_type": "execute_result"
    }
   ],
   "source": [
    "# comparamos la serialización de la deserialización\n",
    "a_dict == des_dict"
   ]
  },
  {
   "cell_type": "code",
   "execution_count": 117,
   "metadata": {},
   "outputs": [
    {
     "name": "stdout",
     "output_type": "stream",
     "text": [
      "Predicted classes: \t[1 2 0 0 1 2 2 2 0 1 0 2 2 0 1]\n",
      "Accuracy: \t\t1.0\n"
     ]
    }
   ],
   "source": [
    "# Para dar un sentido a la serialización\n",
    "# Jugamos con machine learning\n",
    "\n",
    "from sklearn import datasets\n",
    "from sklearn.model_selection import train_test_split\n",
    "from sklearn.tree import DecisionTreeClassifier\n",
    "import pandas as pd\n",
    "\n",
    "# Cargamos los datos\n",
    "data = datasets.load_iris()\n",
    "iris_df = pd.DataFrame(data.data, columns=data.feature_names)\n",
    "y = data.target\n",
    "\n",
    "# Creamos los conjuntos de test y aprendizaje\n",
    "x_train, x_test, y_train, y_test = train_test_split(iris_df, y, test_size=0.1)\n",
    "\n",
    "# Entrenamos un árbol de decisión\n",
    "dec_tree = DecisionTreeClassifier(splitter=\"random\", criterion=\"entropy\")\n",
    "dec_tree.fit(x_train, y_train)\n",
    "\n",
    "# Probamos el clasificador con los datos de test\n",
    "y_test_predicted = dec_tree.predict(x_test)\n",
    "print(\"Predicted classes: \\t\" + str(y_test_predicted))\n",
    "print(\"Accuracy: \\t\\t\" + str(dec_tree.score(x_test, y_test)))\n",
    "\n",
    "# Guardamos el modelo aprendido serializado en un fichero\n",
    "p = \"files_folder/dec_tree_model.pickle\"\n",
    "with open(p, \"wb\") as f:\n",
    "    pickle.dump(dec_tree, f)\n",
    "\n"
   ]
  },
  {
   "cell_type": "code",
   "execution_count": 118,
   "metadata": {},
   "outputs": [
    {
     "name": "stdout",
     "output_type": "stream",
     "text": [
      "b'\\x80\\x04\\x95&\\x00\\x00\\x00\\x00\\x00\\x00\\x00\\x8c\"files_folder/dec_tree_model.pickle\\x94.'\n"
     ]
    }
   ],
   "source": [
    "# serializamos el diccionario y mostramos los resultados\n",
    "path = \"files_folder/dec_tree_model.pickle\"\n",
    "serialized_dict = pickle.dumps(path)\n",
    "print(serialized_dict)"
   ]
  },
  {
   "cell_type": "code",
   "execution_count": 119,
   "metadata": {},
   "outputs": [
    {
     "name": "stdout",
     "output_type": "stream",
     "text": [
      "Predicted classes: \t[1 2 0 0 1 2 2 2 0 1 0 2 2 0 1]\n",
      "Accuracy: \t\t1.0\n"
     ]
    }
   ],
   "source": [
    "# Cargamos el modelo guardado\n",
    "with open(p, \"rb\") as f:\n",
    "    dec_tree_des = pickle.load(f)\n",
    "\n",
    "# Comprobamos que el modelo guardado se ha recuperado correctamente\n",
    "y_test_predicted_des = dec_tree_des.predict(x_test)\n",
    "print(\"Predicted classes: \\t\" + str(y_test_predicted_des))\n",
    "print(\"Accuracy: \\t\\t\" + str(dec_tree_des.score(x_test, y_test)))"
   ]
  },
  {
   "cell_type": "markdown",
   "metadata": {},
   "source": [
    "| Propiedad | Pickle | JSON / XML / CSV / Otros |\n",
    "| ---- |: ----: |: ----: |\n",
    "| Intercambio de datos sin confianza entre las partes |. | x |\n",
    "| Compatibilidad con otros lenguajes de programación (diferentes de Python) u otros programas |. | x |\n",
    "| Almacenamiento a largo plazo (posibles cambios de versión) |. | x |\n",
    "| Ejecución en diferentes máquinas, que tienen diferentes versiones de las librerías que proporcionan los tipos de datos almacenados |. | x |\n",
    "| Necesidad de lectura por parte de humanos |. | x |\n",
    "| Necesidad de almacenar objetos de manera rápida (por el programador), sin tener que decidir cómo representar el objeto | x |. |\n",
    "| Almacenamiento temporal (por ejemplo, *checkpoints* en la ejecución de un *script*) | x |. |\n",
    "| Necesidad de guardar el estado de nuestro programa (en vez de conjuntos de datos con cierta homogeneidad) | x |. |\n",
    "| Necesidad de almacenar funciones | x |. |\n"
   ]
  },
  {
   "cell_type": "markdown",
   "metadata": {},
   "source": [
    "# Interacción con bases de datos\n",
    "\n",
    "El [PEP249](https://www.python.org/dev/peps/pep-0249/) describe la especificación de la API para acceder a bases de datos desde Python. La mayoría de los sistemas gestores de bases de datos (SGBD) más populares siguen esta especificación, por lo que hay bastante similitud en cómo se accede a los diferentes motores de bases de datos desde Python.\n",
    "\n",
    "Así pues, el procedimiento general para interactuar con una base de datos desde Python consta de los siguientes pasos:\n",
    "1. Importar el módulo que provee de la interfaz con la base de datos (específico para cada SGBD).\n",
    "2. Crear una conexión con la base de datos, proveyendo datos sobre la localización de la base de datos y, en su caso, la autenticación.\n",
    "3. Obtener un cursor sobre la conexión creada en el paso anterior.\n",
    "4. Ejecutar las sentencias SQL deseadas.\n",
    "5. Si las sentencias eran de consulta, recuperar los datos devueltos por la base de datos.\n",
    "6. Cerrar la conexión.\n",
    "\n",
    "Para ejemplificar el proceso, vamos a crear una nueva base de datos SQLite, donde guardaremos los datos de los personajes de Marvel (que cargaremos previamente del csv como hemos hecho anteriormente) y haremos consultas sobre estos datos utilizando SQL."
   ]
  },
  {
   "cell_type": "code",
   "execution_count": 120,
   "metadata": {},
   "outputs": [
    {
     "name": "stdout",
     "output_type": "stream",
     "text": [
      "page_id, name, urlslug, ID, ALIGN, EYE, HAIR, SEX, GSM, ALIVE, APPEARANCES, FIRST APPEARANCE, Year\n"
     ]
    }
   ],
   "source": [
    "# Cargamos los datos del csv de Marvel en un dataframe de pandas\n",
    "data = pd.read_csv(\n",
    "    \"data/marvel-wikia-data.csv\", decimal=\",\", escapechar=\"\\\\\",\n",
    "    na_values=[\"dontknow\"],\n",
    "    converters={\"FIRST APPEARANCE\": lambda x: int(x.split(\"-\")[1])+1900},\n",
    "    skiprows=[31])\n",
    "\n",
    "# Obtenemos una cadena con la lista de columnas, que utilizaremos para crear\n",
    "# la tabla de la base de datos\n",
    "cols = \", \".join(data.columns)\n",
    "print(cols)"
   ]
  },
  {
   "cell_type": "code",
   "execution_count": 121,
   "metadata": {},
   "outputs": [
    {
     "name": "stdout",
     "output_type": "stream",
     "text": [
      "CREATE TABLE marvel_chars (page_id, name, urlslug, ID, ALIGN, EYE, HAIR, SEX, GSM, ALIVE, APPEARANCES, FIRST APPEARANCE, Year)\n"
     ]
    }
   ],
   "source": [
    "# Importamos SQLite3\n",
    "import sqlite3\n",
    "\n",
    "# Creamos una conexión con la base de datos marvel.db\n",
    "conn = sqlite3.connect('files_folder/marvel.db')\n",
    "\n",
    "# Obtenemos un cursor sobre la conexión\n",
    "cur = conn.cursor()\n",
    "\n",
    "# Creamos una tabla utilizando los nombres de las columnas del dataframe\n",
    "sql_create_stm = \"CREATE TABLE marvel_chars ({})\".format(cols)\n",
    "print(sql_create_stm)\n",
    "\n",
    "# Ejecutamos la sentencia SQL de creación de la tabla\n",
    "cur.execute(sql_create_stm)\n",
    "\n",
    "# Guardamos los cambios (hacemos un commit en la db)\n",
    "conn.commit()"
   ]
  },
  {
   "cell_type": "code",
   "execution_count": 122,
   "metadata": {},
   "outputs": [
    {
     "name": "stdout",
     "output_type": "stream",
     "text": [
      "[]\n"
     ]
    }
   ],
   "source": [
    "# Ejecutamos SELECT * sobre toda la tabla\n",
    "sql_sel_stm = \"SELECT * FROM marvel_chars\"\n",
    "cur.execute(sql_sel_stm)\n",
    "\n",
    "# Recuperamos los resultados\n",
    "results = cur.fetchall()\n",
    "\n",
    "# Mostramos los resultados: la tabla de la base de datos está vacía\n",
    "print(results)"
   ]
  },
  {
   "cell_type": "code",
   "execution_count": 124,
   "metadata": {},
   "outputs": [],
   "source": [
    "# Iteramos por cada fila de la tabla\n",
    "for index, row in data.iterrows():\n",
    "    # Insertamos los datos en la tabla marvel_chars\n",
    "    cur.execute(\"INSERT INTO marvel_chars VALUES \"\n",
    "                \"(?, ?, ?, ?, ?, ?, ?, ?, ?, ?, ?, ?, ?)\", row)\n",
    "\n",
    "# Hacemos un commit de los cambios\n",
    "conn.commit()"
   ]
  },
  {
   "cell_type": "code",
   "execution_count": 125,
   "metadata": {
    "collapsed": true,
    "jupyter": {
     "outputs_hidden": true
    }
   },
   "outputs": [
    {
     "name": "stdout",
     "output_type": "stream",
     "text": [
      "[(1678, 'Spider-Man (Peter Parker)', '/Spider-Man_(Peter_Parker)', 'Secret Identity', 'Good Characters', 'Hazel Eyes', 'Brown Hair', 'Male Characters', None, 'Living Characters', 4043.0, 1962, '1.962'), (7139, 'Captain America (Steven Rogers)', '/Captain_America_(Steven_Rogers)', 'Public Identity', 'Good Characters', 'Blue Eyes', 'White Hair', 'Male Characters', None, 'Living Characters', 3360.0, 1941, '1.941'), (64786, 'Wolverine (James \"Logan\"\" Howlett)\"', '/Wolverine_(James_%22Logan%22_Howlett)', 'Public Identity', 'Neutral Characters', 'Blue Eyes', 'Black Hair', 'Male Characters', None, 'Living Characters', 3061.0, 1974, '1.974'), (1868, 'Iron Man (Anthony \"Tony\"\" Stark)\"', '/Iron_Man_(Anthony_%22Tony%22_Stark)', 'Public Identity', 'Good Characters', 'Blue Eyes', 'Black Hair', 'Male Characters', None, 'Living Characters', 2961.0, 1963, '1.963'), (2460, 'Thor (Thor Odinson)', '/Thor_(Thor_Odinson)', 'No Dual Identity', 'Good Characters', 'Blue Eyes', 'Blond Hair', 'Male Characters', None, 'Living Characters', 2258.0, 1950, '1.950'), (2458, 'Benjamin Grimm (Earth-616)', '/Benjamin_Grimm_(Earth-616)', 'Public Identity', 'Good Characters', 'Blue Eyes', 'No Hair', 'Male Characters', None, 'Living Characters', 2255.0, 1961, '1.961'), (2166, 'Reed Richards (Earth-616)', '/Reed_Richards_(Earth-616)', 'Public Identity', 'Good Characters', 'Brown Eyes', 'Brown Hair', 'Male Characters', None, 'Living Characters', 2072.0, 1961, '1.961'), (1833, 'Hulk (Robert Bruce Banner)', '/Hulk_(Robert_Bruce_Banner)', 'Public Identity', 'Good Characters', 'Brown Eyes', 'Brown Hair', 'Male Characters', None, 'Living Characters', 2017.0, 1962, '1.962'), (29481, 'Scott Summers (Earth-616)', '/Scott_Summers_(Earth-616)', 'Public Identity', 'Neutral Characters', 'Brown Eyes', 'Brown Hair', 'Male Characters', None, 'Living Characters', 1955.0, 1963, '1.963'), (1837, 'Jonathan Storm (Earth-616)', '/Jonathan_Storm_(Earth-616)', 'Public Identity', 'Good Characters', 'Blue Eyes', 'Blond Hair', 'Male Characters', None, 'Living Characters', 1934.0, 1961, '1.961'), (15725, 'Henry McCoy (Earth-616)', '/Henry_McCoy_(Earth-616)', 'Public Identity', 'Good Characters', 'Blue Eyes', 'Blue Hair', 'Male Characters', None, 'Living Characters', 1825.0, 1963, '1.963'), (1863, 'Susan Storm (Earth-616)', '/Susan_Storm_(Earth-616)', 'Public Identity', 'Good Characters', 'Blue Eyes', 'Blond Hair', 'Female Characters', None, 'Living Characters', 1713.0, 1961, '1.961'), (7823, 'Namor McKenzie (Earth-616)', '/Namor_McKenzie_(Earth-616)', 'No Dual Identity', 'Neutral Characters', 'Green Eyes', 'Black Hair', 'Male Characters', None, 'Living Characters', None, 1961, '1.528'), (2614, 'Ororo Munroe (Earth-616)', '/Ororo_Munroe_(Earth-616)', 'Public Identity', 'Good Characters', 'Blue Eyes', 'White Hair', 'Female Characters', None, 'Living Characters', 1512.0, 1975, '1.975'), (1803, 'Clinton Barton (Earth-616)', '/Clinton_Barton_(Earth-616)', 'Public Identity', 'Good Characters', 'Blue Eyes', 'Blond Hair', 'Male Characters', None, 'Living Characters', 1394.0, 1964, '1.964'), (1396, 'Matthew Murdock (Earth-616)', '/Matthew_Murdock_(Earth-616)', 'Public Identity', 'Good Characters', 'Blue Eyes', 'Red Hair', 'Male Characters', None, 'Living Characters', 1338.0, 1964, '1.964'), (55534, 'Stephen Strange (Earth-616)', '/Stephen_Strange_(Earth-616)', 'Public Identity', 'Good Characters', 'Grey Eyes', 'Black Hair', 'Male Characters', None, 'Living Characters', 1307.0, 1963, '1.963'), (1978, 'Mary Jane Watson (Earth-616)', '/Mary_Jane_Watson_(Earth-616)', 'No Dual Identity', 'Good Characters', 'Green Eyes', 'Red Hair', 'Female Characters', None, 'Living Characters', 1304.0, 1965, '1.965'), (1872, 'John Jonah Jameson (Earth-616)', '/John_Jonah_Jameson_(Earth-616)', 'No Dual Identity', 'Neutral Characters', 'Blue Eyes', 'Black Hair', 'Male Characters', None, 'Living Characters', 1266.0, 1963, '1.963'), (35350, 'Robert Drake (Earth-616)', '/Robert_Drake_(Earth-616)', 'Secret Identity', 'Good Characters', 'Brown Eyes', 'Brown Hair', 'Male Characters', None, 'Living Characters', 1265.0, 1963, '1.963'), (1557, 'Henry Pym (Earth-616)', '/Henry_Pym_(Earth-616)', 'Public Identity', 'Good Characters', 'Blue Eyes', 'Blond Hair', 'Male Characters', None, 'Living Characters', 1237.0, 1962, '1.962'), (65255, 'Charles Xavier (Earth-616)', '/Charles_Xavier_(Earth-616)', 'Public Identity', 'Good Characters', 'Blue Eyes', 'Bald', 'Male Characters', None, 'Deceased Characters', 1233.0, 1963, '1.963'), (1073, 'Warren Worthington III (Earth-616)', '/Warren_Worthington_III_(Earth-616)', 'Public Identity', 'Good Characters', 'Blue Eyes', 'Blond Hair', 'Male Characters', None, 'Living Characters', 1230.0, 1963, '1.963'), (1346, 'Piotr Rasputin (Earth-616)', '/Piotr_Rasputin_(Earth-616)', 'Secret Identity', 'Good Characters', 'Blue Eyes', 'Black Hair', 'Male Characters', None, 'Living Characters', 1162.0, 1975, '1.975'), (2512, 'Wanda Maximoff (Earth-616)', '/Wanda_Maximoff_(Earth-616)', 'Public Identity', 'Good Characters', 'Green Eyes', 'Brown Hair', 'Female Characters', None, 'Living Characters', 1161.0, 1964, '1.964'), (1671, 'Nicholas Fury (Earth-616)', '/Nicholas_Fury_(Earth-616)', 'No Dual Identity', 'Neutral Characters', 'Brown Eyes', 'Brown Hair', 'Male Characters', None, 'Living Characters', 1137.0, 1963, '1.963'), (1976, 'Janet van Dyne (Earth-616)', '/Janet_van_Dyne_(Earth-616)', 'Public Identity', 'Good Characters', 'Blue Eyes', 'Auburn Hair', 'Female Characters', None, 'Living Characters', 1120.0, 1963, '1.963'), (65219, 'Jean Grey (Earth-616)', '/Jean_Grey_(Earth-616)', 'Public Identity', 'Good Characters', 'Green Eyes', 'Red Hair', 'Female Characters', None, 'Deceased Characters', 1107.0, 1963, '1.963'), (6545, 'Natalia Romanova (Earth-616)', '/Natalia_Romanova_(Earth-616)', 'Public Identity', 'Good Characters', 'Green Eyes', 'Red Hair', 'Female Characters', 'Bisexual Characters', 'Living Characters', 1050.0, 1964, '1.964'), (2223, 'Kurt Wagner (Earth-616)', '/Kurt_Wagner_(Earth-616)', 'Secret Identity', 'Good Characters', 'Yellow Eyes', 'Blue Hair', 'Male Characters', None, 'Living Characters', 1047.0, 1975, '1.975'), (1678, 'Spider-Man (Peter Parker)', '/Spider-Man_(Peter_Parker)', 'Secret Identity', 'Good Characters', 'Hazel Eyes', 'Brown Hair', 'Male Characters', None, 'Living Characters', 4043.0, 1962, '1.962'), (7139, 'Captain America (Steven Rogers)', '/Captain_America_(Steven_Rogers)', 'Public Identity', 'Good Characters', 'Blue Eyes', 'White Hair', 'Male Characters', None, 'Living Characters', 3360.0, 1941, '1.941'), (64786, 'Wolverine (James \"Logan\"\" Howlett)\"', '/Wolverine_(James_%22Logan%22_Howlett)', 'Public Identity', 'Neutral Characters', 'Blue Eyes', 'Black Hair', 'Male Characters', None, 'Living Characters', 3061.0, 1974, '1.974'), (1868, 'Iron Man (Anthony \"Tony\"\" Stark)\"', '/Iron_Man_(Anthony_%22Tony%22_Stark)', 'Public Identity', 'Good Characters', 'Blue Eyes', 'Black Hair', 'Male Characters', None, 'Living Characters', 2961.0, 1963, '1.963'), (2460, 'Thor (Thor Odinson)', '/Thor_(Thor_Odinson)', 'No Dual Identity', 'Good Characters', 'Blue Eyes', 'Blond Hair', 'Male Characters', None, 'Living Characters', 2258.0, 1950, '1.950'), (2458, 'Benjamin Grimm (Earth-616)', '/Benjamin_Grimm_(Earth-616)', 'Public Identity', 'Good Characters', 'Blue Eyes', 'No Hair', 'Male Characters', None, 'Living Characters', 2255.0, 1961, '1.961'), (2166, 'Reed Richards (Earth-616)', '/Reed_Richards_(Earth-616)', 'Public Identity', 'Good Characters', 'Brown Eyes', 'Brown Hair', 'Male Characters', None, 'Living Characters', 2072.0, 1961, '1.961'), (1833, 'Hulk (Robert Bruce Banner)', '/Hulk_(Robert_Bruce_Banner)', 'Public Identity', 'Good Characters', 'Brown Eyes', 'Brown Hair', 'Male Characters', None, 'Living Characters', 2017.0, 1962, '1.962'), (29481, 'Scott Summers (Earth-616)', '/Scott_Summers_(Earth-616)', 'Public Identity', 'Neutral Characters', 'Brown Eyes', 'Brown Hair', 'Male Characters', None, 'Living Characters', 1955.0, 1963, '1.963'), (1837, 'Jonathan Storm (Earth-616)', '/Jonathan_Storm_(Earth-616)', 'Public Identity', 'Good Characters', 'Blue Eyes', 'Blond Hair', 'Male Characters', None, 'Living Characters', 1934.0, 1961, '1.961'), (15725, 'Henry McCoy (Earth-616)', '/Henry_McCoy_(Earth-616)', 'Public Identity', 'Good Characters', 'Blue Eyes', 'Blue Hair', 'Male Characters', None, 'Living Characters', 1825.0, 1963, '1.963'), (1863, 'Susan Storm (Earth-616)', '/Susan_Storm_(Earth-616)', 'Public Identity', 'Good Characters', 'Blue Eyes', 'Blond Hair', 'Female Characters', None, 'Living Characters', 1713.0, 1961, '1.961'), (7823, 'Namor McKenzie (Earth-616)', '/Namor_McKenzie_(Earth-616)', 'No Dual Identity', 'Neutral Characters', 'Green Eyes', 'Black Hair', 'Male Characters', None, 'Living Characters', None, 1961, '1.528'), (2614, 'Ororo Munroe (Earth-616)', '/Ororo_Munroe_(Earth-616)', 'Public Identity', 'Good Characters', 'Blue Eyes', 'White Hair', 'Female Characters', None, 'Living Characters', 1512.0, 1975, '1.975'), (1803, 'Clinton Barton (Earth-616)', '/Clinton_Barton_(Earth-616)', 'Public Identity', 'Good Characters', 'Blue Eyes', 'Blond Hair', 'Male Characters', None, 'Living Characters', 1394.0, 1964, '1.964'), (1396, 'Matthew Murdock (Earth-616)', '/Matthew_Murdock_(Earth-616)', 'Public Identity', 'Good Characters', 'Blue Eyes', 'Red Hair', 'Male Characters', None, 'Living Characters', 1338.0, 1964, '1.964'), (55534, 'Stephen Strange (Earth-616)', '/Stephen_Strange_(Earth-616)', 'Public Identity', 'Good Characters', 'Grey Eyes', 'Black Hair', 'Male Characters', None, 'Living Characters', 1307.0, 1963, '1.963'), (1978, 'Mary Jane Watson (Earth-616)', '/Mary_Jane_Watson_(Earth-616)', 'No Dual Identity', 'Good Characters', 'Green Eyes', 'Red Hair', 'Female Characters', None, 'Living Characters', 1304.0, 1965, '1.965'), (1872, 'John Jonah Jameson (Earth-616)', '/John_Jonah_Jameson_(Earth-616)', 'No Dual Identity', 'Neutral Characters', 'Blue Eyes', 'Black Hair', 'Male Characters', None, 'Living Characters', 1266.0, 1963, '1.963'), (35350, 'Robert Drake (Earth-616)', '/Robert_Drake_(Earth-616)', 'Secret Identity', 'Good Characters', 'Brown Eyes', 'Brown Hair', 'Male Characters', None, 'Living Characters', 1265.0, 1963, '1.963'), (1557, 'Henry Pym (Earth-616)', '/Henry_Pym_(Earth-616)', 'Public Identity', 'Good Characters', 'Blue Eyes', 'Blond Hair', 'Male Characters', None, 'Living Characters', 1237.0, 1962, '1.962'), (65255, 'Charles Xavier (Earth-616)', '/Charles_Xavier_(Earth-616)', 'Public Identity', 'Good Characters', 'Blue Eyes', 'Bald', 'Male Characters', None, 'Deceased Characters', 1233.0, 1963, '1.963'), (1073, 'Warren Worthington III (Earth-616)', '/Warren_Worthington_III_(Earth-616)', 'Public Identity', 'Good Characters', 'Blue Eyes', 'Blond Hair', 'Male Characters', None, 'Living Characters', 1230.0, 1963, '1.963'), (1346, 'Piotr Rasputin (Earth-616)', '/Piotr_Rasputin_(Earth-616)', 'Secret Identity', 'Good Characters', 'Blue Eyes', 'Black Hair', 'Male Characters', None, 'Living Characters', 1162.0, 1975, '1.975'), (2512, 'Wanda Maximoff (Earth-616)', '/Wanda_Maximoff_(Earth-616)', 'Public Identity', 'Good Characters', 'Green Eyes', 'Brown Hair', 'Female Characters', None, 'Living Characters', 1161.0, 1964, '1.964'), (1671, 'Nicholas Fury (Earth-616)', '/Nicholas_Fury_(Earth-616)', 'No Dual Identity', 'Neutral Characters', 'Brown Eyes', 'Brown Hair', 'Male Characters', None, 'Living Characters', 1137.0, 1963, '1.963'), (1976, 'Janet van Dyne (Earth-616)', '/Janet_van_Dyne_(Earth-616)', 'Public Identity', 'Good Characters', 'Blue Eyes', 'Auburn Hair', 'Female Characters', None, 'Living Characters', 1120.0, 1963, '1.963'), (65219, 'Jean Grey (Earth-616)', '/Jean_Grey_(Earth-616)', 'Public Identity', 'Good Characters', 'Green Eyes', 'Red Hair', 'Female Characters', None, 'Deceased Characters', 1107.0, 1963, '1.963'), (6545, 'Natalia Romanova (Earth-616)', '/Natalia_Romanova_(Earth-616)', 'Public Identity', 'Good Characters', 'Green Eyes', 'Red Hair', 'Female Characters', 'Bisexual Characters', 'Living Characters', 1050.0, 1964, '1.964'), (2223, 'Kurt Wagner (Earth-616)', '/Kurt_Wagner_(Earth-616)', 'Secret Identity', 'Good Characters', 'Yellow Eyes', 'Blue Hair', 'Male Characters', None, 'Living Characters', 1047.0, 1975, '1.975')]\n"
     ]
    }
   ],
   "source": [
    "# Ejecutamos SELECT * sobre toda la tabla\n",
    "sql_sel_stm = \"SELECT * FROM marvel_chars\"\n",
    "cur.execute(sql_sel_stm)\n",
    "\n",
    "# Recuperamos los resultados\n",
    "results = cur.fetchall()\n",
    "\n",
    "# Mostramos los resultados: la tabla de la base de datos contiene los datos\n",
    "# de los personajes de Marvel\n",
    "print(results)"
   ]
  },
  {
   "cell_type": "code",
   "execution_count": 126,
   "metadata": {},
   "outputs": [
    {
     "name": "stdout",
     "output_type": "stream",
     "text": [
      "[('Susan Storm (Earth-616)',), ('Ororo Munroe (Earth-616)',), ('Mary Jane Watson (Earth-616)',), ('Wanda Maximoff (Earth-616)',), ('Janet van Dyne (Earth-616)',), ('Jean Grey (Earth-616)',), ('Natalia Romanova (Earth-616)',), ('Susan Storm (Earth-616)',), ('Ororo Munroe (Earth-616)',), ('Mary Jane Watson (Earth-616)',), ('Wanda Maximoff (Earth-616)',), ('Janet van Dyne (Earth-616)',), ('Jean Grey (Earth-616)',), ('Natalia Romanova (Earth-616)',)]\n"
     ]
    }
   ],
   "source": [
    "# Ejecutamos la consulta SQL\n",
    "sql_sel_stm = \"SELECT name FROM marvel_chars WHERE sex = 'Female Characters'\"\n",
    "cur.execute(sql_sel_stm)\n",
    "\n",
    "# Mostramos los resultados\n",
    "results = cur.fetchall()\n",
    "print(results)"
   ]
  },
  {
   "cell_type": "code",
   "execution_count": 127,
   "metadata": {},
   "outputs": [],
   "source": [
    "# Cerramos la conexión\n",
    "conn.close()"
   ]
  }
 ],
 "metadata": {
  "kernelspec": {
   "display_name": "Python 3",
   "language": "python",
   "name": "python3"
  },
  "language_info": {
   "codemirror_mode": {
    "name": "ipython",
    "version": 3
   },
   "file_extension": ".py",
   "mimetype": "text/x-python",
   "name": "python",
   "nbconvert_exporter": "python",
   "pygments_lexer": "ipython3",
   "version": "3.8.6"
  }
 },
 "nbformat": 4,
 "nbformat_minor": 4
}
