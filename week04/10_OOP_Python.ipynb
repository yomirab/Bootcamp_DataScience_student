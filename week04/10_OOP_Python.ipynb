{
 "cells": [
  {
   "cell_type": "code",
   "execution_count": 1,
   "metadata": {},
   "outputs": [],
   "source": [
    "data = 7 # variable global\n",
    "\n",
    "# definimos una función con argumento x\n",
    "def behaviour(x):\n",
    "    # esta función devolverá el cuadrado de x\n",
    "    return x*2"
   ]
  },
  {
   "cell_type": "code",
   "execution_count": 4,
   "metadata": {},
   "outputs": [
    {
     "name": "stdout",
     "output_type": "stream",
     "text": [
      "14\n"
     ]
    }
   ],
   "source": [
    "print(behaviour(data)) # cuando llamamos la función le pasamos un parámetro"
   ]
  },
  {
   "cell_type": "code",
   "execution_count": 6,
   "metadata": {},
   "outputs": [
    {
     "name": "stdout",
     "output_type": "stream",
     "text": [
      "7\n"
     ]
    }
   ],
   "source": [
    "# si imprimos solamente la variable\n",
    "print(data)"
   ]
  },
  {
   "cell_type": "code",
   "execution_count": 7,
   "metadata": {},
   "outputs": [
    {
     "name": "stdout",
     "output_type": "stream",
     "text": [
      "14\n"
     ]
    }
   ],
   "source": [
    "# Si al objeto data llamamos la función del objeto\n",
    "data = behaviour(data)\n",
    "print(data)"
   ]
  },
  {
   "cell_type": "code",
   "execution_count": 9,
   "metadata": {},
   "outputs": [
    {
     "data": {
      "text/plain": [
       "14"
      ]
     },
     "execution_count": 9,
     "metadata": {},
     "output_type": "execute_result"
    }
   ],
   "source": [
    "data"
   ]
  },
  {
   "cell_type": "markdown",
   "metadata": {},
   "source": [
    "![FP vs OOP](https://crs4.github.io/python_for_life_scientists/img/object.jpg)"
   ]
  },
  {
   "cell_type": "markdown",
   "metadata": {},
   "source": [
    "# Creamos un objeto"
   ]
  },
  {
   "cell_type": "code",
   "execution_count": 28,
   "metadata": {},
   "outputs": [],
   "source": [
    "mobile = {\n",
    "    \"fabricante\" : \"Apple\",\n",
    "    \"modelo\" : \"iPhone13\",\n",
    "    \"tamaño\" : 6.5,\n",
    "    \"peso\" : 200,\n",
    "    \"color\" : \"silver\",\n",
    "    \"RAM\" : 8,\n",
    "    \"memoria\": 512,\n",
    "    \"camera\" : {\n",
    "        \"frontal\" :{\"resolución\": \"15MP\"},\n",
    "        \"back\": [\n",
    "            {\"tipo\":\"zoom\",\n",
    "            \"resolución\":\"25MP\"},\n",
    "            {\"tipo\":\"macro\",\n",
    "             \"resolución\":\"30MP\"}\n",
    "        ]\n",
    "    },\n",
    "    \"bateria\" : {\n",
    "        \"tipo\":\"Litio\",\n",
    "        \"maxCarga\":4500,\n",
    "        \"cargaActual\":0.56\n",
    "    },\n",
    "    \"apps\": [\n",
    "        {\"name\":\"Whatsapp\",\n",
    "         \"version\":\"2.3.44\"}\n",
    "    ]\n",
    "}"
   ]
  },
  {
   "cell_type": "code",
   "execution_count": 13,
   "metadata": {},
   "outputs": [
    {
     "data": {
      "text/plain": [
       "dict"
      ]
     },
     "execution_count": 13,
     "metadata": {},
     "output_type": "execute_result"
    }
   ],
   "source": [
    "type(mobile)"
   ]
  },
  {
   "cell_type": "code",
   "execution_count": 15,
   "metadata": {},
   "outputs": [
    {
     "data": {
      "text/plain": [
       "dict_keys(['fabricante', 'modelo', 'tamaño', 'peso', 'color', 'RAM', 'memoria', 'camera', 'bateria', 'apps'])"
      ]
     },
     "execution_count": 15,
     "metadata": {},
     "output_type": "execute_result"
    }
   ],
   "source": [
    "mobile.keys()"
   ]
  },
  {
   "cell_type": "code",
   "execution_count": 16,
   "metadata": {},
   "outputs": [
    {
     "data": {
      "text/plain": [
       "dict_values(['Apple', 'iPhone13', 6.5, 200, 'silver', 8, 512, {'frontal': {'resolución': '15MP'}, 'back': [{'tipo': 'zoom', 'resolución': '25MP'}, {'tipo': 'macro', 'resolución': '30MP'}]}, {'tipo': 'Litio', 'maxCarga': 4500, 'cargaActual': 0.56}, [{'name': 'Whatsapp', 'version': '2.3.44'}]])"
      ]
     },
     "execution_count": 16,
     "metadata": {},
     "output_type": "execute_result"
    }
   ],
   "source": [
    "mobile.values()"
   ]
  },
  {
   "cell_type": "code",
   "execution_count": 18,
   "metadata": {},
   "outputs": [
    {
     "data": {
      "text/plain": [
       "dict_items([('fabricante', 'Apple'), ('modelo', 'iPhone13'), ('tamaño', 6.5), ('peso', 200), ('color', 'silver'), ('RAM', 8), ('memoria', 512), ('camera', {'frontal': {'resolución': '15MP'}, 'back': [{'tipo': 'zoom', 'resolución': '25MP'}, {'tipo': 'macro', 'resolución': '30MP'}]}), ('bateria', {'tipo': 'Litio', 'maxCarga': 4500, 'cargaActual': 0.56}), ('apps', [{'name': 'Whatsapp', 'version': '2.3.44'}])])"
      ]
     },
     "execution_count": 18,
     "metadata": {},
     "output_type": "execute_result"
    }
   ],
   "source": [
    "mobile.items()"
   ]
  },
  {
   "cell_type": "code",
   "execution_count": 22,
   "metadata": {},
   "outputs": [
    {
     "data": {
      "text/plain": [
       "0.56"
      ]
     },
     "execution_count": 22,
     "metadata": {},
     "output_type": "execute_result"
    }
   ],
   "source": [
    "mobile[\"bateria\"][\"cargaActual\"]"
   ]
  },
  {
   "cell_type": "code",
   "execution_count": 63,
   "metadata": {},
   "outputs": [],
   "source": [
    "# creamos una función para cambiar e interactuar con este objeto\n",
    "# En particular deba actuar sobre la batería y cambiar su estado a carga = n\n",
    "def carga_mobile(telefono, carga_1=1, carga_2=2):\n",
    "    telefono[\"bateria\"][\"cargaActual\"]=carga_1\n",
    "    return telefono"
   ]
  },
  {
   "cell_type": "code",
   "execution_count": 65,
   "metadata": {},
   "outputs": [
    {
     "data": {
      "text/plain": [
       "{'fabricante': 'Apple',\n",
       " 'modelo': 'iPhone13',\n",
       " 'tamaño': 6.5,\n",
       " 'peso': 200,\n",
       " 'color': 'silver',\n",
       " 'RAM': 8,\n",
       " 'memoria': 512,\n",
       " 'camera': {'frontal': {'resolución': '15MP'},\n",
       "  'back': [{'tipo': 'zoom', 'resolución': '25MP'},\n",
       "   {'tipo': 'macro', 'resolución': '30MP'}]},\n",
       " 'bateria': {'tipo': 'Litio', 'maxCarga': 4500, 'cargaActual': 0.9},\n",
       " 'apps': [{'name': 'Whatsapp', 'version': '2.3.44'},\n",
       "  {'name': 'Zoom', 'version': '2.0.1'}]}"
      ]
     },
     "execution_count": 65,
     "metadata": {},
     "output_type": "execute_result"
    }
   ],
   "source": [
    "carga_mobile(mobile, 0.90, 90)"
   ]
  },
  {
   "cell_type": "code",
   "execution_count": 39,
   "metadata": {},
   "outputs": [
    {
     "data": {
      "text/plain": [
       "{'fabricante': 'Apple',\n",
       " 'modelo': 'iPhone13',\n",
       " 'tamaño': 6.5,\n",
       " 'peso': 200,\n",
       " 'color': 'silver',\n",
       " 'RAM': 8,\n",
       " 'memoria': 512,\n",
       " 'camera': {'frontal': {'resolución': '15MP'},\n",
       "  'back': [{'tipo': 'zoom', 'resolución': '25MP'},\n",
       "   {'tipo': 'macro', 'resolución': '30MP'}]},\n",
       " 'bateria': {'tipo': 'Litio', 'maxCarga': 4500, 'cargaActual': {'carga': 1}},\n",
       " 'apps': [{'name': 'Whatsapp', 'version': '2.3.44'}]}"
      ]
     },
     "execution_count": 39,
     "metadata": {},
     "output_type": "execute_result"
    }
   ],
   "source": [
    "mobile"
   ]
  },
  {
   "cell_type": "code",
   "execution_count": 66,
   "metadata": {},
   "outputs": [],
   "source": [
    "# Definimos una función para que nos instale una aplicación nueva\n",
    "def install_app(telefono, app):\n",
    "    '''\n",
    "    Definimos una función que al objeto telefono\n",
    "    le añadimos una app\n",
    "    \n",
    "    Arguments: telefono = objeto diccionario del móvil\n",
    "                app = elemento nuevo de la aplicación a añadir\n",
    "    '''\n",
    "    telefono['apps'].append(app)"
   ]
  },
  {
   "cell_type": "code",
   "execution_count": 44,
   "metadata": {},
   "outputs": [
    {
     "data": {
      "text/plain": [
       "[{'name': 'Whatsapp', 'version': '2.3.44'}]"
      ]
     },
     "execution_count": 44,
     "metadata": {},
     "output_type": "execute_result"
    }
   ],
   "source": [
    "mobile['apps']"
   ]
  },
  {
   "cell_type": "code",
   "execution_count": 45,
   "metadata": {},
   "outputs": [],
   "source": [
    "zoom_app = {'name':'Zoom', 'version': '2.0.1'}\n",
    "install_app(mobile, zoom_app)"
   ]
  },
  {
   "cell_type": "code",
   "execution_count": 67,
   "metadata": {},
   "outputs": [],
   "source": [
    "gmail_app = {'name':'Gmail', \n",
    "             'version': '1.70.1',\n",
    "            'memoria':'15Mb',\n",
    "            'usuario_validado':True}"
   ]
  },
  {
   "cell_type": "code",
   "execution_count": 75,
   "metadata": {},
   "outputs": [],
   "source": [
    "install_app(mobile, gmail_app)"
   ]
  },
  {
   "cell_type": "code",
   "execution_count": 76,
   "metadata": {},
   "outputs": [
    {
     "data": {
      "text/plain": [
       "[{'name': 'Whatsapp', 'version': '2.3.44'},\n",
       " {'name': 'Zoom', 'version': '2.0.1'},\n",
       " {'name': 'Gmail',\n",
       "  'version': '1.70.1',\n",
       "  'memoria': '15Mb',\n",
       "  'usuario_validado': True}]"
      ]
     },
     "execution_count": 76,
     "metadata": {},
     "output_type": "execute_result"
    }
   ],
   "source": [
    "mobile['apps']"
   ]
  },
  {
   "cell_type": "code",
   "execution_count": 47,
   "metadata": {},
   "outputs": [
    {
     "data": {
      "text/plain": [
       "list"
      ]
     },
     "execution_count": 47,
     "metadata": {},
     "output_type": "execute_result"
    }
   ],
   "source": [
    "type(mobile['apps'])"
   ]
  },
  {
   "cell_type": "code",
   "execution_count": 49,
   "metadata": {},
   "outputs": [
    {
     "data": {
      "text/plain": [
       "['__repr__',\n",
       " '__hash__',\n",
       " '__getattribute__',\n",
       " '__lt__',\n",
       " '__le__',\n",
       " '__eq__',\n",
       " '__ne__',\n",
       " '__gt__',\n",
       " '__ge__',\n",
       " '__iter__',\n",
       " '__init__',\n",
       " '__len__',\n",
       " '__getitem__',\n",
       " '__setitem__',\n",
       " '__delitem__',\n",
       " '__add__',\n",
       " '__mul__',\n",
       " '__rmul__',\n",
       " '__contains__',\n",
       " '__iadd__',\n",
       " '__imul__',\n",
       " '__new__',\n",
       " '__reversed__',\n",
       " '__sizeof__',\n",
       " 'clear',\n",
       " 'copy',\n",
       " 'append',\n",
       " 'insert',\n",
       " 'extend',\n",
       " 'pop',\n",
       " 'remove',\n",
       " 'index',\n",
       " 'count',\n",
       " 'reverse',\n",
       " 'sort',\n",
       " '__doc__',\n",
       " '__str__',\n",
       " '__setattr__',\n",
       " '__delattr__',\n",
       " '__reduce_ex__',\n",
       " '__reduce__',\n",
       " '__subclasshook__',\n",
       " '__init_subclass__',\n",
       " '__format__',\n",
       " '__dir__',\n",
       " '__class__']"
      ]
     },
     "execution_count": 49,
     "metadata": {},
     "output_type": "execute_result"
    }
   ],
   "source": [
    "mobile['apps'].__dir__()"
   ]
  },
  {
   "cell_type": "code",
   "execution_count": 50,
   "metadata": {},
   "outputs": [
    {
     "data": {
      "text/plain": [
       "['__repr__',\n",
       " '__hash__',\n",
       " '__getattribute__',\n",
       " '__lt__',\n",
       " '__le__',\n",
       " '__eq__',\n",
       " '__ne__',\n",
       " '__gt__',\n",
       " '__ge__',\n",
       " '__iter__',\n",
       " '__init__',\n",
       " '__len__',\n",
       " '__getitem__',\n",
       " '__setitem__',\n",
       " '__delitem__',\n",
       " '__contains__',\n",
       " '__new__',\n",
       " '__sizeof__',\n",
       " 'get',\n",
       " 'setdefault',\n",
       " 'pop',\n",
       " 'popitem',\n",
       " 'keys',\n",
       " 'items',\n",
       " 'values',\n",
       " 'update',\n",
       " 'fromkeys',\n",
       " 'clear',\n",
       " 'copy',\n",
       " '__reversed__',\n",
       " '__doc__',\n",
       " '__str__',\n",
       " '__setattr__',\n",
       " '__delattr__',\n",
       " '__reduce_ex__',\n",
       " '__reduce__',\n",
       " '__subclasshook__',\n",
       " '__init_subclass__',\n",
       " '__format__',\n",
       " '__dir__',\n",
       " '__class__']"
      ]
     },
     "execution_count": 50,
     "metadata": {},
     "output_type": "execute_result"
    }
   ],
   "source": [
    "mobile['bateria'].__dir__()"
   ]
  },
  {
   "cell_type": "code",
   "execution_count": 55,
   "metadata": {},
   "outputs": [
    {
     "data": {
      "text/plain": [
       "dict_items([('name', 'Whatsapp'), ('version', '2.3.44')])"
      ]
     },
     "execution_count": 55,
     "metadata": {},
     "output_type": "execute_result"
    }
   ],
   "source": [
    "mobile['apps'][0].items()"
   ]
  },
  {
   "cell_type": "code",
   "execution_count": 77,
   "metadata": {},
   "outputs": [
    {
     "data": {
      "text/plain": [
       "{'fabricante': 'Apple',\n",
       " 'modelo': 'iPhone13',\n",
       " 'tamaño': 6.5,\n",
       " 'peso': 200,\n",
       " 'color': 'silver',\n",
       " 'RAM': 8,\n",
       " 'memoria': 512,\n",
       " 'camera': {'frontal': {'resolución': '15MP'},\n",
       "  'back': [{'tipo': 'zoom', 'resolución': '25MP'},\n",
       "   {'tipo': 'macro', 'resolución': '30MP'}]},\n",
       " 'bateria': {'tipo': 'Litio', 'maxCarga': 4500, 'cargaActual': 0.9},\n",
       " 'apps': [{'name': 'Whatsapp', 'version': '2.3.44'},\n",
       "  {'name': 'Zoom', 'version': '2.0.1'},\n",
       "  {'name': 'Gmail',\n",
       "   'version': '1.70.1',\n",
       "   'memoria': '15Mb',\n",
       "   'usuario_validado': True}]}"
      ]
     },
     "execution_count": 77,
     "metadata": {},
     "output_type": "execute_result"
    }
   ],
   "source": [
    "mobile"
   ]
  },
  {
   "cell_type": "markdown",
   "metadata": {},
   "source": [
    "# Definición de una clase\n",
    "Al mismo objeto compartimos diferentes características o atributos"
   ]
  },
  {
   "cell_type": "code",
   "execution_count": 78,
   "metadata": {},
   "outputs": [],
   "source": [
    "# Dos cachorros son dos objetos con atributos similares\n",
    "milk = {\n",
    "    'species' :'dog',\n",
    "    'sex':'female',\n",
    "    'name':'Milka',\n",
    "    'breed':'Beagle'\n",
    "}\n",
    "\n",
    "kira = {\n",
    "    'species':'dog',\n",
    "    'sex':'female',\n",
    "    'name':'kira',\n",
    "    'breed':'Labrador'\n",
    "}"
   ]
  },
  {
   "cell_type": "code",
   "execution_count": 79,
   "metadata": {},
   "outputs": [],
   "source": [
    "# objetos universales\n",
    "all_dogs = {\n",
    "    'species':'dog',\n",
    "    'sound':'bark'\n",
    "}"
   ]
  },
  {
   "cell_type": "code",
   "execution_count": 111,
   "metadata": {},
   "outputs": [],
   "source": [
    "# Definimos una clase con class y seguido por un nombre camelcase\n",
    "class Dog:\n",
    "    '''\n",
    "    Definición de la clase Dog\n",
    "    # el primer parámetro en cada método (que son nustras funciones en las clases), instancian a la clase propiamente dicha\n",
    "    # El primer método a construir en nuestra clase, se llama constructor, toma nombre con __init__\n",
    "        '''\n",
    "    \n",
    "    def __init__(self, breed, sex, name=\"Sin nombre\"):\n",
    "        print(\"Woof, woof, un cachorro ha nacido!\")\n",
    "        self.species = \"dog\"\n",
    "        self.breed = breed\n",
    "        self.sex = sex\n",
    "        self.name = name\n",
    "    \n",
    "    def present(self):\n",
    "        '''\n",
    "        Al llamar la función el objeto se presenta\n",
    "        '''\n",
    "        return f\"Woof woof. Hola, mi nombre es {self.name}, y soy un {self.species} y soy {self.sex}!\"\n",
    "    \n",
    "    def bautizo(self, new_name):\n",
    "        '''\n",
    "        Al llamar la función el objeto requiere un parámetro posicional obligatorio new_name del tipo string\n",
    "        '''\n",
    "        self.name = new_name"
   ]
  },
  {
   "cell_type": "code",
   "execution_count": 81,
   "metadata": {},
   "outputs": [
    {
     "data": {
      "text/plain": [
       "__main__.Dog"
      ]
     },
     "execution_count": 81,
     "metadata": {},
     "output_type": "execute_result"
    }
   ],
   "source": [
    "Dog"
   ]
  },
  {
   "cell_type": "code",
   "execution_count": 83,
   "metadata": {},
   "outputs": [
    {
     "data": {
      "text/plain": [
       "type"
      ]
     },
     "execution_count": 83,
     "metadata": {},
     "output_type": "execute_result"
    }
   ],
   "source": [
    "type(Dog)"
   ]
  },
  {
   "cell_type": "code",
   "execution_count": 84,
   "metadata": {},
   "outputs": [
    {
     "ename": "TypeError",
     "evalue": "__init__() missing 2 required positional arguments: 'breed' and 'sex'",
     "output_type": "error",
     "traceback": [
      "\u001b[0;31m---------------------------------------------------------------------------\u001b[0m",
      "\u001b[0;31mTypeError\u001b[0m                                 Traceback (most recent call last)",
      "\u001b[0;32m<ipython-input-84-c872ec9a5540>\u001b[0m in \u001b[0;36m<module>\u001b[0;34m\u001b[0m\n\u001b[0;32m----> 1\u001b[0;31m \u001b[0mpuppies\u001b[0m \u001b[0;34m=\u001b[0m \u001b[0mDog\u001b[0m\u001b[0;34m(\u001b[0m\u001b[0;34m)\u001b[0m\u001b[0;34m\u001b[0m\u001b[0;34m\u001b[0m\u001b[0m\n\u001b[0m",
      "\u001b[0;31mTypeError\u001b[0m: __init__() missing 2 required positional arguments: 'breed' and 'sex'"
     ]
    }
   ],
   "source": [
    "puppies = Dog()"
   ]
  },
  {
   "cell_type": "code",
   "execution_count": 112,
   "metadata": {},
   "outputs": [
    {
     "name": "stdout",
     "output_type": "stream",
     "text": [
      "Woof, woof, un cachorro ha nacido!\n"
     ]
    }
   ],
   "source": [
    "puppies = Dog(\"golden\", \"male\")"
   ]
  },
  {
   "cell_type": "code",
   "execution_count": 119,
   "metadata": {},
   "outputs": [
    {
     "name": "stdout",
     "output_type": "stream",
     "text": [
      "Woof, woof, un cachorro ha nacido!\n"
     ]
    }
   ],
   "source": [
    "puppies_2 = Dog(\"female\", \"labrador\")"
   ]
  },
  {
   "cell_type": "code",
   "execution_count": 120,
   "metadata": {},
   "outputs": [
    {
     "data": {
      "text/plain": [
       "'female'"
      ]
     },
     "execution_count": 120,
     "metadata": {},
     "output_type": "execute_result"
    }
   ],
   "source": [
    "puppies_2.breed"
   ]
  },
  {
   "cell_type": "code",
   "execution_count": 106,
   "metadata": {},
   "outputs": [
    {
     "data": {
      "text/plain": [
       "type"
      ]
     },
     "execution_count": 106,
     "metadata": {},
     "output_type": "execute_result"
    }
   ],
   "source": [
    "type(Dog)"
   ]
  },
  {
   "cell_type": "code",
   "execution_count": 107,
   "metadata": {},
   "outputs": [
    {
     "data": {
      "text/plain": [
       "__main__.Dog"
      ]
     },
     "execution_count": 107,
     "metadata": {},
     "output_type": "execute_result"
    }
   ],
   "source": [
    "type(puppies)"
   ]
  },
  {
   "cell_type": "code",
   "execution_count": 108,
   "metadata": {},
   "outputs": [
    {
     "data": {
      "text/plain": [
       "['species',\n",
       " 'breed',\n",
       " 'sex',\n",
       " 'name',\n",
       " '__module__',\n",
       " '__doc__',\n",
       " '__init__',\n",
       " 'present',\n",
       " 'bautizo',\n",
       " '__dict__',\n",
       " '__weakref__',\n",
       " '__repr__',\n",
       " '__hash__',\n",
       " '__str__',\n",
       " '__getattribute__',\n",
       " '__setattr__',\n",
       " '__delattr__',\n",
       " '__lt__',\n",
       " '__le__',\n",
       " '__eq__',\n",
       " '__ne__',\n",
       " '__gt__',\n",
       " '__ge__',\n",
       " '__new__',\n",
       " '__reduce_ex__',\n",
       " '__reduce__',\n",
       " '__subclasshook__',\n",
       " '__init_subclass__',\n",
       " '__format__',\n",
       " '__sizeof__',\n",
       " '__dir__',\n",
       " '__class__']"
      ]
     },
     "execution_count": 108,
     "metadata": {},
     "output_type": "execute_result"
    }
   ],
   "source": [
    "puppies.__dir__()"
   ]
  },
  {
   "cell_type": "code",
   "execution_count": 93,
   "metadata": {},
   "outputs": [
    {
     "data": {
      "text/plain": [
       "'Sin nombre'"
      ]
     },
     "execution_count": 93,
     "metadata": {},
     "output_type": "execute_result"
    }
   ],
   "source": [
    "puppies.name"
   ]
  },
  {
   "cell_type": "code",
   "execution_count": 95,
   "metadata": {},
   "outputs": [
    {
     "data": {
      "text/plain": [
       "'golden'"
      ]
     },
     "execution_count": 95,
     "metadata": {},
     "output_type": "execute_result"
    }
   ],
   "source": [
    "puppies.breed"
   ]
  },
  {
   "cell_type": "code",
   "execution_count": 97,
   "metadata": {},
   "outputs": [
    {
     "data": {
      "text/plain": [
       "'male'"
      ]
     },
     "execution_count": 97,
     "metadata": {},
     "output_type": "execute_result"
    }
   ],
   "source": [
    "puppies.sex"
   ]
  },
  {
   "cell_type": "code",
   "execution_count": 99,
   "metadata": {},
   "outputs": [
    {
     "data": {
      "text/plain": [
       "'dog'"
      ]
     },
     "execution_count": 99,
     "metadata": {},
     "output_type": "execute_result"
    }
   ],
   "source": [
    "puppies.species"
   ]
  },
  {
   "cell_type": "code",
   "execution_count": 101,
   "metadata": {},
   "outputs": [
    {
     "data": {
      "text/plain": [
       "['species',\n",
       " 'breed',\n",
       " 'sex',\n",
       " 'name',\n",
       " '__module__',\n",
       " '__init__',\n",
       " 'present',\n",
       " 'bautizo',\n",
       " '__dict__',\n",
       " '__weakref__',\n",
       " '__doc__',\n",
       " '__repr__',\n",
       " '__hash__',\n",
       " '__str__',\n",
       " '__getattribute__',\n",
       " '__setattr__',\n",
       " '__delattr__',\n",
       " '__lt__',\n",
       " '__le__',\n",
       " '__eq__',\n",
       " '__ne__',\n",
       " '__gt__',\n",
       " '__ge__',\n",
       " '__new__',\n",
       " '__reduce_ex__',\n",
       " '__reduce__',\n",
       " '__subclasshook__',\n",
       " '__init_subclass__',\n",
       " '__format__',\n",
       " '__sizeof__',\n",
       " '__dir__',\n",
       " '__class__']"
      ]
     },
     "execution_count": 101,
     "metadata": {},
     "output_type": "execute_result"
    }
   ],
   "source": [
    "puppies.__dir__()"
   ]
  },
  {
   "cell_type": "code",
   "execution_count": 103,
   "metadata": {},
   "outputs": [
    {
     "data": {
      "text/plain": [
       "'Woof woof. Hola, mi nombre es Sin nombre, y soy un dog y soy male!'"
      ]
     },
     "execution_count": 103,
     "metadata": {},
     "output_type": "execute_result"
    }
   ],
   "source": [
    "puppies.present()"
   ]
  },
  {
   "cell_type": "code",
   "execution_count": 117,
   "metadata": {},
   "outputs": [],
   "source": [
    "puppies.bautizo(\"María\")"
   ]
  },
  {
   "cell_type": "code",
   "execution_count": 118,
   "metadata": {},
   "outputs": [
    {
     "data": {
      "text/plain": [
       "'María'"
      ]
     },
     "execution_count": 118,
     "metadata": {},
     "output_type": "execute_result"
    }
   ],
   "source": [
    "puppies.name"
   ]
  },
  {
   "cell_type": "markdown",
   "metadata": {},
   "source": [
    "## Las clases sirven también para instanciar a multiples objetos con caractéristicas específicas"
   ]
  },
  {
   "cell_type": "code",
   "execution_count": 121,
   "metadata": {},
   "outputs": [
    {
     "name": "stdout",
     "output_type": "stream",
     "text": [
      "Woof, woof, un cachorro ha nacido!\n",
      "Woof, woof, un cachorro ha nacido!\n",
      "Woof, woof, un cachorro ha nacido!\n"
     ]
    }
   ],
   "source": [
    "mascotas = []\n",
    "for br, sex, name in [(\"huskie\",\"female\",\"Jenny\"),(\"Galgo\",\"female\",\"Daenerys\"),(\"Chihauhauhauahuaha\",\"male\",\"Satanás\")]:\n",
    "    mascotas.append(Dog(br,sex,name))"
   ]
  },
  {
   "cell_type": "code",
   "execution_count": 123,
   "metadata": {},
   "outputs": [
    {
     "data": {
      "text/plain": [
       "[<__main__.Dog at 0x7fe8e587b520>,\n",
       " <__main__.Dog at 0x7fe8e587b790>,\n",
       " <__main__.Dog at 0x7fe8e587b4f0>]"
      ]
     },
     "execution_count": 123,
     "metadata": {},
     "output_type": "execute_result"
    }
   ],
   "source": [
    "mascotas"
   ]
  },
  {
   "cell_type": "code",
   "execution_count": 124,
   "metadata": {},
   "outputs": [
    {
     "name": "stdout",
     "output_type": "stream",
     "text": [
      "Woof woof. Hola, mi nombre es Jenny, y soy un dog y soy female!\n",
      "Woof woof. Hola, mi nombre es Daenerys, y soy un dog y soy female!\n",
      "Woof woof. Hola, mi nombre es Satanás, y soy un dog y soy male!\n"
     ]
    }
   ],
   "source": [
    "for dog in mascotas:\n",
    "    print(dog.present())"
   ]
  },
  {
   "cell_type": "markdown",
   "metadata": {},
   "source": [
    "***\n",
    "## Creamos una nueva clase Mobile\n",
    "\n",
    "La clase tomará ram, display, price, camara, bateria"
   ]
  },
  {
   "cell_type": "code",
   "execution_count": 141,
   "metadata": {},
   "outputs": [],
   "source": [
    "# Creamos una clase genérica, clase universal donde incluye caractéristicas comunes a unos objetos\n",
    "\n",
    "class Mobile:\n",
    "    '''\n",
    "    Docstring: clase Mobile\n",
    "    Definir la clase con argumentos , ram, display, precio, camara, bateria\n",
    "    '''\n",
    "    def __init__(self, ram, display, price, camara, bateria):\n",
    "        self.ram = ram\n",
    "        self.display = display\n",
    "        self.price = price\n",
    "        self.camara = camara\n",
    "        self.bateria = bateria\n",
    "       \n",
    "    # Creamos métodos para configurar los atributos de la clase\n",
    "    def set_ram(self, ram):\n",
    "        self.ram = ram\n",
    "        return self.ram\n",
    "        \n",
    "    def set_display(self, display):\n",
    "        self.display = display\n",
    "        return self.display\n",
    "        \n",
    "    def set_price(self, price):\n",
    "        self.price = price\n",
    "    \n",
    "    def set_camara(self, camara):\n",
    "        self.camara = camara\n",
    "        \n",
    "    def set_bateria(self, bateria):\n",
    "        self.bateria = bateria\n",
    "    \n",
    "    # Creamos métodos para recoger la info de los atributos de la clase\n",
    "    def get_ram(self):\n",
    "        return self.ram\n",
    "    \n",
    "    def get_display(self):\n",
    "        return self.display\n",
    "    \n",
    "    #...\n",
    "    "
   ]
  },
  {
   "cell_type": "code",
   "execution_count": 127,
   "metadata": {},
   "outputs": [
    {
     "data": {
      "text/plain": [
       "__main__.Mobile"
      ]
     },
     "execution_count": 127,
     "metadata": {},
     "output_type": "execute_result"
    }
   ],
   "source": [
    "Mobile"
   ]
  },
  {
   "cell_type": "code",
   "execution_count": 129,
   "metadata": {},
   "outputs": [
    {
     "data": {
      "text/plain": [
       "type"
      ]
     },
     "execution_count": 129,
     "metadata": {},
     "output_type": "execute_result"
    }
   ],
   "source": [
    "type(Mobile)"
   ]
  },
  {
   "cell_type": "markdown",
   "metadata": {},
   "source": [
    "### Creamos una subclase Samsung que será instanciada a la clase Mobile"
   ]
  },
  {
   "cell_type": "code",
   "execution_count": 142,
   "metadata": {},
   "outputs": [],
   "source": [
    "!python nombre_fichero.py"
   ]
  },
  {
   "cell_type": "code",
   "execution_count": 143,
   "metadata": {},
   "outputs": [],
   "source": [
    "samsung_a20 = Samsung(128, 6.1, 299, \"15MP\", 0.56, 10)"
   ]
  },
  {
   "cell_type": "code",
   "execution_count": 144,
   "metadata": {},
   "outputs": [
    {
     "data": {
      "text/plain": [
       "6.1"
      ]
     },
     "execution_count": 144,
     "metadata": {},
     "output_type": "execute_result"
    }
   ],
   "source": [
    "samsung_a20.get_display()"
   ]
  },
  {
   "cell_type": "code",
   "execution_count": 145,
   "metadata": {},
   "outputs": [
    {
     "data": {
      "text/plain": [
       "7"
      ]
     },
     "execution_count": 145,
     "metadata": {},
     "output_type": "execute_result"
    }
   ],
   "source": [
    "samsung_a20.set_display(7)"
   ]
  },
  {
   "cell_type": "code",
   "execution_count": 146,
   "metadata": {},
   "outputs": [
    {
     "data": {
      "text/plain": [
       "7"
      ]
     },
     "execution_count": 146,
     "metadata": {},
     "output_type": "execute_result"
    }
   ],
   "source": [
    "samsung_a20.get_display()"
   ]
  },
  {
   "cell_type": "code",
   "execution_count": 147,
   "metadata": {},
   "outputs": [],
   "source": [
    "mobile = Mobile(128, 6.1, 299, \"15MP\", 0.56)"
   ]
  },
  {
   "cell_type": "code",
   "execution_count": 148,
   "metadata": {},
   "outputs": [
    {
     "data": {
      "text/plain": [
       "0.56"
      ]
     },
     "execution_count": 148,
     "metadata": {},
     "output_type": "execute_result"
    }
   ],
   "source": [
    "mobile.bateria"
   ]
  },
  {
   "cell_type": "markdown",
   "metadata": {},
   "source": [
    "## Práctica Class Pet\n",
    "Creamos la clase Pet con unos atributos comunes a todas las mascotas\n",
    "metodos: init, sonido, presentación\n",
    "\n",
    "\n",
    "creamos la subclase Dog\n",
    "metodos: init, sonido, presentacion\n",
    "\n",
    "\n",
    "creamos la subclase Cat\n",
    "metodos: init, sonido, presentacion\n",
    "\n",
    "creamos las clases en pets.py\n",
    "creamos el fichero para importar las clases en main.py"
   ]
  }
 ],
 "metadata": {
  "kernelspec": {
   "display_name": "Python 3",
   "language": "python",
   "name": "python3"
  },
  "language_info": {
   "codemirror_mode": {
    "name": "ipython",
    "version": 3
   },
   "file_extension": ".py",
   "mimetype": "text/x-python",
   "name": "python",
   "nbconvert_exporter": "python",
   "pygments_lexer": "ipython3",
   "version": "3.8.6"
  }
 },
 "nbformat": 4,
 "nbformat_minor": 4
}
